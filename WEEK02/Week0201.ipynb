{
 "cells": [
  {
   "cell_type": "raw",
   "id": "84d5d6fc-a1d5-4b61-a4b3-6814140685f8",
   "metadata": {
    "slideshow": {
     "slide_type": "-"
    }
   },
   "source": [
    "<script>\n",
    "    function findAncestor (el, name) {\n",
    "        while ((el = el.parentElement) && el.nodeName.toLowerCase() !== name);\n",
    "        return el;\n",
    "    }\n",
    "    function colorAll(el, textColor) {\n",
    "        el.style.color = textColor;\n",
    "        Array.from(el.children).forEach((e) => {colorAll(e, textColor);});\n",
    "    }\n",
    "    function setBackgroundImage(src, textColor) {\n",
    "        var section = findAncestor(document.currentScript, \"section\");\n",
    "        if (section) {\n",
    "            section.setAttribute(\"data-background-image\", src);\n",
    "\t\t\tif (textColor) colorAll(section, textColor);\n",
    "        }\n",
    "    }\n",
    "</script>"
   ]
  },
  {
   "cell_type": "raw",
   "id": "4e2010ec-26fd-4c69-bfa0-4081809129c3",
   "metadata": {
    "tags": []
   },
   "source": [
    "<style>\n",
    "h1 {\n",
    "  border: 1.5px solid #333;\n",
    "  padding: 8px 12px;\n",
    "  background-image: linear-gradient(#2774AE,#ebf8e1, #FFD100);\n",
    "  position: static;\n",
    "}\n",
    "</style>"
   ]
  },
  {
   "cell_type": "markdown",
   "id": "6d9f970e-1d71-4f67-be21-fc53d7a90cc9",
   "metadata": {
    "slideshow": {
     "slide_type": "slide"
    }
   },
   "source": [
    "<h1 style='color:white'> Statistics 21 <br/> Python & Other Technologies for Data Science </h1>\n",
    "\n",
    "<h3 style='color:white'>Vivian Lew, PhD - Monday, Week 2</h3>"
   ]
  },
  {
   "cell_type": "raw",
   "id": "af8be96f-27b3-45d4-85c1-d682a0f045cc",
   "metadata": {},
   "source": [
    "<script>\n",
    "    setBackgroundImage(\"Window1.jpg\");\n",
    "</script>"
   ]
  },
  {
   "cell_type": "markdown",
   "id": "61cf96e8-6514-4f73-b9bf-f11d84e4f749",
   "metadata": {
    "slideshow": {
     "slide_type": "slide"
    },
    "tags": []
   },
   "source": [
    "## (previously) Important Notes about Python Syntax\n",
    "##### based on A Whirlwind Tour of Python by Jake VanderPlas (https://jakevdp.github.io/WhirlwindTourOfPython/)\n",
    "### Comments Are Marked by `#`"
   ]
  },
  {
   "cell_type": "code",
   "execution_count": 1,
   "id": "945f9757-8e52-4fc0-8eeb-81368f069982",
   "metadata": {
    "slideshow": {
     "slide_type": "fragment"
    }
   },
   "outputs": [],
   "source": [
    "# this is a comment and is not run"
   ]
  },
  {
   "cell_type": "markdown",
   "id": "3f65cf36-3f56-4ffd-badc-55b0d200426b",
   "metadata": {
    "slideshow": {
     "slide_type": "slide"
    }
   },
   "source": [
    "### Lines\n",
    "The end of a line terminates a statement. No need for using a semi-colon to end a statement ; although you can optionally use the semi-colon to write two statements in one line.\n"
   ]
  },
  {
   "cell_type": "code",
   "execution_count": 45,
   "id": "ac75eeb8-46e5-47eb-8293-fe5e28a0afb2",
   "metadata": {
    "slideshow": {
     "slide_type": "fragment"
    }
   },
   "outputs": [
    {
     "name": "stdout",
     "output_type": "stream",
     "text": [
      "5\n"
     ]
    }
   ],
   "source": [
    "# example\n",
    "x = 5\n",
    "print(x)"
   ]
  },
  {
   "cell_type": "markdown",
   "id": "8b9961b4-e57e-4a9f-a232-c5f4f587dfdd",
   "metadata": {
    "slideshow": {
     "slide_type": "slide"
    }
   },
   "source": [
    "### Lines (cont'd)\n",
    "If you want to have a single statement cover multiple lines, you can use a backslash \\ or encase the statement in parenthesis. If you are defining a list or other data structure that already uses some sort of bracket, this is handled automatically."
   ]
  },
  {
   "cell_type": "code",
   "execution_count": 3,
   "id": "c5285d19-9941-46c6-bd13-d0330329ee9d",
   "metadata": {
    "slideshow": {
     "slide_type": "fragment"
    }
   },
   "outputs": [
    {
     "name": "stdout",
     "output_type": "stream",
     "text": [
      "13\n"
     ]
    }
   ],
   "source": [
    "# semicolon to include multiple statements in one line\n",
    "y = 6; z = 7\n",
    "print(y + z)"
   ]
  },
  {
   "cell_type": "markdown",
   "id": "9805d2f1-b8d3-41c1-b4bc-c02bad44b879",
   "metadata": {
    "slideshow": {
     "slide_type": "fragment"
    }
   },
   "source": [
    "Having multiple statements in one line is generally considered bad style and should be avoided."
   ]
  },
  {
   "cell_type": "markdown",
   "id": "e1677d2b-a61f-45ab-ae16-180e8ec50bce",
   "metadata": {
    "slideshow": {
     "slide_type": "slide"
    }
   },
   "source": [
    "### Lines (cont'd)\n",
    "We use the backslash or parentheses or in certain cases brackets to continue a statement over multiple lines\n"
   ]
  },
  {
   "cell_type": "code",
   "execution_count": 4,
   "id": "7fbb7bca-591e-4894-afde-90bd3f1f3c7a",
   "metadata": {
    "slideshow": {
     "slide_type": "fragment"
    }
   },
   "outputs": [
    {
     "name": "stdout",
     "output_type": "stream",
     "text": [
      "15\n"
     ]
    }
   ],
   "source": [
    "a = 1 + 2 + 3 \\\n",
    "    + 4 + 5\n",
    "print(a)"
   ]
  },
  {
   "cell_type": "code",
   "execution_count": 5,
   "id": "28b6eeb1-8d67-4924-a535-06c5718fd1fe",
   "metadata": {
    "slideshow": {
     "slide_type": "fragment"
    }
   },
   "outputs": [
    {
     "name": "stdout",
     "output_type": "stream",
     "text": [
      "15\n"
     ]
    }
   ],
   "source": [
    "# or use parenthesis\n",
    "b = (1 + 2 + 3\n",
    "    + 4 + 5)\n",
    "print(b)"
   ]
  },
  {
   "cell_type": "markdown",
   "id": "1e91fa40-37a6-40bd-89fa-5886e263bced",
   "metadata": {
    "slideshow": {
     "slide_type": "slide"
    },
    "tags": []
   },
   "source": [
    "### Lines (cont'd)\n",
    "\n",
    "But some data structures (list here) use a comma to continue over multiple lines:"
   ]
  },
  {
   "cell_type": "code",
   "execution_count": 6,
   "id": "00b90953-eb14-4c83-94f2-de747f24a655",
   "metadata": {
    "slideshow": {
     "slide_type": "fragment"
    }
   },
   "outputs": [
    {
     "name": "stdout",
     "output_type": "stream",
     "text": [
      "['a', 2, 3, 'd', 'e', 6, 'b']\n"
     ]
    }
   ],
   "source": [
    "l = ['a', 2, 3, 'd',\n",
    "    'e', 6, \n",
    "    'b']\n",
    "print(l)"
   ]
  },
  {
   "cell_type": "markdown",
   "id": "7023226a-b77c-4d7d-b4b5-7431d38069ef",
   "metadata": {
    "slideshow": {
     "slide_type": "slide"
    }
   },
   "source": [
    "### (Important) Indentation defines code blocks\n",
    "\n",
    "- Python does not use curly braces `{}` to define code blocks.\n",
    "- IPython is smart enough to automatically indent lines after you use a colon `:` which indicates that the following lines are part of a code block.\n",
    "- We haven't covered conditionals yet, but I'll introduce them here briefly to show how code blocks work."
   ]
  },
  {
   "cell_type": "code",
   "execution_count": 7,
   "id": "f2b2e6cf-29d6-40c4-b8b1-fe2defa53915",
   "metadata": {
    "slideshow": {
     "slide_type": "fragment"
    }
   },
   "outputs": [
    {
     "name": "stdout",
     "output_type": "stream",
     "text": [
      "x is greater than 5\n",
      "8\n",
      "hello\n"
     ]
    }
   ],
   "source": [
    "# we will learn if statements later, but here's an example\n",
    "x = 8\n",
    "if(x > 5):\n",
    "    print('x is greater than 5')   # the two indented lines only run \n",
    "    print(x)                       # when the if statement is true\n",
    "print('hello')    # this line is not indented and will run regardless of the if statement"
   ]
  },
  {
   "cell_type": "code",
   "execution_count": 8,
   "id": "0203066a-8979-4e5f-b94f-2c26203f460d",
   "metadata": {
    "slideshow": {
     "slide_type": "slide"
    }
   },
   "outputs": [
    {
     "name": "stdout",
     "output_type": "stream",
     "text": [
      "hello\n"
     ]
    }
   ],
   "source": [
    "x = 4\n",
    "if(x > 5):\n",
    "    print('x is greater than 5')   # the two indented lines only run \n",
    "    print(x)                       # when the if statement is true\n",
    "print('hello')    # this line is not indented and will run regardless of the if statement"
   ]
  },
  {
   "cell_type": "code",
   "execution_count": 9,
   "id": "0db68286-64a9-4c36-8254-8cf01fd4f1e8",
   "metadata": {},
   "outputs": [
    {
     "name": "stdout",
     "output_type": "stream",
     "text": [
      "4\n",
      "hello\n"
     ]
    }
   ],
   "source": [
    "x = 4\n",
    "if(x > 5):\n",
    "    print('x is greater than 5')\n",
    "print(x)\n",
    "print('hello')"
   ]
  },
  {
   "cell_type": "markdown",
   "id": "48a5e10d-2807-4ef0-93e0-a04b4ffa20d5",
   "metadata": {
    "slideshow": {
     "slide_type": "slide"
    },
    "tags": []
   },
   "source": [
    "## Getting Help\n",
    "\n",
    "- Official Python Documentation https://docs.python.org/3/\n",
    "\n",
    "- PEP  https://peps.python.org/  (e.g., PEP 8, PEP 20)\n",
    "\n",
    "- Connect with others -- in here and elsewhere"
   ]
  },
  {
   "cell_type": "markdown",
   "id": "7eebda8d-292a-4d09-bd78-95b28fc0985d",
   "metadata": {
    "slideshow": {
     "slide_type": "slide"
    },
    "tags": []
   },
   "source": [
    "## and the help function"
   ]
  },
  {
   "cell_type": "code",
   "execution_count": 10,
   "id": "53229f11-0d66-4a43-9b1c-c0b8315ee5c8",
   "metadata": {
    "slideshow": {
     "slide_type": "fragment"
    },
    "tags": []
   },
   "outputs": [
    {
     "name": "stdout",
     "output_type": "stream",
     "text": [
      "Help on built-in function print in module builtins:\n",
      "\n",
      "print(*args, sep=' ', end='\\n', file=None, flush=False)\n",
      "    Prints the values to a stream, or to sys.stdout by default.\n",
      "    \n",
      "    sep\n",
      "      string inserted between values, default a space.\n",
      "    end\n",
      "      string appended after the last value, default a newline.\n",
      "    file\n",
      "      a file-like object (stream); defaults to the current sys.stdout.\n",
      "    flush\n",
      "      whether to forcibly flush the stream.\n",
      "\n"
     ]
    }
   ],
   "source": [
    "help(print)"
   ]
  },
  {
   "cell_type": "markdown",
   "id": "8e8ce101-d038-44e2-b05f-c6f19cc18ef8",
   "metadata": {
    "slideshow": {
     "slide_type": "slide"
    },
    "tags": []
   },
   "source": [
    "## Lexis and Semantics\n",
    "\n",
    "- Lexis - the words and symbols used to write programs\n",
    "\n",
    "A lexically correct example in Python (no syntax errors):\n",
    "\n",
    "`x = \"1\" * 2`\n",
    "\n",
    "- Syntax - the way you combine words and symbols has rules and structure\n",
    "\n",
    "but this example breaks \n",
    "\n",
    "- semantic rules, multiplying a string and a number together may not make sense and may not produce the desired results.\n",
    "\n",
    "Lexical/syntax errors are easy to catch (Python will do this well).  Semantic errors are a challenge - always consider \"Is this what we want/need?\"\n"
   ]
  },
  {
   "cell_type": "markdown",
   "id": "8f591957-6a7f-4c59-96bf-a5a913e60db7",
   "metadata": {
    "slideshow": {
     "slide_type": "slide"
    },
    "tags": []
   },
   "source": [
    "## Variables\n",
    "\n",
    "- A powerful feature of Python is its ability to manipulate variables\n",
    "\n",
    "- A variable is a named storage location (which holds a value) in memory. \n",
    "\n",
    "- We assign values to variables using the `=`  with the variable name on the left and value(s) on  the right"
   ]
  },
  {
   "cell_type": "code",
   "execution_count": 11,
   "id": "61efd444-65e1-4cca-bede-1e0be205f996",
   "metadata": {},
   "outputs": [
    {
     "name": "stdout",
     "output_type": "stream",
     "text": [
      "Every new discovery is just a reminder... \n",
      "100\n",
      "3.78\n"
     ]
    }
   ],
   "source": [
    "quote = 'Every new discovery is just a reminder... '\n",
    "\n",
    "sample_size = 100\n",
    "\n",
    "GPA = 3.78\n",
    "\n",
    "print(quote)\n",
    "print(sample_size)\n",
    "print(GPA)"
   ]
  },
  {
   "cell_type": "markdown",
   "id": "bb166036-da15-40da-85d2-a0d80096c088",
   "metadata": {
    "slideshow": {
     "slide_type": "slide"
    },
    "tags": []
   },
   "source": [
    "## Variable Types and Identity\n",
    "\n",
    "- Variables have types and variable type is determined by the (data) value a variable is referencing. For example:"
   ]
  },
  {
   "cell_type": "code",
   "execution_count": 12,
   "id": "ea00c68c-6488-49e0-be72-daf6e66803b2",
   "metadata": {
    "tags": []
   },
   "outputs": [
    {
     "name": "stdout",
     "output_type": "stream",
     "text": [
      "<class 'str'>\n",
      "<class 'int'>\n",
      "<class 'float'>\n",
      "<class 'bool'>\n"
     ]
    }
   ],
   "source": [
    "print(type(quote))\n",
    "\n",
    "print(type(sample_size))\n",
    "\n",
    "print(type(GPA))\n",
    "\n",
    "married = True\n",
    "print(type(married))"
   ]
  },
  {
   "cell_type": "markdown",
   "id": "46458dd9-c588-4057-be7e-b0dae1fcfc15",
   "metadata": {
    "slideshow": {
     "slide_type": "slide"
    },
    "tags": []
   },
   "source": [
    "## Variable Types and Identity (cont'd)\n",
    "\n",
    "- Variables have an ID,  this will be more important later but for now:"
   ]
  },
  {
   "cell_type": "code",
   "execution_count": 13,
   "id": "240c25f4-a630-4543-a131-1f601e1ca15d",
   "metadata": {},
   "outputs": [
    {
     "data": {
      "text/plain": [
       "4411691568"
      ]
     },
     "execution_count": 13,
     "metadata": {},
     "output_type": "execute_result"
    }
   ],
   "source": [
    "id(quote)"
   ]
  },
  {
   "cell_type": "code",
   "execution_count": 14,
   "id": "e9a013b0-6387-44ea-ba2d-46d9a9dbec2a",
   "metadata": {},
   "outputs": [
    {
     "data": {
      "text/plain": [
       "4375496888"
      ]
     },
     "execution_count": 14,
     "metadata": {},
     "output_type": "execute_result"
    }
   ],
   "source": [
    "id(sample_size)"
   ]
  },
  {
   "cell_type": "code",
   "execution_count": 15,
   "id": "a82213d5-148e-474e-a050-34dc3d311fb9",
   "metadata": {},
   "outputs": [
    {
     "data": {
      "text/plain": [
       "4410832496"
      ]
     },
     "execution_count": 15,
     "metadata": {},
     "output_type": "execute_result"
    }
   ],
   "source": [
    "id(GPA)"
   ]
  },
  {
   "cell_type": "code",
   "execution_count": 16,
   "id": "8378e5dd-cc24-4cef-b348-2648fae78536",
   "metadata": {},
   "outputs": [
    {
     "data": {
      "text/plain": [
       "4374487360"
      ]
     },
     "execution_count": 16,
     "metadata": {},
     "output_type": "execute_result"
    }
   ],
   "source": [
    "id(married)"
   ]
  },
  {
   "cell_type": "markdown",
   "id": "08a6bf38-e65e-4010-a4d4-5041d818d382",
   "metadata": {
    "slideshow": {
     "slide_type": "slide"
    },
    "tags": []
   },
   "source": [
    "## More about variables\n",
    "\n",
    "- We can create variables just by naming them and by assigning a value(s) and we can change their value(s) and their type(s) dynamically... but note its id( ) and its behavior."
   ]
  },
  {
   "cell_type": "code",
   "execution_count": 17,
   "id": "7c0931f3-4e5e-4308-99a5-8090853a85b4",
   "metadata": {},
   "outputs": [
    {
     "name": "stdout",
     "output_type": "stream",
     "text": [
      "Every new discovery is just a reminder... We're all small and stupid.\n"
     ]
    },
    {
     "data": {
      "text/plain": [
       "4411937072"
      ]
     },
     "execution_count": 17,
     "metadata": {},
     "output_type": "execute_result"
    }
   ],
   "source": [
    "quote = quote + \"We're all small and stupid.\"\n",
    "print(quote)\n",
    "id(quote)"
   ]
  },
  {
   "cell_type": "code",
   "execution_count": 18,
   "id": "e1aa2718-7ff8-42f1-ab4d-6dfd1e3531a4",
   "metadata": {
    "tags": []
   },
   "outputs": [
    {
     "name": "stdout",
     "output_type": "stream",
     "text": [
      "120\n"
     ]
    },
    {
     "data": {
      "text/plain": [
       "4375497528"
      ]
     },
     "execution_count": 18,
     "metadata": {},
     "output_type": "execute_result"
    }
   ],
   "source": [
    "sample_size = 120\n",
    "print(sample_size)\n",
    "id(sample_size)"
   ]
  },
  {
   "cell_type": "markdown",
   "id": "899a2062-19a9-4ce4-bb1c-d0dd091e4463",
   "metadata": {
    "slideshow": {
     "slide_type": "slide"
    },
    "tags": []
   },
   "source": [
    "## More about variables (cont'd)"
   ]
  },
  {
   "cell_type": "code",
   "execution_count": 19,
   "id": "9c915287-6e77-47d5-8554-278b0c5055de",
   "metadata": {
    "tags": []
   },
   "outputs": [
    {
     "name": "stdout",
     "output_type": "stream",
     "text": [
      "Grade Point Average\n"
     ]
    },
    {
     "data": {
      "text/plain": [
       "4411973168"
      ]
     },
     "execution_count": 19,
     "metadata": {},
     "output_type": "execute_result"
    }
   ],
   "source": [
    "GPA = 'Grade Point Average'\n",
    "print(GPA)\n",
    "id(GPA)"
   ]
  },
  {
   "cell_type": "code",
   "execution_count": 20,
   "id": "321716d2-e250-40ce-ae2a-324fac49799e",
   "metadata": {
    "slideshow": {
     "slide_type": "slide"
    },
    "tags": []
   },
   "outputs": [
    {
     "name": "stdout",
     "output_type": "stream",
     "text": [
      "130\n"
     ]
    },
    {
     "data": {
      "text/plain": [
       "4375497848"
      ]
     },
     "execution_count": 20,
     "metadata": {},
     "output_type": "execute_result"
    }
   ],
   "source": [
    "sample_size += 10\n",
    "print(sample_size)\n",
    "id(sample_size)"
   ]
  },
  {
   "cell_type": "code",
   "execution_count": 21,
   "id": "d2c9bbf4-2c08-4c7a-924d-3387010db040",
   "metadata": {},
   "outputs": [
    {
     "data": {
      "text/plain": [
       "4375497848"
      ]
     },
     "execution_count": 21,
     "metadata": {},
     "output_type": "execute_result"
    }
   ],
   "source": [
    "max_age = 130\n",
    "id(max_age)"
   ]
  },
  {
   "cell_type": "markdown",
   "id": "d119f3ea-de9b-4333-b6b9-2a9ad85a3c55",
   "metadata": {
    "slideshow": {
     "slide_type": "slide"
    },
    "tags": []
   },
   "source": [
    "## More about variables (cont'd)\n",
    "\n",
    "The id of sample_size is its memory address (location) and because max_age has the same value, it id given the same id. This is how Python manages small integer values.  Python is using an optimization technique for small integers, booleans, and short strings.  Python reuses memory to minimize resource use.  This does not apply to floats in Python."
   ]
  },
  {
   "cell_type": "code",
   "execution_count": 22,
   "id": "3dc069bb-2e3a-4b4f-ac5e-1d989be99823",
   "metadata": {},
   "outputs": [
    {
     "name": "stdout",
     "output_type": "stream",
     "text": [
      "4410823888\n",
      "4410831120\n"
     ]
    }
   ],
   "source": [
    "a = 4.712\n",
    "b = 4.712\n",
    "print(id(a))\n",
    "print(id(b))"
   ]
  },
  {
   "cell_type": "code",
   "execution_count": 23,
   "id": "d96c08e7-aff7-4705-84ea-493c0fe65bec",
   "metadata": {},
   "outputs": [
    {
     "name": "stdout",
     "output_type": "stream",
     "text": [
      "4412015856\n",
      "4412015856\n"
     ]
    }
   ],
   "source": [
    "c = \"happy\"\n",
    "d = \"happy\"\n",
    "print(id(c))\n",
    "print(id(d))"
   ]
  },
  {
   "cell_type": "markdown",
   "id": "399346ff-55e4-42be-b641-43871d1c8f1f",
   "metadata": {
    "slideshow": {
     "slide_type": "slide"
    },
    "tags": []
   },
   "source": [
    "## Naming Variables\n",
    "\n",
    "- can contain letters (both uppercase and lowercase), numbers, and underscores (_).\n",
    "- must start with a letter or an underscore. They cannot start with a number.\n",
    "- variable names are case-sensitive, so **ucla** and **UCLA** are different names.\n",
    "- avoid using names that Python uses, like True, False, print, input etc.\n",
    "- try to choose descriptive names that reflect the purpose of the object. So maybe movie_quote instead of quote\n",
    "- use underscores to separate words (snake case) instead of camel case. Example, use `my_variable` rather than `myVariable`.\n",
    "\n"
   ]
  },
  {
   "cell_type": "markdown",
   "id": "3089066e-bb0f-4873-acc0-4aeeb92d406b",
   "metadata": {
    "slideshow": {
     "slide_type": "slide"
    },
    "tags": []
   },
   "source": [
    "## Data Types\n",
    "\n",
    "- Data type in Python defines the type of values that a variable can hold. \n",
    "\n",
    "- Python has numerous built-in data types, we will identify a few vital ones now and more later:\n",
    "\n",
    "| data type      | examples          |\n",
    "| -------------- | ----------------- |\n",
    "| int (integer)  | 1, 3, 1000        |\n",
    "| float          | 2., 2.0           |\n",
    "| str (string)   | 'UCLA', 'abcde'   |\n",
    "| bool (Boolean) | True, False       |\n"
   ]
  },
  {
   "cell_type": "markdown",
   "id": "f02ac6cf-e1b5-416e-ab0f-f8768d25a4a9",
   "metadata": {
    "slideshow": {
     "slide_type": "slide"
    },
    "tags": []
   },
   "source": [
    "## Basic Type Conversion\n",
    "\n",
    "In Python, data type conversion is dynamic, it happens whenever you want.\n",
    "\n",
    "int(x) - converts x to an integer. If x is a floating-point number, it is truncated towards zero.  \n",
    "float(x) - converts x to a floating-point number.  \n",
    "str(x) - converts x to a string.  \n",
    "bool(x) - converts x to a Boolean value. Any non-zero value is converted to True, and 0 or an empty  sequence (such as an empty string or list) is converted to False  "
   ]
  },
  {
   "cell_type": "markdown",
   "id": "77f12d0c-2ba9-4ed9-9be1-3df38da9d3cc",
   "metadata": {
    "slideshow": {
     "slide_type": "slide"
    },
    "tags": []
   },
   "source": [
    "## Why Convert?\n",
    "\n",
    "Data preprocessing - real world data is messy and conversions may be necessary to facilitate\n",
    "\n",
    "- Compatibility with other parts of your code\n",
    "- Efficiency in storage\n",
    "- Function and method type constraints (more on methods later)"
   ]
  },
  {
   "cell_type": "code",
   "execution_count": 24,
   "id": "7ec0fbe5-5754-4dc5-aeec-e20057c8784e",
   "metadata": {},
   "outputs": [
    {
     "name": "stdin",
     "output_type": "stream",
     "text": [
      "How old are you? 18\n"
     ]
    }
   ],
   "source": [
    "age = input(\"How old are you?\")"
   ]
  },
  {
   "cell_type": "code",
   "execution_count": 25,
   "id": "5eebee0b-f7df-42c4-906d-df9e2e5b2d75",
   "metadata": {},
   "outputs": [
    {
     "data": {
      "text/plain": [
       "str"
      ]
     },
     "execution_count": 25,
     "metadata": {},
     "output_type": "execute_result"
    }
   ],
   "source": [
    "type(age)"
   ]
  },
  {
   "cell_type": "code",
   "execution_count": 26,
   "id": "8b1b55a9-9a9c-464d-b4d7-dc9bc6b85a06",
   "metadata": {},
   "outputs": [
    {
     "data": {
      "text/plain": [
       "int"
      ]
     },
     "execution_count": 26,
     "metadata": {},
     "output_type": "execute_result"
    }
   ],
   "source": [
    "new_age = int(age)\n",
    "type(new_age)"
   ]
  },
  {
   "cell_type": "markdown",
   "id": "7f0e28d9-5008-43fb-95d9-4e20331e8c85",
   "metadata": {
    "slideshow": {
     "slide_type": "slide"
    },
    "tags": []
   },
   "source": [
    "## How large?\n",
    "\n",
    "It depends.  For integers, in theory there is no limit (depends on your available resources).  For  float, it's more of a precision issue. (see https://docs.python.org/3/library/sys.html)"
   ]
  },
  {
   "cell_type": "code",
   "execution_count": 27,
   "id": "62716ae4-ed07-42c7-89da-d9c7960e969d",
   "metadata": {},
   "outputs": [
    {
     "name": "stdout",
     "output_type": "stream",
     "text": [
      "9223372036854775807\n",
      "-9223372036854775808\n"
     ]
    }
   ],
   "source": [
    "# sys module is part of the PSL  no need to install it\n",
    "\n",
    "import sys\n",
    "\n",
    "print(sys.maxsize)\n",
    "\n",
    "# By design the integer range is symmetric around zero, \n",
    "# with the maximum positive integer value being one less \n",
    "# than the negation of the minimum integer value so we\n",
    "# subtract from the negation to get the true minimum\n",
    "\n",
    "print(-sys.maxsize -1)"
   ]
  },
  {
   "cell_type": "code",
   "execution_count": 28,
   "id": "b35dd155-be4c-40ff-a37f-be4fafa868c1",
   "metadata": {},
   "outputs": [
    {
     "name": "stdout",
     "output_type": "stream",
     "text": [
      "1.7976931348623157e+308\n",
      "2.2250738585072014e-308\n"
     ]
    }
   ],
   "source": [
    "print(sys.float_info.max)\n",
    "print(sys.float_info.min)\n"
   ]
  },
  {
   "cell_type": "markdown",
   "id": "603dc598-1879-410f-8112-e5c6b4c37b9a",
   "metadata": {
    "slideshow": {
     "slide_type": "slide"
    },
    "tags": []
   },
   "source": [
    "## Operators\n",
    "\n",
    "- In Python, operators are built-in language features.\n",
    "- They have pre-defined behavior depending on the data type.\n",
    "- Here they all are in one place:\n",
    "\n",
    "| Symbol   | Operation            |\n",
    "| -------- | -------------------- |\n",
    "| +        | Addition             |\n",
    "| -        | Subtraction          |\n",
    "| *        | Multiplication       |\n",
    "| **       | Exponentiation       |  \n",
    "| /        | Division             |\n",
    "| //       | Floor division       |\n",
    "| %        | Modulo (remainder)   |   \n",
    "| @        | Matrix multiplication|   \n",
    "| <        | Less than            |\n",
    "| \\>       | Greater than         |\n",
    "| <=       | LT or equal to       | \n",
    "| \\>=      | GT or equal to       |\n",
    "| ==       | Equality comparison  |\n",
    "| !=       | Inequality comparison|\n",
    "\n"
   ]
  },
  {
   "cell_type": "markdown",
   "id": "1a6d8c3d-9d12-424f-a3c0-7a37fb4dbd60",
   "metadata": {
    "slideshow": {
     "slide_type": "slide"
    },
    "tags": []
   },
   "source": [
    "## And more operators\n",
    "\n",
    "( --  Left parenthesis (used to open a group or a function call)       \n",
    ") --  Right parenthesis (used to close a group or function call)    \n",
    "\\[ --  Left square bracket (used to index or slice a sequence)  \n",
    "] --  Right square bracket (used to close an index or a slice)  \n",
    "{ -- Left curly brace (used to create a dictionary or a set)  \n",
    "} -- Right curly brace (used to close a dictionary or a set)  \n",
    ", -- Comma  separates elements (in a list, tuple, or function call)   \n",
    ": -- Colon  used in function definitions, in slices, and other places  \n",
    ". -- Dot accesses attributes of a Python object  \n",
    "; -- Semicolon separates statements on the same line  \n",
    "@ --  `At` used for matrix multiplication   \n",
    "' --  Single quote encloses a string literal e.g., 'UCLA'  \n",
    "\" -- Double quote also encloses a string literal e.g. \"McDonald's\"  \n",
    "\\# -- Hash or pound begins a single-line or inline comment in Python  \n",
    "\\ -- Backslash escaping special characters or for line continuation  \n",
    "= -- Assignment operator assigns values to a variable or an attribute   \n"
   ]
  },
  {
   "cell_type": "markdown",
   "id": "b4acaa38-cc04-49c9-9d5a-43878e199713",
   "metadata": {
    "slideshow": {
     "slide_type": "slide"
    },
    "tags": []
   },
   "source": [
    "## Other Assignment Operators (useful in loops)\n",
    "\n",
    "`+=` -- Increment and assign  \n",
    "`-`= -- Decrement and assign  \n",
    "`*=` -- Multiply and assign  \n",
    "`/=` -- Divide and assign  \n",
    "`%=` -- Modulus (returns remainder) and assign   \n",
    "`**=`  -- Exponentiate and assign  \n",
    "`//=` -- Floor (integer) divide and assign:\n"
   ]
  },
  {
   "cell_type": "markdown",
   "id": "21743d75-ff9b-4d13-9c23-e799353c4102",
   "metadata": {
    "slideshow": {
     "slide_type": "slide"
    },
    "tags": []
   },
   "source": [
    "## Working with Strings\n",
    "### Formatting strings\n",
    "\n",
    "From the documentation:\n",
    "\n",
    "*F-strings provide a way to embed expressions inside string literals, using a minimal syntax. It should be noted that an f-string is really an expression evaluated at run time, not a constant value. In Python source code, an f-string is a literal string, prefixed with ‘f’, which contains expressions inside braces. The expressions are replaced with their values.*\n"
   ]
  },
  {
   "cell_type": "code",
   "execution_count": 29,
   "id": "b7ff3e94-6250-4424-9511-028cbe05e946",
   "metadata": {},
   "outputs": [
    {
     "name": "stdout",
     "output_type": "stream",
     "text": [
      "My name is Alice and I am 7 years old. I live in Wonderland.\n"
     ]
    }
   ],
   "source": [
    "name = 'Alice'\n",
    "age = 7\n",
    "geography = 'Wonderland'\n",
    "\n",
    "intro = f\"My name is {name} and I am {age} years old. \\\n",
    "I live in {geography}.\"\n",
    "print(intro)"
   ]
  },
  {
   "cell_type": "markdown",
   "id": "5e1cb873-1684-41fb-b9ab-810b2d0dd3ee",
   "metadata": {
    "slideshow": {
     "slide_type": "slide"
    },
    "tags": []
   },
   "source": [
    "## more examples"
   ]
  },
  {
   "cell_type": "markdown",
   "id": "d41955ba-07dd-4a7d-88bd-a5bcc7ecedc5",
   "metadata": {
    "tags": []
   },
   "source": [
    "You can read all about formats in the Python documentation.  See\n",
    "\n",
    "https://docs.python.org/3/library/string.html#format-examples\n",
    "\n",
    "Here, price is an integer  but I'd like to have a thousands separator.  Using the curly  brackets with a `:` separator followed by a format, so: {variablename:,}"
   ]
  },
  {
   "cell_type": "code",
   "execution_count": 30,
   "id": "27f4624b-56f2-4c5e-b74d-39af0b773b6c",
   "metadata": {
    "tags": []
   },
   "outputs": [
    {
     "name": "stdout",
     "output_type": "stream",
     "text": [
      "The price is $1,234,567 dollars.\n"
     ]
    }
   ],
   "source": [
    "price = 1234567\n",
    "formatted_price = f\"The price is ${price:,} dollars.\"\n",
    "print(formatted_price)"
   ]
  },
  {
   "cell_type": "markdown",
   "id": "a92805f2-7de7-4371-9ab8-bcb299caf091",
   "metadata": {
    "slideshow": {
     "slide_type": "slide"
    },
    "tags": []
   },
   "source": [
    "In this example, price is a float and the :.2f inside the curly braces specifies that price should be formatted as a floating point number with two decimal places.  We can use a format to round floats too."
   ]
  },
  {
   "cell_type": "code",
   "execution_count": 31,
   "id": "49dbe449-0eba-491e-ae24-96f222a3afee",
   "metadata": {},
   "outputs": [
    {
     "name": "stdout",
     "output_type": "stream",
     "text": [
      "The price is $37,149.99.\n"
     ]
    }
   ],
   "source": [
    "price = 37149.9912345678\n",
    "formatted_price = f\"The price is ${price:,.2f}.\"\n",
    "print(formatted_price)"
   ]
  },
  {
   "cell_type": "code",
   "execution_count": 32,
   "id": "afbde220-239f-4666-9385-8205389deec5",
   "metadata": {},
   "outputs": [
    {
     "name": "stdout",
     "output_type": "stream",
     "text": [
      "The price is $37,150.\n"
     ]
    }
   ],
   "source": [
    "formatted_price = f\"The price is ${price:,.0f}.\"\n",
    "print(formatted_price)"
   ]
  },
  {
   "cell_type": "code",
   "execution_count": 33,
   "id": "2c650c26-d958-4d7c-93aa-d9494e144cac",
   "metadata": {},
   "outputs": [
    {
     "name": "stdout",
     "output_type": "stream",
     "text": [
      "The price is $37,149.\n"
     ]
    }
   ],
   "source": [
    "price = 37149.49\n",
    "formatted_price = f\"The price is ${price:,.0f}.\"\n",
    "print(formatted_price)"
   ]
  },
  {
   "cell_type": "markdown",
   "id": "c8948574-9aad-4a4f-971b-f2fc7ba6f57a",
   "metadata": {
    "slideshow": {
     "slide_type": "slide"
    },
    "tags": []
   },
   "source": [
    "### What is a string anyway?\n",
    "\n",
    "In Python, a string can be understood as a sequence of characters (more on sequences generally next time)\n",
    "\n",
    "We access strings in Python using indexing and slicing.\n",
    "\n",
    "Indexing a string means accessing a character in the string using its position (or index) within the string. \n",
    "\n",
    "**In Python, indexing starts at 0, which means that the first character in the string has an index of 0, the second character has an index of 1, and so on.** \n",
    "\n",
    "To index a string, you use square brackets and the index of the character you want to access. "
   ]
  },
  {
   "cell_type": "markdown",
   "id": "7b085120-2ea9-49b1-9a85-cfdbc3009fe7",
   "metadata": {
    "slideshow": {
     "slide_type": "slide"
    },
    "tags": []
   },
   "source": [
    "### String Index Example"
   ]
  },
  {
   "cell_type": "code",
   "execution_count": 34,
   "id": "d01bc966-1aeb-4df0-8f61-09421897dbcb",
   "metadata": {},
   "outputs": [
    {
     "data": {
      "text/plain": [
       "12"
      ]
     },
     "execution_count": 34,
     "metadata": {},
     "output_type": "execute_result"
    }
   ],
   "source": [
    "s = \"I love pizza\"\n",
    "len(s)"
   ]
  },
  {
   "cell_type": "code",
   "execution_count": 35,
   "id": "6861cdd5-fab6-484e-981f-95f84f20a354",
   "metadata": {},
   "outputs": [
    {
     "data": {
      "text/plain": [
       "'a'"
      ]
     },
     "execution_count": 35,
     "metadata": {},
     "output_type": "execute_result"
    }
   ],
   "source": [
    "# but...\n",
    "s[11]"
   ]
  },
  {
   "cell_type": "markdown",
   "id": "7fb5956f-3d6f-44f6-a17c-f23423f69e60",
   "metadata": {
    "tags": []
   },
   "source": [
    "s[11] would access the 12th character in the string s because"
   ]
  },
  {
   "cell_type": "code",
   "execution_count": 36,
   "id": "120b090a-5761-461a-8949-a050424c1354",
   "metadata": {},
   "outputs": [
    {
     "data": {
      "text/plain": [
       "'I'"
      ]
     },
     "execution_count": 36,
     "metadata": {},
     "output_type": "execute_result"
    }
   ],
   "source": [
    "s[0]"
   ]
  },
  {
   "cell_type": "markdown",
   "id": "3786d7e5-a346-4b6f-bcc7-1de069885efc",
   "metadata": {
    "slideshow": {
     "slide_type": "slide"
    },
    "tags": []
   },
   "source": [
    "### String Slices\n",
    "\n",
    "- Slicing a string means accessing part of it by specifying a range of indices. \n",
    "\n",
    "- We still use square brackets, but instead of a single index, we use two indices separated by a colon. The first index specifies the starting position of the slice (inclusive), and the second index specifies the ending position of the slice (exclusive).  \n",
    "\n",
    "- If the first index is omitted it implies 0 and if the second is omitted it implies the last indexed value\n",
    "\n",
    "- You can also have a third index (step size, defaults to 1 if omitted)\n",
    "\n",
    "string[start:stop:step]"
   ]
  },
  {
   "cell_type": "markdown",
   "id": "4ca7be58-e658-498f-b989-ecac36fafc1b",
   "metadata": {
    "slideshow": {
     "slide_type": "slide"
    },
    "tags": []
   },
   "source": [
    "## Slicing examples\n",
    "\n",
    "The main difference between indexing and slicing a string is that indexing returns a single character, while slicing returns a substring that can contain one or more characters"
   ]
  },
  {
   "cell_type": "code",
   "execution_count": 37,
   "id": "133abd99-3330-4b95-b75b-0ceb5756f5f2",
   "metadata": {
    "slideshow": {
     "slide_type": "fragment"
    },
    "tags": []
   },
   "outputs": [
    {
     "name": "stdout",
     "output_type": "stream",
     "text": [
      "I love\n",
      "love pizza\n",
      "love\n",
      "Ilv iz\n",
      "azzip evol I\n"
     ]
    }
   ],
   "source": [
    "# slice from the beginning of the string (0) to the 6th character (exclusive)\n",
    "print(s[:6])  # output: \"I love\"\n",
    "\n",
    "# slice from the 2nd character to the end of the string\n",
    "print(s[2:])  # output: \"love pizza\"\n",
    "\n",
    "# slice from the 2nd to the 6th character (exclusive)\n",
    "print(s[2:6])  # output: \"love\"\n",
    "\n",
    "# slice every other character \n",
    "print(s[::2])  # output: \"Ilv iz\"\n",
    "\n",
    "# slice the string in reverse order\n",
    "print(s[::-1])  # output: \"azzip evol I\""
   ]
  },
  {
   "cell_type": "markdown",
   "id": "c947bac2-332b-49ba-a109-6dbaf055a72c",
   "metadata": {
    "slideshow": {
     "slide_type": "slide"
    },
    "tags": []
   },
   "source": [
    "## Splitting a string and string methods\n",
    "https://docs.python.org/3/library/stdtypes.html#text-sequence-type-str"
   ]
  },
  {
   "cell_type": "code",
   "execution_count": 38,
   "id": "f5c40ea5-af23-4abe-9664-3e5662194b3f",
   "metadata": {},
   "outputs": [],
   "source": [
    "s = \"I love pizza with pepperoni\""
   ]
  },
  {
   "cell_type": "markdown",
   "id": "e0d2129d-62d8-4a33-ab08-99b30e9dbbef",
   "metadata": {},
   "source": [
    "- `s` is an instance of the str class and it represents a string object. \n",
    "- A class is a template or blueprint that defines the properties and methods (associated functions) that are common to all concrete realizations (instances) of that class\n",
    "- Example, we split a string by invoking string methods"
   ]
  },
  {
   "cell_type": "code",
   "execution_count": 39,
   "id": "1960bbb6-f4ce-40ab-ad95-79f2cbb612b0",
   "metadata": {},
   "outputs": [
    {
     "name": "stdout",
     "output_type": "stream",
     "text": [
      "['I', 'love', 'pizza', 'with', 'pepperoni']\n",
      "5\n"
     ]
    }
   ],
   "source": [
    "words = s.split()  # split the string into a list of words\n",
    "print(words)  # output: [\"I\", \"love\", \"pizza\"]\n",
    "print(len(words))\n"
   ]
  },
  {
   "cell_type": "markdown",
   "id": "dd935ff6-1ba9-4184-a513-480a25c843d8",
   "metadata": {
    "slideshow": {
     "slide_type": "slide"
    },
    "tags": []
   },
   "source": [
    "## More string methods"
   ]
  },
  {
   "cell_type": "code",
   "execution_count": 40,
   "id": "47ac3b8a-684b-4077-b3c5-b0e58b7d7f73",
   "metadata": {},
   "outputs": [
    {
     "data": {
      "text/plain": [
       "'I love pizza with pepperoni'"
      ]
     },
     "execution_count": 40,
     "metadata": {},
     "output_type": "execute_result"
    }
   ],
   "source": [
    "' '.join(words)"
   ]
  },
  {
   "cell_type": "code",
   "execution_count": 41,
   "id": "6f3e093f-5feb-406e-87ef-013512b7d85f",
   "metadata": {},
   "outputs": [
    {
     "data": {
      "text/plain": [
       "'I Love Pizza With Pepperoni'"
      ]
     },
     "execution_count": 41,
     "metadata": {},
     "output_type": "execute_result"
    }
   ],
   "source": [
    "s.title()"
   ]
  },
  {
   "cell_type": "code",
   "execution_count": 42,
   "id": "6bc02a03-8a33-4862-b335-bd6ef17db65c",
   "metadata": {},
   "outputs": [
    {
     "data": {
      "text/plain": [
       "'I LOVE PIZZA WITH PEPPERONI'"
      ]
     },
     "execution_count": 42,
     "metadata": {},
     "output_type": "execute_result"
    }
   ],
   "source": [
    "s.upper()"
   ]
  },
  {
   "cell_type": "code",
   "execution_count": 43,
   "id": "46fa5505-ec1b-43ae-aa1d-ca1dd4b9b93f",
   "metadata": {},
   "outputs": [
    {
     "data": {
      "text/plain": [
       "'i love pizza with pepperoni'"
      ]
     },
     "execution_count": 43,
     "metadata": {},
     "output_type": "execute_result"
    }
   ],
   "source": [
    "s.lower()"
   ]
  },
  {
   "cell_type": "code",
   "execution_count": 44,
   "id": "04b167d6-c02e-4763-9c83-53b80d688afd",
   "metadata": {},
   "outputs": [
    {
     "data": {
      "text/plain": [
       "'I love pizza with mushrooms'"
      ]
     },
     "execution_count": 44,
     "metadata": {},
     "output_type": "execute_result"
    }
   ],
   "source": [
    "s.replace(\"pepperoni\", \"mushrooms\")"
   ]
  }
 ],
 "metadata": {
  "kernelspec": {
   "display_name": "Python 3 (ipykernel)",
   "language": "python",
   "name": "python3"
  },
  "language_info": {
   "codemirror_mode": {
    "name": "ipython",
    "version": 3
   },
   "file_extension": ".py",
   "mimetype": "text/x-python",
   "name": "python",
   "nbconvert_exporter": "python",
   "pygments_lexer": "ipython3",
   "version": "3.11.2"
  }
 },
 "nbformat": 4,
 "nbformat_minor": 5
}
