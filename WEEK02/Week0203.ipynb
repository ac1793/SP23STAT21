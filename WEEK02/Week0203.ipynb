{
 "cells": [
  {
   "cell_type": "raw",
   "id": "1402dfa0-0ee3-4433-8d9b-c6602cdd177a",
   "metadata": {},
   "source": [
    "<script>\n",
    "    function findAncestor (el, name) {\n",
    "        while ((el = el.parentElement) && el.nodeName.toLowerCase() !== name);\n",
    "        return el;\n",
    "    }\n",
    "    function colorAll(el, textColor) {\n",
    "        el.style.color = textColor;\n",
    "        Array.from(el.children).forEach((e) => {colorAll(e, textColor);});\n",
    "    }\n",
    "    function setBackgroundImage(src, textColor) {\n",
    "        var section = findAncestor(document.currentScript, \"section\");\n",
    "        if (section) {\n",
    "            section.setAttribute(\"data-background-image\", src);\n",
    "\t\t\tif (textColor) colorAll(section, textColor);\n",
    "        }\n",
    "    }\n",
    "</script>"
   ]
  },
  {
   "cell_type": "raw",
   "id": "62d15e31-a15b-4c2e-948b-e3a1b328ee88",
   "metadata": {},
   "source": [
    "<style>\n",
    "h1 {\n",
    "  border: 1.5px solid #333;\n",
    "  padding: 8px 12px;\n",
    "  background-image: linear-gradient(#2774AE,#ebf8e1, #FFD100);\n",
    "  position: static;\n",
    "}\n",
    "</style>"
   ]
  },
  {
   "cell_type": "markdown",
   "id": "b5776615-322c-41cb-9d9f-83170441b5b7",
   "metadata": {},
   "source": [
    "<h1 style='color:white'> Statistics 21 <br/> Python & Other Technologies for Data Science </h1>\n",
    "\n",
    "<h3 style='color:white'>Vivian Lew, PhD - Friday, Week 2</h3>"
   ]
  },
  {
   "cell_type": "raw",
   "id": "b1f757a0-cb86-4aaa-a444-abef8ed6b22a",
   "metadata": {},
   "source": [
    "<script>\n",
    "    setBackgroundImage(\"Window1.jpg\");\n",
    "</script>"
   ]
  },
  {
   "cell_type": "markdown",
   "id": "ca687ddd-16c0-4032-aaca-b9661b453b40",
   "metadata": {
    "slideshow": {
     "slide_type": "slide"
    }
   },
   "source": [
    "## (forgot to include) `in` operator\n",
    "\n",
    "returns a boolean value if the first string is a substring of the second string."
   ]
  },
  {
   "cell_type": "code",
   "execution_count": 1,
   "id": "f35865bc-2c4e-44c0-a8bb-f528fec7c75e",
   "metadata": {
    "slideshow": {
     "slide_type": "fragment"
    }
   },
   "outputs": [
    {
     "data": {
      "text/plain": [
       "True"
      ]
     },
     "execution_count": 1,
     "metadata": {},
     "output_type": "execute_result"
    }
   ],
   "source": [
    "'a' in 'bananas'"
   ]
  },
  {
   "cell_type": "code",
   "execution_count": 2,
   "id": "d772fab5-627c-4b27-a381-21c9d94abd71",
   "metadata": {
    "slideshow": {
     "slide_type": "fragment"
    }
   },
   "outputs": [
    {
     "data": {
      "text/plain": [
       "True"
      ]
     },
     "execution_count": 2,
     "metadata": {},
     "output_type": "execute_result"
    }
   ],
   "source": [
    "'nan' in 'bananas'"
   ]
  },
  {
   "cell_type": "code",
   "execution_count": 3,
   "id": "d244aadf-feb9-499e-97c1-3bd62351f9f3",
   "metadata": {
    "slideshow": {
     "slide_type": "fragment"
    }
   },
   "outputs": [
    {
     "data": {
      "text/plain": [
       "False"
      ]
     },
     "execution_count": 3,
     "metadata": {},
     "output_type": "execute_result"
    }
   ],
   "source": [
    "'bad' in 'bananas'"
   ]
  },
  {
   "cell_type": "markdown",
   "id": "18d59057-3765-4703-b188-2ceb0c0c5e1f",
   "metadata": {
    "slideshow": {
     "slide_type": "slide"
    }
   },
   "source": [
    "## (also) String comparisons\n",
    "\n",
    "Use of `>` or `<` compares strings in alphabetical order."
   ]
  },
  {
   "cell_type": "code",
   "execution_count": 4,
   "id": "256ad910-80f0-4c4f-950b-f19fa35d9324",
   "metadata": {
    "slideshow": {
     "slide_type": "slide"
    }
   },
   "outputs": [
    {
     "data": {
      "text/plain": [
       "True"
      ]
     },
     "execution_count": 4,
     "metadata": {},
     "output_type": "execute_result"
    }
   ],
   "source": [
    "'A' < 'B'"
   ]
  },
  {
   "cell_type": "code",
   "execution_count": 5,
   "id": "558a5f73-e767-470e-861d-fca24ac72269",
   "metadata": {
    "slideshow": {
     "slide_type": "fragment"
    },
    "tags": []
   },
   "outputs": [
    {
     "data": {
      "text/plain": [
       "True"
      ]
     },
     "execution_count": 5,
     "metadata": {},
     "output_type": "execute_result"
    }
   ],
   "source": [
    "'a' < 'b'"
   ]
  },
  {
   "cell_type": "code",
   "execution_count": 6,
   "id": "a1e7544c-45ab-422c-867b-9075b01f3cb2",
   "metadata": {},
   "outputs": [
    {
     "data": {
      "text/plain": [
       "True"
      ]
     },
     "execution_count": 6,
     "metadata": {},
     "output_type": "execute_result"
    }
   ],
   "source": [
    "'Z' < 'a'"
   ]
  },
  {
   "cell_type": "code",
   "execution_count": 7,
   "id": "38b072cd-480a-4d92-bac5-988bdd52d74f",
   "metadata": {
    "slideshow": {
     "slide_type": "slide"
    }
   },
   "outputs": [
    {
     "data": {
      "text/plain": [
       "True"
      ]
     },
     "execution_count": 7,
     "metadata": {},
     "output_type": "execute_result"
    }
   ],
   "source": [
    "# digits are less than capital letters\n",
    "'1' < 'A'"
   ]
  },
  {
   "cell_type": "code",
   "execution_count": 8,
   "id": "b3d785d0-98f4-474c-9013-fedfc881017f",
   "metadata": {},
   "outputs": [
    {
     "data": {
      "text/plain": [
       "True"
      ]
     },
     "execution_count": 8,
     "metadata": {},
     "output_type": "execute_result"
    }
   ],
   "source": [
    "'0' < '00'"
   ]
  },
  {
   "cell_type": "code",
   "execution_count": 9,
   "id": "d5264492-eb4b-4ca6-8435-5e6f3b9c4ef1",
   "metadata": {},
   "outputs": [
    {
     "data": {
      "text/plain": [
       "False"
      ]
     },
     "execution_count": 9,
     "metadata": {},
     "output_type": "execute_result"
    }
   ],
   "source": [
    "# must treat digits like \"letters\" with alphabetical rules\n",
    "'11' < '101'"
   ]
  },
  {
   "cell_type": "code",
   "execution_count": 10,
   "id": "633504fe-34b0-4e17-947a-fac32d6c2da6",
   "metadata": {},
   "outputs": [
    {
     "data": {
      "text/plain": [
       "True"
      ]
     },
     "execution_count": 10,
     "metadata": {},
     "output_type": "execute_result"
    }
   ],
   "source": [
    "'!' < '@' # the sorting of symbols feels very arbitrary"
   ]
  },
  {
   "cell_type": "code",
   "execution_count": 11,
   "id": "027fbcc3-b28e-4e09-bf69-fcd726ff82e1",
   "metadata": {
    "slideshow": {
     "slide_type": "slide"
    }
   },
   "outputs": [
    {
     "name": "stdout",
     "output_type": "stream",
     "text": [
      "['!', '#', '$', '%', '&', '(', ')', '*', ',', '.', '/', '0', '1', '2', '3', '4', '5', '6', '7', '8', '9', ':', ';', '<', '>', '?', '@', 'A', 'B', 'C', 'X', 'Y', 'Z', '[', '\\\\', ']', '^', 'a', 'b', 'c', 'x', 'y', 'z', '{', '|', '}']\n"
     ]
    }
   ],
   "source": [
    "# sorted order\n",
    "string = '!@#$%^&*()[]{}\\|;:,.<>/?1234567890ABCXYZabcxyz'\n",
    "print(sorted(string))"
   ]
  },
  {
   "cell_type": "markdown",
   "id": "f1673a51-3222-415c-9c1c-eeb28471e361",
   "metadata": {
    "slideshow": {
     "slide_type": "slide"
    },
    "tags": []
   },
   "source": [
    "# The list\n",
    "\n",
    "- a list is a built-in data structure that is mutable and ordered.  It is useful and seen frequently.\n",
    "\n",
    "- mutable suggests changeable, ordered suggeting index-able..\n",
    "\n",
    "- a list is a sequence type (https://docs.python.org/3.10/library/stdtypes.html#sequence-types-list-tuple-range)\n",
    "\n",
    "- a list can hold items of different data types and it can hold other objects like data structures."
   ]
  },
  {
   "cell_type": "markdown",
   "id": "1456467a-9e4a-4e89-b65a-4c6dff2e33bc",
   "metadata": {
    "slideshow": {
     "slide_type": "slide"
    },
    "tags": []
   },
   "source": [
    "## List creation\n",
    "\n",
    "- Use a pair of square brackets [] \n",
    "\n",
    "- Use the list( ) function \n",
    "\n",
    "- Or a list may be the result of a different function or method\n",
    "\n",
    "- Note: The items inside a list are separated by commas"
   ]
  },
  {
   "cell_type": "markdown",
   "id": "1326fe38-0069-467d-90a4-a9bc4709b2df",
   "metadata": {
    "slideshow": {
     "slide_type": "slide"
    },
    "tags": []
   },
   "source": [
    "## Example 1\n",
    "\n",
    "Create a list from a string (note the variation):"
   ]
  },
  {
   "cell_type": "code",
   "execution_count": 12,
   "id": "90f21299-45e7-4c47-8a53-ae66f8599a9d",
   "metadata": {},
   "outputs": [
    {
     "name": "stdout",
     "output_type": "stream",
     "text": [
      "I love cookies\n",
      "['I', 'love', 'cookies']\n",
      "['I love cookies']\n",
      "['I', ' ', 'l', 'o', 'v', 'e', ' ', 'c', 'o', 'o', 'k', 'i', 'e', 's']\n"
     ]
    }
   ],
   "source": [
    "s = \"I love cookies\"\n",
    "s_list_split = s.split() # string method generated list\n",
    "s_list_square = [s]\n",
    "s_list_function = list(s) # requires an iterable\n",
    "\n",
    "print(s)\n",
    "print(s_list_split)\n",
    "print(s_list_square)\n",
    "print(s_list_function)"
   ]
  },
  {
   "cell_type": "markdown",
   "id": "d3bd0851-46cc-4457-8c7d-92b5a031f033",
   "metadata": {
    "slideshow": {
     "slide_type": "slide"
    },
    "tags": []
   },
   "source": [
    "## Example 2\n",
    "\n",
    "Create a list of numeric values:"
   ]
  },
  {
   "cell_type": "code",
   "execution_count": 13,
   "id": "3b6cef8e-696c-443a-a6ad-7da746526080",
   "metadata": {},
   "outputs": [
    {
     "name": "stdout",
     "output_type": "stream",
     "text": [
      "range(-1, 6) <class 'range'>\n",
      "[-1, 0, 1, 2, 3, 4, 5] <class 'list'>\n",
      "[range(-1, 6)] <class 'list'>\n"
     ]
    },
    {
     "data": {
      "text/plain": [
       "([-1, 0, 1, 2, 3, 4, 5], list)"
      ]
     },
     "execution_count": 13,
     "metadata": {},
     "output_type": "execute_result"
    }
   ],
   "source": [
    "numbers = range(-1,6)\n",
    "numbers_list = [-1, 0, 1, 2, 3, 4, 5]\n",
    "n_list_square = [numbers]\n",
    "n_list_function = list(numbers)  # requires an iterable\n",
    "\n",
    "print(numbers, end = \" \"), print(type(numbers))\n",
    "print(numbers_list, end = \" \"), print(type(numbers_list))\n",
    "print(n_list_square, end = \" \"), print(type(n_list_square))\n",
    "n_list_function, type(n_list_function)"
   ]
  },
  {
   "cell_type": "markdown",
   "id": "e35c0ccf-d58a-4fe8-9885-e8ad9ddb9409",
   "metadata": {
    "slideshow": {
     "slide_type": "slide"
    },
    "tags": []
   },
   "source": [
    "## Example 3\n",
    "\n",
    "Create an empty list."
   ]
  },
  {
   "cell_type": "code",
   "execution_count": 14,
   "id": "22649a81-67b1-4651-a5f6-dd1d43e7afa7",
   "metadata": {},
   "outputs": [
    {
     "data": {
      "text/plain": [
       "[-1, 0, 1, 2, 3, 4, 5]"
      ]
     },
     "execution_count": 14,
     "metadata": {},
     "output_type": "execute_result"
    }
   ],
   "source": [
    "my_empty_list = []\n",
    "\n",
    "for value in range(-1, 6):\n",
    "    my_empty_list.append(value)\n",
    "    \n",
    "my_empty_list"
   ]
  },
  {
   "cell_type": "code",
   "execution_count": 15,
   "id": "ead3b805-03cb-449e-96f5-3936fdc99286",
   "metadata": {},
   "outputs": [
    {
     "data": {
      "text/plain": [
       "[None, None, None, None, None, None, None]"
      ]
     },
     "execution_count": 15,
     "metadata": {},
     "output_type": "execute_result"
    }
   ],
   "source": [
    "# an empty list of specified size\n",
    "# https://docs.python.org/3.10/library/constants.html?highlight=none#None\n",
    "\n",
    "my_specific_list = list([None] * 7)\n",
    "my_specific_list"
   ]
  },
  {
   "cell_type": "markdown",
   "id": "dd33a0bd-dc84-4d7c-aa42-345b4d040135",
   "metadata": {
    "slideshow": {
     "slide_type": "slide"
    },
    "tags": []
   },
   "source": [
    "## Accessing list elements\n",
    "\n",
    "- You access list elements in a list using their index, (from 0). \n",
    "\n",
    "- Negative indices are used to access elements from the end of the list."
   ]
  },
  {
   "cell_type": "code",
   "execution_count": 16,
   "id": "3281add0-ba19-44e7-b3bc-97ca101e1cb7",
   "metadata": {},
   "outputs": [],
   "source": [
    "# Example:\n",
    "\n",
    "my_list = ['Luke Skywalker', 172, 'C-3PO', 167, 'R2-D2', 96,\n",
    "           'Darth Vader', 202]\n",
    "\n",
    "first_element = my_list[0]  # 'Luke Skywalker'\n",
    "second_element = my_list[1]  # 172\n",
    "last_element = my_list[-1]  # 202"
   ]
  },
  {
   "cell_type": "markdown",
   "id": "54241a9e-8788-45ed-bacd-9530a01753f4",
   "metadata": {
    "slideshow": {
     "slide_type": "slide"
    },
    "tags": []
   },
   "source": [
    "## Accessing list elements (cont'd)\n",
    "\n",
    "- Lists can be complicated\n",
    "\n",
    "- But indexing rules still apply"
   ]
  },
  {
   "cell_type": "code",
   "execution_count": 17,
   "id": "6a7b5503-029e-4393-bd29-6d166b6e3b1d",
   "metadata": {
    "slideshow": {
     "slide_type": "slide"
    },
    "tags": []
   },
   "outputs": [
    {
     "data": {
      "text/plain": [
       "['Rose Donut',\n",
       " 4.5,\n",
       " ['Mon - Fri 5:00 AM - 3:00 PM',\n",
       "  'Sat 6:00 AM - 3:00 PM',\n",
       "  'Sun 7:00 AM - 2:00 PM'],\n",
       " \"Porto's\",\n",
       " 4.0,\n",
       " ['Sat & Sun 6:30 AM - 8:00 PM'],\n",
       " 'Bagel Broker',\n",
       " 4.5,\n",
       " ['Sat 7:00 AM - 2:00 PM', 'Sun 7:00 AM - 2:00 PM']]"
      ]
     },
     "execution_count": 17,
     "metadata": {},
     "output_type": "execute_result"
    }
   ],
   "source": [
    "favs = [\"Rose Donut\", 4.5, [\"Mon - Fri 5:00 AM - 3:00 PM\", \"Sat 6:00 AM - 3:00 PM\", \"Sun 7:00 AM - 2:00 PM\"], \n",
    "       \"Porto's\", 4.0, [\"Sat & Sun 6:30 AM - 8:00 PM\"],\n",
    "       \"Bagel Broker\", 4.5, [\"Sat 7:00 AM - 2:00 PM\", \"Sun 7:00 AM - 2:00 PM\"]]\n",
    "favs"
   ]
  },
  {
   "cell_type": "code",
   "execution_count": 18,
   "id": "eb6a84bb-860b-4b2b-be1b-f1264ea9e48f",
   "metadata": {},
   "outputs": [
    {
     "data": {
      "text/plain": [
       "('Mon - Fri 5:00 AM - 3:00 PM',\n",
       " ['Sat & Sun 6:30 AM - 8:00 PM'],\n",
       " 'Sun 7:00 AM - 2:00 PM')"
      ]
     },
     "execution_count": 18,
     "metadata": {},
     "output_type": "execute_result"
    }
   ],
   "source": [
    "favs[2][0], favs[5], favs[8][1]"
   ]
  },
  {
   "cell_type": "markdown",
   "id": "7ed12794-73b9-4d0a-8c81-fe0674dd1938",
   "metadata": {
    "slideshow": {
     "slide_type": "slide"
    },
    "tags": []
   },
   "source": [
    "##  Slicing Lists\n",
    "\n",
    "- Like a string, you can extract part of a list using slicing. \n",
    "\n",
    "- The syntax is list[start:stop:step], where start is the starting index, stop is the ending index (exclusive), and step is the interval between elements.\n"
   ]
  },
  {
   "cell_type": "code",
   "execution_count": 19,
   "id": "ad1de1be-0f96-4eeb-b247-209620a81ae5",
   "metadata": {},
   "outputs": [
    {
     "name": "stdout",
     "output_type": "stream",
     "text": [
      "['Luke Skywalker', 'C-3PO', 'R2-D2', 'Darth Vader']\n",
      "[172, 167, 96, 202]\n"
     ]
    }
   ],
   "source": [
    "# Example\n",
    "\n",
    "my_list = ['Luke Skywalker', 172, 'C-3PO', 167, 'R2-D2', 96,\n",
    "           'Darth Vader', 202]\n",
    "names = my_list[0::2]\n",
    "height = my_list[1::2]\n",
    "\n",
    "print(names)\n",
    "print(height)"
   ]
  },
  {
   "cell_type": "markdown",
   "id": "92e51bc8-6284-4152-9ec6-e5581d9ca3ed",
   "metadata": {
    "slideshow": {
     "slide_type": "slide"
    },
    "tags": []
   },
   "source": [
    "## Modifying list elements\n",
    "\n",
    "- Lists are mutable\n",
    "- We can modify an element by assigning a new value using its index."
   ]
  },
  {
   "cell_type": "code",
   "execution_count": 20,
   "id": "b128b333-339c-4fe0-84b5-ad6bfa5c6971",
   "metadata": {},
   "outputs": [
    {
     "data": {
      "text/plain": [
       "['Luke Skywalker', 175, 'C-3PO', 167, 'R2-D2', 96, 'Darth Vader', 202]"
      ]
     },
     "execution_count": 20,
     "metadata": {},
     "output_type": "execute_result"
    }
   ],
   "source": [
    "# Example\n",
    "    \n",
    "my_list = ['Luke Skywalker', 172, 'C-3PO', 167, 'R2-D2', 96,\n",
    "           'Darth Vader', 202]\n",
    "\n",
    "my_list[1] = 175\n",
    "\n",
    "my_list"
   ]
  },
  {
   "cell_type": "code",
   "execution_count": 21,
   "id": "530d2442-5a13-47e8-9056-ecc400e424c4",
   "metadata": {
    "slideshow": {
     "slide_type": "slide"
    },
    "tags": []
   },
   "outputs": [
    {
     "name": "stdout",
     "output_type": "stream",
     "text": [
      "I\n",
      "Ilv iz!\n"
     ]
    }
   ],
   "source": [
    "# an aside\n",
    "\n",
    "s = \"I love pizza!\"\n",
    "print(s[0])\n",
    "print(s[0:14:2])"
   ]
  },
  {
   "cell_type": "code",
   "execution_count": 22,
   "id": "358be7ea-b0d5-4337-9520-3ac4357f6a35",
   "metadata": {},
   "outputs": [
    {
     "ename": "TypeError",
     "evalue": "'str' object does not support item assignment",
     "output_type": "error",
     "traceback": [
      "\u001b[0;31m---------------------------------------------------------------------------\u001b[0m",
      "\u001b[0;31mTypeError\u001b[0m                                 Traceback (most recent call last)",
      "Cell \u001b[0;32mIn[22], line 3\u001b[0m\n\u001b[1;32m      1\u001b[0m \u001b[38;5;66;03m# but strings are immutable\u001b[39;00m\n\u001b[0;32m----> 3\u001b[0m \u001b[43ms\u001b[49m\u001b[43m[\u001b[49m\u001b[38;5;241;43m14\u001b[39;49m\u001b[43m]\u001b[49m \u001b[38;5;241m=\u001b[39m \u001b[38;5;124m\"\u001b[39m\u001b[38;5;124m?\u001b[39m\u001b[38;5;124m\"\u001b[39m\n",
      "\u001b[0;31mTypeError\u001b[0m: 'str' object does not support item assignment"
     ]
    }
   ],
   "source": [
    "# but strings are immutable\n",
    "\n",
    "s[14] = \"?\""
   ]
  },
  {
   "cell_type": "markdown",
   "id": "0f16aabe-e823-4f7d-b3c8-86794e1d5672",
   "metadata": {
    "slideshow": {
     "slide_type": "slide"
    },
    "tags": []
   },
   "source": [
    "## Adding elements\n",
    "\n",
    "- the append() method adds one element to the end of a list\n",
    "\n",
    "- the insert() method adds one element at a specific index.\n",
    "\n",
    "- the extend() methods adds an iterable"
   ]
  },
  {
   "cell_type": "code",
   "execution_count": 23,
   "id": "af3873ae-bf49-44a5-856a-7435c25d91fe",
   "metadata": {},
   "outputs": [
    {
     "name": "stdout",
     "output_type": "stream",
     "text": [
      "['Luke Skywalker', 'C-3PO', 'R2-D2', 'Darth Vader', 'Biggs Darklighter', 'Obi-Wan Kenobi', 'Leia Organa'] [172, 167, 96, 202, 183, 182, 122]\n"
     ]
    }
   ],
   "source": [
    "#Example\n",
    "    \n",
    "my_list = ['Luke Skywalker', 172, 'C-3PO', 167, 'R2-D2', 96,\n",
    "           'Darth Vader', 202, 'Biggs Darklighter', 183, \n",
    "           'Obi-Wan Kenobi', 182]\n",
    "names = my_list[0::2]\n",
    "height = my_list[1::2]\n",
    "\n",
    "names.append('Leia Organa') \n",
    "height.append(122)\n",
    "print(names, height)"
   ]
  },
  {
   "cell_type": "markdown",
   "id": "17a9bb2e-99b2-4540-9bdf-455274cc0856",
   "metadata": {
    "slideshow": {
     "slide_type": "slide"
    },
    "tags": []
   },
   "source": [
    "## Insert example\n",
    "\n",
    "We can use the index to help us modify lists, in this example, inserting values according to the index, continuing the previous example:"
   ]
  },
  {
   "cell_type": "code",
   "execution_count": 24,
   "id": "88bccc48-9efb-4b43-ba43-0231acf743ab",
   "metadata": {
    "tags": []
   },
   "outputs": [
    {
     "name": "stdout",
     "output_type": "stream",
     "text": [
      "['Luke Skywalker', 172, 'Leia Organa', 122, 'C-3PO', 167, 'R2-D2', 96, 'Darth Vader', 202, 'Biggs Darklighter', 183, 'Obi-Wan Kenobi', 182]\n"
     ]
    }
   ],
   "source": [
    "my_list.insert(2, \"Leia Organa\")  \n",
    "my_list.insert(3, 122)  \n",
    "print(my_list)"
   ]
  },
  {
   "cell_type": "code",
   "execution_count": 25,
   "id": "0f8706f8-2ecc-4a39-b892-d8b4b14f3929",
   "metadata": {},
   "outputs": [
    {
     "name": "stdout",
     "output_type": "stream",
     "text": [
      "['Luke Skywalker', 'C-3PO', 'R2-D2', 'Darth Vader', 'Biggs Darklighter', 'Obi-Wan Kenobi', 'Leia Organa', 172, 167, 96, 202, 183, 182, 122]\n",
      "['Luke Skywalker', 172, 'C-3PO', 167, 'R2-D2', 96, 'Darth Vader', 202, 'Biggs Darklighter', 183, 'Obi-Wan Kenobi', 182, 'Leia Organa', 122]\n"
     ]
    }
   ],
   "source": [
    "## extra - interleaving\n",
    "\n",
    "my_list2 = names + height # concatenate \n",
    "print(my_list2)\n",
    "my_list2[::2] = names\n",
    "my_list2[1::2] = height\n",
    "print(my_list2)\n",
    " "
   ]
  },
  {
   "cell_type": "markdown",
   "id": "6c927b98-2efa-4b33-acb8-49c0694866eb",
   "metadata": {
    "slideshow": {
     "slide_type": "slide"
    },
    "tags": []
   },
   "source": [
    "## Extend example\n",
    "\n",
    "Continuing the previous examples:"
   ]
  },
  {
   "cell_type": "code",
   "execution_count": 26,
   "id": "48c7e6b0-7213-4ffc-bfbb-060df336eb22",
   "metadata": {},
   "outputs": [
    {
     "name": "stdout",
     "output_type": "stream",
     "text": [
      "['Luke Skywalker', 'C-3PO', 'R2-D2', 'Darth Vader', 'Biggs Darklighter', 'Obi-Wan Kenobi', 172, 167, 96, 202, 183, 182] "
     ]
    }
   ],
   "source": [
    "my_list = ['Luke Skywalker', 172, 'C-3PO', 167, 'R2-D2', 96,\n",
    "           'Darth Vader', 202, 'Biggs Darklighter', 183, \n",
    "           'Obi-Wan Kenobi', 182]\n",
    "names = my_list[0::2]\n",
    "height = my_list[1::2]\n",
    "\n",
    "names.extend(height)\n",
    "print(names, end = \" \") "
   ]
  },
  {
   "cell_type": "markdown",
   "id": "2d454f20-61a8-4c6d-914b-4066e3d44c49",
   "metadata": {
    "slideshow": {
     "slide_type": "slide"
    },
    "tags": []
   },
   "source": [
    "## Removing elements\n",
    "\n",
    "- Use the remove() method to remove an element by value \n",
    "- Use the pop() method to remove an element by index but if no index is specified, pop() removes the last element"
   ]
  },
  {
   "cell_type": "code",
   "execution_count": 27,
   "id": "24573bfa-066b-4e13-989d-44b5b65c5074",
   "metadata": {},
   "outputs": [
    {
     "name": "stdout",
     "output_type": "stream",
     "text": [
      "['Luke Skywalker', 172, 'C-3PO', 167, 'R2-D2', 96, 202, 'Biggs Darklighter', 183, 'Obi-Wan Kenobi', 182, 'Leia Organa', 122]\n",
      "['Luke Skywalker', 172, 'C-3PO', 167, 'R2-D2', 96, 'Biggs Darklighter', 183, 'Obi-Wan Kenobi', 182, 'Leia Organa', 122]\n"
     ]
    }
   ],
   "source": [
    "my_list3 = my_list2 # assigning my_list2 to my_list3\n",
    "my_list3.remove(\"Darth Vader\") \n",
    "print(my_list3)\n",
    "\n",
    "my_list3.pop(6)  # remove his weightt\n",
    "print(my_list3)"
   ]
  },
  {
   "cell_type": "markdown",
   "id": "8170c72b-0143-4bc2-b3cb-e58a71164fcf",
   "metadata": {
    "slideshow": {
     "slide_type": "slide"
    },
    "tags": []
   },
   "source": [
    "## Shallow copy\n",
    "\n",
    "- We assigned my_list2 to my_list3 doing this creates a new reference my_list3 *that points* to the same list object as my_list2. \n",
    "\n",
    "- This means that both my_list2 and my_list3 are referring to the same list in memory. \n",
    "\n",
    "- Aany changes made to the list through either reference will affect the other reference as well. \n",
    "\n",
    "- This is known as creating a \"shallow copy\" or \"aliasing.\""
   ]
  },
  {
   "cell_type": "markdown",
   "id": "0e3e93e4-e92b-4f9e-9ed4-eeefdcae14a2",
   "metadata": {
    "slideshow": {
     "slide_type": "slide"
    },
    "tags": []
   },
   "source": [
    "## Shallow copy example"
   ]
  },
  {
   "cell_type": "code",
   "execution_count": 28,
   "id": "4dd6cc74-2804-47f1-8c60-f5bdc687b030",
   "metadata": {
    "tags": []
   },
   "outputs": [
    {
     "name": "stdout",
     "output_type": "stream",
     "text": [
      "4402848256 4402848256\n"
     ]
    }
   ],
   "source": [
    "my_list3 = my_list2\n",
    "print(id(my_list2), id(my_list3))"
   ]
  },
  {
   "cell_type": "code",
   "execution_count": 29,
   "id": "4be83212-e632-44e6-a7ce-dc24885df453",
   "metadata": {},
   "outputs": [
    {
     "name": "stdout",
     "output_type": "stream",
     "text": [
      "['Luke Skywalker', 172, 'C-3PO', 167, 'R2-D2', 96, 'Biggs Darklighter', 183, 'Obi-Wan Kenobi', 182, 'Leia Organa']\n"
     ]
    }
   ],
   "source": [
    "my_list3.pop()   # last one\n",
    "print(my_list3)"
   ]
  },
  {
   "cell_type": "code",
   "execution_count": 30,
   "id": "169d7004-f848-48ab-9593-1791e5e7686c",
   "metadata": {},
   "outputs": [
    {
     "name": "stdout",
     "output_type": "stream",
     "text": [
      "['Luke Skywalker', 172, 'C-3PO', 167, 'R2-D2', 96, 'Biggs Darklighter', 183, 'Obi-Wan Kenobi', 182, 'Leia Organa']\n"
     ]
    }
   ],
   "source": [
    "print(my_list2)\n"
   ]
  },
  {
   "cell_type": "markdown",
   "id": "6dac7309-75a2-4cd0-a65a-43149f816e2e",
   "metadata": {
    "slideshow": {
     "slide_type": "slide"
    },
    "tags": []
   },
   "source": [
    "## Shallow copy example "
   ]
  },
  {
   "cell_type": "code",
   "execution_count": 31,
   "id": "7e820d06-a764-460a-84d8-4239ea8c8880",
   "metadata": {
    "tags": []
   },
   "outputs": [
    {
     "name": "stdout",
     "output_type": "stream",
     "text": [
      "4402848256 4408373056\n"
     ]
    }
   ],
   "source": [
    "x = my_list2[:]  # assign a shallow copy of my_list2 to x\n",
    "print(id(my_list2), id(x)) # notice"
   ]
  },
  {
   "cell_type": "markdown",
   "id": "2753414f-f98c-4b05-848c-f32511bcca2a",
   "metadata": {},
   "source": [
    "- This method creates a new list with all the elements of the original list. \n",
    "- The new list is a separate object in memory, so changes to it will not affect the original list and vice versa. \n",
    "- This method creates a shallow copy of the list, meaning that the new list contains references to the same objects as the original list. \n",
    "- If the original list contains mutable objects, like other lists or dictionaries, changes to those objects will still be reflected in both lists."
   ]
  },
  {
   "cell_type": "markdown",
   "id": "6c459899-5a65-4a53-82c5-e810d3d6ccff",
   "metadata": {
    "slideshow": {
     "slide_type": "slide"
    },
    "tags": []
   },
   "source": [
    "## From their documentation\n",
    "\n",
    "https://docs.python.org/3/library/copy.html\n",
    "\n",
    "Assignment statements in Python do not copy objects, they create bindings _(associations)_ between a target and an object. For collections that are mutable or contain mutable items, a copy is sometimes needed so one can change one copy without changing the other. This module provides generic shallow and deep copy operations (explained below).\n",
    "\n",
    "(example later)\n",
    "\n",
    "The difference between shallow and deep copying is only relevant for compound objects (objects that contain other objects, like lists or class instances):\n",
    "\n",
    "- A shallow copy constructs a new compound object and then (to the extent possible) inserts references into it to the objects found in the original.\n",
    "\n",
    "- A deep copy constructs a new compound object and then, recursively, inserts copies into it of the objects found in the original.\n",
    "\n",
    "\n"
   ]
  },
  {
   "cell_type": "markdown",
   "id": "bc7f9dd0-a2d5-4ac7-bdb5-5cb76e492bb5",
   "metadata": {
    "slideshow": {
     "slide_type": "slide"
    }
   },
   "source": [
    "## Lists are mutable\n",
    "- This means that methods change the lists themselves. \n",
    "- If the list is assigned to another name, both names refer to the exact same object.\n",
    "- recall we have my_list, my_list2, and also my_list3 and x (shallow copies)"
   ]
  },
  {
   "cell_type": "code",
   "execution_count": 32,
   "id": "654f9786-7b3e-4980-93fd-a75c59bb0fe1",
   "metadata": {
    "tags": []
   },
   "outputs": [
    {
     "name": "stdout",
     "output_type": "stream",
     "text": [
      "['Luke Skywalker', 172, 'C-3PO', 167, 'R2-D2', 96, 'Biggs Darklighter', 183, 'Obi-Wan Kenobi', 182, 'Leia Organa']\n"
     ]
    }
   ],
   "source": [
    "print(my_list2)"
   ]
  },
  {
   "cell_type": "code",
   "execution_count": 33,
   "id": "5ab272e0-62f5-4c19-94ff-7a32c21ce474",
   "metadata": {
    "tags": []
   },
   "outputs": [
    {
     "name": "stdout",
     "output_type": "stream",
     "text": [
      "['Luke Skywalker', 172, 'C-3PO', 167, 'R2-D2', 96, 'Biggs Darklighter', 183, 'Obi-Wan Kenobi', 182, 'Leia Organa']\n"
     ]
    }
   ],
   "source": [
    "print(my_list3)"
   ]
  },
  {
   "cell_type": "code",
   "execution_count": 34,
   "id": "a072f632-58f3-4e7f-b121-8d9b4deccbdf",
   "metadata": {
    "slideshow": {
     "slide_type": "slide"
    },
    "tags": []
   },
   "outputs": [
    {
     "name": "stdout",
     "output_type": "stream",
     "text": [
      "['Luke Skywalker', 172, 'C-3PO', 'R2-D2', 167, 96, 'Biggs Darklighter', 183, 'Obi-Wan Kenobi', 182, 'Leia Organa']\n"
     ]
    }
   ],
   "source": [
    "my_list2[3], my_list2[4] = my_list2[4], my_list2[3]\n",
    "print(my_list2)"
   ]
  },
  {
   "cell_type": "code",
   "execution_count": 35,
   "id": "3ce1f6cb-40aa-4da3-bb33-42ee25cdabf3",
   "metadata": {
    "tags": []
   },
   "outputs": [
    {
     "name": "stdout",
     "output_type": "stream",
     "text": [
      "['Luke Skywalker', 172, 'C-3PO', 'R2-D2', 167, 96, 'Biggs Darklighter', 183, 'Obi-Wan Kenobi', 182, 'Leia Organa']\n"
     ]
    }
   ],
   "source": [
    "print(my_list3) # changed"
   ]
  },
  {
   "cell_type": "code",
   "execution_count": 36,
   "id": "90947af7-a338-4102-8914-e67773bac97b",
   "metadata": {
    "tags": []
   },
   "outputs": [
    {
     "name": "stdout",
     "output_type": "stream",
     "text": [
      "['Luke Skywalker', 172, 'C-3PO', 167, 'R2-D2', 96, 'Biggs Darklighter', 183, 'Obi-Wan Kenobi', 182, 'Leia Organa']\n"
     ]
    }
   ],
   "source": [
    "print(x) # unchanged"
   ]
  },
  {
   "cell_type": "code",
   "execution_count": 37,
   "id": "9ad4050b-e5b4-4cbc-aad2-1875b4e07900",
   "metadata": {
    "slideshow": {
     "slide_type": "slide"
    }
   },
   "outputs": [
    {
     "name": "stdout",
     "output_type": "stream",
     "text": [
      "['Luke Skywalker', 175, 'C-3PO', 167, 'R2-D2', 96, 'Biggs Darklighter', 183, 'Obi-Wan Kenobi', 182, 'Leia Organa']\n"
     ]
    }
   ],
   "source": [
    "x[1] = 175 # modify the shallow copy\n",
    "print(x)"
   ]
  },
  {
   "cell_type": "code",
   "execution_count": 38,
   "id": "9b658013-35f2-4797-be9c-cad529d1114e",
   "metadata": {
    "tags": []
   },
   "outputs": [
    {
     "name": "stdout",
     "output_type": "stream",
     "text": [
      "['Luke Skywalker', 172, 'C-3PO', 'R2-D2', 167, 96, 'Biggs Darklighter', 183, 'Obi-Wan Kenobi', 182, 'Leia Organa']\n"
     ]
    }
   ],
   "source": [
    "print(my_list2) # no effect on the orignal"
   ]
  },
  {
   "cell_type": "code",
   "execution_count": 39,
   "id": "3b5ede92-08cf-494b-b2ec-4d7033fdcb03",
   "metadata": {},
   "outputs": [
    {
     "name": "stdout",
     "output_type": "stream",
     "text": [
      "['Luke Skywalker', 172, 'C-3PO', 'R2-D2', 167, 96, 'Biggs Darklighter', 183, 'Obi-Wan Kenobi', 182, 'Leia Organa']\n"
     ]
    }
   ],
   "source": [
    "print(my_list3) # no effect here "
   ]
  },
  {
   "cell_type": "markdown",
   "id": "6c897183-b1b2-4bb2-8451-865a7f5a95e2",
   "metadata": {
    "slideshow": {
     "slide_type": "slide"
    },
    "tags": []
   },
   "source": [
    "# List Methods\n",
    "\n",
    "- `list.copy()`\n",
    "    - Return a shallow copy of the list. Equivalent to a[:]\n",
    "- `list.append(x)`\n",
    "    - Add an item to the end of the list. Equivalent to a[len(a):] = [x]."
   ]
  },
  {
   "cell_type": "code",
   "execution_count": 40,
   "id": "8e9f7bc5-773f-4fd5-aeea-88a77dde62bd",
   "metadata": {
    "slideshow": {
     "slide_type": "slide"
    },
    "tags": []
   },
   "outputs": [
    {
     "name": "stdout",
     "output_type": "stream",
     "text": [
      "4403044992 4403044992\n",
      "['Rose Donut', 4.5, ['Mon - Fri 5:00 AM - 3:00 PM', 'Sat 6:00 AM - 3:00 PM', 'Sun 7:00 AM - 2:00 PM'], \"Porto's\", 4.0, ['Sat & Sun 6:30 AM - 8:00 PM'], 'Bagel Broker', 4.5, ['Sat 7:00 AM - 2:00 PM', 'Sun 7:00 AM - 2:00 PM'], 4.6]\n"
     ]
    },
    {
     "data": {
      "text/plain": [
       "(4403044992, 4403044992)"
      ]
     },
     "execution_count": 40,
     "metadata": {},
     "output_type": "execute_result"
    }
   ],
   "source": [
    "favs = [\"Rose Donut\", 4.5, [\"Mon - Fri 5:00 AM - 3:00 PM\", \"Sat 6:00 AM - 3:00 PM\", \"Sun 7:00 AM - 2:00 PM\"], \n",
    "       \"Porto's\", 4.0, [\"Sat & Sun 6:30 AM - 8:00 PM\"],\n",
    "       \"Bagel Broker\", 4.5, [\"Sat 7:00 AM - 2:00 PM\", \"Sun 7:00 AM - 2:00 PM\"]]\n",
    "favs2 = favs\n",
    "print(id(favs), end =\" \"), print(id(favs2))\n",
    "favs.append(4.6)   # unlike R, you don't have to \"capture\" the result of the function. \n",
    "# the list itself is modified. You can only append one item.\n",
    "print(favs)\n",
    "id(favs), id(favs2)\n"
   ]
  },
  {
   "cell_type": "code",
   "execution_count": 41,
   "id": "c3d42268-9c82-4ebb-b1f7-a569700cf042",
   "metadata": {
    "slideshow": {
     "slide_type": "slide"
    },
    "tags": []
   },
   "outputs": [
    {
     "name": "stdout",
     "output_type": "stream",
     "text": [
      "['Rose Donut', 4.5, ['Mon - Fri 5:00 AM - 3:00 PM', 'Sat 6:00 AM - 3:00 PM', 'Sun 7:00 AM - 2:00 PM'], \"Porto's\", 4.0, ['Sat & Sun 6:30 AM - 8:00 PM'], 'Bagel Broker', 4.5, ['Sat 7:00 AM - 2:00 PM', 'Sun 7:00 AM - 2:00 PM'], 4.6]\n"
     ]
    }
   ],
   "source": [
    "print(favs2)"
   ]
  },
  {
   "cell_type": "code",
   "execution_count": 42,
   "id": "8c8d4f6f-cff3-4c3e-9507-d829dda06bfe",
   "metadata": {
    "tags": []
   },
   "outputs": [
    {
     "name": "stdout",
     "output_type": "stream",
     "text": [
      "['Rose Donut', 4.5, ['Mon - Fri 5:00 AM - 3:00 PM', 'Sat 6:00 AM - 3:00 PM', 'Sun 7:00 AM - 2:00 PM'], \"Porto's\", 4.0, ['Sat & Sun 6:30 AM - 8:00 PM'], 'Bagel Broker', 4.5, ['Sat 7:00 AM - 2:00 PM', 'Sun 7:00 AM - 2:00 PM'], 4.6, 'La Azteca Tortilleria']\n"
     ]
    }
   ],
   "source": [
    "favs = favs + [\"La Azteca Tortilleria\"]  \n",
    "print(favs)"
   ]
  },
  {
   "cell_type": "code",
   "execution_count": 43,
   "id": "d6ee1c89-b5e8-41e1-9a6c-9bd22622c769",
   "metadata": {
    "slideshow": {
     "slide_type": "slide"
    },
    "tags": []
   },
   "outputs": [
    {
     "name": "stdout",
     "output_type": "stream",
     "text": [
      "4408103104 4403044992\n",
      "['Rose Donut', 4.5, ['Mon - Fri 5:00 AM - 3:00 PM', 'Sat 6:00 AM - 3:00 PM', 'Sun 7:00 AM - 2:00 PM'], \"Porto's\", 4.0, ['Sat & Sun 6:30 AM - 8:00 PM'], 'Bagel Broker', 4.5, ['Sat 7:00 AM - 2:00 PM', 'Sun 7:00 AM - 2:00 PM'], 4.6]\n"
     ]
    }
   ],
   "source": [
    "print(id(favs), id(favs2))\n",
    "print(favs2) # and look what happens to our copy..."
   ]
  },
  {
   "cell_type": "code",
   "execution_count": 44,
   "id": "db34cad5-b14d-41a8-996c-108d87912308",
   "metadata": {
    "tags": []
   },
   "outputs": [],
   "source": [
    "favs.append(['Sat 7:00 AM - 3:30 PM', 'Sun 7:00 AM - 3:30 PM'])"
   ]
  },
  {
   "cell_type": "code",
   "execution_count": 45,
   "id": "bee30c5a-a734-4d0e-b422-588071e66bb7",
   "metadata": {
    "slideshow": {
     "slide_type": "slide"
    },
    "tags": []
   },
   "outputs": [
    {
     "data": {
      "text/plain": [
       "['Rose Donut',\n",
       " 4.5,\n",
       " ['Mon - Fri 5:00 AM - 3:00 PM',\n",
       "  'Sat 6:00 AM - 3:00 PM',\n",
       "  'Sun 7:00 AM - 2:00 PM'],\n",
       " \"Porto's\",\n",
       " 4.0,\n",
       " ['Sat & Sun 6:30 AM - 8:00 PM'],\n",
       " 'Bagel Broker',\n",
       " 4.5,\n",
       " ['Sat 7:00 AM - 2:00 PM', 'Sun 7:00 AM - 2:00 PM'],\n",
       " 4.6]"
      ]
     },
     "execution_count": 45,
     "metadata": {},
     "output_type": "execute_result"
    }
   ],
   "source": [
    "favs2 # reassignment broke their relationship"
   ]
  },
  {
   "cell_type": "code",
   "execution_count": 46,
   "id": "18d3d5db-aa26-4c4a-91a0-1d9f20f15730",
   "metadata": {
    "jupyter": {
     "source_hidden": true
    },
    "slideshow": {
     "slide_type": "slide"
    },
    "tags": []
   },
   "outputs": [
    {
     "data": {
      "text/plain": [
       "['Rose Donut',\n",
       " 4.5,\n",
       " ['Mon - Fri 5:00 AM - 3:00 PM',\n",
       "  'Sat 6:00 AM - 3:00 PM',\n",
       "  'Sun 7:00 AM - 2:00 PM'],\n",
       " \"Porto's\",\n",
       " 4.0,\n",
       " ['Sat & Sun 6:30 AM - 8:00 PM'],\n",
       " 'Bagel Broker',\n",
       " 4.5,\n",
       " ['Sat 7:00 AM - 2:00 PM', 'Sun 7:00 AM - 2:00 PM'],\n",
       " 4.6,\n",
       " 'La Azteca Tortilleria',\n",
       " ['Sat 7:00 AM - 3:30 PM', 'Sun 7:00 AM - 3:30 PM']]"
      ]
     },
     "execution_count": 46,
     "metadata": {},
     "output_type": "execute_result"
    }
   ],
   "source": [
    "favs2 +['La Azteca Tortilleria',['Sat 7:00 AM - 3:30 PM', 'Sun 7:00 AM - 3:30 PM']] # plus operator concatenates the lists"
   ]
  },
  {
   "cell_type": "code",
   "execution_count": 47,
   "id": "6b25a1eb-49bd-475b-b83b-82d5fbfc9893",
   "metadata": {
    "slideshow": {
     "slide_type": "slide"
    },
    "tags": []
   },
   "outputs": [
    {
     "data": {
      "text/plain": [
       "['Rose Donut',\n",
       " 4.5,\n",
       " ['Mon - Fri 5:00 AM - 3:00 PM',\n",
       "  'Sat 6:00 AM - 3:00 PM',\n",
       "  'Sun 7:00 AM - 2:00 PM'],\n",
       " \"Porto's\",\n",
       " 4.0,\n",
       " ['Sat & Sun 6:30 AM - 8:00 PM'],\n",
       " 'Bagel Broker',\n",
       " 4.5,\n",
       " ['Sat 7:00 AM - 2:00 PM', 'Sun 7:00 AM - 2:00 PM'],\n",
       " 4.6,\n",
       " 'La Azteca Tortilleria',\n",
       " ['Sat 7:00 AM - 3:30 PM', 'Sun 7:00 AM - 3:30 PM']]"
      ]
     },
     "execution_count": 47,
     "metadata": {},
     "output_type": "execute_result"
    }
   ],
   "source": [
    "favs # sanity check"
   ]
  },
  {
   "cell_type": "markdown",
   "id": "85358a92-02cd-4649-a094-08aa7ec026e9",
   "metadata": {
    "slideshow": {
     "slide_type": "slide"
    },
    "tags": []
   },
   "source": [
    "#### Copy vs. Deep Copy Example using the copy module\n",
    "\n",
    "- `list.copy` and `list[:]` both create shallow copies. \n",
    "\n",
    "- A shallow copy creates a copy of the list, but does not create new copies of any objects that the list references.  It references the same location in memory.\n",
    "\n",
    "- A deep copy will copy the list and create copies of objects that the list references.  The copied objects are in a new location."
   ]
  },
  {
   "cell_type": "code",
   "execution_count": 48,
   "id": "79c7a61d-f7b8-4887-8971-376a62dff839",
   "metadata": {
    "slideshow": {
     "slide_type": "slide"
    },
    "tags": []
   },
   "outputs": [
    {
     "name": "stdout",
     "output_type": "stream",
     "text": [
      "[['a', 1, 2], ['b', 3, 4], 'x']\n",
      "[['a', 1, 2], ['b', 3, 4]]\n",
      "[['a', 1, 2], ['b', 3, 4]]\n",
      "[['a', 1, 2], ['b', 3, 4], 'x']\n"
     ]
    }
   ],
   "source": [
    "a = [\"a\", 1, 2]\n",
    "b = [\"b\", 3, 4]\n",
    "c = [a, b]\n",
    "\n",
    "import copy\n",
    "d = c[:]  # d is a shallow copy of c\n",
    "e = copy.deepcopy(c)  # e is a deep copy of c\n",
    "f = c # assigned c to f\n",
    "\n",
    "c.append(\"x\")  # modify c\n",
    "print(c) # c reflects the change\n",
    "print(d) # d is a shallow copy and is not changed\n",
    "print(e) # e is a deep copy and is not changed\n",
    "print(f) # f is assigned c"
   ]
  },
  {
   "cell_type": "code",
   "execution_count": 49,
   "id": "6b231d4d-a6b0-4610-83b6-b8ec64b876d0",
   "metadata": {
    "slideshow": {
     "slide_type": "slide"
    },
    "tags": []
   },
   "outputs": [
    {
     "name": "stdout",
     "output_type": "stream",
     "text": [
      "[['a', 1, 2, 'z'], ['b', 3, 4], 'x']\n",
      "[['a', 1, 2, 'z'], ['b', 3, 4]]\n",
      "[['a', 1, 2], ['b', 3, 4]]\n",
      "[['a', 1, 2, 'z'], ['b', 3, 4], 'x']\n"
     ]
    }
   ],
   "source": [
    "a.append(\"z\")  # modify list a, an element in c\n",
    "print(c) # c reflects change\n",
    "print(d) # d shallow copy of c and reflects the change\n",
    "print(e) # is a deep copy and is not affected by changes to underlying elements\n",
    "print(f) # f is assigned c and reflects changes in c"
   ]
  },
  {
   "cell_type": "markdown",
   "id": "8fec5745-339e-41c1-b7b6-bbe2a6dc56f3",
   "metadata": {
    "slideshow": {
     "slide_type": "slide"
    }
   },
   "source": [
    "## Clear\n",
    "\n",
    "- `list.clear()`\n",
    "    - Remove all items from the list. Equivalent to del a[:].\n"
   ]
  },
  {
   "cell_type": "code",
   "execution_count": 50,
   "id": "26a341b2-75c1-4505-a65a-b02baa7f6be2",
   "metadata": {
    "tags": []
   },
   "outputs": [
    {
     "name": "stdout",
     "output_type": "stream",
     "text": [
      "[]\n",
      "[]\n"
     ]
    }
   ],
   "source": [
    "c.clear()\n",
    "print(c)\n",
    "print(f) # and of course..."
   ]
  },
  {
   "cell_type": "markdown",
   "id": "342fdc73-8d57-406a-bf13-019b87859b76",
   "metadata": {
    "slideshow": {
     "slide_type": "slide"
    }
   },
   "source": [
    "## Index and count\n",
    "\n",
    "- `list.index(x)`\n",
    "    - Return zero-based index in the list of the first item whose value is x. Raises a ValueError if there is no such item.\n",
    "- `list.count(x)`\n",
    "    - Return the number of times x appears in the list."
   ]
  },
  {
   "cell_type": "code",
   "execution_count": 51,
   "id": "815e8aa7-d788-40b9-89c2-cba5ca75ac5b",
   "metadata": {
    "slideshow": {
     "slide_type": "slide"
    },
    "tags": []
   },
   "outputs": [
    {
     "data": {
      "text/plain": [
       "2"
      ]
     },
     "execution_count": 51,
     "metadata": {},
     "output_type": "execute_result"
    }
   ],
   "source": [
    "fam = [\"liz\", 1.73, \"emma\", 1.68, \"mom\", 1.71, \"dad\", 1.89]\n",
    "fam.index(\"emma\")"
   ]
  },
  {
   "cell_type": "code",
   "execution_count": 52,
   "id": "0ae8b938-b94f-4989-aa21-46d1f93aaa1f",
   "metadata": {
    "slideshow": {
     "slide_type": "fragment"
    },
    "tags": [
     "raises-exception"
    ]
   },
   "outputs": [
    {
     "ename": "ValueError",
     "evalue": "3 is not in list",
     "output_type": "error",
     "traceback": [
      "\u001b[0;31m---------------------------------------------------------------------------\u001b[0m",
      "\u001b[0;31mValueError\u001b[0m                                Traceback (most recent call last)",
      "Cell \u001b[0;32mIn[52], line 1\u001b[0m\n\u001b[0;32m----> 1\u001b[0m \u001b[43mfam\u001b[49m\u001b[38;5;241;43m.\u001b[39;49m\u001b[43mindex\u001b[49m\u001b[43m(\u001b[49m\u001b[38;5;241;43m3\u001b[39;49m\u001b[43m)\u001b[49m \u001b[38;5;66;03m# nothing valued 3\u001b[39;00m\n",
      "\u001b[0;31mValueError\u001b[0m: 3 is not in list"
     ]
    }
   ],
   "source": [
    "fam.index(3) # nothing valued 3"
   ]
  },
  {
   "cell_type": "code",
   "execution_count": 53,
   "id": "d849148f-7cfa-4acc-a815-c609e0d5f47c",
   "metadata": {
    "slideshow": {
     "slide_type": "slide"
    },
    "tags": []
   },
   "outputs": [
    {
     "name": "stdout",
     "output_type": "stream",
     "text": [
      "0\n",
      "1\n"
     ]
    }
   ],
   "source": [
    "fam2 = [[\"liz\", 1.73],\n",
    "[\"emma\", 1.68],\n",
    "[\"mom\", 1.71],\n",
    "[\"dad\", 1.89]]\n",
    "print(fam2.count(\"emma\"))  # the string by itself does not exist\n",
    "print(fam2.count([\"emma\", 1.68]))"
   ]
  },
  {
   "cell_type": "markdown",
   "id": "2f216be7-3ece-4d52-be37-ad64336232fd",
   "metadata": {
    "slideshow": {
     "slide_type": "slide"
    }
   },
   "source": [
    "## sort and reverse\n",
    "- `list.sort(key=None, reverse=False)`\n",
    "    - Sort the items of the list in place (the arguments can be used for sort customization, see sorted() for their explanation).\n",
    "\n",
    "- `list.reverse()`\n",
    "    - Reverse the elements of the list in place."
   ]
  },
  {
   "cell_type": "code",
   "execution_count": 54,
   "id": "a6cf3efc-5757-4b74-a436-fbeb4218f25d",
   "metadata": {
    "slideshow": {
     "slide_type": "slide"
    },
    "tags": []
   },
   "outputs": [],
   "source": [
    "fam.reverse()  # no output to 'capture', the list is changed in place"
   ]
  },
  {
   "cell_type": "code",
   "execution_count": 55,
   "id": "c5cdfcda-4ed1-4be4-baeb-28d6ebaa2152",
   "metadata": {
    "slideshow": {
     "slide_type": "fragment"
    },
    "tags": []
   },
   "outputs": [
    {
     "name": "stdout",
     "output_type": "stream",
     "text": [
      "[1.89, 'dad', 1.71, 'mom', 1.68, 'emma', 1.73, 'liz']\n"
     ]
    }
   ],
   "source": [
    "print(fam)"
   ]
  },
  {
   "cell_type": "code",
   "execution_count": 56,
   "id": "589cdcdc-3c1c-4583-92eb-f1fc074cff13",
   "metadata": {
    "slideshow": {
     "slide_type": "slide"
    },
    "tags": [
     "raises-exception"
    ]
   },
   "outputs": [
    {
     "ename": "TypeError",
     "evalue": "'<' not supported between instances of 'str' and 'float'",
     "output_type": "error",
     "traceback": [
      "\u001b[0;31m---------------------------------------------------------------------------\u001b[0m",
      "\u001b[0;31mTypeError\u001b[0m                                 Traceback (most recent call last)",
      "Cell \u001b[0;32mIn[56], line 1\u001b[0m\n\u001b[0;32m----> 1\u001b[0m \u001b[43mfam\u001b[49m\u001b[38;5;241;43m.\u001b[39;49m\u001b[43msort\u001b[49m\u001b[43m(\u001b[49m\u001b[43m)\u001b[49m  \u001b[38;5;66;03m# can't sort floats and string\u001b[39;00m\n",
      "\u001b[0;31mTypeError\u001b[0m: '<' not supported between instances of 'str' and 'float'"
     ]
    }
   ],
   "source": [
    "fam.sort()  # can't sort floats and string"
   ]
  },
  {
   "cell_type": "code",
   "execution_count": 57,
   "id": "9c2b1f58-549c-41e9-962e-d64ffff692d1",
   "metadata": {
    "slideshow": {
     "slide_type": "slide"
    }
   },
   "outputs": [],
   "source": [
    "some_digits = [4, 2, 7, 9, 2, 5.1, 3]\n",
    "some_digits.sort()  # the list is sorted in place. no need to resave the output"
   ]
  },
  {
   "cell_type": "code",
   "execution_count": 58,
   "id": "11b8e9ac-1b37-4277-b1c7-7eb64f62ba47",
   "metadata": {
    "slideshow": {
     "slide_type": "fragment"
    },
    "tags": []
   },
   "outputs": [
    {
     "name": "stdout",
     "output_type": "stream",
     "text": [
      "[2, 2, 3, 4, 5.1, 7, 9]\n"
     ]
    }
   ],
   "source": [
    "print(some_digits)  # preserves numeric data types"
   ]
  },
  {
   "cell_type": "code",
   "execution_count": 59,
   "id": "761fedbf-45b3-452b-945e-ceeeea8dec49",
   "metadata": {
    "slideshow": {
     "slide_type": "fragment"
    },
    "tags": []
   },
   "outputs": [
    {
     "data": {
      "text/plain": [
       "float"
      ]
     },
     "execution_count": 59,
     "metadata": {},
     "output_type": "execute_result"
    }
   ],
   "source": [
    "type(some_digits[4])"
   ]
  },
  {
   "cell_type": "code",
   "execution_count": 60,
   "id": "0976c439-ff55-4692-8555-a1b2cf35512b",
   "metadata": {
    "slideshow": {
     "slide_type": "slide"
    },
    "tags": []
   },
   "outputs": [
    {
     "name": "stdout",
     "output_type": "stream",
     "text": [
      "[9, 7, 5.1, 4, 3, 2, 2]\n"
     ]
    }
   ],
   "source": [
    "some_digits.sort(reverse = True)\n",
    "print(some_digits)"
   ]
  },
  {
   "cell_type": "code",
   "execution_count": 61,
   "id": "3d53c2ce-88be-48ad-98f9-3ef7f8f2e366",
   "metadata": {
    "slideshow": {
     "slide_type": "fragment"
    },
    "tags": []
   },
   "outputs": [
    {
     "data": {
      "text/plain": [
       "[2, 2, 3, 4, 5.1, 7, 9]"
      ]
     },
     "execution_count": 61,
     "metadata": {},
     "output_type": "execute_result"
    }
   ],
   "source": [
    "some_digits = [4, 2, 7, 9, 2, 5.1, 3] # create a new list\n",
    "sorted(some_digits)  # sorted will return a sorted copy of the list"
   ]
  },
  {
   "cell_type": "code",
   "execution_count": 62,
   "id": "247b3bde-3b75-4449-8027-eb4cc057169f",
   "metadata": {
    "slideshow": {
     "slide_type": "fragment"
    },
    "tags": []
   },
   "outputs": [
    {
     "data": {
      "text/plain": [
       "[4, 2, 7, 9, 2, 5.1, 3]"
      ]
     },
     "execution_count": 62,
     "metadata": {},
     "output_type": "execute_result"
    }
   ],
   "source": [
    "some_digits  # the list is unaffected"
   ]
  },
  {
   "cell_type": "markdown",
   "id": "784130d9-5e9c-476b-a562-add144ae0402",
   "metadata": {
    "slideshow": {
     "slide_type": "slide"
    },
    "tags": []
   },
   "source": [
    "## Cleanup\n",
    "\n",
    "- clear will empty a list but it is still defined"
   ]
  },
  {
   "cell_type": "code",
   "execution_count": 63,
   "id": "84c82133-8f77-43bf-85da-085771d2a7b1",
   "metadata": {},
   "outputs": [
    {
     "name": "stdout",
     "output_type": "stream",
     "text": [
      "[]\n"
     ]
    }
   ],
   "source": [
    "some_digits.clear()\n",
    "print(some_digits)"
   ]
  },
  {
   "cell_type": "code",
   "execution_count": 64,
   "id": "6e66d452-4e74-4db2-b2c7-2b7587f912ac",
   "metadata": {},
   "outputs": [
    {
     "name": "stdout",
     "output_type": "stream",
     "text": [
      "[6, 5, 9, 2]\n"
     ]
    }
   ],
   "source": [
    "some_digits = [6, 5, 9, 2]\n",
    "print(some_digits)"
   ]
  },
  {
   "cell_type": "markdown",
   "id": "1bf3c7a0-e477-4b43-8ae3-bbb67ac5fb3d",
   "metadata": {
    "slideshow": {
     "slide_type": "slide"
    },
    "tags": []
   },
   "source": [
    "## Cleanup (continued)\n",
    "\n",
    "- del will delete a list, no longer exists"
   ]
  },
  {
   "cell_type": "code",
   "execution_count": 65,
   "id": "69d76023-7420-4c6a-8a3c-93cb4b87661a",
   "metadata": {},
   "outputs": [],
   "source": [
    "del some_digits"
   ]
  },
  {
   "cell_type": "code",
   "execution_count": 66,
   "id": "384fa9d1-70d3-485a-8352-7083200f476a",
   "metadata": {},
   "outputs": [
    {
     "ename": "NameError",
     "evalue": "name 'some_digits' is not defined",
     "output_type": "error",
     "traceback": [
      "\u001b[0;31m---------------------------------------------------------------------------\u001b[0m",
      "\u001b[0;31mNameError\u001b[0m                                 Traceback (most recent call last)",
      "Cell \u001b[0;32mIn[66], line 1\u001b[0m\n\u001b[0;32m----> 1\u001b[0m \u001b[38;5;28mprint\u001b[39m(\u001b[43msome_digits\u001b[49m)\n",
      "\u001b[0;31mNameError\u001b[0m: name 'some_digits' is not defined"
     ]
    }
   ],
   "source": [
    "print(some_digits)"
   ]
  },
  {
   "cell_type": "markdown",
   "id": "6995380c-c042-4810-b046-7e9d0510c27c",
   "metadata": {
    "slideshow": {
     "slide_type": "slide"
    },
    "tags": []
   },
   "source": [
    "## Extra - Reading a CSV using the standard library"
   ]
  },
  {
   "cell_type": "code",
   "execution_count": 67,
   "id": "a7b62323-bab0-41d7-b78e-725cfa4a0015",
   "metadata": {},
   "outputs": [
    {
     "data": {
      "text/plain": [
       "(list, list)"
      ]
     },
     "execution_count": 67,
     "metadata": {},
     "output_type": "execute_result"
    }
   ],
   "source": [
    "# import the csv module from the PSL\n",
    "import csv\n",
    "\n",
    "# csv file name\n",
    "filename = \"iris.csv\"\n",
    "\n",
    "# create columns and rows list\n",
    "columns = []\n",
    "rows = []\n",
    "\n",
    "# read csv file\n",
    "with open(filename, 'r') as csvfile:\n",
    "    # create a csv reader object\n",
    "    iris = csv.reader(csvfile)\n",
    "    \n",
    "    # extract column names from the first row\n",
    "    columns = next(iris)\n",
    "    \n",
    "    # extract each row \n",
    "    for row in iris:\n",
    "        rows.append(row)\n",
    "\n",
    "type(columns), type(rows)\n"
   ]
  },
  {
   "cell_type": "markdown",
   "id": "bb14bcad-6a6f-47a3-9ae0-1fece2a5b9ee",
   "metadata": {
    "slideshow": {
     "slide_type": "slide"
    },
    "tags": []
   },
   "source": [
    "### Examine the data"
   ]
  },
  {
   "cell_type": "code",
   "execution_count": 68,
   "id": "6721c0f2-ba1b-4f89-b2d1-9e4d028b2b45",
   "metadata": {},
   "outputs": [
    {
     "name": "stdout",
     "output_type": "stream",
     "text": [
      "Number of rows: 150\n",
      "\n",
      "Columns are: ['sepal length (cm)', 'sepal width (cm)', 'petal length (cm)', 'petal width (cm)', 'target']\n",
      "\n"
     ]
    }
   ],
   "source": [
    "# reveal number of rows\n",
    "nrows = len(rows)\n",
    "    \n",
    "print(f\"Number of rows: {nrows}\\n\")\n",
    "\n",
    "# columns\n",
    "print(f'Columns are: {columns}\\n')"
   ]
  },
  {
   "cell_type": "code",
   "execution_count": 69,
   "id": "f888ddbc-2b88-4bde-a29b-46ddafd1fd18",
   "metadata": {
    "slideshow": {
     "slide_type": "slide"
    },
    "tags": []
   },
   "outputs": [
    {
     "name": "stdout",
     "output_type": "stream",
     "text": [
      "First few rows are:\n",
      "\n"
     ]
    },
    {
     "data": {
      "text/plain": [
       "[['5.1', '3.5', '1.4', '0.2', '0.0'],\n",
       " ['4.9', '3.0', '1.4', '0.2', '0.0'],\n",
       " ['4.7', '3.2', '1.3', '0.2', '0.0'],\n",
       " ['4.6', '3.1', '1.5', '0.2', '0.0'],\n",
       " ['5.0', '3.6', '1.4', '0.2', '0.0']]"
      ]
     },
     "execution_count": 69,
     "metadata": {},
     "output_type": "execute_result"
    }
   ],
   "source": [
    "# print some rows\n",
    "print('First few rows are:\\n')\n",
    "rows[0:5]"
   ]
  },
  {
   "cell_type": "code",
   "execution_count": 70,
   "id": "6f5755d4-e89b-48b1-8b6c-0684c0057b86",
   "metadata": {},
   "outputs": [
    {
     "data": {
      "text/plain": [
       "'5.1'"
      ]
     },
     "execution_count": 70,
     "metadata": {},
     "output_type": "execute_result"
    }
   ],
   "source": [
    "rows[0][0]"
   ]
  },
  {
   "cell_type": "code",
   "execution_count": 71,
   "id": "71576368-8d0e-4c48-9b3d-4cd91bcda257",
   "metadata": {
    "slideshow": {
     "slide_type": "slide"
    },
    "tags": []
   },
   "outputs": [
    {
     "name": "stdout",
     "output_type": "stream",
     "text": [
      "['5.1', '4.9', '4.7', '4.6', '5.0', '5.4', '4.6', '5.0', '4.4', '4.9', '5.4', '4.8', '4.8', '4.3', '5.8', '5.7', '5.4', '5.1', '5.7', '5.1', '5.4', '5.1', '4.6', '5.1', '4.8', '5.0', '5.0', '5.2', '5.2', '4.7', '4.8', '5.4', '5.2', '5.5', '4.9', '5.0', '5.5', '4.9', '4.4', '5.1', '5.0', '4.5', '4.4', '5.0', '5.1', '4.8', '5.1', '4.6', '5.3', '5.0', '7.0', '6.4', '6.9', '5.5', '6.5', '5.7', '6.3', '4.9', '6.6', '5.2', '5.0', '5.9', '6.0', '6.1', '5.6', '6.7', '5.6', '5.8', '6.2', '5.6', '5.9', '6.1', '6.3', '6.1', '6.4', '6.6', '6.8', '6.7', '6.0', '5.7', '5.5', '5.5', '5.8', '6.0', '5.4', '6.0', '6.7', '6.3', '5.6', '5.5', '5.5', '6.1', '5.8', '5.0', '5.6', '5.7', '5.7', '6.2', '5.1', '5.7', '6.3', '5.8', '7.1', '6.3', '6.5', '7.6', '4.9', '7.3', '6.7', '7.2', '6.5', '6.4', '6.8', '5.7', '5.8', '6.4', '6.5', '7.7', '7.7', '6.0', '6.9', '5.6', '7.7', '6.3', '6.7', '7.2', '6.2', '6.1', '6.4', '7.2', '7.4', '7.9', '6.4', '6.3', '6.1', '7.7', '6.3', '6.4', '6.0', '6.9', '6.7', '6.9', '5.8', '6.8', '6.7', '6.7', '6.3', '6.5', '6.2', '5.9'] "
     ]
    }
   ],
   "source": [
    "sepal_length = []\n",
    "for sublist in rows:\n",
    "    sepal_length.append(sublist[0])\n",
    "\n",
    "print(sepal_length, end = \" \")"
   ]
  },
  {
   "cell_type": "code",
   "execution_count": 72,
   "id": "fd86a276-a746-4c44-b676-e03182ef0bb6",
   "metadata": {
    "slideshow": {
     "slide_type": "slide"
    },
    "tags": []
   },
   "outputs": [
    {
     "name": "stdout",
     "output_type": "stream",
     "text": [
      "5.84\n"
     ]
    }
   ],
   "source": [
    "sum_sepal_length = 0\n",
    "\n",
    "for sl in sepal_length:\n",
    "    sum_sepal_length += float(sl)\n",
    "\n",
    "print(round(sum_sepal_length/len(sepal_length), 2))"
   ]
  },
  {
   "cell_type": "markdown",
   "id": "b79c9157-9c88-418e-8778-f57fa79a4f4e",
   "metadata": {
    "slideshow": {
     "slide_type": "slide"
    },
    "tags": []
   },
   "source": [
    "## Looking ahead"
   ]
  },
  {
   "cell_type": "code",
   "execution_count": 73,
   "id": "66d14149-09f0-431e-bb00-f20d73f9ad1d",
   "metadata": {},
   "outputs": [
    {
     "data": {
      "text/plain": [
       "5.843333333333335"
      ]
     },
     "execution_count": 73,
     "metadata": {},
     "output_type": "execute_result"
    }
   ],
   "source": [
    "mean_sepal_length = sum(float(sl) for sl in sepal_length) / len(sepal_length)\n",
    "mean_sepal_length"
   ]
  },
  {
   "cell_type": "code",
   "execution_count": 74,
   "id": "eb6375a4-2ab1-4479-9502-7bfd1c5fe1fa",
   "metadata": {},
   "outputs": [
    {
     "data": {
      "text/plain": [
       "5.843333333333334"
      ]
     },
     "execution_count": 74,
     "metadata": {},
     "output_type": "execute_result"
    }
   ],
   "source": [
    "import numpy as np\n",
    "\n",
    "sep_len = np.array(sepal_length, dtype=float)\n",
    "np.mean(sep_len)\n"
   ]
  },
  {
   "cell_type": "markdown",
   "id": "56656f78-eb9b-45fd-bc70-fdc0194f173c",
   "metadata": {
    "slideshow": {
     "slide_type": "slide"
    },
    "tags": []
   },
   "source": [
    "<h1> Statistics 21 <br/> Have a great weekend! </h1>"
   ]
  },
  {
   "cell_type": "raw",
   "id": "35833246-21dc-4b69-acaf-fe4b5cbbf41d",
   "metadata": {
    "slideshow": {
     "slide_type": "-"
    },
    "tags": []
   },
   "source": [
    "<script>\n",
    "    setBackgroundImage(\"Window1.jpg\", \"black\");\n",
    "</script>"
   ]
  }
 ],
 "metadata": {
  "kernelspec": {
   "display_name": "Python 3 (ipykernel)",
   "language": "python",
   "name": "python3"
  },
  "language_info": {
   "codemirror_mode": {
    "name": "ipython",
    "version": 3
   },
   "file_extension": ".py",
   "mimetype": "text/x-python",
   "name": "python",
   "nbconvert_exporter": "python",
   "pygments_lexer": "ipython3",
   "version": "3.11.2"
  }
 },
 "nbformat": 4,
 "nbformat_minor": 5
}
