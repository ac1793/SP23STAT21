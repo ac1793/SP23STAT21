{
 "cells": [
  {
   "cell_type": "raw",
   "id": "37062eb2-b03b-4800-82cc-85098d633dbe",
   "metadata": {
    "slideshow": {
     "slide_type": "-"
    }
   },
   "source": [
    "<script>\n",
    "    function findAncestor (el, name) {\n",
    "        while ((el = el.parentElement) && el.nodeName.toLowerCase() !== name);\n",
    "        return el;\n",
    "    }\n",
    "    function colorAll(el, textColor) {\n",
    "        el.style.color = textColor;\n",
    "        Array.from(el.children).forEach((e) => {colorAll(e, textColor);});\n",
    "    }\n",
    "    function setBackgroundImage(src, textColor) {\n",
    "        var section = findAncestor(document.currentScript, \"section\");\n",
    "        if (section) {\n",
    "            section.setAttribute(\"data-background-image\", src);\n",
    "\t\t\tif (textColor) colorAll(section, textColor);\n",
    "        }\n",
    "    }\n",
    "</script>"
   ]
  },
  {
   "cell_type": "raw",
   "id": "b180b3b9-464a-471b-acd7-e1a7f5c0aa66",
   "metadata": {
    "tags": []
   },
   "source": [
    "<style>\n",
    "h1 {\n",
    "  border: 1.5px solid #333;\n",
    "  padding: 8px 12px;\n",
    "  background-image: linear-gradient(#2774AE,#ebf8e1, #FFD100);\n",
    "  position: static;\n",
    "}\n",
    "</style>"
   ]
  },
  {
   "cell_type": "markdown",
   "id": "163806fa-b905-4183-801c-756ae68afc85",
   "metadata": {
    "slideshow": {
     "slide_type": "slide"
    }
   },
   "source": [
    "<h1 style='color:white'> Statistics 21 <br/> Python & Other Technologies for Data Science </h1>\n",
    "\n",
    "<h3 style='color:white'>Vivian Lew, PhD - Wednesday, Week 2</h3>"
   ]
  },
  {
   "cell_type": "raw",
   "id": "763641c2-1004-40ab-9555-a283a7dcf90e",
   "metadata": {},
   "source": [
    "<script>\n",
    "    setBackgroundImage(\"Window1.jpg\");\n",
    "</script>"
   ]
  },
  {
   "cell_type": "markdown",
   "id": "35cc6917-3d8c-4959-aba3-a84fba426a5a",
   "metadata": {
    "slideshow": {
     "slide_type": "slide"
    },
    "tags": []
   },
   "source": [
    "## Operations and Python \n",
    "\n",
    "Behavior to keep in mind:"
   ]
  },
  {
   "cell_type": "code",
   "execution_count": 1,
   "id": "54df8c3b-891b-401e-9129-7cdaec8b0462",
   "metadata": {},
   "outputs": [
    {
     "name": "stdout",
     "output_type": "stream",
     "text": [
      "<class 'float'>\n",
      "<class 'float'>\n"
     ]
    }
   ],
   "source": [
    "# Division always results in float\n",
    "\n",
    "print(type(7/7))\n",
    "x = 1\n",
    "y = 3\n",
    "print(type(y/x))"
   ]
  },
  {
   "cell_type": "code",
   "execution_count": 2,
   "id": "3c5f5e80-1c71-433c-a6e3-ac4b67fc1d85",
   "metadata": {},
   "outputs": [
    {
     "name": "stdout",
     "output_type": "stream",
     "text": [
      "<class 'float'>\n",
      "<class 'float'>\n"
     ]
    }
   ],
   "source": [
    "# Mixing int and float results in float\n",
    "\n",
    "print(type(1 + 2 + 3 + 4 + 5 + 6 + 7 + 8.))\n",
    "print(type(2 * 4.0))"
   ]
  },
  {
   "cell_type": "code",
   "execution_count": 3,
   "id": "6531080c-8b36-456c-ac80-70254080d8eb",
   "metadata": {
    "slideshow": {
     "slide_type": "slide"
    },
    "tags": []
   },
   "outputs": [
    {
     "name": "stdout",
     "output_type": "stream",
     "text": [
      "UCLA!UCLA!UCLA!\n",
      "<class 'str'>\n"
     ]
    }
   ],
   "source": [
    "# Mixing strings  and numeric results in string\n",
    "\n",
    "print(\"UCLA!\" * 3)\n",
    "print(type(\"UCLA\" * 3))"
   ]
  },
  {
   "cell_type": "code",
   "execution_count": 4,
   "id": "2c33ed4d-4e63-43de-b047-a8460474eaf7",
   "metadata": {},
   "outputs": [
    {
     "name": "stdout",
     "output_type": "stream",
     "text": [
      "12,345,678.90\n",
      "<class 'str'>\n"
     ]
    }
   ],
   "source": [
    "print(format(12345678.9, \",.2f\"))\n",
    "print(type(format(12345678, \",.2f\")))"
   ]
  },
  {
   "cell_type": "code",
   "execution_count": 5,
   "id": "3571671b-d628-4fce-8332-a3e9f8523cdc",
   "metadata": {},
   "outputs": [
    {
     "data": {
      "text/plain": [
       "'Freshman Student'"
      ]
     },
     "execution_count": 5,
     "metadata": {},
     "output_type": "execute_result"
    }
   ],
   "source": [
    "# Concatenate string variables with +\n",
    "\n",
    "status = \"Student\"\n",
    "year = \"Freshman \"\n",
    "\n",
    "year + status"
   ]
  },
  {
   "cell_type": "markdown",
   "id": "f1bb0f7a-4dd7-4f1b-80cb-e71ec5e1aef4",
   "metadata": {
    "slideshow": {
     "slide_type": "slide"
    },
    "tags": []
   },
   "source": [
    "## More on floating point type\n",
    "(https://docs.python.org/3/tutorial/floatingpoint.html)\n",
    "In Python, a floating point number uses 64 bits to represent decimal values. It can represent many values but only a finite number of distinct values.\n",
    "\n",
    "As a result, a floating point number is capable of about 16 places of precision\n"
   ]
  },
  {
   "cell_type": "code",
   "execution_count": 6,
   "id": "0b9825d9-e4d3-44d7-bbec-e8381b960560",
   "metadata": {},
   "outputs": [
    {
     "name": "stdout",
     "output_type": "stream",
     "text": [
      "False\n"
     ]
    }
   ],
   "source": [
    "a = 0.1 + 0.1 + 0.1\n",
    "b = 0.3\n",
    "print(a == b)"
   ]
  },
  {
   "cell_type": "code",
   "execution_count": 7,
   "id": "23864135-c79a-49ae-8efc-9ac444007a3c",
   "metadata": {},
   "outputs": [
    {
     "name": "stdout",
     "output_type": "stream",
     "text": [
      "0.3000000000000000, 0.3000000000000000\n"
     ]
    }
   ],
   "source": [
    "print(f\"{a:0.16f}, {b:0.16f}\")"
   ]
  },
  {
   "cell_type": "code",
   "execution_count": 8,
   "id": "a313b681-d459-4b93-9196-0902fce694e4",
   "metadata": {},
   "outputs": [
    {
     "name": "stdout",
     "output_type": "stream",
     "text": [
      "0.30000000000000004, 0.29999999999999999\n"
     ]
    }
   ],
   "source": [
    "print(f\"{a:0.17f}, {b:0.17f}\")"
   ]
  },
  {
   "cell_type": "markdown",
   "id": "25ef0e46-4290-4ae3-894f-e010d212c235",
   "metadata": {
    "slideshow": {
     "slide_type": "slide"
    },
    "tags": []
   },
   "source": [
    "### Comparing floating point (suggestions)"
   ]
  },
  {
   "cell_type": "code",
   "execution_count": 9,
   "id": "0cb209a5-8ed2-4b64-9004-2573edae2807",
   "metadata": {
    "tags": []
   },
   "outputs": [
    {
     "data": {
      "text/plain": [
       "True"
      ]
     },
     "execution_count": 9,
     "metadata": {},
     "output_type": "execute_result"
    }
   ],
   "source": [
    "round(a, 1) == round(b, 1)"
   ]
  },
  {
   "cell_type": "code",
   "execution_count": 10,
   "id": "14dafabc-5988-48d9-b172-d8657bd0810c",
   "metadata": {},
   "outputs": [
    {
     "data": {
      "text/plain": [
       "True"
      ]
     },
     "execution_count": 10,
     "metadata": {},
     "output_type": "execute_result"
    }
   ],
   "source": [
    "import math\n",
    "math.isclose(a, b)"
   ]
  },
  {
   "cell_type": "markdown",
   "id": "fb6322ff-e565-4267-9a00-94463bb8a67c",
   "metadata": {
    "slideshow": {
     "slide_type": "slide"
    },
    "tags": []
   },
   "source": [
    "## More math\n",
    "\n",
    "There are some basic features not found in built-in Python\n",
    "(https://docs.python.org/3/library/functions.html#built-in-functions)\n",
    "\n",
    "- A square root function.  Instead exponentiate by 0.5 or use the math module\n",
    "\n",
    "- pi.  It is found in the math module\n",
    "\n",
    "- exp. also math module"
   ]
  },
  {
   "cell_type": "code",
   "execution_count": 11,
   "id": "d8ad2ec9-2f8d-4183-bfe1-6a35dd43e7d9",
   "metadata": {},
   "outputs": [
    {
     "name": "stdout",
     "output_type": "stream",
     "text": [
      "1.4142135623730951\n",
      "3.141592653589793\n",
      "2.718281828459045\n"
     ]
    }
   ],
   "source": [
    "print(math.sqrt(2))\n",
    "print(math.pi)\n",
    "print(math.exp(1))"
   ]
  },
  {
   "cell_type": "markdown",
   "id": "f0a374b0-c11b-46b7-84a4-6e517fea825e",
   "metadata": {
    "slideshow": {
     "slide_type": "slide"
    },
    "tags": []
   },
   "source": [
    "#### Reserved Python Keywords\n",
    "\n",
    "| These | are | reserved | keywords | ! |   \n",
    "|:- | :- | :-  | :- | :- |  \n",
    "| False | await | else | import | pass |  \n",
    "| None | break | except | in | raise |  \n",
    "| True | class | finally | is | return | \n",
    "| and     |    continue |   for    |     lambda   |   try|   \n",
    "| as     |     def     |    from   |     nonlocal |   while|  \n",
    "| assert  |    del    |     global |     not      |   with|  \n",
    "| async  |     elif   |     if     |     or      |    yield|  "
   ]
  },
  {
   "cell_type": "markdown",
   "id": "11e2b5e1-16b1-4dcb-8fe0-b2b7feb16a93",
   "metadata": {
    "slideshow": {
     "slide_type": "slide"
    }
   },
   "source": [
    "## Other Naming considerations:\n",
    "\n",
    "Taken from: https://hackernoon.com/the-art-of-naming-variables-52f44de00aad\n",
    "\n",
    "- It is helpful if the name of a list or array is **plural**.\n",
    "- If the variable contains string values including `Names` as part of the variable name can be helpful."
   ]
  },
  {
   "cell_type": "code",
   "execution_count": 12,
   "id": "3e6557d2-e068-4d46-b7e8-893708d751e1",
   "metadata": {
    "slideshow": {
     "slide_type": "fragment"
    }
   },
   "outputs": [],
   "source": [
    "# could be better\n",
    "fruit = ['apple', 'banana', 'orange']"
   ]
  },
  {
   "cell_type": "code",
   "execution_count": 13,
   "id": "d8cf3123-5b3f-44b4-91f5-313584b4ed4e",
   "metadata": {
    "slideshow": {
     "slide_type": "fragment"
    }
   },
   "outputs": [],
   "source": [
    "# better\n",
    "fruits = ['apple', 'banana', 'orange']"
   ]
  },
  {
   "cell_type": "code",
   "execution_count": 14,
   "id": "73166499-40d7-4292-8e2f-c5f258c044d6",
   "metadata": {
    "slideshow": {
     "slide_type": "fragment"
    },
    "tags": []
   },
   "outputs": [],
   "source": [
    "# even better as Names implies the usage of strings\n",
    "fruitNames = ['apple', 'banana', 'orange']"
   ]
  },
  {
   "cell_type": "markdown",
   "id": "8999a903-fecb-4c51-8752-a942f83d082e",
   "metadata": {
    "slideshow": {
     "slide_type": "slide"
    }
   },
   "source": [
    "## Naming Boolean Variables\n",
    "\n",
    "Variables containing boolean values are best when they are in the form of a question that can be answered with a yes or no. Notice the use of CamelCase as well."
   ]
  },
  {
   "cell_type": "code",
   "execution_count": 15,
   "id": "908a9b64-03aa-4018-8c98-b1f2501a84ae",
   "metadata": {
    "slideshow": {
     "slide_type": "fragment"
    }
   },
   "outputs": [],
   "source": [
    "# not great\n",
    "selected = True\n",
    "write = True\n",
    "fruit = True"
   ]
  },
  {
   "cell_type": "code",
   "execution_count": 16,
   "id": "bf44c7bf-1cea-42e1-808d-09403fc177f0",
   "metadata": {
    "slideshow": {
     "slide_type": "fragment"
    }
   },
   "outputs": [],
   "source": [
    "# much better\n",
    "isSelected = True\n",
    "canWrite = True\n",
    "hasFruit = True"
   ]
  },
  {
   "cell_type": "markdown",
   "id": "8fb935c6-73cc-4679-9aa5-9b1506d340bd",
   "metadata": {
    "slideshow": {
     "slide_type": "slide"
    }
   },
   "source": [
    "## Naming Numeric variables\n",
    "\n",
    "If it makes sense, adding a describing word to the numeric variable can be useful. Notice the use of CamelCase here too."
   ]
  },
  {
   "cell_type": "code",
   "execution_count": 17,
   "id": "0a878942-59cc-4bed-9a29-af8ab43095fb",
   "metadata": {
    "slideshow": {
     "slide_type": "fragment"
    }
   },
   "outputs": [],
   "source": [
    "# not great\n",
    "rows = 3"
   ]
  },
  {
   "cell_type": "code",
   "execution_count": 18,
   "id": "06d28655-9534-4fc4-bc1b-152ae539bfe4",
   "metadata": {
    "slideshow": {
     "slide_type": "fragment"
    }
   },
   "outputs": [],
   "source": [
    "# better\n",
    "minRows = 1\n",
    "maxRows = 50\n",
    "totalRows = 3\n",
    "currentRow = 7"
   ]
  },
  {
   "cell_type": "markdown",
   "id": "8bc49801-36bb-4791-98e5-8d7620b202ce",
   "metadata": {
    "slideshow": {
     "slide_type": "slide"
    }
   },
   "source": [
    "## Function/Method Names\n",
    "\n",
    "- functions/Methods that MODIFY an object *ideally* should be named with an **action verb**.\n",
    "- functions/Methods that DO NOT MODIFY  an object but return a modified version of the object should be named with a **passive form of a verb**.\n",
    "\n",
    "For example, a function/method that will take a list, and modify it by sorting it should be called `sort()`\n",
    "\n",
    "On the other hand, a function/method  that takes the list, and does not modify the list itself, but simply shows a sorted version of the list can be called `sorted()`"
   ]
  },
  {
   "cell_type": "markdown",
   "id": "23a6aa92-35ed-4fce-86c9-334252d519ef",
   "metadata": {
    "slideshow": {
     "slide_type": "slide"
    },
    "tags": []
   },
   "source": [
    "## Function/method/ID example\n",
    "\n",
    ".sort( ) is a method for lists, sorted( ) is a general built-in function"
   ]
  },
  {
   "cell_type": "code",
   "execution_count": 19,
   "id": "782f62c7-7900-426b-881a-69e0934cd72a",
   "metadata": {
    "slideshow": {
     "slide_type": "fragment"
    }
   },
   "outputs": [
    {
     "name": "stdout",
     "output_type": "stream",
     "text": [
      "['Ford', 'BMW', 'Volvo', 'Toyota']\n",
      "4352869056\n"
     ]
    }
   ],
   "source": [
    "carBrandNames = ['Ford', 'BMW', 'Volvo', 'Toyota']\n",
    "print(carBrandNames)\n",
    "print(id(carBrandNames))"
   ]
  },
  {
   "cell_type": "code",
   "execution_count": 20,
   "id": "4cf2b529-13e0-49a0-9feb-d6e6517b73ed",
   "metadata": {
    "slideshow": {
     "slide_type": "fragment"
    }
   },
   "outputs": [
    {
     "name": "stdout",
     "output_type": "stream",
     "text": [
      "['BMW', 'Ford', 'Toyota', 'Volvo']\n",
      "4352869056\n"
     ]
    }
   ],
   "source": [
    "carBrandNames.sort() # sort method sorts and modifies the list itself\n",
    "print(carBrandNames)\n",
    "print(id(carBrandNames))"
   ]
  },
  {
   "cell_type": "code",
   "execution_count": 21,
   "id": "a2c6fb08-d3d8-491b-96f8-0e816c90b74f",
   "metadata": {
    "slideshow": {
     "slide_type": "slide"
    },
    "tags": []
   },
   "outputs": [
    {
     "name": "stdout",
     "output_type": "stream",
     "text": [
      "['Chevrolet', 'Audi', 'Honda']\n",
      "4352847808\n"
     ]
    }
   ],
   "source": [
    "carBrandNames2 = ['Chevrolet', 'Audi', 'Honda']\n",
    "print(carBrandNames2)\n",
    "print(id(carBrandNames2))"
   ]
  },
  {
   "cell_type": "code",
   "execution_count": 22,
   "id": "2f75c47f-91de-44a8-b4fc-1c08ef8cb236",
   "metadata": {},
   "outputs": [
    {
     "name": "stdout",
     "output_type": "stream",
     "text": [
      "['Audi', 'Chevrolet', 'Honda']\n",
      "4352756800\n"
     ]
    }
   ],
   "source": [
    "print(sorted(carBrandNames2)) # the sorted function does not modify\n",
    "print(id(sorted(carBrandNames2)))"
   ]
  },
  {
   "cell_type": "code",
   "execution_count": 23,
   "id": "6b10ec00-c068-4e93-bb38-8bf9bf27544e",
   "metadata": {},
   "outputs": [
    {
     "name": "stdout",
     "output_type": "stream",
     "text": [
      "['Chevrolet', 'Audi', 'Honda']\n"
     ]
    }
   ],
   "source": [
    "print(carBrandNames2)"
   ]
  },
  {
   "cell_type": "markdown",
   "id": "9ea2860a-c9ea-46d3-8005-faca3b6cd158",
   "metadata": {
    "slideshow": {
     "slide_type": "slide"
    },
    "tags": []
   },
   "source": [
    "## Constructing sequences\n",
    "\n",
    "Recall in R, if you wanted to create a sequence of values you might use the colon or the c( ) function, for example:\n",
    "\n",
    "*x = 1:10  \n",
    "y = c(8, 6, 7, 5, 3, 0, 9)  \n",
    "z = c(\"UCLA\", \"USC\", \"fight\")*\n"
   ]
  },
  {
   "cell_type": "markdown",
   "id": "9259cb78-e25f-4601-a095-394a6952ecf2",
   "metadata": {
    "tags": []
   },
   "source": [
    "So far, we've only seen strings as a sequence"
   ]
  },
  {
   "cell_type": "code",
   "execution_count": 24,
   "id": "cd8bd2de-b693-452c-9d38-948e2d1576ac",
   "metadata": {
    "tags": []
   },
   "outputs": [
    {
     "data": {
      "text/plain": [
       "str"
      ]
     },
     "execution_count": 24,
     "metadata": {},
     "output_type": "execute_result"
    }
   ],
   "source": [
    "s = 'I love pizza'\n",
    "type(s)"
   ]
  },
  {
   "cell_type": "markdown",
   "id": "fd417ca9-4909-4577-ba1c-86dc1a150040",
   "metadata": {},
   "source": [
    "In Python, sequences are ordered collections of elements (super important)"
   ]
  },
  {
   "cell_type": "markdown",
   "id": "ce38bc19-2a6f-4c6c-bb58-e6d3f25fb252",
   "metadata": {
    "slideshow": {
     "slide_type": "slide"
    },
    "tags": []
   },
   "source": [
    "## Other built-in sequences and their applications\n",
    "\n",
    "*range(start, stop, step)*\n",
    "\n",
    "where start is inclusive, stop is exclusive and step is optional"
   ]
  },
  {
   "cell_type": "code",
   "execution_count": 25,
   "id": "127878cb-80ed-4dba-9475-5f6f2811991d",
   "metadata": {},
   "outputs": [
    {
     "name": "stdout",
     "output_type": "stream",
     "text": [
      "<class 'range'>\n",
      "range(1, 11)\n"
     ]
    }
   ],
   "source": [
    "my_range = range(1, 11)\n",
    "print(type(my_range))\n",
    "print(my_range)"
   ]
  },
  {
   "cell_type": "markdown",
   "id": "be1aad44-95dc-41e3-a298-7b168e28a3b8",
   "metadata": {},
   "source": [
    "The range function is useful but behaves interesting ways because it is a \"lazy sequence\" that generates values when needed. It does not store all its values in memory - so it is memory efficient."
   ]
  },
  {
   "cell_type": "code",
   "execution_count": 26,
   "id": "8b4326a2-5759-4db4-bd71-97c028b0dc8b",
   "metadata": {
    "slideshow": {
     "slide_type": "slide"
    },
    "tags": []
   },
   "outputs": [
    {
     "name": "stdout",
     "output_type": "stream",
     "text": [
      "10\n",
      "1\n",
      "10\n",
      "55\n"
     ]
    }
   ],
   "source": [
    "print(len(my_range))\n",
    "print(min(my_range))\n",
    "print(max(my_range))\n",
    "print(sum(my_range))"
   ]
  },
  {
   "cell_type": "code",
   "execution_count": 27,
   "id": "40236076-c3b1-461f-a898-c57cbb73d657",
   "metadata": {},
   "outputs": [
    {
     "data": {
      "text/plain": [
       "1"
      ]
     },
     "execution_count": 27,
     "metadata": {},
     "output_type": "execute_result"
    }
   ],
   "source": [
    "my_range[0]"
   ]
  },
  {
   "cell_type": "code",
   "execution_count": 28,
   "id": "31604a29-d406-4bc7-ad7e-bcbf1b17be0a",
   "metadata": {},
   "outputs": [
    {
     "data": {
      "text/plain": [
       "range(1, 4)"
      ]
     },
     "execution_count": 28,
     "metadata": {},
     "output_type": "execute_result"
    }
   ],
   "source": [
    "# but\n",
    "my_range[0:3]"
   ]
  },
  {
   "cell_type": "markdown",
   "id": "aab8250b-86d0-4ba6-b28f-0f2625570b23",
   "metadata": {
    "slideshow": {
     "slide_type": "slide"
    },
    "tags": []
   },
   "source": [
    "## Other built-in sequences and their applications (cont'd)\n",
    "\n",
    "We will examine these in the coming days\n",
    "\n",
    "- The list\n",
    "\n",
    "- The tuple\n"
   ]
  },
  {
   "cell_type": "markdown",
   "id": "2145a96a-bb70-4fe3-9ce0-a5f66e5b9e9e",
   "metadata": {
    "slideshow": {
     "slide_type": "slide"
    },
    "tags": []
   },
   "source": [
    "## Putting sequences to work\n",
    "\n",
    "Recall in R, suppose we have a sequence (vector) `a = 1:10` and we might type `a^2` to square the entire sequence. \n",
    "\n",
    "Doing the same thing in Python involves a `for`\n",
    "\n",
    "The greatest use for any sequence (string and range today)  in Python is iterating over it using a **for() loop**.  \n",
    "\n",
    "There are other kind of loops, but chances are, the vast majority will involve the `for` keyword."
   ]
  },
  {
   "cell_type": "markdown",
   "id": "c32a45cc-df49-4b9b-b140-b76202eb5ca7",
   "metadata": {
    "slideshow": {
     "slide_type": "slide"
    },
    "tags": []
   },
   "source": [
    "### The For Loop\n",
    "\n",
    "```\n",
    "for variable in iterable:                           \n",
    "    Block of code to be executed for each element in the iterable\n",
    "```\n",
    "\n",
    "(https://docs.python.org/3/reference/compound_stmts.html#the-for-statement)\n",
    "\n",
    "- for: starts the for loop   \n",
    "- variable: placeholder of the elements in the iterable. Takes the value of each element as the loop iterates through it. You can give it any name but ideally one with meaning.\n",
    "- in: specifies the iterable object \n",
    "- iterable: This is a sequence or iterable object \n",
    "- The colon starts the loop body, the block of code to be executed for each element in the iterable.\n",
    "- The loop body is indented (usually 4 spaces or a tab) to indicate that it is part of the loop.  See the previous lecture re: indentation.\n",
    "\n"
   ]
  },
  {
   "cell_type": "markdown",
   "id": "e932d7b1-ac59-4236-8e9d-e688120cb7ff",
   "metadata": {
    "slideshow": {
     "slide_type": "slide"
    },
    "tags": []
   },
   "source": [
    "### Example"
   ]
  },
  {
   "cell_type": "code",
   "execution_count": 29,
   "id": "991eec86-0c07-4ad6-bab5-0b71f6227395",
   "metadata": {},
   "outputs": [
    {
     "name": "stdout",
     "output_type": "stream",
     "text": [
      "I\n",
      " \n",
      "l\n",
      "o\n",
      "v\n",
      "e\n",
      " \n",
      "p\n",
      "i\n",
      "z\n",
      "z\n",
      "a\n"
     ]
    }
   ],
   "source": [
    "# for variable in iterable :\n",
    "# do something with the variable\n",
    "for letter in s: \n",
    "    print(letter)"
   ]
  },
  {
   "cell_type": "markdown",
   "id": "4c7066e3-127a-424b-ad09-99cbc468480a",
   "metadata": {
    "slideshow": {
     "slide_type": "slide"
    },
    "tags": []
   },
   "source": [
    "### Example"
   ]
  },
  {
   "cell_type": "code",
   "execution_count": 30,
   "id": "1f13bf29-d574-462d-b4a7-2837ff281355",
   "metadata": {},
   "outputs": [
    {
     "name": "stdout",
     "output_type": "stream",
     "text": [
      "1 4 9 16 25 36 49 64 81 100 "
     ]
    }
   ],
   "source": [
    "# default end = newline\n",
    "for r in my_range:\n",
    "    print(r**2, end=\" \")"
   ]
  },
  {
   "cell_type": "markdown",
   "id": "6d5ca121-56c2-432a-b9eb-94788c1877b2",
   "metadata": {
    "slideshow": {
     "slide_type": "slide"
    },
    "tags": []
   },
   "source": [
    "# Conditional Statements\n",
    "\n",
    "- Conditional statements are a fundamental concept in programming \n",
    "\n",
    "- They control the flow of programming code depending on specific conditions. \n",
    "\n",
    "- With them, our programs make decisions and execute different blocks of code depending on whether a specific condition evaluates to true or to false.\n",
    "\n",
    "- In Python, the basic conditional statements are `if`, `elif`, and `else`. \n",
    "\n"
   ]
  },
  {
   "cell_type": "markdown",
   "id": "55086a0a-e879-47af-b242-ba5db25660d2",
   "metadata": {
    "slideshow": {
     "slide_type": "slide"
    },
    "tags": []
   },
   "source": [
    "## if-elif-else \n",
    "\n",
    "- There is no need to use parenthesis in the conditional statements.  \n",
    "- Use a colon to end the conditional statement.\n",
    "- Lines indented after the colon are associated with the if statement.\n",
    "- When lines are no longer indented, the lines are no longer associated with the if statement.\n",
    "- `elif` (else if) and `else` **must** be on the same level of indentation as the first `if` statement."
   ]
  },
  {
   "cell_type": "code",
   "execution_count": 31,
   "id": "05b1fb2b-44c6-45db-ba01-b6efc553c48b",
   "metadata": {
    "slideshow": {
     "slide_type": "slide"
    },
    "tags": []
   },
   "outputs": [
    {
     "name": "stdout",
     "output_type": "stream",
     "text": [
      "-3 must be negative\n"
     ]
    }
   ],
   "source": [
    "x = -3\n",
    "\n",
    "if x == 0:\n",
    "    print(f\"{x} is zero\")\n",
    "elif x > 0:\n",
    "    print(f\"{x} is positive\")\n",
    "else:\n",
    "    print(f\"{x} must be negative\")"
   ]
  },
  {
   "cell_type": "markdown",
   "id": "5b6de9c0-0f27-48c6-9b33-64e09a99dc4b",
   "metadata": {
    "slideshow": {
     "slide_type": "slide"
    },
    "tags": []
   },
   "source": [
    "## About if\n",
    "\n",
    "- if is used to test a condition \n",
    "\n",
    "- if the condition evaluates to True, the block of code indented under the if statement will be executed\n",
    "\n",
    "- if the condition evaluates to False, the block of code indented under the if statement will be skipped\n",
    "\n"
   ]
  },
  {
   "cell_type": "code",
   "execution_count": 32,
   "id": "3633d2a2-2842-4256-a9c0-9e3d40aed843",
   "metadata": {},
   "outputs": [
    {
     "name": "stdout",
     "output_type": "stream",
     "text": [
      "1 9 25 49 81 "
     ]
    }
   ],
   "source": [
    "for r in my_range:\n",
    "    if r % 2:\n",
    "        print(r**2, end=\" \")"
   ]
  },
  {
   "cell_type": "markdown",
   "id": "fcff35a3-a9dc-4153-98f9-c4e5e302fb0a",
   "metadata": {
    "slideshow": {
     "slide_type": "slide"
    },
    "tags": []
   },
   "source": [
    "## About elif (short for \"else if\") and else\n",
    "\n",
    "- elif is used to test additional conditions **after** an initial if statement\n",
    "\n",
    "- elif is only checked if all the previous if or elif conditions are False\n",
    "\n",
    "- multiple elif statements can be used to test multiple conditions\n",
    "\n",
    "- else is used to specify a block of code that will be executed if **all previous if and elif conditions are False** "
   ]
  },
  {
   "cell_type": "code",
   "execution_count": 33,
   "id": "e2bdf31a-35d5-4950-89bf-1fb54a8de2de",
   "metadata": {
    "slideshow": {
     "slide_type": "fragment"
    },
    "tags": []
   },
   "outputs": [
    {
     "name": "stdout",
     "output_type": "stream",
     "text": [
      "100 is positive\n"
     ]
    }
   ],
   "source": [
    "x = 100\n",
    "\n",
    "if x > 0:\n",
    "    print(f\"{x} is positive\")\n",
    "elif x > 3:\n",
    "    print(f\"{x} is greater than 3\")  # will not get executed\n",
    "else:\n",
    "    print(f\"{x} is zero or negative\")"
   ]
  },
  {
   "cell_type": "code",
   "execution_count": 34,
   "id": "f9355352-1a1a-4050-aa50-2bcc7f11efde",
   "metadata": {
    "slideshow": {
     "slide_type": "slide"
    },
    "tags": []
   },
   "outputs": [
    {
     "name": "stdout",
     "output_type": "stream",
     "text": [
      "Fourscore begins with F.\n",
      "a s y a o f b f o t c a n n c i l a d t t p t a m a c e Now begins with N.\n",
      "w a e i a g c w t w t n o a n s c a s d c l e We begins with W.\n",
      "a m o a g b o t w We begins with W.\n",
      "h c t d a p o t f a a f r p f t w h g t l t t n m l It begins with I.\n",
      "i a f a p t w s d t But begins with B.\n",
      "i a l s w c d w c c w c h t g The begins with T.\n",
      "b m l a d w s h h c i f a o p p t a o d The begins with T.\n",
      "w w l n n l r w w s h b i c n f w t d h It begins with I.\n",
      "i f u t l r t b d h t t u w w t w f h h t f s n a It begins with I.\n",
      "i r f u t b h d t t g t r b u t f t h d w t i d t t c f w t g t l f m o d t w h h r t t d s n h d i v t t n u God begins with G.\n",
      "s h a n b o f a t g o t p b t p f t p s n p f t e "
     ]
    }
   ],
   "source": [
    "import requests\n",
    "\n",
    "url = 'http://www.stat.ucla.edu/~vlew/datasets/gettysburg.txt'\n",
    "\n",
    "response = requests.get(url)\n",
    "gettysburg = response.text\n",
    "gettysburg_words = gettysburg.split()\n",
    "\n",
    "for word in gettysburg_words:\n",
    "    if word[0] in word.upper():\n",
    "        print(f\"{word} begins with {word[0]}.\")\n",
    "    else:\n",
    "        print(word[0], end = \" \")\n",
    "\n",
    "# https://docs.python.org/3/library/stdtypes.html#string-methods"
   ]
  },
  {
   "cell_type": "markdown",
   "id": "af579f13-7c7d-4a0b-af60-86c6444c7a3b",
   "metadata": {
    "slideshow": {
     "slide_type": "slide"
    }
   },
   "source": [
    "## Nested Conditionals\n",
    "\n",
    "- If you have hierarchical conditions, you can nest conditional   \n",
    "\n",
    "- but they can be difficult to read and should be avoided if possible.\n",
    "\n",
    "- The key to writing good nested conditionals is keeping track of the indentation.\n",
    "\n",
    "- Leave you with an example of lists and a tuple(!), zip( ) is a handy built-in function that points us towards the need for pandas...\n"
   ]
  },
  {
   "cell_type": "code",
   "execution_count": 35,
   "id": "d8c34f11-5812-4548-b7cc-9acedf4a13ee",
   "metadata": {
    "slideshow": {
     "slide_type": "slide"
    },
    "tags": []
   },
   "outputs": [
    {
     "name": "stdout",
     "output_type": "stream",
     "text": [
      "C-3PO may not be a droid\n",
      "R2-D2 is definitely a droid.\n",
      "R5-D4 is definitely a droid.\n",
      "Obi-Wan Kenobi may not be a droid\n"
     ]
    }
   ],
   "source": [
    "name = [\"Luke Skywalker\", \"C-3PO\", \"R2-D2\", \"Darth Vader\",\n",
    "        \"Leia Organa\", \"Owen Lars\", \"Beru Whitesun lars\" , \n",
    "        \"R5-D4\", \"Biggs Darklighter\" ,\"Obi-Wan Kenobi\"]\n",
    "height = [172, 167, 96, 202, 150, 178, 165, 97, 183, 182]\n",
    "\n",
    "for name, height in zip(name, height):\n",
    "    if '-' in name:\n",
    "        if height <= 100:\n",
    "            print(f\"{name} is definitely a droid.\")\n",
    "        else:\n",
    "            print(f\"{name} may not be a droid\")\n"
   ]
  },
  {
   "cell_type": "markdown",
   "id": "b2237cf4-3561-4d7d-9785-e975dc686419",
   "metadata": {
    "slideshow": {
     "slide_type": "slide"
    },
    "tags": []
   },
   "source": [
    "# (this part can wait)\n",
    "## or read and ask questions"
   ]
  },
  {
   "cell_type": "markdown",
   "id": "a3694194-8df9-4c4b-af10-6b27a403fd57",
   "metadata": {
    "slideshow": {
     "slide_type": "slide"
    },
    "tags": []
   },
   "source": [
    "## while loops\n",
    "\n",
    "Another common loop is the while loop. It repeats the associated code until the conditional statement is False"
   ]
  },
  {
   "cell_type": "code",
   "execution_count": 36,
   "id": "0ceb8214-a765-441c-bf2a-f82b3a74cf01",
   "metadata": {
    "slideshow": {
     "slide_type": "fragment"
    },
    "tags": []
   },
   "outputs": [
    {
     "name": "stdout",
     "output_type": "stream",
     "text": [
      "0 1 2 3 4 5 6 7 8 9 "
     ]
    }
   ],
   "source": [
    "i = 0\n",
    "while i < 10:\n",
    "    print(i, end=' ')\n",
    "    i += 1"
   ]
  },
  {
   "cell_type": "code",
   "execution_count": 37,
   "id": "487e1f02-10d4-4baa-9bad-a3a7e09f888f",
   "metadata": {
    "slideshow": {
     "slide_type": "fragment"
    },
    "tags": []
   },
   "outputs": [
    {
     "data": {
      "text/plain": [
       "10"
      ]
     },
     "execution_count": 37,
     "metadata": {},
     "output_type": "execute_result"
    }
   ],
   "source": [
    "i"
   ]
  },
  {
   "cell_type": "markdown",
   "id": "0ee0b7a5-a627-42d0-ba51-08c7e1ab86b2",
   "metadata": {
    "slideshow": {
     "slide_type": "slide"
    },
    "tags": []
   },
   "source": [
    "## break and continue\n",
    "\n",
    "- The break statement breaks-out of the loop entirely\n",
    "- The continue statement skips the remainder of the current loop, and goes to the next iteration"
   ]
  },
  {
   "cell_type": "code",
   "execution_count": 38,
   "id": "a0bea617-c560-4f6b-ba0f-71fd3b91ffb1",
   "metadata": {
    "slideshow": {
     "slide_type": "fragment"
    },
    "tags": []
   },
   "outputs": [
    {
     "name": "stdout",
     "output_type": "stream",
     "text": [
      "1 3 5 7 9 11 13 15 17 19 "
     ]
    }
   ],
   "source": [
    "for n in range(20):\n",
    "    # if the remainder of n / 2 is 0, skip the rest of the loop\n",
    "    if n % 2 == 0:\n",
    "        continue\n",
    "    print(n, end=' ')"
   ]
  },
  {
   "cell_type": "markdown",
   "id": "d8ad7e84-0f7e-4910-99e9-a97c75a686cf",
   "metadata": {
    "slideshow": {
     "slide_type": "slide"
    },
    "tags": []
   },
   "source": [
    "an example to create fibonacci numbers"
   ]
  },
  {
   "cell_type": "code",
   "execution_count": 39,
   "id": "0eb8a407-c335-4cf0-b21e-5dd45a7b878f",
   "metadata": {
    "slideshow": {
     "slide_type": "fragment"
    },
    "tags": []
   },
   "outputs": [
    {
     "name": "stdout",
     "output_type": "stream",
     "text": [
      "[1, 1, 2, 3, 5, 8, 13, 21, 34, 55, 89]\n"
     ]
    }
   ],
   "source": [
    "a, b = 0, 1   # you can assign multiple values using tuples\n",
    "amax = 100    # set a maximum value\n",
    "L = []        # create an empty object to hold results\n",
    "\n",
    "# the while True will run forever until it reaches a break\n",
    "while True:    \n",
    "    (a, b) = (b, a + b)\n",
    "    if a > amax:\n",
    "        break\n",
    "    L.append(a)\n",
    "\n",
    "print(L)"
   ]
  },
  {
   "cell_type": "markdown",
   "id": "1f4e0e47-562a-44c8-bfe6-a2aeaf428966",
   "metadata": {
    "slideshow": {
     "slide_type": "slide"
    }
   },
   "source": [
    "## Boolean expressions\n",
    "\n",
    "All conditional statements rely on the use of boolean expressions."
   ]
  },
  {
   "cell_type": "code",
   "execution_count": 40,
   "id": "6e451847-ee6f-4b42-991b-138c45b638b6",
   "metadata": {
    "slideshow": {
     "slide_type": "fragment"
    }
   },
   "outputs": [
    {
     "data": {
      "text/plain": [
       "True"
      ]
     },
     "execution_count": 40,
     "metadata": {},
     "output_type": "execute_result"
    }
   ],
   "source": [
    "5 == 5"
   ]
  },
  {
   "cell_type": "code",
   "execution_count": 41,
   "id": "0bb88062-6564-48e7-ab4a-dd06b134ff81",
   "metadata": {
    "slideshow": {
     "slide_type": "fragment"
    }
   },
   "outputs": [
    {
     "data": {
      "text/plain": [
       "False"
      ]
     },
     "execution_count": 41,
     "metadata": {},
     "output_type": "execute_result"
    }
   ],
   "source": [
    "5 == 6"
   ]
  },
  {
   "cell_type": "markdown",
   "id": "ce3a2a14-1343-4cb4-b912-ab9b9799049f",
   "metadata": {
    "slideshow": {
     "slide_type": "slide"
    }
   },
   "source": [
    "### Boolean expressions (cont'd)"
   ]
  },
  {
   "cell_type": "code",
   "execution_count": 42,
   "id": "d53209a2-3888-40ea-ba35-bda67a018999",
   "metadata": {
    "slideshow": {
     "slide_type": "fragment"
    }
   },
   "outputs": [
    {
     "data": {
      "text/plain": [
       "True"
      ]
     },
     "execution_count": 42,
     "metadata": {},
     "output_type": "execute_result"
    }
   ],
   "source": [
    "5 != 6"
   ]
  },
  {
   "cell_type": "code",
   "execution_count": 43,
   "id": "0f412a0b-2f8f-4d00-8838-d7d9ca636316",
   "metadata": {
    "slideshow": {
     "slide_type": "fragment"
    },
    "tags": []
   },
   "outputs": [
    {
     "data": {
      "text/plain": [
       "False"
      ]
     },
     "execution_count": 43,
     "metadata": {},
     "output_type": "execute_result"
    }
   ],
   "source": [
    "5 > 6"
   ]
  },
  {
   "cell_type": "code",
   "execution_count": 44,
   "id": "f88858b0-1803-4e93-a693-4cd15517cc29",
   "metadata": {
    "slideshow": {
     "slide_type": "fragment"
    }
   },
   "outputs": [
    {
     "data": {
      "text/plain": [
       "True"
      ]
     },
     "execution_count": 44,
     "metadata": {},
     "output_type": "execute_result"
    }
   ],
   "source": [
    "5 < 6"
   ]
  },
  {
   "cell_type": "markdown",
   "id": "ca0806ff-dffb-4768-878f-995cfc6e726a",
   "metadata": {
    "slideshow": {
     "slide_type": "slide"
    },
    "tags": []
   },
   "source": [
    "### Boolean expressions (cont'd)\n"
   ]
  },
  {
   "cell_type": "code",
   "execution_count": 45,
   "id": "3557af71-e7eb-4ae4-822b-44e10b39a598",
   "metadata": {
    "slideshow": {
     "slide_type": "fragment"
    }
   },
   "outputs": [
    {
     "data": {
      "text/plain": [
       "False"
      ]
     },
     "execution_count": 45,
     "metadata": {},
     "output_type": "execute_result"
    }
   ],
   "source": [
    "5 >= 6"
   ]
  },
  {
   "cell_type": "code",
   "execution_count": 46,
   "id": "db452a19-947a-4bb9-b4ac-430d05811c45",
   "metadata": {
    "slideshow": {
     "slide_type": "fragment"
    }
   },
   "outputs": [
    {
     "data": {
      "text/plain": [
       "True"
      ]
     },
     "execution_count": 46,
     "metadata": {},
     "output_type": "execute_result"
    }
   ],
   "source": [
    "5 <= 6"
   ]
  },
  {
   "cell_type": "code",
   "execution_count": 47,
   "id": "2d7cfbd9-5325-4f18-ad55-62a91b0d564d",
   "metadata": {
    "slideshow": {
     "slide_type": "fragment"
    },
    "tags": []
   },
   "outputs": [
    {
     "data": {
      "text/plain": [
       "False"
      ]
     },
     "execution_count": 47,
     "metadata": {},
     "output_type": "execute_result"
    }
   ],
   "source": [
    "\"5\" == 5"
   ]
  },
  {
   "cell_type": "markdown",
   "id": "624961d5-5ae2-493e-987f-c33b547b8363",
   "metadata": {
    "slideshow": {
     "slide_type": "slide"
    },
    "tags": []
   },
   "source": [
    "### Boolean expressions & strings (cont'd)\n",
    "\n",
    "When comparing strings, greater than or less than is determined by alphabetical order, with things coming earlier in the alphabet being \"less than\" things later in the alphabet. All upper case letters come before all lower case letters"
   ]
  },
  {
   "cell_type": "code",
   "execution_count": 48,
   "id": "7b3b00e0-2974-4c37-9f59-5b416249e40d",
   "metadata": {
    "slideshow": {
     "slide_type": "fragment"
    },
    "tags": []
   },
   "outputs": [
    {
     "data": {
      "text/plain": [
       "True"
      ]
     },
     "execution_count": 48,
     "metadata": {},
     "output_type": "execute_result"
    }
   ],
   "source": [
    "\"A\" < \"B\""
   ]
  },
  {
   "cell_type": "code",
   "execution_count": 49,
   "id": "4a3e4cde-9609-49e3-b1ea-69e43dad7340",
   "metadata": {
    "slideshow": {
     "slide_type": "fragment"
    },
    "tags": []
   },
   "outputs": [
    {
     "data": {
      "text/plain": [
       "True"
      ]
     },
     "execution_count": 49,
     "metadata": {},
     "output_type": "execute_result"
    }
   ],
   "source": [
    "\"A\" <\"a\""
   ]
  },
  {
   "cell_type": "markdown",
   "id": "31488f58-e9b5-4adf-8d9e-c06b6c87d770",
   "metadata": {
    "slideshow": {
     "slide_type": "slide"
    },
    "tags": []
   },
   "source": [
    "### more string comparison examples"
   ]
  },
  {
   "cell_type": "code",
   "execution_count": 50,
   "id": "af6edd94-3e98-4628-8f9c-fff7cd659680",
   "metadata": {
    "slideshow": {
     "slide_type": "fragment"
    },
    "tags": []
   },
   "outputs": [
    {
     "data": {
      "text/plain": [
       "True"
      ]
     },
     "execution_count": 50,
     "metadata": {},
     "output_type": "execute_result"
    }
   ],
   "source": [
    "\"Z\" < \"a\""
   ]
  },
  {
   "cell_type": "code",
   "execution_count": 51,
   "id": "53d6408f-8345-4c50-8304-6a364acd129a",
   "metadata": {
    "slideshow": {
     "slide_type": "fragment"
    },
    "tags": []
   },
   "outputs": [
    {
     "data": {
      "text/plain": [
       "True"
      ]
     },
     "execution_count": 51,
     "metadata": {},
     "output_type": "execute_result"
    }
   ],
   "source": [
    "\"a\" < \"z\""
   ]
  },
  {
   "cell_type": "markdown",
   "id": "b48c0544-7425-4b95-a96d-eb2eada49f4d",
   "metadata": {
    "slideshow": {
     "slide_type": "slide"
    }
   },
   "source": [
    "## Logical operators\n",
    "\n",
    "`and` `or` `not` are written in lowercase"
   ]
  },
  {
   "cell_type": "code",
   "execution_count": 52,
   "id": "3a78fe92-e6ad-45c8-8d9d-431042edb974",
   "metadata": {
    "slideshow": {
     "slide_type": "fragment"
    }
   },
   "outputs": [
    {
     "data": {
      "text/plain": [
       "True"
      ]
     },
     "execution_count": 52,
     "metadata": {},
     "output_type": "execute_result"
    }
   ],
   "source": [
    "True and True"
   ]
  },
  {
   "cell_type": "code",
   "execution_count": 53,
   "id": "331ddf3c-9da4-4176-b84a-cf1512ce00c4",
   "metadata": {
    "slideshow": {
     "slide_type": "fragment"
    }
   },
   "outputs": [
    {
     "data": {
      "text/plain": [
       "False"
      ]
     },
     "execution_count": 53,
     "metadata": {},
     "output_type": "execute_result"
    }
   ],
   "source": [
    "True and False"
   ]
  },
  {
   "cell_type": "code",
   "execution_count": 54,
   "id": "e2da612e-9986-415c-959b-72acf4256bc3",
   "metadata": {
    "slideshow": {
     "slide_type": "fragment"
    }
   },
   "outputs": [
    {
     "data": {
      "text/plain": [
       "True"
      ]
     },
     "execution_count": 54,
     "metadata": {},
     "output_type": "execute_result"
    }
   ],
   "source": [
    "True or False"
   ]
  },
  {
   "cell_type": "markdown",
   "id": "120d95e4-ed2d-4460-b564-8e6accd2630f",
   "metadata": {
    "slideshow": {
     "slide_type": "slide"
    },
    "tags": []
   },
   "source": [
    "### Logical operators (cont'd)"
   ]
  },
  {
   "cell_type": "code",
   "execution_count": 55,
   "id": "4bba2b87-b068-44c1-a87d-a027e248a7c8",
   "metadata": {
    "slideshow": {
     "slide_type": "fragment"
    }
   },
   "outputs": [
    {
     "data": {
      "text/plain": [
       "False"
      ]
     },
     "execution_count": 55,
     "metadata": {},
     "output_type": "execute_result"
    }
   ],
   "source": [
    "not True"
   ]
  },
  {
   "cell_type": "code",
   "execution_count": 56,
   "id": "6dcbe007-b63f-4b37-8c62-1cbf37671e98",
   "metadata": {
    "slideshow": {
     "slide_type": "fragment"
    }
   },
   "outputs": [
    {
     "data": {
      "text/plain": [
       "True"
      ]
     },
     "execution_count": 56,
     "metadata": {},
     "output_type": "execute_result"
    }
   ],
   "source": [
    "not False"
   ]
  },
  {
   "cell_type": "code",
   "execution_count": 57,
   "id": "a1ca618e-8565-4622-b2ae-9672debb6017",
   "metadata": {
    "slideshow": {
     "slide_type": "fragment"
    },
    "tags": []
   },
   "outputs": [
    {
     "data": {
      "text/plain": [
       "True"
      ]
     },
     "execution_count": 57,
     "metadata": {},
     "output_type": "execute_result"
    }
   ],
   "source": [
    "False or not False"
   ]
  },
  {
   "cell_type": "code",
   "execution_count": 58,
   "id": "0c53e5b5-45aa-4de6-acc1-e1179e18df45",
   "metadata": {
    "slideshow": {
     "slide_type": "fragment"
    }
   },
   "outputs": [
    {
     "data": {
      "text/plain": [
       "True"
      ]
     },
     "execution_count": 58,
     "metadata": {},
     "output_type": "execute_result"
    }
   ],
   "source": [
    "True and not False"
   ]
  },
  {
   "cell_type": "markdown",
   "id": "4bcb1a11-4a99-4108-afe2-371b5767baf0",
   "metadata": {
    "slideshow": {
     "slide_type": "slide"
    },
    "tags": []
   },
   "source": [
    "### Logical operators (cont'd)"
   ]
  },
  {
   "cell_type": "markdown",
   "id": "822b1d86-79fb-4f9b-8dbb-8aa02e1171ce",
   "metadata": {},
   "source": [
    "The idiom `x % y == 0` is a way to check if x is divisible by y. `%` is modulo in Python."
   ]
  },
  {
   "cell_type": "code",
   "execution_count": 59,
   "id": "d303588c-dadc-4dce-acae-0814abcf8964",
   "metadata": {
    "slideshow": {
     "slide_type": "fragment"
    }
   },
   "outputs": [
    {
     "data": {
      "text/plain": [
       "True"
      ]
     },
     "execution_count": 59,
     "metadata": {},
     "output_type": "execute_result"
    }
   ],
   "source": [
    "n = 6\n",
    "n % 2 == 0 and n % 3 == 0"
   ]
  },
  {
   "cell_type": "code",
   "execution_count": 60,
   "id": "629a261e-7b4c-491f-93ff-bc6c6d55401d",
   "metadata": {
    "slideshow": {
     "slide_type": "fragment"
    }
   },
   "outputs": [
    {
     "data": {
      "text/plain": [
       "False"
      ]
     },
     "execution_count": 60,
     "metadata": {},
     "output_type": "execute_result"
    }
   ],
   "source": [
    "n = 8\n",
    "n % 2 == 0 and n % 3 == 0"
   ]
  },
  {
   "cell_type": "code",
   "execution_count": 61,
   "id": "69be0b22-dfaf-4157-8fc9-4f65ffd2cf61",
   "metadata": {
    "slideshow": {
     "slide_type": "fragment"
    }
   },
   "outputs": [
    {
     "data": {
      "text/plain": [
       "True"
      ]
     },
     "execution_count": 61,
     "metadata": {},
     "output_type": "execute_result"
    }
   ],
   "source": [
    "n = 8\n",
    "n % 2 == 0 or n % 3 == 0"
   ]
  },
  {
   "cell_type": "markdown",
   "id": "58935b39-1c33-4fda-aafe-cf0dd88a6691",
   "metadata": {
    "slideshow": {
     "slide_type": "slide"
    },
    "tags": []
   },
   "source": [
    "<h1> Statistics 21 <br/> See you next time! </h1>"
   ]
  },
  {
   "cell_type": "raw",
   "id": "0aa2f302-96a2-48bd-8791-f2a00eb161bb",
   "metadata": {
    "slideshow": {
     "slide_type": "-"
    }
   },
   "source": [
    "<script>\n",
    "    setBackgroundImage(\"Window1.jpg\", \"black\");\n",
    "</script>"
   ]
  },
  {
   "cell_type": "code",
   "execution_count": 62,
   "id": "f975aa97-1cbd-4b41-bd3a-7784077d3447",
   "metadata": {
    "slideshow": {
     "slide_type": "skip"
    },
    "tags": []
   },
   "outputs": [],
   "source": [
    "# jupyter nbconvert --no-prompt --to script Week0202.ipynb;\n",
    "# jupyter nbconvert --to slides Week0103.ipynb ;"
   ]
  },
  {
   "cell_type": "code",
   "execution_count": 63,
   "id": "d5c74dda-0670-47bb-ad9c-4ac2375c840b",
   "metadata": {
    "slideshow": {
     "slide_type": "skip"
    },
    "tags": []
   },
   "outputs": [],
   "source": [
    "#lsmagic();"
   ]
  }
 ],
 "metadata": {
  "kernelspec": {
   "display_name": "Python 3 (ipykernel)",
   "language": "python",
   "name": "python3"
  },
  "language_info": {
   "codemirror_mode": {
    "name": "ipython",
    "version": 3
   },
   "file_extension": ".py",
   "mimetype": "text/x-python",
   "name": "python",
   "nbconvert_exporter": "python",
   "pygments_lexer": "ipython3",
   "version": "3.11.2"
  }
 },
 "nbformat": 4,
 "nbformat_minor": 5
}
