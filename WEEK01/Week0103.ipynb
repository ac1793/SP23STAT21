{
 "cells": [
  {
   "cell_type": "raw",
   "id": "a7681394-6ab0-413a-97fb-1045f2411420",
   "metadata": {
    "slideshow": {
     "slide_type": "-"
    }
   },
   "source": [
    "<script>\n",
    "    function findAncestor (el, name) {\n",
    "        while ((el = el.parentElement) && el.nodeName.toLowerCase() !== name);\n",
    "        return el;\n",
    "    }\n",
    "    function colorAll(el, textColor) {\n",
    "        el.style.color = textColor;\n",
    "        Array.from(el.children).forEach((e) => {colorAll(e, textColor);});\n",
    "    }\n",
    "    function setBackgroundImage(src, textColor) {\n",
    "        var section = findAncestor(document.currentScript, \"section\");\n",
    "        if (section) {\n",
    "            section.setAttribute(\"data-background-image\", src);\n",
    "\t\t\tif (textColor) colorAll(section, textColor);\n",
    "        }\n",
    "    }\n",
    "</script>"
   ]
  },
  {
   "cell_type": "raw",
   "id": "0e84615f-c7b0-4a7a-830f-ceabefdd9e15",
   "metadata": {
    "tags": []
   },
   "source": [
    "<style>\n",
    "h1 {\n",
    "  border: 1.5px solid #333;\n",
    "  padding: 8px 12px;\n",
    "  background-image: linear-gradient(#2774AE,#ebf8e1, #FFD100);\n",
    "  position: static;\n",
    "}\n",
    "</style>"
   ]
  },
  {
   "cell_type": "markdown",
   "id": "9d05384c-984a-44de-8e3c-ee5327a3bbe1",
   "metadata": {
    "slideshow": {
     "slide_type": "slide"
    }
   },
   "source": [
    "<h1 style='color:white'> Statistics 21 <br/> Python & Other Technologies for Data Science </h1>\n",
    "\n",
    "<h3 style='color:white'>Vivian Lew, PhD - Friday, Week 1</h3>"
   ]
  },
  {
   "cell_type": "raw",
   "id": "cae96fd2-a84b-4df2-81b1-56670a6a2c0b",
   "metadata": {
    "slideshow": {
     "slide_type": "-"
    }
   },
   "source": [
    "<script>\n",
    "    setBackgroundImage(\"Window1.jpg\");\n",
    "</script>"
   ]
  },
  {
   "cell_type": "markdown",
   "id": "0c95c885-e5a3-404a-898b-9ccf62dec08b",
   "metadata": {
    "slideshow": {
     "slide_type": "slide"
    },
    "tags": []
   },
   "source": [
    "# Let's start well\n",
    "\n",
    "- Please try to meet someone new today\n",
    "- Find three teammates, minimum team size is 4 max is 6\n",
    "- Introduce yourselves, even if it is just a hello and a name \n",
    "- Self assign to a team\n",
    "- Take selfie/grelfie/usie (but don't upload it yet)"
   ]
  },
  {
   "cell_type": "markdown",
   "id": "b9887e18-0784-47ed-8441-2f790c26f558",
   "metadata": {
    "slideshow": {
     "slide_type": "slide"
    }
   },
   "source": [
    "## Jupyter Lab/Notebook (responses to some Qs)\n",
    "\n",
    "- In Jupyter Lab, just create a new file or new launcher (to see your all of your choices)\n",
    "\n",
    "![Image](python3.png)\n"
   ]
  },
  {
   "cell_type": "markdown",
   "id": "a722c346-8a00-4b1f-96c9-c5a38c3e2339",
   "metadata": {
    "slideshow": {
     "slide_type": "slide"
    }
   },
   "source": [
    "## Jupyter Lab & Notebook (cont'd)\n",
    "\n",
    "- Choose Python file (notice you can open terminal or create Python -.py- files too)\n",
    "\n",
    "![Image](python4.png)\n"
   ]
  },
  {
   "cell_type": "markdown",
   "id": "92aaac2b-e493-4c30-8533-d9289e40e684",
   "metadata": {
    "jp-MarkdownHeadingCollapsed": true,
    "slideshow": {
     "slide_type": "slide"
    },
    "tags": []
   },
   "source": [
    "## Jupyter Lab & Notebook (cont'd)\n",
    "\n",
    "- Start typing and save it as you would any other file, the .py will be added\n",
    "\n",
    "![Image](python5.png)\n"
   ]
  },
  {
   "cell_type": "markdown",
   "id": "991222f9-4be6-4ec3-8e07-24e2d16f7b66",
   "metadata": {
    "slideshow": {
     "slide_type": "slide"
    },
    "tags": []
   },
   "source": [
    "## Jupyter Lab & Notebook (cont'd/recap)\n",
    "\n",
    "- Jupyter Lab is an browser-based IDE centered around Notebooks. \n",
    "- Jupyter Notebooks combine markdown and Python code to create a document, like an R Markdown file (R and markdown) \n",
    "- It is a popular choice for data science work.\n",
    "- Jupyter comes pre-installed with the Anaconda distribution. \n",
    "- You can launch Jupyter Lab from the shell prompt by typing in `jupyter lab` . \n",
    "- Alternatively, you can launch Jupyter Notebook alone with `jupyter notebook`"
   ]
  },
  {
   "cell_type": "markdown",
   "id": "89ad8506-5d72-46bb-9ca9-d487777655be",
   "metadata": {
    "slideshow": {
     "slide_type": "slide"
    }
   },
   "source": [
    "# Markdown basics\n",
    "\n",
    "https://commonmark.org/help/tutorial/\n",
    "\n",
    "\n",
    "Use # symbols to indicate headings. \n",
    "~~~\n",
    "# When rendered, this would be a top level heading.\n",
    "~~~\n",
    "Make bulleted lists by using hyphens\n",
    "~~~\n",
    "- item 1\n",
    "- item 2\n",
    "~~~"
   ]
  },
  {
   "cell_type": "markdown",
   "id": "df39b7c1-e597-427e-84eb-aceeeddd5693",
   "metadata": {
    "slideshow": {
     "slide_type": "slide"
    },
    "tags": []
   },
   "source": [
    "# heading level 1 starts with `#`\n",
    "## heading level 2 starts with `##`\n",
    "### heading level 3 starts with `###`\n",
    "#### heading level 4 starts with `####`\n",
    "##### heading level 5 starts with `#####`\n",
    "###### heading level 6 starts wit h `######` \n",
    "####### if you try to use 7  `#` symbols, it becomes normal text"
   ]
  },
  {
   "cell_type": "markdown",
   "id": "9513ee4e-b88a-446c-b1b8-7332f6e353fa",
   "metadata": {
    "slideshow": {
     "slide_type": "slide"
    }
   },
   "source": [
    "## Markdown basics (cont'd)\n",
    "\n",
    "- If you want to include code, you can indicate to markdown not to render by using the back accent  \\` at the beginning and end: `print('Hello, World')`\n",
    "\n",
    "- or use three tildes ~ (or 3 backticks) to indicate a code chunk.\n",
    "\n",
    "~~~\n",
    "for i in range(10):\n",
    "    power = 2 ** i\n",
    "    print(power)\n",
    "~~~\n",
    "\n",
    "- Use asterisks * for emphasis.  Put an asterisk around a word or phrase to *italicize* it.  Use two asterisks to make it **bold** ."
   ]
  },
  {
   "cell_type": "markdown",
   "id": "03f4c9dc-85bf-4efb-a32d-a3c7115fd4b4",
   "metadata": {
    "slideshow": {
     "slide_type": "slide"
    }
   },
   "source": [
    "## Markdown basics (cont'd)\n",
    "\n",
    "- Include math by using dollar signs. One dollar sign for in-line math symbols. Two dollar signs for stand-alone math equations.\n",
    "\n",
    "- For example, you can talk about $\\pi$ typed `$\\pi$` using in-line math.\n",
    "\n",
    "- You write a simple equation like\n",
    "\n",
    "~~~\n",
    "$$E = mc^2$$\n",
    "~~~\n",
    "\n",
    "- Result:\n",
    "\n",
    "$$E = mc^2$$\n"
   ]
  },
  {
   "cell_type": "markdown",
   "id": "8457be09-4646-4c58-b8ed-33da55bea770",
   "metadata": {
    "slideshow": {
     "slide_type": "slide"
    },
    "tags": []
   },
   "source": [
    "## Markdown basics (cont'd)\n",
    "\n",
    "Or write something more complex (checkout Detexify) like:\n",
    "~~~\n",
    "$$\\phi(x) = \\frac{1}{\\sigma \\sqrt{2 \\pi}} \\exp{ \n",
    "    \\left( \\frac{-1}{2} \\left ( \\frac{x - \\mu}{\\sigma} \\right )^2 \\right)} $$\n",
    "~~~\n",
    "\n",
    "Result:\n",
    "\n",
    "$$\\phi(x) = \\frac{1}{\\sigma \\sqrt{2 \\pi}} \\exp{ \n",
    "    \\left( \\frac{-1}{2} \\left ( \\frac{x - \\mu}{\\sigma} \\right )^2 \\right)} $$"
   ]
  },
  {
   "cell_type": "markdown",
   "id": "625def46-0fa6-46fc-8c6a-b2708ee2cea5",
   "metadata": {
    "slideshow": {
     "slide_type": "subslide"
    },
    "tags": []
   },
   "source": [
    "![](math_section.png)\n",
    "\n",
    "$$\\S1.2$$"
   ]
  },
  {
   "cell_type": "markdown",
   "id": "6181e187-e3a2-4f65-b57a-d3091814ba87",
   "metadata": {
    "slideshow": {
     "slide_type": "slide"
    }
   },
   "source": [
    "## Running or Rendering Cells\n",
    "\n",
    "- You can run a cell with **Shift+Enter**. This will run the selected cell and then advance to the next cell. If you are at the last cell, it will insert another cell below it.\n",
    "\n",
    "- If you want to run the current cell but do not want to advance to the next cell, use **Ctrl+Enter**. This will run the currently selected cell only.\n",
    "\n",
    "- **Alt-Enter** or **Option+Enter** renders/runs the current cell and inserts a new cell below it."
   ]
  },
  {
   "cell_type": "markdown",
   "id": "13b943f0-56e3-4d08-94c8-f5b5e2eeae81",
   "metadata": {
    "slideshow": {
     "slide_type": "slide"
    },
    "tags": []
   },
   "source": [
    "# IPython - interactive\n",
    "\n",
    "Jupyter runs on IPython. As you write code in a code cell, you can use some of the features of IPython.  Some basic ones:"
   ]
  },
  {
   "cell_type": "code",
   "execution_count": 1,
   "id": "8c5da8d8-270c-4e97-95c0-cdab583b8d9f",
   "metadata": {
    "cell_style": "split",
    "slideshow": {
     "slide_type": "fragment"
    }
   },
   "outputs": [
    {
     "data": {
      "text/plain": [
       "5"
      ]
     },
     "execution_count": 1,
     "metadata": {},
     "output_type": "execute_result"
    }
   ],
   "source": [
    "2 + 3"
   ]
  },
  {
   "cell_type": "code",
   "execution_count": 2,
   "id": "1d710c18-1963-4e07-b40d-23cc8190bbb3",
   "metadata": {
    "cell_style": "center",
    "slideshow": {
     "slide_type": "fragment"
    }
   },
   "outputs": [
    {
     "data": {
      "text/plain": [
       "25"
      ]
     },
     "execution_count": 2,
     "metadata": {},
     "output_type": "execute_result"
    }
   ],
   "source": [
    "# BUT if you have multiple operations...\n",
    "4 + 5\n",
    "5 * 5"
   ]
  },
  {
   "cell_type": "markdown",
   "id": "391c3338-5bc0-4d3b-b91e-9f3cbe065b44",
   "metadata": {
    "slideshow": {
     "slide_type": "slide"
    }
   },
   "source": [
    "## IPython (cont'd)\n",
    "\n",
    "if you want the other results to appear, you need to use print() commands to display:\n"
   ]
  },
  {
   "cell_type": "code",
   "execution_count": 3,
   "id": "e2e7ebb1-51cb-4643-911c-be5e2c3575c7",
   "metadata": {
    "slideshow": {
     "slide_type": "fragment"
    }
   },
   "outputs": [
    {
     "name": "stdout",
     "output_type": "stream",
     "text": [
      "9\n",
      "25\n"
     ]
    }
   ],
   "source": [
    "print(4 + 5)\n",
    "print(5 * 5)"
   ]
  },
  {
   "cell_type": "markdown",
   "id": "cd5f0d61-b754-4f4c-8dfd-13d6fac5cb8f",
   "metadata": {
    "slideshow": {
     "slide_type": "fragment"
    },
    "tags": []
   },
   "source": [
    "notice that when you do this there is no `Out[ ]` for the cell.  Why this matters --"
   ]
  },
  {
   "cell_type": "markdown",
   "id": "05129632-8687-4c8d-921a-403af39288ef",
   "metadata": {
    "slideshow": {
     "slide_type": "slide"
    }
   },
   "source": [
    "# Features of IPython: The In and Out\n",
    "\n",
    "- IPython cells are preceeded by an `In[n]` or an `Out[n]`.\n",
    "\n",
    "- These show the sequence you write code, but also allows you to access past entries and values"
   ]
  },
  {
   "cell_type": "code",
   "execution_count": 4,
   "id": "7d9ebd0f-8881-4bf1-a891-7bff091cea31",
   "metadata": {
    "slideshow": {
     "slide_type": "fragment"
    }
   },
   "outputs": [
    {
     "data": {
      "text/plain": [
       "'2 + 3'"
      ]
     },
     "execution_count": 4,
     "metadata": {},
     "output_type": "execute_result"
    }
   ],
   "source": [
    "In[1]"
   ]
  },
  {
   "cell_type": "markdown",
   "id": "3f49d473-6a9e-4033-9237-e2a002adc50f",
   "metadata": {
    "slideshow": {
     "slide_type": "slide"
    }
   },
   "source": [
    "## Features of IPython: The In and Out (cont'd):"
   ]
  },
  {
   "cell_type": "code",
   "execution_count": 5,
   "id": "b49a064b-21e8-47db-acd0-88fccebb650c",
   "metadata": {
    "slideshow": {
     "slide_type": "fragment"
    }
   },
   "outputs": [
    {
     "data": {
      "text/plain": [
       "25"
      ]
     },
     "execution_count": 5,
     "metadata": {},
     "output_type": "execute_result"
    }
   ],
   "source": [
    "Out[2]"
   ]
  },
  {
   "cell_type": "code",
   "execution_count": 6,
   "id": "578267e4-7993-4bb1-b844-1ff2b334d483",
   "metadata": {
    "slideshow": {
     "slide_type": "fragment"
    },
    "tags": []
   },
   "outputs": [
    {
     "ename": "KeyError",
     "evalue": "3",
     "output_type": "error",
     "traceback": [
      "\u001b[0;31m---------------------------------------------------------------------------\u001b[0m",
      "\u001b[0;31mKeyError\u001b[0m                                  Traceback (most recent call last)",
      "Cell \u001b[0;32mIn[6], line 2\u001b[0m\n\u001b[1;32m      1\u001b[0m \u001b[38;5;66;03m## but Out[3] doesn't exist\u001b[39;00m\n\u001b[0;32m----> 2\u001b[0m \u001b[43mOut\u001b[49m\u001b[43m[\u001b[49m\u001b[38;5;241;43m3\u001b[39;49m\u001b[43m]\u001b[49m\n",
      "\u001b[0;31mKeyError\u001b[0m: 3"
     ]
    }
   ],
   "source": [
    "## but Out[3] doesn't exist\n",
    "Out[3]"
   ]
  },
  {
   "cell_type": "markdown",
   "id": "d024ccaa-5673-41e3-b09f-6b71053aa12b",
   "metadata": {
    "slideshow": {
     "slide_type": "slide"
    }
   },
   "source": [
    "## Features of IPython: The In and Out (cont'd):\n",
    "\n",
    "In is a list (more on lists in a week or so):\n"
   ]
  },
  {
   "cell_type": "code",
   "execution_count": 7,
   "id": "2257521c-9df8-47ca-b8d2-c0d97474cad2",
   "metadata": {
    "slideshow": {
     "slide_type": "fragment"
    }
   },
   "outputs": [
    {
     "name": "stdout",
     "output_type": "stream",
     "text": [
      "<class 'list'>\n"
     ]
    },
    {
     "data": {
      "text/plain": [
       "['',\n",
       " '2 + 3',\n",
       " '# BUT if you have multiple operations...\\n4 + 5\\n5 * 5',\n",
       " 'print(4 + 5)\\nprint(5 * 5)',\n",
       " 'In[1]',\n",
       " 'Out[2]',\n",
       " \"## but Out[3] doesn't exist\\nOut[3]\",\n",
       " 'print(type(In))\\nIn']"
      ]
     },
     "execution_count": 7,
     "metadata": {},
     "output_type": "execute_result"
    }
   ],
   "source": [
    "print(type(In))\n",
    "In"
   ]
  },
  {
   "cell_type": "markdown",
   "id": "dcdc26b9-ed4b-4e43-8c4a-35a4dac341d0",
   "metadata": {
    "slideshow": {
     "slide_type": "slide"
    }
   },
   "source": [
    "## Features of IPython: The In and Out (cont'd):\n",
    "\n",
    "Out is a dictionary (more on these later in the quarter)"
   ]
  },
  {
   "cell_type": "code",
   "execution_count": 8,
   "id": "cf93d0a1-fa87-43bf-a5cd-a9b2d5e5bc20",
   "metadata": {
    "tags": []
   },
   "outputs": [
    {
     "name": "stdout",
     "output_type": "stream",
     "text": [
      "<class 'dict'>\n"
     ]
    },
    {
     "data": {
      "text/plain": [
       "{1: 5,\n",
       " 2: 25,\n",
       " 4: '2 + 3',\n",
       " 5: 25,\n",
       " 7: ['',\n",
       "  '2 + 3',\n",
       "  '# BUT if you have multiple operations...\\n4 + 5\\n5 * 5',\n",
       "  'print(4 + 5)\\nprint(5 * 5)',\n",
       "  'In[1]',\n",
       "  'Out[2]',\n",
       "  \"## but Out[3] doesn't exist\\nOut[3]\",\n",
       "  'print(type(In))\\nIn',\n",
       "  'print(type(Out))\\nOut']}"
      ]
     },
     "execution_count": 8,
     "metadata": {},
     "output_type": "execute_result"
    }
   ],
   "source": [
    "print(type(Out))\n",
    "Out"
   ]
  },
  {
   "cell_type": "markdown",
   "id": "5b0b6bfb-fe4b-4e16-be21-962a9d3e6e06",
   "metadata": {
    "slideshow": {
     "slide_type": "slide"
    },
    "tags": []
   },
   "source": [
    "## The last output value\n",
    "\n",
    "You can access the last value output using a single underscore character _"
   ]
  },
  {
   "cell_type": "code",
   "execution_count": 9,
   "id": "3f98092c-8c48-457c-a7ca-e156fccacff0",
   "metadata": {
    "slideshow": {
     "slide_type": "fragment"
    }
   },
   "outputs": [
    {
     "data": {
      "text/plain": [
       "27"
      ]
     },
     "execution_count": 9,
     "metadata": {},
     "output_type": "execute_result"
    }
   ],
   "source": [
    "3 * 9"
   ]
  },
  {
   "cell_type": "code",
   "execution_count": 10,
   "id": "a278b768-5298-47c9-9686-1b371605570d",
   "metadata": {
    "slideshow": {
     "slide_type": "fragment"
    }
   },
   "outputs": [
    {
     "data": {
      "text/plain": [
       "25"
      ]
     },
     "execution_count": 10,
     "metadata": {},
     "output_type": "execute_result"
    }
   ],
   "source": [
    "_ - 2"
   ]
  },
  {
   "cell_type": "code",
   "execution_count": 11,
   "id": "2dd0a005-6b8b-4575-ba03-548af5b1db39",
   "metadata": {
    "slideshow": {
     "slide_type": "fragment"
    }
   },
   "outputs": [
    {
     "data": {
      "text/plain": [
       "25"
      ]
     },
     "execution_count": 11,
     "metadata": {},
     "output_type": "execute_result"
    }
   ],
   "source": [
    "_"
   ]
  },
  {
   "cell_type": "markdown",
   "id": "9f142991-7e3e-4a0b-8a21-62bd63050ae5",
   "metadata": {
    "slideshow": {
     "slide_type": "slide"
    },
    "tags": []
   },
   "source": [
    "# Stat 21 teams \n",
    "\n",
    "- Please create a team .ipynb file (if you also want to create a .py file today, go ahead) make sure your names are on it.\n",
    "- Please use markdown to modify it... be as simple or as complex as your team wants to be. Try something.\n",
    "- Please add your team photograph to it\n",
    "- Export the .ipynb file to PDF, your photograph should be visible in it.\n",
    "- Upload your team photograph and your opinion statement to Bruin Learn before 11:59pm"
   ]
  },
  {
   "cell_type": "code",
   "execution_count": 12,
   "id": "40a72326-5546-4552-998b-f894112ce681",
   "metadata": {
    "slideshow": {
     "slide_type": "fragment"
    }
   },
   "outputs": [
    {
     "name": "stdout",
     "output_type": "stream",
     "text": [
      "<class 'dict'>\n"
     ]
    },
    {
     "data": {
      "text/plain": [
       "{1: 5,\n",
       " 2: 25,\n",
       " 4: '2 + 3',\n",
       " 5: 25,\n",
       " 7: ['',\n",
       "  '2 + 3',\n",
       "  '# BUT if you have multiple operations...\\n4 + 5\\n5 * 5',\n",
       "  'print(4 + 5)\\nprint(5 * 5)',\n",
       "  'In[1]',\n",
       "  'Out[2]',\n",
       "  \"## but Out[3] doesn't exist\\nOut[3]\",\n",
       "  'print(type(In))\\nIn',\n",
       "  'print(type(Out))\\nOut',\n",
       "  '3 * 9',\n",
       "  '_ - 2',\n",
       "  '_',\n",
       "  'print(type(Out))\\nOut'],\n",
       " 9: 27,\n",
       " 10: 25,\n",
       " 11: 25}"
      ]
     },
     "execution_count": 12,
     "metadata": {},
     "output_type": "execute_result"
    }
   ],
   "source": [
    "print(type(Out))\n",
    "Out"
   ]
  },
  {
   "cell_type": "markdown",
   "id": "5b4f5576-b2a8-4008-ac22-628d1a2fb6a9",
   "metadata": {
    "slideshow": {
     "slide_type": "slide"
    },
    "tags": []
   },
   "source": [
    "# Executing Scripts from within Jupyter\n",
    "\n",
    "- You can use the `%run` to execute Python scripts stored in external files.\n",
    "- The `%` sets it apart these are \"magic\" commands  \n",
    "\n",
    "For example, I have a simple factorial script"
   ]
  },
  {
   "cell_type": "code",
   "execution_count": 13,
   "id": "3d761562-77d1-4fc3-b080-c68ab66d6ee3",
   "metadata": {
    "slideshow": {
     "slide_type": "fragment"
    }
   },
   "outputs": [
    {
     "name": "stdin",
     "output_type": "stream",
     "text": [
      "Hello, please input a whole number:  7\n"
     ]
    },
    {
     "name": "stdout",
     "output_type": "stream",
     "text": [
      "5040\n"
     ]
    }
   ],
   "source": [
    "%run factorial2.py"
   ]
  },
  {
   "cell_type": "markdown",
   "id": "0c9d1c7f-3d9f-4ca6-be37-86ea0cd19a8b",
   "metadata": {
    "slideshow": {
     "slide_type": "fragment"
    },
    "tags": []
   },
   "source": [
    "To see all of the available \"magic\" commands run `%lsmagic` in a code cell."
   ]
  },
  {
   "cell_type": "markdown",
   "id": "9e020509-c50a-43e8-9b28-c573276b0d6c",
   "metadata": {
    "slideshow": {
     "slide_type": "slide"
    },
    "tags": []
   },
   "source": [
    "## Accessing variables defined in the notebook:\n",
    "\n",
    "If you want the script to have access to variables that you have defined in the notebook,  so here we define a url "
   ]
  },
  {
   "cell_type": "code",
   "execution_count": 14,
   "id": "8f920159-9c7c-4317-9431-92762be5520f",
   "metadata": {
    "slideshow": {
     "slide_type": "fragment"
    }
   },
   "outputs": [
    {
     "name": "stdout",
     "output_type": "stream",
     "text": [
      "https://www.youtube.com/watch?v=LStXdttFj_o\n"
     ]
    }
   ],
   "source": [
    "url = 'https://www.youtube.com/watch?v=LStXdttFj_o'\n",
    "print(url)"
   ]
  },
  {
   "cell_type": "markdown",
   "id": "d0a91996-1141-4b57-a786-53315f4d2718",
   "metadata": {
    "slideshow": {
     "slide_type": "slide"
    }
   },
   "source": [
    "## Accessing variables defined in the notebook (cont'd):\n",
    "\n",
    "Then use `%run -i` when accessing a .py script on your drive. When I don't do the right thing: (note, My02.py needs the Python library pytube to run)"
   ]
  },
  {
   "cell_type": "code",
   "execution_count": 15,
   "id": "8142a5f8-e25d-46ec-b1df-69506e54c71c",
   "metadata": {
    "slideshow": {
     "slide_type": "fragment"
    }
   },
   "outputs": [
    {
     "ename": "NameError",
     "evalue": "name 'url' is not defined",
     "output_type": "error",
     "traceback": [
      "\u001b[0;31m---------------------------------------------------------------------------\u001b[0m",
      "\u001b[0;31mNameError\u001b[0m                                 Traceback (most recent call last)",
      "File \u001b[0;32m~/Desktop/SP23STAT21/_Week01/Lecture3/My02.py:8\u001b[0m\n\u001b[1;32m      1\u001b[0m \u001b[38;5;66;03m# Download a YouTube video\u001b[39;00m\n\u001b[1;32m      2\u001b[0m \u001b[38;5;66;03m# need to install pytube for this to run\u001b[39;00m\n\u001b[1;32m      3\u001b[0m \u001b[38;5;66;03m# suggest trying it first in a virtual environment\u001b[39;00m\n\u001b[1;32m      4\u001b[0m \u001b[38;5;66;03m# will ask for input of a url\u001b[39;00m\n\u001b[1;32m      6\u001b[0m \u001b[38;5;28;01mimport\u001b[39;00m \u001b[38;5;21;01mpytube\u001b[39;00m\n\u001b[0;32m----> 8\u001b[0m pytube\u001b[38;5;241m.\u001b[39mYouTube(\u001b[43murl\u001b[49m)\u001b[38;5;241m.\u001b[39mstreams\u001b[38;5;241m.\u001b[39mget_highest_resolution()\u001b[38;5;241m.\u001b[39mdownload()\n",
      "\u001b[0;31mNameError\u001b[0m: name 'url' is not defined"
     ]
    }
   ],
   "source": [
    "%run My02.py"
   ]
  },
  {
   "cell_type": "markdown",
   "id": "0c5510ac-e879-42b0-b896-d88e4fdb9bdb",
   "metadata": {
    "slideshow": {
     "slide_type": "slide"
    }
   },
   "source": [
    "## Accessing variables defined in the notebook (cont'd):\n",
    "\n",
    "- The correct way (there is no NameError thrown (we'll learn about the different ones) and our YouTube video is downloaded.)\n",
    "\n",
    "- Without the -i flag, the script runs in a separate process and any variables or functions defined in the script are not available to the notebook."
   ]
  },
  {
   "cell_type": "code",
   "execution_count": 16,
   "id": "bb93dab7-a22b-4c38-b85a-0cadc7aeecf8",
   "metadata": {
    "slideshow": {
     "slide_type": "fragment"
    }
   },
   "outputs": [],
   "source": [
    "%run -i My02.py"
   ]
  },
  {
   "cell_type": "markdown",
   "id": "21be52b4-45d8-474a-b24a-793bf7d0a7a2",
   "metadata": {
    "slideshow": {
     "slide_type": "slide"
    },
    "tags": []
   },
   "source": [
    "## Proof"
   ]
  },
  {
   "cell_type": "code",
   "execution_count": 17,
   "id": "c4f964d6-38e1-4f4b-8362-5659d5afd00e",
   "metadata": {
    "slideshow": {
     "slide_type": "fragment"
    },
    "tags": []
   },
   "outputs": [
    {
     "data": {
      "text/html": [
       "<video src=\"GoPro Swimming with Dolphins - Santa Cruz CA.mp4\" controls  >\n",
       "      Your browser does not support the <code>video</code> element.\n",
       "    </video>"
      ],
      "text/plain": [
       "<IPython.core.display.Video object>"
      ]
     },
     "execution_count": 17,
     "metadata": {},
     "output_type": "execute_result"
    }
   ],
   "source": [
    "from IPython.display import Video\n",
    "Video(\"GoPro Swimming with Dolphins - Santa Cruz CA.mp4\")"
   ]
  },
  {
   "cell_type": "markdown",
   "id": "16b9b390-e8c2-4214-97d2-8e92bd08f67a",
   "metadata": {
    "slideshow": {
     "slide_type": "slide"
    }
   },
   "source": [
    "## Using bash/shell/cmd commands within a jupyter notebook\n",
    "\n",
    "You can use bash commands like `cat` which displays the contents of a file by preceeding the command with an exclamation point.\n",
    "The commands you can use will be different for windows or unix based (mac) machines. For example, there is no `cat` command in windows, and you must use `type`"
   ]
  },
  {
   "cell_type": "code",
   "execution_count": 18,
   "id": "c62ddac9-5a8a-4cb3-b9b1-75e034f8c521",
   "metadata": {
    "slideshow": {
     "slide_type": "fragment"
    }
   },
   "outputs": [
    {
     "name": "stdout",
     "output_type": "stream",
     "text": [
      "# Download a YouTube video\n",
      "# need to install pytube for this to run\n",
      "# suggest trying it first in a virtual environment\n",
      "# will ask for input of a url\n",
      "\n",
      "import pytube\n",
      "\n",
      "pytube.YouTube(url).streams.get_highest_resolution().download()\n",
      "\n",
      "\n"
     ]
    }
   ],
   "source": [
    "!cat My02.py # Mac OS"
   ]
  },
  {
   "cell_type": "markdown",
   "id": "259a582b-b9a3-4f3a-acb9-349545e3881b",
   "metadata": {
    "slideshow": {
     "slide_type": "slide"
    }
   },
   "source": [
    "## Using bash/shell/cmd commands within a jupyter notebook (cont'd):\n",
    "\n",
    "- If you are using Windows, use the `type` command instead:"
   ]
  },
  {
   "cell_type": "markdown",
   "id": "f22ace54-04bf-401f-8503-a58fe96a9f73",
   "metadata": {
    "slideshow": {
     "slide_type": "fragment"
    }
   },
   "source": [
    "!type My02.py # Windows"
   ]
  },
  {
   "cell_type": "markdown",
   "id": "4befa724-fb40-4507-a080-19951630fc6a",
   "metadata": {
    "slideshow": {
     "slide_type": "slide"
    }
   },
   "source": [
    "# Important Notes about Python Syntax\n",
    "##### based on A Whirlwind Tour of Python by Jake VanderPlas (https://jakevdp.github.io/WhirlwindTourOfPython/)\n",
    "### Comments Are Marked by `#`"
   ]
  },
  {
   "cell_type": "code",
   "execution_count": 19,
   "id": "00ade361-8060-4734-b5af-aa32b55995e7",
   "metadata": {
    "slideshow": {
     "slide_type": "fragment"
    }
   },
   "outputs": [],
   "source": [
    "# this is a comment and is not run"
   ]
  },
  {
   "cell_type": "markdown",
   "id": "9241e862-d9fd-4498-8635-f27530fa0f40",
   "metadata": {
    "slideshow": {
     "slide_type": "slide"
    }
   },
   "source": [
    "## Lines\n",
    "The end of a line terminates a statement. No need for using a semi-colon to end a statement ; although you can optionally use the semi-colon to write two statements in one line.\n"
   ]
  },
  {
   "cell_type": "code",
   "execution_count": 20,
   "id": "06b109b2-7bd1-41e5-9f67-e871016f36b9",
   "metadata": {
    "slideshow": {
     "slide_type": "fragment"
    }
   },
   "outputs": [
    {
     "name": "stdout",
     "output_type": "stream",
     "text": [
      "5\n"
     ]
    }
   ],
   "source": [
    "# example\n",
    "x = 5\n",
    "print(x)"
   ]
  },
  {
   "cell_type": "markdown",
   "id": "bf6e96c9-1ee2-491e-95fd-0f3481456bd5",
   "metadata": {
    "slideshow": {
     "slide_type": "slide"
    }
   },
   "source": [
    "## Lines\n",
    "If you want to have a single statement cover multiple lines, you can use a backslash \\ or encase the statement in parenthesis. If you are defining a list or other data structure that already uses some sort of bracket, this is handled automatically."
   ]
  },
  {
   "cell_type": "code",
   "execution_count": 21,
   "id": "2fd9c003-79ec-46d5-bb2b-3904ff21ea44",
   "metadata": {
    "slideshow": {
     "slide_type": "fragment"
    }
   },
   "outputs": [
    {
     "name": "stdout",
     "output_type": "stream",
     "text": [
      "13\n"
     ]
    }
   ],
   "source": [
    "# semicolon to include multiple statements in one line\n",
    "y = 6; z = 7\n",
    "print(y + z)"
   ]
  },
  {
   "cell_type": "markdown",
   "id": "80ef6bb2-f1bc-46fb-9fbf-d6dbad63251b",
   "metadata": {
    "slideshow": {
     "slide_type": "fragment"
    }
   },
   "source": [
    "Having multiple statements in one line is generally considered bad style and should be avoided."
   ]
  },
  {
   "cell_type": "markdown",
   "id": "89b409a0-0b7e-4f3a-85dc-95e5d7e3823a",
   "metadata": {
    "slideshow": {
     "slide_type": "slide"
    }
   },
   "source": [
    "## Lines\n",
    "We use the backslash or parentheses or in certain cases brackets to continue a statement over multiple lines\n"
   ]
  },
  {
   "cell_type": "code",
   "execution_count": 22,
   "id": "eb55ce2c-1af9-4d95-8029-9a510d35bac5",
   "metadata": {
    "slideshow": {
     "slide_type": "fragment"
    }
   },
   "outputs": [
    {
     "name": "stdout",
     "output_type": "stream",
     "text": [
      "15\n"
     ]
    }
   ],
   "source": [
    "a = 1 + 2 + 3 \\\n",
    "    + 4 + 5\n",
    "print(a)"
   ]
  },
  {
   "cell_type": "code",
   "execution_count": 23,
   "id": "c6cc2361-edff-4a74-81d6-b1b0ab4a26d5",
   "metadata": {
    "slideshow": {
     "slide_type": "fragment"
    }
   },
   "outputs": [
    {
     "name": "stdout",
     "output_type": "stream",
     "text": [
      "15\n"
     ]
    }
   ],
   "source": [
    "# or use parenthesis\n",
    "b = (1 + 2 + 3\n",
    "    + 4 + 5)\n",
    "print(b)"
   ]
  },
  {
   "cell_type": "markdown",
   "id": "645b10aa-5a98-4c8e-a74f-871118dde408",
   "metadata": {
    "slideshow": {
     "slide_type": "slide"
    },
    "tags": []
   },
   "source": [
    "### Lines (cont'd)\n",
    "\n",
    "But some data structures (list here) use a comma to continue over multiple lines:"
   ]
  },
  {
   "cell_type": "code",
   "execution_count": 24,
   "id": "04bb2b86-9a57-4d20-a883-09d1206c2fad",
   "metadata": {
    "slideshow": {
     "slide_type": "fragment"
    }
   },
   "outputs": [
    {
     "name": "stdout",
     "output_type": "stream",
     "text": [
      "['a', 2, 3, 'd', 'e', 6, 'b']\n"
     ]
    }
   ],
   "source": [
    "l = ['a', 2, 3, 'd',\n",
    "    'e', 6, \n",
    "    'b']\n",
    "print(l)"
   ]
  },
  {
   "cell_type": "markdown",
   "id": "dc01a4c6-1d81-4bc9-9407-f17233ebbee0",
   "metadata": {
    "slideshow": {
     "slide_type": "slide"
    }
   },
   "source": [
    "### (Important) Indentation defines code blocks\n",
    "\n",
    "- Python does not use curly braces `{}` to define code blocks.\n",
    "- IPython is smart enough to automatically indent lines after you use a colon `:` which indicates that the following lines are part of a code block.\n",
    "\n",
    "- We haven't covered conditionals yet, but I'll introduce them here briefly to show how code blocks work."
   ]
  },
  {
   "cell_type": "code",
   "execution_count": 25,
   "id": "b417d764-6245-4c65-bb1b-49a8c7e623a8",
   "metadata": {
    "slideshow": {
     "slide_type": "fragment"
    }
   },
   "outputs": [
    {
     "name": "stdout",
     "output_type": "stream",
     "text": [
      "x is greater than 5\n",
      "8\n",
      "hello\n"
     ]
    }
   ],
   "source": [
    "# we will learn if statements later, but here's an example\n",
    "x = 8\n",
    "if(x > 5):\n",
    "    print('x is greater than 5')   # the two indented lines only run \n",
    "    print(x)                       # when the if statement is true\n",
    "print('hello')    # this line is not indented and will run regardless of if statement"
   ]
  },
  {
   "cell_type": "code",
   "execution_count": 26,
   "id": "3317273b-eb82-4000-9327-7557e4563258",
   "metadata": {
    "slideshow": {
     "slide_type": "slide"
    }
   },
   "outputs": [
    {
     "name": "stdout",
     "output_type": "stream",
     "text": [
      "hello\n"
     ]
    }
   ],
   "source": [
    "x = 4\n",
    "if(x > 5):\n",
    "    print('x is greater than 5')   # the two indented lines only run \n",
    "    print(x)                       # when the if statement is true\n",
    "print('hello')    # this line is not indented and will run regardless of if statement"
   ]
  },
  {
   "cell_type": "code",
   "execution_count": 27,
   "id": "ac92b5d0-574b-4c30-a349-0d3686d839de",
   "metadata": {
    "scrolled": true,
    "slideshow": {
     "slide_type": "slide"
    }
   },
   "outputs": [
    {
     "name": "stdout",
     "output_type": "stream",
     "text": [
      "4\n",
      "hello\n"
     ]
    }
   ],
   "source": [
    "x = 4\n",
    "if(x > 5):\n",
    "    print('x is greater than 5')\n",
    "print(x)\n",
    "print('hello')"
   ]
  },
  {
   "cell_type": "markdown",
   "id": "e54d48b5-7514-4726-8e71-4c15d666b316",
   "metadata": {
    "slideshow": {
     "slide_type": "slide"
    },
    "tags": []
   },
   "source": [
    "## Getting Help\n",
    "\n",
    "- Official Python Documentation https://docs.python.org/3/\n",
    "\n",
    "- PEP  https://peps.python.org/  (e.g., PEP 8, PEP 20)\n",
    "\n",
    "- Connect with others -- in here and elsewhere"
   ]
  },
  {
   "cell_type": "markdown",
   "id": "31819f49-9e63-42c0-adbd-acfa87590637",
   "metadata": {
    "slideshow": {
     "slide_type": "slide"
    },
    "tags": []
   },
   "source": [
    "## and the help function"
   ]
  },
  {
   "cell_type": "code",
   "execution_count": 28,
   "id": "4972f76b-69fb-4772-8c28-da640983398e",
   "metadata": {
    "slideshow": {
     "slide_type": "fragment"
    },
    "tags": []
   },
   "outputs": [
    {
     "name": "stdout",
     "output_type": "stream",
     "text": [
      "Help on built-in function print in module builtins:\n",
      "\n",
      "print(*args, sep=' ', end='\\n', file=None, flush=False)\n",
      "    Prints the values to a stream, or to sys.stdout by default.\n",
      "    \n",
      "    sep\n",
      "      string inserted between values, default a space.\n",
      "    end\n",
      "      string appended after the last value, default a newline.\n",
      "    file\n",
      "      a file-like object (stream); defaults to the current sys.stdout.\n",
      "    flush\n",
      "      whether to forcibly flush the stream.\n",
      "\n"
     ]
    }
   ],
   "source": [
    "help(print)"
   ]
  },
  {
   "cell_type": "markdown",
   "id": "f5aaa96b-18e7-4e07-a3b2-f454bd123799",
   "metadata": {
    "slideshow": {
     "slide_type": "slide"
    },
    "tags": []
   },
   "source": [
    "## Just some technical fundamentals if we have time\n",
    "\n",
    "- Python is an interpreted language.  When we write Python code and submit it, the Python interpreter reads the code and translates (compiles) into machine code. executing each statement as it is translated.  \n",
    "\n",
    "- Some languages compile an entire script into an executable that is run by the computing system\n",
    "\n",
    "- This is an example of machine code:\n",
    "\n",
    "![](Apple_II_Monitor.png)"
   ]
  },
  {
   "cell_type": "markdown",
   "id": "5fac845e-9587-43cf-bc91-5d2aeac57a98",
   "metadata": {
    "slideshow": {
     "slide_type": "slide"
    },
    "tags": []
   },
   "source": [
    "## Lexis and Semantics\n",
    "\n",
    "- Lexis - the words and symbols used to write programs\n",
    "\n",
    "A lexically correct example in Python (no syntax errors):\n",
    "\n",
    "`x = \"1\" * 2`\n",
    "\n",
    "- Syntax - the way you combine words and symbols has rules and structure\n",
    "\n",
    "but this example breaks \n",
    "\n",
    "- semantic rules, multiplying a string and a number together may not make sense and may not produce the desired results.\n",
    "\n",
    "Lexical/syntax errors are easy to catch (Python will do this well).  Semantic errors are a challenge - always consider \"Is this what we want/need?\"\n"
   ]
  },
  {
   "cell_type": "markdown",
   "id": "2dd2ed0e-49ce-4e3e-949c-824a6d0d4719",
   "metadata": {
    "slideshow": {
     "slide_type": "slide"
    },
    "tags": []
   },
   "source": [
    "<h1> Statistics 21 <br/> Have an awesome weekend! </h1>"
   ]
  },
  {
   "cell_type": "raw",
   "id": "128a2e35-8d8e-464c-9cc0-0de4bf91a672",
   "metadata": {
    "slideshow": {
     "slide_type": "-"
    }
   },
   "source": [
    "<script>\n",
    "    setBackgroundImage(\"Window1.jpg\", \"black\");\n",
    "</script>"
   ]
  },
  {
   "cell_type": "code",
   "execution_count": 29,
   "id": "c4cce1c3-780b-403a-ab7b-224f4710a467",
   "metadata": {
    "slideshow": {
     "slide_type": "skip"
    },
    "tags": []
   },
   "outputs": [],
   "source": [
    "# jupyter nbconvert --no-prompt --to script Week0103.ipynb;\n",
    "# jupyter nbconvert --to slides --no-input Week0103.ipynb ;\n",
    "# jupyter nbconvert --to slides Week0103.ipynb ;"
   ]
  },
  {
   "cell_type": "code",
   "execution_count": 30,
   "id": "07a15faf-7703-45a3-8d6b-f04c02f79b5a",
   "metadata": {
    "slideshow": {
     "slide_type": "skip"
    },
    "tags": []
   },
   "outputs": [],
   "source": [
    "#lsmagic();"
   ]
  }
 ],
 "metadata": {
  "kernelspec": {
   "display_name": "Python 3 (ipykernel)",
   "language": "python",
   "name": "python3"
  },
  "language_info": {
   "codemirror_mode": {
    "name": "ipython",
    "version": 3
   },
   "file_extension": ".py",
   "mimetype": "text/x-python",
   "name": "python",
   "nbconvert_exporter": "python",
   "pygments_lexer": "ipython3",
   "version": "3.11.2"
  }
 },
 "nbformat": 4,
 "nbformat_minor": 5
}
