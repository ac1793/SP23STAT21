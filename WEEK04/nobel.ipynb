{
 "cells": [
  {
   "cell_type": "code",
   "execution_count": null,
   "id": "56e0c389-a394-482b-b3e9-2d94a6757585",
   "metadata": {
    "tags": []
   },
   "outputs": [],
   "source": [
    "import requests\n",
    "\n",
    "url = 'https://api.nobelprize.org/v1/prize.json'\n",
    "response = requests.get(url)\n",
    "nobel = response.json()\n",
    "\n",
    "type(nobel)"
   ]
  },
  {
   "cell_type": "code",
   "execution_count": null,
   "id": "a0de12af-034c-4d97-a746-12fb00f975a6",
   "metadata": {
    "tags": []
   },
   "outputs": [],
   "source": [
    "len(nobel)"
   ]
  },
  {
   "cell_type": "code",
   "execution_count": null,
   "id": "a4b60299-4e34-4d34-8be6-982510b277d7",
   "metadata": {
    "tags": []
   },
   "outputs": [],
   "source": [
    "list(nobel)"
   ]
  },
  {
   "cell_type": "code",
   "execution_count": null,
   "id": "4e794f1a-0170-497a-a158-d05c68e6a2eb",
   "metadata": {
    "tags": []
   },
   "outputs": [],
   "source": [
    "#list(nobel['prizes'])\n",
    "'prizes'in nobel"
   ]
  },
  {
   "cell_type": "code",
   "execution_count": null,
   "id": "0550fb15-2399-4bc1-8196-3871966416b7",
   "metadata": {
    "tags": []
   },
   "outputs": [],
   "source": [
    "nobel.items() # might be easier to see on the web"
   ]
  },
  {
   "cell_type": "code",
   "execution_count": null,
   "id": "1df091c5-e6a9-45fe-a373-0b57dc276dca",
   "metadata": {
    "tags": []
   },
   "outputs": [],
   "source": [
    "nobel.keys()"
   ]
  },
  {
   "cell_type": "code",
   "execution_count": null,
   "id": "09e5fc39-d27e-4b62-96b5-ca308b5a629a",
   "metadata": {
    "tags": []
   },
   "outputs": [],
   "source": [
    "nobel.values()"
   ]
  },
  {
   "cell_type": "code",
   "execution_count": null,
   "id": "14eb0158-0297-4530-8c2b-d6143fa9b83e",
   "metadata": {
    "tags": []
   },
   "outputs": [],
   "source": [
    "## I created a simpler dictionary, but you can try any method\n",
    "## that makes the data easier to work with\n",
    "\n",
    "\n"
   ]
  },
  {
   "cell_type": "code",
   "execution_count": null,
   "id": "d155c5e9-c6db-48d8-9ad2-9d6bb361dcc9",
   "metadata": {},
   "outputs": [],
   "source": [
    "## can you create a list of the winner's names?\n",
    "winners_names = []\n",
    "\n",
    "\n",
    "\n",
    "print(winners_names[:35])"
   ]
  },
  {
   "cell_type": "markdown",
   "id": "224d7716-ecfd-4b68-9231-da036876ce1c",
   "metadata": {},
   "source": [
    "The first 35 will look like this\n",
    "\n",
    "```\n",
    "['Carolyn Bertozzi', 'Morten Meldal', 'Barry Sharpless', 'Ben Bernanke', 'Douglas Diamond', 'Philip Dybvig', 'Annie Ernaux', 'Ales Bialiatski ', 'Alain Aspect', 'Anton Zeilinger', 'Svante Pääbo', 'Benjamin List', 'David MacMillan', 'David Card', 'Joshua Angrist', 'Guido Imbens', 'Abdulrazak Gurnah', 'Maria Ressa', 'Dmitry Muratov', 'Syukuro Manabe', 'Klaus Hasselmann', 'Giorgio Parisi', 'David Julius', 'Ardem Patapoutian', 'Emmanuelle Charpentier', 'Jennifer A. Doudna', 'Paul Milgrom', 'Robert Wilson', 'Louise Glück', 'Roger Penrose', 'Reinhard Genzel', 'Andrea Ghez', 'Harvey Alter', 'Michael Houghton', 'Charles Rice']\n",
    "```\n"
   ]
  }
 ],
 "metadata": {
  "kernelspec": {
   "display_name": "Python 3 (ipykernel)",
   "language": "python",
   "name": "python3"
  },
  "language_info": {
   "codemirror_mode": {
    "name": "ipython",
    "version": 3
   },
   "file_extension": ".py",
   "mimetype": "text/x-python",
   "name": "python",
   "nbconvert_exporter": "python",
   "pygments_lexer": "ipython3",
   "version": "3.10.8"
  }
 },
 "nbformat": 4,
 "nbformat_minor": 5
}
