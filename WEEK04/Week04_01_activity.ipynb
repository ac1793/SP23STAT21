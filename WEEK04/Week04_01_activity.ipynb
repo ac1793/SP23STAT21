{
 "cells": [
  {
   "cell_type": "markdown",
   "id": "17474efc-a435-431c-87b6-abcee356b403",
   "metadata": {
    "tags": []
   },
   "source": [
    "## Week04.1 In-Class Team Activity\n",
    "Tuesday April 25th, 2023 - upload PDF with photograph (either rendered or a separate file) Due by 11:59pm\n",
    "\n",
    "If you missed class – no credit for this in-class activity, instead, I drop two unexcused absences from the Monday/Wednesday activities before deductions begin.\n",
    "\n",
    "- **Please identify your team & the names of your teammates.** \n",
    "\n",
    "- **Please insert a team photo somewhere in this notebook.  If you cannot get the to render correctly to PDF please upload a separate file of the photo**\n",
    "\n",
    "- **Please make certain that all of your teammates agree upon and understand the team answers. Thank you.**\n",
    "\n"
   ]
  },
  {
   "cell_type": "markdown",
   "id": "3ca9e2f0-54c4-435f-b90b-1251db3e04b2",
   "metadata": {},
   "source": [
    "1. Recall wordle_sample.txt from a previous lecture:"
   ]
  },
  {
   "cell_type": "code",
   "execution_count": 1,
   "id": "de867af7-43c1-41bb-869a-4055121faf7b",
   "metadata": {
    "tags": []
   },
   "outputs": [],
   "source": [
    "with open('wordle_sample.txt', 'r') as f:\n",
    "    wordle_sample = f.read()"
   ]
  },
  {
   "cell_type": "markdown",
   "id": "3cf2756f-44f6-4546-8d5c-2767561f0e41",
   "metadata": {},
   "source": [
    "Using list comprehension, can you separate each word into its individual letters and remove the spaces at the same time to obtain a result like:"
   ]
  },
  {
   "cell_type": "code",
   "execution_count": 2,
   "id": "edfd4579-092e-4f51-9b99-ea9b6d751284",
   "metadata": {
    "tags": []
   },
   "outputs": [
    {
     "data": {
      "text/plain": [
       "['m', 'i', 'n', 'e', 'r', 's', 'a', 'l', 't', 'y', 'b', 'e', 'a', 'r', 'd']"
      ]
     },
     "execution_count": 2,
     "metadata": {},
     "output_type": "execute_result"
    }
   ],
   "source": [
    "# please put your one line here:\n",
    "\n",
    "wordle_letters[0:15]"
   ]
  },
  {
   "cell_type": "markdown",
   "id": "d3549635-9e88-41ab-b27e-c37c041a311f",
   "metadata": {},
   "source": [
    "2. Here we have several data objects:"
   ]
  },
  {
   "cell_type": "code",
   "execution_count": 3,
   "id": "98919794-2d8c-452f-9dd7-75fdecebe9ef",
   "metadata": {
    "tags": []
   },
   "outputs": [],
   "source": [
    "one = range(1, 51)\n",
    "two = [\n",
    "    'AL', 'AK', 'AZ', 'AR', 'CA', 'CO', 'CT', 'DE', 'FL', 'GA',\n",
    "    'HI', 'ID', 'IL', 'IN', 'IA', 'KS', 'KY', 'LA', 'ME', 'MD',\n",
    "    'MA', 'MI', 'MN', 'MS', 'MO', 'MT', 'NE', 'NV', 'NH', 'NJ',\n",
    "    'NM', 'NY', 'NC', 'ND', 'OH', 'OK', 'OR', 'PA', 'RI', 'SC',\n",
    "    'SD', 'TN', 'TX', 'UT', 'VT', 'VA', 'WA', 'WV', 'WI', 'WY'\n",
    "]\n",
    "three = (\n",
    "    \"Alabama\", \"Alaska\", \"Arizona\", \"Arkansas\", \"California\", \"Colorado\", \"Connecticut\",\n",
    "    \"Delaware\", \"Florida\", \"Georgia\", \"Hawaii\", \"Idaho\", \"Illinois\", \"Indiana\", \"Iowa\", \"Kansas\", \n",
    "    \"Kentucky\", \"Louisiana\", \"Maine\", \"Maryland\", \"Massachusetts\", \"Michigan\", \"Minnesota\", \n",
    "    \"Mississippi\", \"Missouri\", \"Montana\", \"Nebraska\", \"Nevada\", \"New Hampshire\", \"New Jersey\", \n",
    "    \"New Mexico\", \"New York\", \"North Carolina\", \"North Dakota\", \"Ohio\", \"Oklahoma\", \"Oregon\", \n",
    "    \"Pennsylvania\", \"Rhode Island\", \"South Carolina\", \"South Dakota\", \"Tennessee\", \"Texas\", \n",
    "    \"Utah\", \"Vermont\", \"Virginia\", \"Washington\", \"West Virginia\", \"Wisconsin\", \"Wyoming\"\n",
    ")\n",
    "four = [\n",
    "    4903185, 731545, 7278717, 3017804, 39538223, 5773714, 3605944, 989948,\n",
    "    21538187, 10711908, 1455271, 1839106, 12812508, 6785528, 3190369, 2913314,\n",
    "    4467673, 4657757, 1362359, 6177224, 7029917, 10077331, 5706494, 2961279,\n",
    "    6154913, 1084225, 1961504, 3104614, 1377529, 9288994, 2117522, 20201249,\n",
    "    10439388, 779094, 11693217, 3963516, 4237256, 13002700, 1097379, 5170722,\n",
    "    886667, 6910840, 29145505, 3271616, 643077, 8631393, 7693612, 1793716,\n",
    "    5893718, 576851\n",
    "]\n",
    "\n"
   ]
  },
  {
   "cell_type": "markdown",
   "id": "94159903-56be-4efe-9238-24a36ca060f3",
   "metadata": {},
   "source": [
    "Given what you have learned so far, please combine the four objects into a single object with a result like the following:"
   ]
  },
  {
   "cell_type": "code",
   "execution_count": 4,
   "id": "733e14ad-8248-4ea2-bb74-e2fc10f7f77c",
   "metadata": {
    "tags": []
   },
   "outputs": [
    {
     "data": {
      "text/plain": [
       "[(1, 'AL', 'Alabama', 4903185),\n",
       " (2, 'AK', 'Alaska', 731545),\n",
       " (3, 'AZ', 'Arizona', 7278717),\n",
       " (4, 'AR', 'Arkansas', 3017804),\n",
       " (5, 'CA', 'California', 39538223)]"
      ]
     },
     "execution_count": 4,
     "metadata": {},
     "output_type": "execute_result"
    }
   ],
   "source": [
    "# please put your one line here:\n",
    "\n",
    "combined[:5]"
   ]
  }
 ],
 "metadata": {
  "kernelspec": {
   "display_name": "Python 3 (ipykernel)",
   "language": "python",
   "name": "python3"
  },
  "language_info": {
   "codemirror_mode": {
    "name": "ipython",
    "version": 3
   },
   "file_extension": ".py",
   "mimetype": "text/x-python",
   "name": "python",
   "nbconvert_exporter": "python",
   "pygments_lexer": "ipython3",
   "version": "3.11.3"
  }
 },
 "nbformat": 4,
 "nbformat_minor": 5
}
