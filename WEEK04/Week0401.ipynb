{
 "cells": [
  {
   "cell_type": "raw",
   "id": "1402dfa0-0ee3-4433-8d9b-c6602cdd177a",
   "metadata": {},
   "source": [
    "<script>\n",
    "    function findAncestor (el, name) {\n",
    "        while ((el = el.parentElement) && el.nodeName.toLowerCase() !== name);\n",
    "        return el;\n",
    "    }\n",
    "    function colorAll(el, textColor) {\n",
    "        el.style.color = textColor;\n",
    "        Array.from(el.children).forEach((e) => {colorAll(e, textColor);});\n",
    "    }\n",
    "    function setBackgroundImage(src, textColor) {\n",
    "        var section = findAncestor(document.currentScript, \"section\");\n",
    "        if (section) {\n",
    "            section.setAttribute(\"data-background-image\", src);\n",
    "\t\t\tif (textColor) colorAll(section, textColor);\n",
    "        }\n",
    "    }\n",
    "</script>"
   ]
  },
  {
   "cell_type": "raw",
   "id": "62d15e31-a15b-4c2e-948b-e3a1b328ee88",
   "metadata": {},
   "source": [
    "<style>\n",
    "h1 {\n",
    "  border: 1.5px solid #333;\n",
    "  padding: 8px 12px;\n",
    "  background-image: linear-gradient(#2774AE,#ebf8e1, #FFD100);\n",
    "  position: static;\n",
    "}\n",
    "</style>"
   ]
  },
  {
   "cell_type": "markdown",
   "id": "b5776615-322c-41cb-9d9f-83170441b5b7",
   "metadata": {},
   "source": [
    "<h1 style='color:white'> Statistics 21 <br/> Python & Other Technologies for Data Science </h1>\n",
    "\n",
    "<h3 style='color:white'>Vivian Lew, PhD - Monday, Week 4</h3>"
   ]
  },
  {
   "cell_type": "raw",
   "id": "b1f757a0-cb86-4aaa-a444-abef8ed6b22a",
   "metadata": {},
   "source": [
    "<script>\n",
    "    setBackgroundImage(\"Window1.jpg\");\n",
    "</script>"
   ]
  },
  {
   "cell_type": "markdown",
   "id": "70f295d8-319b-4a51-b14a-2d6c7e29cbcd",
   "metadata": {
    "slideshow": {
     "slide_type": "slide"
    },
    "tags": []
   },
   "source": [
    "## A final aspect of lists: LIST COMPREHENSION\n",
    "\n",
    "- List comprehension is a concise and powerful way to create a new list from an existing iterable (list, tuple, range -- and strings). \n",
    "\n",
    "- We define a new list by specifying a condition, expression, or loop that applies to each element of the original iterable.\n",
    "\n",
    "- basic syntax for list comprehension:\n",
    "\n",
    "new_list = [expression `for` item `in` iterable `if` condition]\n"
   ]
  },
  {
   "cell_type": "markdown",
   "id": "4134c9e2-74e3-4643-902b-a9eddc30f53c",
   "metadata": {
    "slideshow": {
     "slide_type": "slide"
    },
    "tags": []
   },
   "source": [
    "new_list = [expression `for` item `in` iterable `if` condition]\n",
    "\n",
    "- expression is an operation or function that is to be applied to each item in the iterable, and also it produces a new value for the resulting list (new_list)  \n",
    "- item is a variable that represents each element of the iterable. Name it anything you want.\n",
    "- iterable is the original sequence, list, or other iterable object that you want to use to create the new list.\n",
    "- condition (totally optional) used to filter which elements from the iterable are to be included in the new list.\n"
   ]
  },
  {
   "cell_type": "markdown",
   "id": "4082d7f8-75fe-4366-bb8e-50ff0a7146da",
   "metadata": {
    "slideshow": {
     "slide_type": "slide"
    },
    "tags": []
   },
   "source": [
    "### Example\n",
    "\n",
    "I am using list comprehension to create a new list of squares of the first 10 positive integers:"
   ]
  },
  {
   "cell_type": "code",
   "execution_count": 1,
   "id": "8128574f-b4bb-4d9e-b72e-e0020e5f66d6",
   "metadata": {
    "tags": []
   },
   "outputs": [
    {
     "name": "stdout",
     "output_type": "stream",
     "text": [
      "[1, 4, 9, 16, 25, 36, 49, 64, 81, 100]\n"
     ]
    }
   ],
   "source": [
    "squares = [x**2 for x in range(1, 11)]\n",
    "print(squares)"
   ]
  },
  {
   "cell_type": "markdown",
   "id": "56ab64f9-a3bb-4fd1-a84e-0abee420cfcf",
   "metadata": {},
   "source": [
    "compare with:"
   ]
  },
  {
   "cell_type": "code",
   "execution_count": 2,
   "id": "50c6eb77-67b9-49dc-befc-55fdc90a4c83",
   "metadata": {
    "tags": []
   },
   "outputs": [
    {
     "name": "stdout",
     "output_type": "stream",
     "text": [
      "[1, 4, 9, 16, 25, 36, 49, 64, 81, 100]\n"
     ]
    }
   ],
   "source": [
    "squares = []\n",
    "for x in range(1, 11):\n",
    "    squares.append(x**2)\n",
    "\n",
    "print(squares)"
   ]
  },
  {
   "cell_type": "markdown",
   "id": "aa5b52ee-3406-4f61-b5b3-57b243fed9ae",
   "metadata": {
    "slideshow": {
     "slide_type": "slide"
    },
    "tags": []
   },
   "source": [
    "### One more example\n",
    "\n",
    "using the totally optional condition:"
   ]
  },
  {
   "cell_type": "code",
   "execution_count": 3,
   "id": "7c24dc58-2896-46be-a6ee-ea6a23e6b712",
   "metadata": {
    "tags": []
   },
   "outputs": [
    {
     "name": "stdout",
     "output_type": "stream",
     "text": [
      "[100, 400, 900, 1600, 2500, 3600, 4900, 6400, 8100, 10000]\n"
     ]
    }
   ],
   "source": [
    "squares = [dog**2 for dog in range(1, 101) if dog % 10 == 0]\n",
    "print(squares)"
   ]
  },
  {
   "cell_type": "markdown",
   "id": "245631b3-223e-4e05-a9f3-8443b5976cbd",
   "metadata": {
    "slideshow": {
     "slide_type": "slide"
    },
    "tags": []
   },
   "source": [
    "# The Tuple\n",
    "\n",
    "- Tuples are a built-in data structure like the list.\n",
    "\n",
    "- Tuples order their elements, just like lists so we access a tuple's elements by indexing and slicing.\n",
    "\n",
    "- The elements in a tuple cannot be changed, added, or removed once the tuple is created. Immutability makes tuples great for ensuring that data remains constant throughout the program.\n",
    "\n",
    "- Tuples can store elements of different data types, such as integers, strings, lists and other objects.\n",
    "\n",
    "- Tuples are creating using parentheses () with elements separated by commas -BUT- the parentheses are optional, and we can create a tuple just by separating elements with commas.\n"
   ]
  },
  {
   "cell_type": "markdown",
   "id": "37cba8e5-d4ab-4082-aa04-65f38c7efadd",
   "metadata": {
    "slideshow": {
     "slide_type": "slide"
    },
    "tags": []
   },
   "source": [
    "### Example\n",
    "\n",
    "Parentheses are not required to create a tuple"
   ]
  },
  {
   "cell_type": "code",
   "execution_count": 4,
   "id": "ae69aff8-41a0-4702-9bf6-b5127a173ab1",
   "metadata": {
    "tags": []
   },
   "outputs": [],
   "source": [
    "t = 0, 'apple', 2, 'cat', 'dog', 5, 6 "
   ]
  },
  {
   "cell_type": "code",
   "execution_count": 5,
   "id": "b16d60db-f9f9-4183-b0e7-bb7babf55a33",
   "metadata": {
    "slideshow": {
     "slide_type": "slide"
    },
    "tags": []
   },
   "outputs": [
    {
     "data": {
      "text/plain": [
       "(0, 'apple', 2, 'cat', 'dog', 5, 6)"
      ]
     },
     "execution_count": 5,
     "metadata": {},
     "output_type": "execute_result"
    }
   ],
   "source": [
    "t"
   ]
  },
  {
   "cell_type": "markdown",
   "id": "fb5e9d60-9429-4cd8-9a1d-a3c90c39b3c9",
   "metadata": {
    "slideshow": {
     "slide_type": "fragment"
    },
    "tags": []
   },
   "source": [
    "But you *can* use parentheses"
   ]
  },
  {
   "cell_type": "code",
   "execution_count": 6,
   "id": "f81db6ee-bc0f-4246-953c-00454bf39126",
   "metadata": {
    "slideshow": {
     "slide_type": "fragment"
    },
    "tags": []
   },
   "outputs": [],
   "source": [
    "t = (0, 'apple', 2, 'cat', 'dog', 5, 6)"
   ]
  },
  {
   "cell_type": "code",
   "execution_count": 7,
   "id": "e73cf9c7-e52b-4025-afed-b472d18419a4",
   "metadata": {
    "slideshow": {
     "slide_type": "fragment"
    },
    "tags": []
   },
   "outputs": [
    {
     "data": {
      "text/plain": [
       "(0, 'apple', 2, 'cat', 'dog', 5, 6)"
      ]
     },
     "execution_count": 7,
     "metadata": {},
     "output_type": "execute_result"
    }
   ],
   "source": [
    "t"
   ]
  },
  {
   "cell_type": "markdown",
   "id": "08440f6a-e6f7-40b9-8c5c-87f6e9bdf00d",
   "metadata": {
    "slideshow": {
     "slide_type": "slide"
    },
    "tags": []
   },
   "source": [
    "### You can create a tuple with one value by having a trailing comma"
   ]
  },
  {
   "cell_type": "code",
   "execution_count": 8,
   "id": "9dfe0b5e-e545-4b04-8e82-366cb535e853",
   "metadata": {
    "slideshow": {
     "slide_type": "fragment"
    },
    "tags": []
   },
   "outputs": [],
   "source": [
    "t1 = \"a\","
   ]
  },
  {
   "cell_type": "code",
   "execution_count": 9,
   "id": "c69860fa-b79d-4d92-9726-881e62166e17",
   "metadata": {
    "slideshow": {
     "slide_type": "fragment"
    },
    "tags": []
   },
   "outputs": [
    {
     "data": {
      "text/plain": [
       "('a',)"
      ]
     },
     "execution_count": 9,
     "metadata": {},
     "output_type": "execute_result"
    }
   ],
   "source": [
    "t1 "
   ]
  },
  {
   "cell_type": "code",
   "execution_count": 10,
   "id": "22d4f8f9-8705-4c43-93b5-28212d40fa9d",
   "metadata": {
    "slideshow": {
     "slide_type": "fragment"
    }
   },
   "outputs": [
    {
     "data": {
      "text/plain": [
       "tuple"
      ]
     },
     "execution_count": 10,
     "metadata": {},
     "output_type": "execute_result"
    }
   ],
   "source": [
    "type(t1)"
   ]
  },
  {
   "cell_type": "code",
   "execution_count": 11,
   "id": "7fd72b1e-a3b9-41e7-bd65-4c7ca5d23229",
   "metadata": {
    "slideshow": {
     "slide_type": "fragment"
    },
    "tags": []
   },
   "outputs": [
    {
     "data": {
      "text/plain": [
       "1"
      ]
     },
     "execution_count": 11,
     "metadata": {},
     "output_type": "execute_result"
    }
   ],
   "source": [
    "len(t1)"
   ]
  },
  {
   "cell_type": "markdown",
   "id": "11db4be0-1f57-446d-abe8-e07ad8ac9e61",
   "metadata": {
    "slideshow": {
     "slide_type": "slide"
    },
    "tags": []
   },
   "source": [
    "### BUT using parentheses without a comma will not work"
   ]
  },
  {
   "cell_type": "code",
   "execution_count": 12,
   "id": "3a62aba5-c434-4bcc-8246-fbabf2317f7f",
   "metadata": {
    "slideshow": {
     "slide_type": "fragment"
    },
    "tags": []
   },
   "outputs": [],
   "source": [
    "t2 = (\"a\")"
   ]
  },
  {
   "cell_type": "code",
   "execution_count": 13,
   "id": "a46ce598-2b85-4329-bc28-e61334476b5c",
   "metadata": {
    "slideshow": {
     "slide_type": "fragment"
    }
   },
   "outputs": [
    {
     "data": {
      "text/plain": [
       "str"
      ]
     },
     "execution_count": 13,
     "metadata": {},
     "output_type": "execute_result"
    }
   ],
   "source": [
    "type(t2)"
   ]
  },
  {
   "cell_type": "code",
   "execution_count": 14,
   "id": "62ef6102-5883-4b7d-a801-ffc93f8f5abd",
   "metadata": {
    "slideshow": {
     "slide_type": "fragment"
    },
    "tags": []
   },
   "outputs": [],
   "source": [
    "t2 = (\"a\",)"
   ]
  },
  {
   "cell_type": "code",
   "execution_count": 15,
   "id": "0cef2421-12bb-4a92-94d9-ba4fac53e11a",
   "metadata": {
    "slideshow": {
     "slide_type": "fragment"
    },
    "tags": []
   },
   "outputs": [
    {
     "data": {
      "text/plain": [
       "tuple"
      ]
     },
     "execution_count": 15,
     "metadata": {},
     "output_type": "execute_result"
    }
   ],
   "source": [
    "type(t2)"
   ]
  },
  {
   "cell_type": "markdown",
   "id": "49cf8c04-841f-4de2-b78a-6d1144ca3bf4",
   "metadata": {
    "slideshow": {
     "slide_type": "slide"
    }
   },
   "source": [
    "### You can create empty tuples"
   ]
  },
  {
   "cell_type": "code",
   "execution_count": 16,
   "id": "48c9f1f1-3e3c-41d1-8823-545761dcea7a",
   "metadata": {
    "slideshow": {
     "slide_type": "fragment"
    }
   },
   "outputs": [],
   "source": [
    "t3 = tuple()"
   ]
  },
  {
   "cell_type": "code",
   "execution_count": 17,
   "id": "9338ce43-2f14-4aa2-a74e-fe8889519d40",
   "metadata": {
    "slideshow": {
     "slide_type": "fragment"
    }
   },
   "outputs": [
    {
     "data": {
      "text/plain": [
       "()"
      ]
     },
     "execution_count": 17,
     "metadata": {},
     "output_type": "execute_result"
    }
   ],
   "source": [
    "t3"
   ]
  },
  {
   "cell_type": "code",
   "execution_count": 18,
   "id": "7ac2f464-20c7-46f9-94eb-a1c32de754e1",
   "metadata": {
    "tags": []
   },
   "outputs": [
    {
     "data": {
      "text/plain": [
       "()"
      ]
     },
     "execution_count": 18,
     "metadata": {},
     "output_type": "execute_result"
    }
   ],
   "source": [
    "t3a = ()\n",
    "t3a"
   ]
  },
  {
   "cell_type": "markdown",
   "id": "e42e6df1-54c3-4db3-8a45-9d8b60772a56",
   "metadata": {},
   "source": [
    "But you cannot create an empty tuple of specified length"
   ]
  },
  {
   "cell_type": "markdown",
   "id": "5ce0ca35-781f-421c-bac2-1a1f3dea76d0",
   "metadata": {
    "slideshow": {
     "slide_type": "slide"
    }
   },
   "source": [
    "### You can use the `tuple()` function to turn other iterables into tuples."
   ]
  },
  {
   "cell_type": "code",
   "execution_count": 19,
   "id": "b8b5bd73-4273-4cce-b419-dff18aabe6aa",
   "metadata": {
    "slideshow": {
     "slide_type": "fragment"
    }
   },
   "outputs": [
    {
     "data": {
      "text/plain": [
       "('h', 'e', 'l', 'l', 'o')"
      ]
     },
     "execution_count": 19,
     "metadata": {},
     "output_type": "execute_result"
    }
   ],
   "source": [
    "tuple(\"hello\")"
   ]
  },
  {
   "cell_type": "code",
   "execution_count": 20,
   "id": "99c3e005-b305-40b6-b52c-8f8dda8bfb85",
   "metadata": {
    "slideshow": {
     "slide_type": "fragment"
    }
   },
   "outputs": [
    {
     "data": {
      "text/plain": [
       "(0, 1, 2, 3, 4)"
      ]
     },
     "execution_count": 20,
     "metadata": {},
     "output_type": "execute_result"
    }
   ],
   "source": [
    "tuple(range(5))"
   ]
  },
  {
   "cell_type": "code",
   "execution_count": 21,
   "id": "6bd6c68b-f383-438c-9c6c-74e401f8e412",
   "metadata": {
    "slideshow": {
     "slide_type": "fragment"
    },
    "tags": []
   },
   "outputs": [
    {
     "data": {
      "text/plain": [
       "(1, 4, 7)"
      ]
     },
     "execution_count": 21,
     "metadata": {},
     "output_type": "execute_result"
    }
   ],
   "source": [
    "tuple([1,4,7])"
   ]
  },
  {
   "cell_type": "markdown",
   "id": "7fd17ad7-e2e9-48ee-aa08-14d924a02ac9",
   "metadata": {
    "slideshow": {
     "slide_type": "slide"
    },
    "tags": []
   },
   "source": [
    "### Tuples and Lists\n",
    "\n",
    "- Some list operatorions also work on tuples:\n",
    "    * Indexing elements\n",
    "    * Slicing\n",
    "- But only index and count among the list methods"
   ]
  },
  {
   "cell_type": "markdown",
   "id": "673e7e11-d53f-424d-aab7-c3ca4c1d8765",
   "metadata": {
    "slideshow": {
     "slide_type": "slide"
    },
    "tags": []
   },
   "source": [
    "### Indexing/Slicing tuples"
   ]
  },
  {
   "cell_type": "code",
   "execution_count": 22,
   "id": "e7900072-3825-419b-9b0c-e9af1a91e66e",
   "metadata": {
    "slideshow": {
     "slide_type": "fragment"
    }
   },
   "outputs": [],
   "source": [
    "t = 0, 'apple', 2, 'cat', 'dog', 5, 6"
   ]
  },
  {
   "cell_type": "code",
   "execution_count": 23,
   "id": "6c53f47d-813f-4f0c-a829-d5d1a74498c7",
   "metadata": {
    "slideshow": {
     "slide_type": "fragment"
    }
   },
   "outputs": [
    {
     "data": {
      "text/plain": [
       "'apple'"
      ]
     },
     "execution_count": 23,
     "metadata": {},
     "output_type": "execute_result"
    }
   ],
   "source": [
    "t[1]"
   ]
  },
  {
   "cell_type": "code",
   "execution_count": 24,
   "id": "d7d17d9a-ec43-405d-8d38-433127b98e16",
   "metadata": {
    "slideshow": {
     "slide_type": "fragment"
    },
    "tags": []
   },
   "outputs": [
    {
     "data": {
      "text/plain": [
       "(2, 'cat', 'dog')"
      ]
     },
     "execution_count": 24,
     "metadata": {},
     "output_type": "execute_result"
    }
   ],
   "source": [
    "t[2:5] # slicing"
   ]
  },
  {
   "cell_type": "markdown",
   "id": "9684cd6d-abe8-44e0-b213-ad6518400a0d",
   "metadata": {
    "slideshow": {
     "slide_type": "slide"
    },
    "tags": []
   },
   "source": [
    "## Unpacking example\n",
    "\n",
    "Unpacking a tuple is understood to mean assigning each of its elements directly to variables"
   ]
  },
  {
   "cell_type": "code",
   "execution_count": 25,
   "id": "45ea4cca-2657-4c7e-811e-334aa58ca35a",
   "metadata": {
    "tags": []
   },
   "outputs": [
    {
     "name": "stdout",
     "output_type": "stream",
     "text": [
      "Make: Chevrolet, Name: Bolt, Price: $27,495\n"
     ]
    }
   ],
   "source": [
    "# Create a tuple\n",
    "car = ('Bolt', 27495, 'Chevrolet')\n",
    "\n",
    "# Accessing elements using indexing\n",
    "model = car[0]  # 'Bolt'\n",
    "msrp = car[1]   # 27495\n",
    "make = car[2]  # 'Chevrolet'\n",
    "\n",
    "# Unpacking the tuple\n",
    "model, msrp, make = car\n",
    "\n",
    "# Printing the unpacked variables\n",
    "print(f\"Make: {make}, Name: {model}, Price: ${msrp:,}\")"
   ]
  },
  {
   "cell_type": "markdown",
   "id": "98e0cd24-993a-45dd-9bae-8adee156cf9c",
   "metadata": {
    "slideshow": {
     "slide_type": "slide"
    },
    "tags": []
   },
   "source": [
    "## What are tuples good for?\n",
    "\n",
    "- Assigning multiple values  \n",
    "- Returning multiple values in a function  \n",
    "- Storing unchangeable constant or fixed data \n",
    "- Serving as dictionary keys (more on this later)"
   ]
  },
  {
   "cell_type": "markdown",
   "id": "e81e8f0c-a233-4da6-ade7-315a172f2ebb",
   "metadata": {
    "slideshow": {
     "slide_type": "slide"
    }
   },
   "source": [
    "### Tuples are immutable. They cannot be modified.\n",
    "\n",
    "List are mutable and can be modified"
   ]
  },
  {
   "cell_type": "code",
   "execution_count": 26,
   "id": "2c70f795-c8a4-404c-adf3-fc056074b5d3",
   "metadata": {
    "slideshow": {
     "slide_type": "fragment"
    }
   },
   "outputs": [],
   "source": [
    "t = (0,'apple',2,'cat','dog',5,6) # tuple\n",
    "l = [0,'apple',2,'cat','dog',5,6] # list"
   ]
  },
  {
   "cell_type": "code",
   "execution_count": 27,
   "id": "ef2722c9-5fcc-4a03-918e-fb1561ffd1a9",
   "metadata": {
    "slideshow": {
     "slide_type": "fragment"
    }
   },
   "outputs": [
    {
     "name": "stdout",
     "output_type": "stream",
     "text": [
      "[100, 'apple', 2, 'cat', 'dog', 5, 6]\n"
     ]
    }
   ],
   "source": [
    "l[0] = 100  # we can change the value of the object at index 0\n",
    "print(l)"
   ]
  },
  {
   "cell_type": "code",
   "execution_count": 28,
   "id": "3b42f8f1-3551-408b-bb14-4101ccd3d859",
   "metadata": {
    "slideshow": {
     "slide_type": "fragment"
    },
    "tags": [
     "raises-exception"
    ]
   },
   "outputs": [
    {
     "ename": "TypeError",
     "evalue": "'tuple' object does not support item assignment",
     "output_type": "error",
     "traceback": [
      "\u001b[0;31m---------------------------------------------------------------------------\u001b[0m",
      "\u001b[0;31mTypeError\u001b[0m                                 Traceback (most recent call last)",
      "Cell \u001b[0;32mIn[28], line 1\u001b[0m\n\u001b[0;32m----> 1\u001b[0m \u001b[43mt\u001b[49m\u001b[43m[\u001b[49m\u001b[38;5;241;43m0\u001b[39;49m\u001b[43m]\u001b[49m \u001b[38;5;241m=\u001b[39m \u001b[38;5;241m100\u001b[39m  \u001b[38;5;66;03m# trying to modify the value in a tuple is not allowed\u001b[39;00m\n",
      "\u001b[0;31mTypeError\u001b[0m: 'tuple' object does not support item assignment"
     ]
    }
   ],
   "source": [
    "t[0] = 100  # trying to modify the value in a tuple is not allowed"
   ]
  },
  {
   "cell_type": "markdown",
   "id": "6c9f59f3-48e5-43c6-816b-adbb9c5501e1",
   "metadata": {
    "slideshow": {
     "slide_type": "slide"
    }
   },
   "source": [
    "### methods that modify lists in place (e.g. append, insert, pop, etc) do not work for tuples"
   ]
  },
  {
   "cell_type": "code",
   "execution_count": 29,
   "id": "4c1497fe-5cfe-4dc3-878c-f40d137afeee",
   "metadata": {
    "slideshow": {
     "slide_type": "fragment"
    }
   },
   "outputs": [
    {
     "name": "stdout",
     "output_type": "stream",
     "text": [
      "[100, 'apple', 2, 'cat', 'dog', 5, 6, 'x']\n"
     ]
    }
   ],
   "source": [
    "l.append('x')\n",
    "print(l)"
   ]
  },
  {
   "cell_type": "code",
   "execution_count": 30,
   "id": "d34b6871-e749-4610-8c55-49c3b8eec6b8",
   "metadata": {
    "slideshow": {
     "slide_type": "fragment"
    },
    "tags": [
     "raises-exception"
    ]
   },
   "outputs": [
    {
     "ename": "AttributeError",
     "evalue": "'tuple' object has no attribute 'append'",
     "output_type": "error",
     "traceback": [
      "\u001b[0;31m---------------------------------------------------------------------------\u001b[0m",
      "\u001b[0;31mAttributeError\u001b[0m                            Traceback (most recent call last)",
      "Cell \u001b[0;32mIn[30], line 1\u001b[0m\n\u001b[0;32m----> 1\u001b[0m \u001b[43mt\u001b[49m\u001b[38;5;241;43m.\u001b[39;49m\u001b[43mappend\u001b[49m(\u001b[38;5;124m'\u001b[39m\u001b[38;5;124mx\u001b[39m\u001b[38;5;124m'\u001b[39m)\n",
      "\u001b[0;31mAttributeError\u001b[0m: 'tuple' object has no attribute 'append'"
     ]
    }
   ],
   "source": [
    "t.append('x')"
   ]
  },
  {
   "cell_type": "markdown",
   "id": "bc9293c6-a1b2-420d-a255-48fc2518c679",
   "metadata": {
    "slideshow": {
     "slide_type": "slide"
    }
   },
   "source": [
    "### Because tuples are immutable, you can't modify the elements. \n",
    "### But you can replace one tuple with another tuple:"
   ]
  },
  {
   "cell_type": "code",
   "execution_count": 31,
   "id": "9e9d6ba5-5270-4e05-ab04-9e71f16f6d3f",
   "metadata": {
    "slideshow": {
     "slide_type": "fragment"
    }
   },
   "outputs": [
    {
     "data": {
      "text/plain": [
       "('A', 'apple', 2, 'cat', 'dog', 5, 6)"
      ]
     },
     "execution_count": 31,
     "metadata": {},
     "output_type": "execute_result"
    }
   ],
   "source": [
    "t = (\"A\",) + t[1:]\n",
    "t"
   ]
  },
  {
   "cell_type": "markdown",
   "id": "6af37d81-92fd-484f-9092-e86f743cfe26",
   "metadata": {
    "slideshow": {
     "slide_type": "-"
    }
   },
   "source": [
    "#### This creates an entirely new tuple, unrelated to the other one."
   ]
  },
  {
   "cell_type": "markdown",
   "id": "9098d1ee-4331-486f-9970-ebc218117a06",
   "metadata": {
    "slideshow": {
     "slide_type": "slide"
    }
   },
   "source": [
    "### The relational operators and tuples\n",
    "\n",
    "Python starts by comparing the ﬁrst element from each sequence. \n",
    "\n",
    "If they are equal, it goes on to the next element, and so on, until it ﬁnds elements that differ. \n",
    "\n",
    "Subsequent elements are not considered (even if they are different or larger)."
   ]
  },
  {
   "cell_type": "code",
   "execution_count": 32,
   "id": "75767c34-0dd3-48d5-a1eb-9b1d15c53760",
   "metadata": {
    "slideshow": {
     "slide_type": "fragment"
    }
   },
   "outputs": [
    {
     "data": {
      "text/plain": [
       "True"
      ]
     },
     "execution_count": 32,
     "metadata": {},
     "output_type": "execute_result"
    }
   ],
   "source": [
    "(0, 1, 2) < (0, 3, 4)"
   ]
  },
  {
   "cell_type": "code",
   "execution_count": 33,
   "id": "ebf9b445-7565-422d-a05b-c972cf772a30",
   "metadata": {
    "slideshow": {
     "slide_type": "fragment"
    }
   },
   "outputs": [
    {
     "data": {
      "text/plain": [
       "True"
      ]
     },
     "execution_count": 33,
     "metadata": {},
     "output_type": "execute_result"
    }
   ],
   "source": [
    "(0, 1, 2000000) < (0, 3, 4)"
   ]
  },
  {
   "cell_type": "code",
   "execution_count": 34,
   "id": "3c1d8c0c-8623-4c15-9191-f2dccf365e6d",
   "metadata": {
    "slideshow": {
     "slide_type": "fragment"
    }
   },
   "outputs": [
    {
     "data": {
      "text/plain": [
       "False"
      ]
     },
     "execution_count": 34,
     "metadata": {},
     "output_type": "execute_result"
    }
   ],
   "source": [
    "(0, 500, 2) < (0, 3, 4)"
   ]
  },
  {
   "cell_type": "code",
   "execution_count": 35,
   "id": "1dec9821-c544-46be-9a5b-b71d399e5579",
   "metadata": {},
   "outputs": [
    {
     "data": {
      "text/plain": [
       "True"
      ]
     },
     "execution_count": 35,
     "metadata": {},
     "output_type": "execute_result"
    }
   ],
   "source": [
    "tuple(\"abc\") <= tuple(\"abcd\") # try some others"
   ]
  },
  {
   "cell_type": "markdown",
   "id": "16eaa71c-58a5-49e3-b877-364f1cd21754",
   "metadata": {
    "slideshow": {
     "slide_type": "slide"
    }
   },
   "source": [
    "### Tuple assignment\n",
    "\n",
    "A common and useful tuple idiom: You can switch value assignments using tuples"
   ]
  },
  {
   "cell_type": "code",
   "execution_count": 36,
   "id": "311233e0-ea77-437f-99b5-f80bc8220d76",
   "metadata": {
    "slideshow": {
     "slide_type": "fragment"
    }
   },
   "outputs": [
    {
     "name": "stdout",
     "output_type": "stream",
     "text": [
      "1 5\n"
     ]
    }
   ],
   "source": [
    "# old option without tuples\n",
    "a = 5\n",
    "b = 1\n",
    "\n",
    "temp = a\n",
    "a = b\n",
    "b = temp\n",
    "print(a, b)"
   ]
  },
  {
   "cell_type": "code",
   "execution_count": 37,
   "id": "10fb4536-acfe-4d45-a120-72fcf768738e",
   "metadata": {
    "slideshow": {
     "slide_type": "slide"
    },
    "tags": []
   },
   "outputs": [
    {
     "name": "stdout",
     "output_type": "stream",
     "text": [
      "1 5\n"
     ]
    }
   ],
   "source": [
    "# faster with tuples\n",
    "a = 5\n",
    "b = 1\n",
    "\n",
    "b, a = a, b\n",
    "print(a, b)"
   ]
  },
  {
   "cell_type": "markdown",
   "id": "c71d140c-78e7-4c78-8506-441b336ca2a3",
   "metadata": {
    "slideshow": {
     "slide_type": "slide"
    }
   },
   "source": [
    "You can take the results of a function and have the returned values assign to different elements in a tuple"
   ]
  },
  {
   "cell_type": "code",
   "execution_count": 38,
   "id": "eec4e53f-9b80-4e2f-99f3-e5d930976106",
   "metadata": {
    "slideshow": {
     "slide_type": "fragment"
    }
   },
   "outputs": [
    {
     "data": {
      "text/plain": [
       "['statchair', 'stat.ucla.edu']"
      ]
     },
     "execution_count": 38,
     "metadata": {},
     "output_type": "execute_result"
    }
   ],
   "source": [
    "addr = \"statchair@stat.ucla.edu\"\n",
    "addr.split(\"@\") # string.split() normally returns two elements in a list"
   ]
  },
  {
   "cell_type": "code",
   "execution_count": 39,
   "id": "23bf94d4-727c-4745-ac12-8a774cb3e676",
   "metadata": {
    "slideshow": {
     "slide_type": "fragment"
    }
   },
   "outputs": [],
   "source": [
    "addr = \"statchair@stat.ucla.edu\"\n",
    "uname, domain = addr.split(\"@\") # we can assign the results of str.split() to a tuple"
   ]
  },
  {
   "cell_type": "code",
   "execution_count": 40,
   "id": "2aa2cd41-fec2-48b5-b434-4b5a42399ced",
   "metadata": {
    "slideshow": {
     "slide_type": "slide"
    },
    "tags": []
   },
   "outputs": [
    {
     "data": {
      "text/plain": [
       "'statchair'"
      ]
     },
     "execution_count": 40,
     "metadata": {},
     "output_type": "execute_result"
    }
   ],
   "source": [
    "uname"
   ]
  },
  {
   "cell_type": "code",
   "execution_count": 41,
   "id": "3213da0a-d2fe-4574-9a36-cd07fa0c0edd",
   "metadata": {
    "slideshow": {
     "slide_type": "fragment"
    }
   },
   "outputs": [
    {
     "data": {
      "text/plain": [
       "'stat.ucla.edu'"
      ]
     },
     "execution_count": 41,
     "metadata": {},
     "output_type": "execute_result"
    }
   ],
   "source": [
    "domain"
   ]
  },
  {
   "cell_type": "markdown",
   "id": "1646c651-d090-4aa8-bf1d-eab880997796",
   "metadata": {
    "slideshow": {
     "slide_type": "slide"
    }
   },
   "source": [
    "We saw this when we talked about functions. You can have functions return multiple values in the form of a tuple"
   ]
  },
  {
   "cell_type": "code",
   "execution_count": 42,
   "id": "29cce370-45db-4fbb-8b5c-73b0045b7272",
   "metadata": {
    "slideshow": {
     "slide_type": "fragment"
    }
   },
   "outputs": [],
   "source": [
    "def my_divide(x, y):\n",
    "    integer = x // y\n",
    "    remainder = x % y\n",
    "    return integer, remainder"
   ]
  },
  {
   "cell_type": "code",
   "execution_count": 43,
   "id": "6a766f95-967d-4ef3-a0f8-e9acc889f16f",
   "metadata": {
    "slideshow": {
     "slide_type": "fragment"
    }
   },
   "outputs": [],
   "source": [
    "a, b = my_divide(23, 5)"
   ]
  },
  {
   "cell_type": "code",
   "execution_count": 44,
   "id": "97d24459-254c-4402-873f-d4bbf18925aa",
   "metadata": {
    "slideshow": {
     "slide_type": "slide"
    },
    "tags": []
   },
   "outputs": [
    {
     "data": {
      "text/plain": [
       "(4, 3)"
      ]
     },
     "execution_count": 44,
     "metadata": {},
     "output_type": "execute_result"
    }
   ],
   "source": [
    "a, b"
   ]
  },
  {
   "cell_type": "code",
   "execution_count": 45,
   "id": "5daddd30-8fee-4e55-8455-e5db4fc0ecd9",
   "metadata": {
    "slideshow": {
     "slide_type": "fragment"
    }
   },
   "outputs": [
    {
     "data": {
      "text/plain": [
       "(4, 3)"
      ]
     },
     "execution_count": 45,
     "metadata": {},
     "output_type": "execute_result"
    }
   ],
   "source": [
    "divmod(23, 5)  # divmod() is a built-in function that does exactly this."
   ]
  },
  {
   "cell_type": "markdown",
   "id": "dd3ef17a-ffc0-44a1-a871-4fd1eb2aaa32",
   "metadata": {
    "slideshow": {
     "slide_type": "slide"
    }
   },
   "source": [
    "### Tuple Methods\n",
    "\n",
    "tuples only support two methods: `tuple.index()` and `tuple.count()` which return information about contents of the tuple but do not modify them"
   ]
  },
  {
   "cell_type": "code",
   "execution_count": 46,
   "id": "d28cff23-572b-442c-a7a0-c6a0e3d6d56c",
   "metadata": {
    "slideshow": {
     "slide_type": "fragment"
    }
   },
   "outputs": [],
   "source": [
    "t = 0, 'apple', 2, 'cat', 'dog', 5, 6"
   ]
  },
  {
   "cell_type": "code",
   "execution_count": 47,
   "id": "d03777ce-cd7e-4a87-8252-2de53bf4dba2",
   "metadata": {
    "slideshow": {
     "slide_type": "fragment"
    }
   },
   "outputs": [
    {
     "data": {
      "text/plain": [
       "4"
      ]
     },
     "execution_count": 47,
     "metadata": {},
     "output_type": "execute_result"
    }
   ],
   "source": [
    "t.index('dog')"
   ]
  },
  {
   "cell_type": "code",
   "execution_count": 48,
   "id": "e6fc43ab-6fd1-4252-86e8-2eb383458907",
   "metadata": {
    "slideshow": {
     "slide_type": "fragment"
    }
   },
   "outputs": [
    {
     "data": {
      "text/plain": [
       "1"
      ]
     },
     "execution_count": 48,
     "metadata": {},
     "output_type": "execute_result"
    }
   ],
   "source": [
    "t.count(5)"
   ]
  },
  {
   "cell_type": "markdown",
   "id": "8ca286d2-0c30-4703-8261-3e43ff7d6413",
   "metadata": {
    "slideshow": {
     "slide_type": "slide"
    }
   },
   "source": [
    "## Functions that support tuples and other iterables as inputs\n",
    "\n",
    "Even though tuples only have two methods, there are several functions that support tuples (and other iterables like lists, dicts, strings) as inputs\n",
    "\n",
    "- `len()`\n",
    "- `sum()`\n",
    "- `sorted()`\n",
    "- `min()`\n",
    "- `max()`\n",
    "\n",
    "None of these functions affect the list or tuple itself."
   ]
  },
  {
   "cell_type": "code",
   "execution_count": 49,
   "id": "dc60ca69-5e8d-421e-a5ba-7d0ad26eb193",
   "metadata": {
    "slideshow": {
     "slide_type": "slide"
    }
   },
   "outputs": [],
   "source": [
    "some_digits = (4,2,7,9,2,5,3)  # a tuple of numbers\n",
    "some_words = ['dog','apple','cat','hat','hand']  # this is a list"
   ]
  },
  {
   "cell_type": "code",
   "execution_count": 50,
   "id": "62e3a1f4-93f4-4c96-802d-b47e3b1771c4",
   "metadata": {
    "slideshow": {
     "slide_type": "fragment"
    }
   },
   "outputs": [
    {
     "data": {
      "text/plain": [
       "7"
      ]
     },
     "execution_count": 50,
     "metadata": {},
     "output_type": "execute_result"
    }
   ],
   "source": [
    "len(some_digits)"
   ]
  },
  {
   "cell_type": "code",
   "execution_count": 51,
   "id": "47a61143-e8c5-451b-b0cd-507c41065dfd",
   "metadata": {
    "slideshow": {
     "slide_type": "fragment"
    }
   },
   "outputs": [
    {
     "data": {
      "text/plain": [
       "32"
      ]
     },
     "execution_count": 51,
     "metadata": {},
     "output_type": "execute_result"
    }
   ],
   "source": [
    "sum(some_digits)"
   ]
  },
  {
   "cell_type": "code",
   "execution_count": 52,
   "id": "d70dbcef-3c4b-4983-8637-37ea75c28c59",
   "metadata": {
    "slideshow": {
     "slide_type": "slide"
    },
    "tags": [
     "raises-exception"
    ]
   },
   "outputs": [
    {
     "ename": "TypeError",
     "evalue": "unsupported operand type(s) for +: 'int' and 'str'",
     "output_type": "error",
     "traceback": [
      "\u001b[0;31m---------------------------------------------------------------------------\u001b[0m",
      "\u001b[0;31mTypeError\u001b[0m                                 Traceback (most recent call last)",
      "Cell \u001b[0;32mIn[52], line 1\u001b[0m\n\u001b[0;32m----> 1\u001b[0m \u001b[38;5;28;43msum\u001b[39;49m\u001b[43m(\u001b[49m\u001b[43msome_words\u001b[49m\u001b[43m)\u001b[49m \u001b[38;5;66;03m# won't work on strings\u001b[39;00m\n",
      "\u001b[0;31mTypeError\u001b[0m: unsupported operand type(s) for +: 'int' and 'str'"
     ]
    }
   ],
   "source": [
    "sum(some_words) # won't work on strings"
   ]
  },
  {
   "cell_type": "code",
   "execution_count": 53,
   "id": "8e084916-277c-4bd5-bf7b-7628a8bcaa2b",
   "metadata": {
    "slideshow": {
     "slide_type": "slide"
    }
   },
   "outputs": [
    {
     "data": {
      "text/plain": [
       "[2, 2, 3, 4, 5, 7, 9]"
      ]
     },
     "execution_count": 53,
     "metadata": {},
     "output_type": "execute_result"
    }
   ],
   "source": [
    "sorted(some_digits)  # sorts the tuple, but does not affect the list or tuple itself.\n",
    "# contrast to list.sort() which will sort the list in place\n",
    "# but the object returned is a list"
   ]
  },
  {
   "cell_type": "code",
   "execution_count": 54,
   "id": "9bf1918d-8ec7-4ed9-86c1-de14e9d87575",
   "metadata": {
    "slideshow": {
     "slide_type": "fragment"
    }
   },
   "outputs": [
    {
     "name": "stdout",
     "output_type": "stream",
     "text": [
      "(4, 2, 7, 9, 2, 5, 3)\n"
     ]
    }
   ],
   "source": [
    "print(some_digits)  # just to show the list is unchanged"
   ]
  },
  {
   "cell_type": "code",
   "execution_count": 55,
   "id": "15e94fa4-2eaa-43c8-9a3e-5f2e12e2b619",
   "metadata": {
    "slideshow": {
     "slide_type": "fragment"
    }
   },
   "outputs": [
    {
     "data": {
      "text/plain": [
       "['apple', 'cat', 'dog', 'hand', 'hat']"
      ]
     },
     "execution_count": 55,
     "metadata": {},
     "output_type": "execute_result"
    }
   ],
   "source": [
    "sorted(some_words) # when applied to a list of strings, it will alphabetize them"
   ]
  },
  {
   "cell_type": "code",
   "execution_count": 56,
   "id": "2e5a8093-3b86-44e5-8f95-e8e84a82e763",
   "metadata": {
    "slideshow": {
     "slide_type": "slide"
    },
    "tags": []
   },
   "outputs": [
    {
     "data": {
      "text/plain": [
       "2"
      ]
     },
     "execution_count": 56,
     "metadata": {},
     "output_type": "execute_result"
    }
   ],
   "source": [
    "min(some_digits)"
   ]
  },
  {
   "cell_type": "code",
   "execution_count": 57,
   "id": "ebf7d400-d46e-4246-a176-047da1d1e8fd",
   "metadata": {
    "slideshow": {
     "slide_type": "fragment"
    }
   },
   "outputs": [
    {
     "name": "stdout",
     "output_type": "stream",
     "text": [
      "apple\n",
      "hat\n"
     ]
    }
   ],
   "source": [
    "print(min(some_words))\n",
    "print(max(some_words))  # max returns the last word in an alphabetized list\n",
    "# min will return the first in an alphabetized list"
   ]
  },
  {
   "cell_type": "code",
   "execution_count": 58,
   "id": "42f29d6e-be6e-4fd8-b42c-12336888350b",
   "metadata": {
    "slideshow": {
     "slide_type": "fragment"
    },
    "tags": []
   },
   "outputs": [],
   "source": [
    "dict_num = {1: \"a\", 2: \"b\", 3: \"c\"}\n",
    "dict_alpha = {\"a\":1, \"b\":2, \"c\":3}"
   ]
  },
  {
   "cell_type": "code",
   "execution_count": 59,
   "id": "632240d2-c758-4b29-83ec-9102fd25417e",
   "metadata": {
    "slideshow": {
     "slide_type": "slide"
    },
    "tags": []
   },
   "outputs": [
    {
     "data": {
      "text/plain": [
       "3"
      ]
     },
     "execution_count": 59,
     "metadata": {},
     "output_type": "execute_result"
    }
   ],
   "source": [
    "len(dict_num) # number of items in the dictionary"
   ]
  },
  {
   "cell_type": "code",
   "execution_count": 60,
   "id": "8541cf3d-8213-44ef-93c0-0779296b83aa",
   "metadata": {
    "slideshow": {
     "slide_type": "fragment"
    },
    "tags": []
   },
   "outputs": [
    {
     "data": {
      "text/plain": [
       "[1, 2, 3]"
      ]
     },
     "execution_count": 60,
     "metadata": {},
     "output_type": "execute_result"
    }
   ],
   "source": [
    "sorted(dict_num) # a list of the keys sorted"
   ]
  },
  {
   "cell_type": "code",
   "execution_count": 61,
   "id": "f68c4f25-b218-48e2-b7d2-0c13da69118a",
   "metadata": {
    "slideshow": {
     "slide_type": "slide"
    },
    "tags": []
   },
   "outputs": [
    {
     "data": {
      "text/plain": [
       "['a', 'b', 'c']"
      ]
     },
     "execution_count": 61,
     "metadata": {},
     "output_type": "execute_result"
    }
   ],
   "source": [
    "sorted(dict_alpha)"
   ]
  },
  {
   "cell_type": "code",
   "execution_count": 62,
   "id": "d8ee6dea-515b-4dbb-8036-cb049c3c99bf",
   "metadata": {
    "slideshow": {
     "slide_type": "fragment"
    },
    "tags": []
   },
   "outputs": [
    {
     "data": {
      "text/plain": [
       "3"
      ]
     },
     "execution_count": 62,
     "metadata": {},
     "output_type": "execute_result"
    }
   ],
   "source": [
    "max(dict_num) # the \"maximum\" key"
   ]
  },
  {
   "cell_type": "markdown",
   "id": "364162df-d5c7-4e0f-bb2c-55381ec15028",
   "metadata": {
    "slideshow": {
     "slide_type": "slide"
    }
   },
   "source": [
    "## Math operators and lists, tuples, strings\n",
    "\n",
    "- multiplication generally duplicates\n",
    "\n",
    "- addition generally appends\n",
    "\n",
    "behavior across lists, tuples, and strings are similar"
   ]
  },
  {
   "cell_type": "code",
   "execution_count": 63,
   "id": "b8fc0d2c-e5c9-44fd-83e5-bb7e5661dc0b",
   "metadata": {
    "slideshow": {
     "slide_type": "fragment"
    }
   },
   "outputs": [],
   "source": [
    "L1 = ['a','b','c']\n",
    "L2 = ['d','e','f']"
   ]
  },
  {
   "cell_type": "code",
   "execution_count": 64,
   "id": "b7735f49-d9b9-4d90-918f-63a889885b80",
   "metadata": {
    "slideshow": {
     "slide_type": "slide"
    },
    "tags": []
   },
   "outputs": [
    {
     "data": {
      "text/plain": [
       "['a', 'b', 'c', 'a', 'b', 'c']"
      ]
     },
     "execution_count": 64,
     "metadata": {},
     "output_type": "execute_result"
    }
   ],
   "source": [
    "L1 * 2 # multiplication extends duplicates "
   ]
  },
  {
   "cell_type": "code",
   "execution_count": 65,
   "id": "bf7308f6-4701-436e-a4b6-d46e676f658b",
   "metadata": {
    "slideshow": {
     "slide_type": "fragment"
    }
   },
   "outputs": [
    {
     "data": {
      "text/plain": [
       "['a', 'b', 'c', 'd', 'e', 'f']"
      ]
     },
     "execution_count": 65,
     "metadata": {},
     "output_type": "execute_result"
    }
   ],
   "source": [
    "L1 + L2 # addition appends list objects"
   ]
  },
  {
   "cell_type": "code",
   "execution_count": 66,
   "id": "b818976d-6a95-4fae-ab15-7265eaddac3d",
   "metadata": {
    "slideshow": {
     "slide_type": "slide"
    }
   },
   "outputs": [],
   "source": [
    "T1 = ('a','b','c')\n",
    "T2 = ('d','e','f')"
   ]
  },
  {
   "cell_type": "code",
   "execution_count": 67,
   "id": "ed25be5c-008b-4f79-867c-6a29cf2acbf2",
   "metadata": {
    "slideshow": {
     "slide_type": "fragment"
    }
   },
   "outputs": [
    {
     "data": {
      "text/plain": [
       "('a', 'b', 'c', 'a', 'b', 'c')"
      ]
     },
     "execution_count": 67,
     "metadata": {},
     "output_type": "execute_result"
    }
   ],
   "source": [
    "T1 * 2"
   ]
  },
  {
   "cell_type": "code",
   "execution_count": 68,
   "id": "e300bc7b-077a-4c11-9489-15b04874a70e",
   "metadata": {
    "slideshow": {
     "slide_type": "-"
    }
   },
   "outputs": [
    {
     "data": {
      "text/plain": [
       "('a', 'b', 'c', 'd', 'e', 'f')"
      ]
     },
     "execution_count": 68,
     "metadata": {},
     "output_type": "execute_result"
    }
   ],
   "source": [
    "T1 + T2"
   ]
  },
  {
   "cell_type": "code",
   "execution_count": 69,
   "id": "16729b36-5372-4274-8e2a-34801ace5dbd",
   "metadata": {
    "slideshow": {
     "slide_type": "slide"
    },
    "tags": [
     "raises-exception"
    ]
   },
   "outputs": [
    {
     "ename": "TypeError",
     "evalue": "can only concatenate list (not \"tuple\") to list",
     "output_type": "error",
     "traceback": [
      "\u001b[0;31m---------------------------------------------------------------------------\u001b[0m",
      "\u001b[0;31mTypeError\u001b[0m                                 Traceback (most recent call last)",
      "Cell \u001b[0;32mIn[69], line 1\u001b[0m\n\u001b[0;32m----> 1\u001b[0m \u001b[43mL1\u001b[49m\u001b[43m \u001b[49m\u001b[38;5;241;43m+\u001b[39;49m\u001b[43m \u001b[49m\u001b[43mT2\u001b[49m \u001b[38;5;66;03m# fails. you cannot add list and tuple\u001b[39;00m\n",
      "\u001b[0;31mTypeError\u001b[0m: can only concatenate list (not \"tuple\") to list"
     ]
    }
   ],
   "source": [
    "L1 + T2 # fails. you cannot add list and tuple"
   ]
  },
  {
   "cell_type": "code",
   "execution_count": 70,
   "id": "ec10cab0-d40e-4ab2-b5aa-8a678b112420",
   "metadata": {},
   "outputs": [
    {
     "data": {
      "text/plain": [
       "['a', 'b', 'c', 'd', 'e', 'f']"
      ]
     },
     "execution_count": 70,
     "metadata": {},
     "output_type": "execute_result"
    }
   ],
   "source": [
    "L1 + list(T2) # but you can easily convert a tuple to a list first"
   ]
  },
  {
   "cell_type": "markdown",
   "id": "62681b29-462f-4848-a065-632c66f9b716",
   "metadata": {
    "slideshow": {
     "slide_type": "slide"
    }
   },
   "source": [
    "### Variable-length argument tuples\n",
    "\n",
    "Functions can take a variable number of arguments. A parameter name that begins with `*` gathers arguments into a tuple. \n",
    "\n",
    "The gather parameter can have any name you like, but args is conventional. "
   ]
  },
  {
   "cell_type": "code",
   "execution_count": 71,
   "id": "73039e3e-0c0f-4e2f-bb3b-afc40a3da40c",
   "metadata": {
    "slideshow": {
     "slide_type": "fragment"
    }
   },
   "outputs": [],
   "source": [
    "def printall(args):\n",
    "    print(args)"
   ]
  },
  {
   "cell_type": "code",
   "execution_count": 72,
   "id": "77ab7edb-ed42-4fd2-b3c1-c270dba7a14d",
   "metadata": {
    "tags": [
     "raises-exception"
    ]
   },
   "outputs": [
    {
     "ename": "TypeError",
     "evalue": "printall() takes 1 positional argument but 4 were given",
     "output_type": "error",
     "traceback": [
      "\u001b[0;31m---------------------------------------------------------------------------\u001b[0m",
      "\u001b[0;31mTypeError\u001b[0m                                 Traceback (most recent call last)",
      "Cell \u001b[0;32mIn[72], line 1\u001b[0m\n\u001b[0;32m----> 1\u001b[0m \u001b[43mprintall\u001b[49m\u001b[43m(\u001b[49m\u001b[38;5;241;43m1\u001b[39;49m\u001b[43m,\u001b[49m\u001b[43m \u001b[49m\u001b[38;5;241;43m3.0\u001b[39;49m\u001b[43m,\u001b[49m\u001b[43m \u001b[49m\u001b[38;5;241;43m5\u001b[39;49m\u001b[43m,\u001b[49m\u001b[43m \u001b[49m\u001b[38;5;124;43m\"\u001b[39;49m\u001b[38;5;124;43mhi\u001b[39;49m\u001b[38;5;124;43m\"\u001b[39;49m\u001b[43m)\u001b[49m\n",
      "\u001b[0;31mTypeError\u001b[0m: printall() takes 1 positional argument but 4 were given"
     ]
    }
   ],
   "source": [
    "printall(1, 3.0, 5, \"hi\")"
   ]
  },
  {
   "cell_type": "code",
   "execution_count": 73,
   "id": "e61b4b31-4ff7-4554-b4c2-eb8bb9e5536e",
   "metadata": {
    "slideshow": {
     "slide_type": "slide"
    },
    "tags": []
   },
   "outputs": [],
   "source": [
    "def printall(*args):\n",
    "    print(args)"
   ]
  },
  {
   "cell_type": "code",
   "execution_count": 74,
   "id": "8c608af9-01d4-4eef-a7fc-29e48f9be3d0",
   "metadata": {
    "slideshow": {
     "slide_type": "fragment"
    }
   },
   "outputs": [
    {
     "name": "stdout",
     "output_type": "stream",
     "text": [
      "(1, 3.0, 5, 'hi')\n"
     ]
    }
   ],
   "source": [
    "printall(1, 3.0, 5, \"hi\")"
   ]
  },
  {
   "cell_type": "code",
   "execution_count": 75,
   "id": "a64343a5-a5d4-49a4-8168-79bd6b9d7295",
   "metadata": {
    "slideshow": {
     "slide_type": "slide"
    }
   },
   "outputs": [],
   "source": [
    "def print_lines(*args):\n",
    "    for element in args:\n",
    "        print(element)"
   ]
  },
  {
   "cell_type": "code",
   "execution_count": 76,
   "id": "18fd3fab-6fb3-431f-a619-2ce8b4e3704a",
   "metadata": {
    "slideshow": {
     "slide_type": "fragment"
    }
   },
   "outputs": [
    {
     "name": "stdout",
     "output_type": "stream",
     "text": [
      "hi\n",
      "goodbye\n"
     ]
    }
   ],
   "source": [
    "print_lines(\"hi\", \"goodbye\")"
   ]
  },
  {
   "cell_type": "code",
   "execution_count": 77,
   "id": "52b38b3e-ae27-4c9c-8d15-d661fad9f8b2",
   "metadata": {
    "slideshow": {
     "slide_type": "fragment"
    }
   },
   "outputs": [
    {
     "name": "stdout",
     "output_type": "stream",
     "text": [
      "1\n",
      "5\n",
      "7\n",
      "9\n",
      "10\n"
     ]
    }
   ],
   "source": [
    "print_lines(1, 5, 7, 9, 10)"
   ]
  },
  {
   "cell_type": "markdown",
   "id": "30189973-4349-49fd-8393-355f8d5df67c",
   "metadata": {
    "slideshow": {
     "slide_type": "slide"
    }
   },
   "source": [
    "The complement of gather is scatter. If you have a sequence of values and you want to pass it to a function as multiple arguments, you can use the `*` operator.\n",
    "\n",
    "For example, the `my_divide` function from earlier takes exactly two arguments; it doesn’t work with a tuple:"
   ]
  },
  {
   "cell_type": "code",
   "execution_count": 78,
   "id": "6f7512b7-670f-47e3-aa0a-b2df4b880b8d",
   "metadata": {
    "slideshow": {
     "slide_type": "fragment"
    }
   },
   "outputs": [],
   "source": [
    "def my_divide(x, y):\n",
    "    integer = x // y\n",
    "    remainder = x % y\n",
    "    return integer, remainder"
   ]
  },
  {
   "cell_type": "code",
   "execution_count": 79,
   "id": "50275f36-f087-461d-b9d5-5380fbc45ef9",
   "metadata": {
    "slideshow": {
     "slide_type": "fragment"
    }
   },
   "outputs": [],
   "source": [
    "t = (23, 5) # passing a tuple is wrong here"
   ]
  },
  {
   "cell_type": "code",
   "execution_count": 80,
   "id": "247ad9b6-e5c7-493f-a9d1-39379aeb4555",
   "metadata": {
    "slideshow": {
     "slide_type": "fragment"
    },
    "tags": [
     "raises-exception"
    ]
   },
   "outputs": [
    {
     "ename": "TypeError",
     "evalue": "my_divide() missing 1 required positional argument: 'y'",
     "output_type": "error",
     "traceback": [
      "\u001b[0;31m---------------------------------------------------------------------------\u001b[0m",
      "\u001b[0;31mTypeError\u001b[0m                                 Traceback (most recent call last)",
      "Cell \u001b[0;32mIn[80], line 1\u001b[0m\n\u001b[0;32m----> 1\u001b[0m \u001b[43mmy_divide\u001b[49m\u001b[43m(\u001b[49m\u001b[43mt\u001b[49m\u001b[43m)\u001b[49m\n",
      "\u001b[0;31mTypeError\u001b[0m: my_divide() missing 1 required positional argument: 'y'"
     ]
    }
   ],
   "source": [
    "my_divide(t)"
   ]
  },
  {
   "cell_type": "code",
   "execution_count": 81,
   "id": "da4a487e-0738-48fb-a767-8120fa90a6c8",
   "metadata": {
    "slideshow": {
     "slide_type": "slide"
    },
    "tags": []
   },
   "outputs": [
    {
     "data": {
      "text/plain": [
       "(4, 3)"
      ]
     },
     "execution_count": 81,
     "metadata": {},
     "output_type": "execute_result"
    }
   ],
   "source": [
    "my_divide(*t) # add the * for flexibility"
   ]
  },
  {
   "cell_type": "markdown",
   "id": "e79428f7-daf6-4b5c-8899-a089e40f0e6d",
   "metadata": {
    "slideshow": {
     "slide_type": "slide"
    }
   },
   "source": [
    "## Zipping Lists, Tuples and other iterables\n",
    "\n",
    "`zip()` is a built-in function that takes two or more sequences and interleaves their corresponding elements. The name of the function refers to a zipper, which interleaves two rows of teeth."
   ]
  },
  {
   "cell_type": "code",
   "execution_count": 82,
   "id": "30fec5b7-c7e8-4c80-8a41-4bbb4c146084",
   "metadata": {
    "slideshow": {
     "slide_type": "fragment"
    }
   },
   "outputs": [
    {
     "data": {
      "text/plain": [
       "<zip at 0x10589d3c0>"
      ]
     },
     "execution_count": 82,
     "metadata": {},
     "output_type": "execute_result"
    }
   ],
   "source": [
    "s = 'abc'\n",
    "t = 0, 1, 2\n",
    "zip(s, t)"
   ]
  },
  {
   "cell_type": "code",
   "execution_count": 83,
   "id": "96bfcda3-2447-4ce3-8fab-458360f72169",
   "metadata": {
    "slideshow": {
     "slide_type": "fragment"
    },
    "tags": []
   },
   "outputs": [
    {
     "name": "stdout",
     "output_type": "stream",
     "text": [
      "('a', 0)\n",
      "('b', 1)\n",
      "('c', 2)\n"
     ]
    }
   ],
   "source": [
    "for pairs in zip(s, t):\n",
    "    print(pairs)"
   ]
  },
  {
   "cell_type": "markdown",
   "id": "368100a9-22f3-4bed-8174-151f247b0a7a",
   "metadata": {},
   "source": [
    "A zip object is a kind of iterator, which is any object that iterates through a sequence.\n",
    "Iterators are similar to lists in some ways, but unlike lists, iterators do not support indexing."
   ]
  },
  {
   "cell_type": "markdown",
   "id": "bdd0a38e-e47a-4674-a0e4-a26120821889",
   "metadata": {
    "slideshow": {
     "slide_type": "slide"
    }
   },
   "source": [
    "If you want, you can put the zip object inside a list.\n",
    "\n",
    "It will return a list of tuples"
   ]
  },
  {
   "cell_type": "code",
   "execution_count": 84,
   "id": "048e14af-f891-4321-b561-0e3b62212355",
   "metadata": {
    "slideshow": {
     "slide_type": "fragment"
    }
   },
   "outputs": [
    {
     "data": {
      "text/plain": [
       "[('a', 0), ('b', 1), ('c', 2)]"
      ]
     },
     "execution_count": 84,
     "metadata": {},
     "output_type": "execute_result"
    }
   ],
   "source": [
    "list(zip(s,t))"
   ]
  },
  {
   "cell_type": "markdown",
   "id": "03daeda1-8198-489e-a6f7-13f59367406e",
   "metadata": {
    "slideshow": {
     "slide_type": "fragment"
    }
   },
   "source": [
    "If the sequences are not the same length, the result has the length of the shorter one.\n"
   ]
  },
  {
   "cell_type": "code",
   "execution_count": 85,
   "id": "f028b579-62c6-4e85-bfb1-a664848c1534",
   "metadata": {
    "slideshow": {
     "slide_type": "fragment"
    }
   },
   "outputs": [
    {
     "data": {
      "text/plain": [
       "[('A', 'E'), ('n', 'l'), ('n', 'k')]"
      ]
     },
     "execution_count": 85,
     "metadata": {},
     "output_type": "execute_result"
    }
   ],
   "source": [
    "list(zip(\"Anne\" , \"Elk\" ))"
   ]
  },
  {
   "cell_type": "markdown",
   "id": "ed321cb1-f9d0-4cbd-847e-d0a19d38bf9f",
   "metadata": {
    "slideshow": {
     "slide_type": "slide"
    }
   },
   "source": [
    "If you have a list of tuples, you can iterate over them by unpacking the elements."
   ]
  },
  {
   "cell_type": "code",
   "execution_count": 86,
   "id": "fdfdc045-f942-4b32-90fd-bdada3ba8b23",
   "metadata": {
    "slideshow": {
     "slide_type": "fragment"
    }
   },
   "outputs": [
    {
     "name": "stdout",
     "output_type": "stream",
     "text": [
      "0 a\n",
      "1 b\n",
      "2 c\n"
     ]
    }
   ],
   "source": [
    "t = [('a', 0), ('b', 1), ('c', 2)]\n",
    "for letter, number in t:\n",
    "    print(number, letter)"
   ]
  },
  {
   "cell_type": "markdown",
   "id": "25eaf76e-643f-409c-9c78-74f5ad328fd6",
   "metadata": {
    "slideshow": {
     "slide_type": "slide"
    },
    "tags": []
   },
   "source": [
    "## Zipping multiple iterables\n",
    "\n",
    "You can zip more than two iterables together. Zip will create tuples with all of the items interwoven."
   ]
  },
  {
   "cell_type": "code",
   "execution_count": 87,
   "id": "249a6f8b-272d-45c2-859a-950db368113c",
   "metadata": {},
   "outputs": [],
   "source": [
    "iterable1 = \"abcde\"\n",
    "iterable2 = range(5)\n",
    "iterable3 = [\"apple\",\"banana\",\"coconut\",\"date\",\"elderberry\"]\n",
    "iterable4 = (2,3,5,7,11)\n",
    "x = zip(iterable1, iterable2, iterable3, iterable4)"
   ]
  },
  {
   "cell_type": "code",
   "execution_count": 88,
   "id": "131562c8-f67e-4759-8e86-0a96fd237a1c",
   "metadata": {},
   "outputs": [
    {
     "data": {
      "text/plain": [
       "[('a', 0, 'apple', 2),\n",
       " ('b', 1, 'banana', 3),\n",
       " ('c', 2, 'coconut', 5),\n",
       " ('d', 3, 'date', 7),\n",
       " ('e', 4, 'elderberry', 11)]"
      ]
     },
     "execution_count": 88,
     "metadata": {},
     "output_type": "execute_result"
    }
   ],
   "source": [
    "list(x)"
   ]
  },
  {
   "cell_type": "markdown",
   "id": "77000be7-de7d-4d6a-b0ca-0137e4fce4ce",
   "metadata": {
    "slideshow": {
     "slide_type": "slide"
    }
   },
   "source": [
    "A useful snippet of code that will traverse two iterables and see if there both share a certain element in the same position."
   ]
  },
  {
   "cell_type": "code",
   "execution_count": 89,
   "id": "61fee18e-bdc9-4144-aeaf-2111681a696e",
   "metadata": {
    "slideshow": {
     "slide_type": "fragment"
    }
   },
   "outputs": [],
   "source": [
    "def has_match(t1, t2):\n",
    "    for x, y in zip(t1, t2):\n",
    "        if x == y:\n",
    "            return True\n",
    "    return False"
   ]
  },
  {
   "cell_type": "code",
   "execution_count": 90,
   "id": "c265fba2-11e3-44a9-86e8-5109cb74270f",
   "metadata": {
    "slideshow": {
     "slide_type": "fragment"
    }
   },
   "outputs": [
    {
     "data": {
      "text/plain": [
       "False"
      ]
     },
     "execution_count": 90,
     "metadata": {},
     "output_type": "execute_result"
    }
   ],
   "source": [
    "has_match(('a', 'b', 'c'), ('d', 'e', 'f'))"
   ]
  },
  {
   "cell_type": "code",
   "execution_count": 91,
   "id": "11c613de-b4d0-44fe-98f1-23f8dc271e64",
   "metadata": {
    "slideshow": {
     "slide_type": "slide"
    },
    "tags": []
   },
   "outputs": [
    {
     "data": {
      "text/plain": [
       "True"
      ]
     },
     "execution_count": 91,
     "metadata": {},
     "output_type": "execute_result"
    }
   ],
   "source": [
    "has_match(('a', 'b', 'c'), ('d', 'e', 'c'))"
   ]
  },
  {
   "cell_type": "code",
   "execution_count": 92,
   "id": "18a6f260-9aad-45d9-a7b2-f53438d10b00",
   "metadata": {
    "slideshow": {
     "slide_type": "fragment"
    }
   },
   "outputs": [
    {
     "data": {
      "text/plain": [
       "False"
      ]
     },
     "execution_count": 92,
     "metadata": {},
     "output_type": "execute_result"
    }
   ],
   "source": [
    "has_match(('a', 'b', 'c', 'd'), ('d', 'c', 'b', 'a'))"
   ]
  },
  {
   "cell_type": "markdown",
   "id": "287a04b9-4d43-45a3-8528-af7e9091c4ec",
   "metadata": {
    "slideshow": {
     "slide_type": "slide"
    }
   },
   "source": [
    "### `enumerate()`\n",
    "\n",
    "The built-in function enumerate is useful. It takes an iterable and returns an iterator of the index paired with the elements\n",
    "You can think of `enumerate()` as zipping a range object of the same length with the iterable."
   ]
  },
  {
   "cell_type": "code",
   "execution_count": 93,
   "id": "d8bdb3c1-883d-451f-9601-079376ad8a03",
   "metadata": {
    "slideshow": {
     "slide_type": "fragment"
    }
   },
   "outputs": [
    {
     "data": {
      "text/plain": [
       "<enumerate at 0x105e74900>"
      ]
     },
     "execution_count": 93,
     "metadata": {},
     "output_type": "execute_result"
    }
   ],
   "source": [
    "enumerate(\"morning\")"
   ]
  },
  {
   "cell_type": "code",
   "execution_count": 94,
   "id": "087808d2-f056-4df3-bdb5-fefffc8caba9",
   "metadata": {
    "slideshow": {
     "slide_type": "fragment"
    }
   },
   "outputs": [
    {
     "name": "stdout",
     "output_type": "stream",
     "text": [
      "0 m\n",
      "1 o\n",
      "2 r\n",
      "3 n\n",
      "4 i\n",
      "5 n\n",
      "6 g\n"
     ]
    }
   ],
   "source": [
    "for index, value in enumerate(\"morning\"):\n",
    "    print(index, value)"
   ]
  },
  {
   "cell_type": "markdown",
   "id": "39ec9b49-73a1-4a55-96c7-5b1799552e5c",
   "metadata": {
    "slideshow": {
     "slide_type": "slide"
    },
    "tags": []
   },
   "source": [
    "### Some applications\n",
    "\n",
    "by using enumerate() inside a list comprehension to iterate over the blood_sugar list, keeping track of the index and blood_sugar simultaneously. We can filter the indices based on the condition that the blood_sugar exceeds the threshold."
   ]
  },
  {
   "cell_type": "code",
   "execution_count": 95,
   "id": "77ac33fe-bdbb-4c75-9347-c45c418cccae",
   "metadata": {
    "tags": []
   },
   "outputs": [
    {
     "name": "stdout",
     "output_type": "stream",
     "text": [
      "[2, 6, 7]\n"
     ]
    }
   ],
   "source": [
    "blood_sugar = [85, 90, 178, 112, 88, 125, 155, 289]\n",
    "diabetes_threshold = 126\n",
    "\n",
    "# pairing a list comprehension with enumerate()\n",
    "above_threshold_indices = [index for index, bs in enumerate(blood_sugar) if bs > diabetes_threshold]\n",
    "\n",
    "print(above_threshold_indices)  # Output: [2, 6, 7]"
   ]
  },
  {
   "cell_type": "markdown",
   "id": "3c98e3ac-52f8-4b1d-8f43-0d76f3ed7f51",
   "metadata": {
    "slideshow": {
     "slide_type": "slide"
    },
    "tags": []
   },
   "source": [
    "### Other uses\n",
    "\n",
    "- By zipping a range and a list we create a data structure that stores both the index and the value of each element in a new list.\n",
    "\n",
    "- If we have multiple lists where the elements at the same positions are related, zip() can combine them into tuples that store the related elements together.\n",
    "\n",
    "- zip() can be used as input to create a dictionary (next lecture), where one iterable represents the keys and the other iterable represents the values. "
   ]
  },
  {
   "cell_type": "code",
   "execution_count": 96,
   "id": "18064a8f-39c1-4972-aeff-fa4944e963a0",
   "metadata": {
    "tags": []
   },
   "outputs": [
    {
     "data": {
      "text/plain": [
       "[(1, 'a', 'alpha'), (2, 'b', 'bravo'), (3, 'c', 'charlie'), (4, 'd', 'delta')]"
      ]
     },
     "execution_count": 96,
     "metadata": {},
     "output_type": "execute_result"
    }
   ],
   "source": [
    "list(zip(range(1,5),['a','b','c','d'], [\"alpha\", \"bravo\", \"charlie\", \"delta\"]))  # zipping a range object with a list"
   ]
  },
  {
   "cell_type": "markdown",
   "id": "56656f78-eb9b-45fd-bc70-fdc0194f173c",
   "metadata": {
    "slideshow": {
     "slide_type": "slide"
    },
    "tags": []
   },
   "source": [
    "<h1> Statistics 21 <br/> Have a good night! </h1>"
   ]
  },
  {
   "cell_type": "raw",
   "id": "35833246-21dc-4b69-acaf-fe4b5cbbf41d",
   "metadata": {
    "slideshow": {
     "slide_type": "-"
    },
    "tags": []
   },
   "source": [
    "<script>\n",
    "    setBackgroundImage(\"Window1.jpg\", \"black\");\n",
    "</script>"
   ]
  }
 ],
 "metadata": {
  "kernelspec": {
   "display_name": "Python 3 (ipykernel)",
   "language": "python",
   "name": "python3"
  },
  "language_info": {
   "codemirror_mode": {
    "name": "ipython",
    "version": 3
   },
   "file_extension": ".py",
   "mimetype": "text/x-python",
   "name": "python",
   "nbconvert_exporter": "python",
   "pygments_lexer": "ipython3",
   "version": "3.11.3"
  }
 },
 "nbformat": 4,
 "nbformat_minor": 5
}
