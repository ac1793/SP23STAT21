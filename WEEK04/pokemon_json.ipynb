{
 "cells": [
  {
   "cell_type": "code",
   "execution_count": 1,
   "id": "6fb3b89a-d466-4fce-9341-3f4f903d2353",
   "metadata": {
    "tags": []
   },
   "outputs": [
    {
     "data": {
      "text/plain": [
       "list"
      ]
     },
     "execution_count": 1,
     "metadata": {},
     "output_type": "execute_result"
    }
   ],
   "source": [
    "import requests\n",
    "\n",
    "url = 'https://raw.githubusercontent.com/fanzeyi/pokemon.json/master/pokedex.json'\n",
    "response = requests.get(url)\n",
    "data = response.json()\n",
    "\n",
    "type(data)"
   ]
  },
  {
   "cell_type": "code",
   "execution_count": 2,
   "id": "605a752b-7a71-4c99-bcca-25b9c8fcba7d",
   "metadata": {
    "tags": []
   },
   "outputs": [
    {
     "data": {
      "text/plain": [
       "[{'id': 1,\n",
       "  'name': {'english': 'Bulbasaur',\n",
       "   'japanese': 'フシギダネ',\n",
       "   'chinese': '妙蛙种子',\n",
       "   'french': 'Bulbizarre'},\n",
       "  'type': ['Grass', 'Poison'],\n",
       "  'base': {'HP': 45,\n",
       "   'Attack': 49,\n",
       "   'Defense': 49,\n",
       "   'Sp. Attack': 65,\n",
       "   'Sp. Defense': 65,\n",
       "   'Speed': 45}},\n",
       " {'id': 2,\n",
       "  'name': {'english': 'Ivysaur',\n",
       "   'japanese': 'フシギソウ',\n",
       "   'chinese': '妙蛙草',\n",
       "   'french': 'Herbizarre'},\n",
       "  'type': ['Grass', 'Poison'],\n",
       "  'base': {'HP': 60,\n",
       "   'Attack': 62,\n",
       "   'Defense': 63,\n",
       "   'Sp. Attack': 80,\n",
       "   'Sp. Defense': 80,\n",
       "   'Speed': 60}},\n",
       " {'id': 3,\n",
       "  'name': {'english': 'Venusaur',\n",
       "   'japanese': 'フシギバナ',\n",
       "   'chinese': '妙蛙花',\n",
       "   'french': 'Florizarre'},\n",
       "  'type': ['Grass', 'Poison'],\n",
       "  'base': {'HP': 80,\n",
       "   'Attack': 82,\n",
       "   'Defense': 83,\n",
       "   'Sp. Attack': 100,\n",
       "   'Sp. Defense': 100,\n",
       "   'Speed': 80}}]"
      ]
     },
     "execution_count": 2,
     "metadata": {},
     "output_type": "execute_result"
    }
   ],
   "source": [
    "data[:3]"
   ]
  },
  {
   "cell_type": "code",
   "execution_count": null,
   "id": "52b757d9-bf55-4c12-843a-88294823e1fd",
   "metadata": {
    "tags": []
   },
   "outputs": [],
   "source": [
    "# can you extract the name? any one of the languages is OK\n",
    "# what are the steps?\n"
   ]
  },
  {
   "cell_type": "code",
   "execution_count": null,
   "id": "4ea4a5fb-ea40-40d1-9f01-37816a51fa18",
   "metadata": {
    "tags": []
   },
   "outputs": [],
   "source": [
    "# can you extract the base speed? \n",
    "# what are the steps?\n",
    "\n"
   ]
  },
  {
   "cell_type": "code",
   "execution_count": null,
   "id": "23142e5d-7a54-4e12-9519-ff42fb9a264b",
   "metadata": {
    "tags": []
   },
   "outputs": [],
   "source": [
    "## can you find the name of the Pokemon whose base speed is 160?\n",
    "target_speed = 160\n",
    "\n",
    "\n"
   ]
  }
 ],
 "metadata": {
  "kernelspec": {
   "display_name": "Python 3 (ipykernel)",
   "language": "python",
   "name": "python3"
  },
  "language_info": {
   "codemirror_mode": {
    "name": "ipython",
    "version": 3
   },
   "file_extension": ".py",
   "mimetype": "text/x-python",
   "name": "python",
   "nbconvert_exporter": "python",
   "pygments_lexer": "ipython3",
   "version": "3.10.8"
  }
 },
 "nbformat": 4,
 "nbformat_minor": 5
}
