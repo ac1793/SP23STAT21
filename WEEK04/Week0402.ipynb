{
 "cells": [
  {
   "cell_type": "raw",
   "id": "1402dfa0-0ee3-4433-8d9b-c6602cdd177a",
   "metadata": {},
   "source": [
    "<script>\n",
    "    function findAncestor (el, name) {\n",
    "        while ((el = el.parentElement) && el.nodeName.toLowerCase() !== name);\n",
    "        return el;\n",
    "    }\n",
    "    function colorAll(el, textColor) {\n",
    "        el.style.color = textColor;\n",
    "        Array.from(el.children).forEach((e) => {colorAll(e, textColor);});\n",
    "    }\n",
    "    function setBackgroundImage(src, textColor) {\n",
    "        var section = findAncestor(document.currentScript, \"section\");\n",
    "        if (section) {\n",
    "            section.setAttribute(\"data-background-image\", src);\n",
    "\t\t\tif (textColor) colorAll(section, textColor);\n",
    "        }\n",
    "    }\n",
    "</script>"
   ]
  },
  {
   "cell_type": "raw",
   "id": "62d15e31-a15b-4c2e-948b-e3a1b328ee88",
   "metadata": {},
   "source": [
    "<style>\n",
    "h1 {\n",
    "  border: 1.5px solid #333;\n",
    "  padding: 8px 12px;\n",
    "  background-image: linear-gradient(#2774AE,#ebf8e1, #FFD100);\n",
    "  position: static;\n",
    "}\n",
    "</style>"
   ]
  },
  {
   "cell_type": "markdown",
   "id": "b5776615-322c-41cb-9d9f-83170441b5b7",
   "metadata": {},
   "source": [
    "<h1 style='color:white'> Statistics 21 <br/> Python & Other Technologies for Data Science </h1>\n",
    "\n",
    "<h3 style='color:white'>Vivian Lew, PhD - Wednesday, Week 4</h3>"
   ]
  },
  {
   "cell_type": "raw",
   "id": "b1f757a0-cb86-4aaa-a444-abef8ed6b22a",
   "metadata": {},
   "source": [
    "<script>\n",
    "    setBackgroundImage(\"Window1.jpg\");\n",
    "</script>"
   ]
  },
  {
   "cell_type": "markdown",
   "id": "d28fa12e-86bb-4026-9578-18c27dd6e2c1",
   "metadata": {
    "slideshow": {
     "slide_type": "slide"
    },
    "tags": []
   },
   "source": [
    "## Dictionaries\n",
    "\n",
    "- Dictionaries are a mutable list-like data structure that stores and manages data in pairs of **keys** and **values**.\n",
    "- In other languages, these are called hash maps (Java) or hash tables (C++).\n",
    "- List items are indexed/accessed by their position but dictionary values are indexed/accessed by their key. \n",
    "- Common operations on a dictionary are storing a value with a key and extracting a value given a key. \n",
    "- Dictionaries use a hash function to store and retrieve data based on keys, which makes lookups of values extremely fast even for very large datasets.\n",
    "- Dictionaries are mutable, so we can add, remove, or modify elements in a dictionary after creation. \n",
    "- Dictionaries can use various data types as keys - strings, numbers, tuples. \n",
    "- Dictionaries can model real life by representing data as key-value pairs"
   ]
  },
  {
   "cell_type": "markdown",
   "id": "6ec4b98a-25e7-4fca-b3af-f5721af21ad1",
   "metadata": {
    "slideshow": {
     "slide_type": "slide"
    },
    "tags": []
   },
   "source": [
    "## Dictionary Creation\n",
    "- We can create dictionaries with the curly braces `{}` and colons `:` in the form `key : value`. \n",
    "- If your keys are strings, you'll need to enclose them with quotes.\n",
    "- The documentation: https://docs.python.org/3/library/stdtypes.html#dict"
   ]
  },
  {
   "cell_type": "code",
   "execution_count": 1,
   "id": "1215ba97-c1cd-4060-a11e-22cca9f0c084",
   "metadata": {
    "slideshow": {
     "slide_type": "fragment"
    },
    "tags": []
   },
   "outputs": [],
   "source": [
    "people = {'adam':25 , 'bob': 19, 'carl': 30}"
   ]
  },
  {
   "cell_type": "code",
   "execution_count": 2,
   "id": "6aa58cf9-4c43-4fc7-873f-e66aeecd4868",
   "metadata": {
    "slideshow": {
     "slide_type": "fragment"
    },
    "tags": []
   },
   "outputs": [
    {
     "data": {
      "text/plain": [
       "{'adam': 25, 'bob': 19, 'carl': 30}"
      ]
     },
     "execution_count": 2,
     "metadata": {},
     "output_type": "execute_result"
    }
   ],
   "source": [
    "people"
   ]
  },
  {
   "cell_type": "markdown",
   "id": "4bb15643-7b8c-4871-b4d5-9d0a3bb0cf02",
   "metadata": {
    "slideshow": {
     "slide_type": "slide"
    },
    "tags": []
   },
   "source": [
    "## Dictionary Creation (cont'd)\n",
    "\n",
    "If all of the keys are simple strings with no spaces, you can create the dictionary directly with `dict()`."
   ]
  },
  {
   "cell_type": "code",
   "execution_count": 3,
   "id": "d84228a1-bcc7-4735-88f3-ce9217cfab73",
   "metadata": {
    "tags": []
   },
   "outputs": [],
   "source": [
    "people2 = dict(adam = 25, bob = 19, carl = 30)"
   ]
  },
  {
   "cell_type": "code",
   "execution_count": 4,
   "id": "4b1ef396-5872-4717-9e56-82b5cea49027",
   "metadata": {
    "tags": []
   },
   "outputs": [
    {
     "data": {
      "text/plain": [
       "{'adam': 25, 'bob': 19, 'carl': 30}"
      ]
     },
     "execution_count": 4,
     "metadata": {},
     "output_type": "execute_result"
    }
   ],
   "source": [
    "people2"
   ]
  },
  {
   "cell_type": "markdown",
   "id": "4af2bde3-0442-4de3-9e13-89adadd8125b",
   "metadata": {
    "slideshow": {
     "slide_type": "slide"
    }
   },
   "source": [
    "### More ways to create a Dictionary\n",
    "Dictionaries can also be created in a few more ways:"
   ]
  },
  {
   "cell_type": "markdown",
   "id": "d372b01c-7278-4472-be10-abc61aec62af",
   "metadata": {},
   "source": [
    "### Call `dict()` on a zip object"
   ]
  },
  {
   "cell_type": "code",
   "execution_count": 5,
   "id": "33e030d7-09ec-4396-a9be-4753a83b8abe",
   "metadata": {
    "slideshow": {
     "slide_type": "fragment"
    },
    "tags": []
   },
   "outputs": [
    {
     "data": {
      "text/plain": [
       "<zip at 0x10cdb4840>"
      ]
     },
     "execution_count": 5,
     "metadata": {},
     "output_type": "execute_result"
    }
   ],
   "source": [
    "# zip two lists together\n",
    "zip(['adam','bob','carl'] , [25, 19, 30])"
   ]
  },
  {
   "cell_type": "markdown",
   "id": "e94b737c-93f5-4132-b1a7-ae3b15956c95",
   "metadata": {},
   "source": [
    "the zip function creates a zip object of tuples which we will put into the dict( ) function"
   ]
  },
  {
   "cell_type": "code",
   "execution_count": 6,
   "id": "87cddc2f-3839-4635-b3c7-33215efc92d0",
   "metadata": {
    "slideshow": {
     "slide_type": "slide"
    },
    "tags": []
   },
   "outputs": [],
   "source": [
    "people3 = dict(zip(['adam','bob','carl'] , [25, 19, 30]))"
   ]
  },
  {
   "cell_type": "code",
   "execution_count": 7,
   "id": "b7c45643-9e05-4a4b-8df4-b9e6c0e6d355",
   "metadata": {
    "tags": []
   },
   "outputs": [
    {
     "data": {
      "text/plain": [
       "{'adam': 25, 'bob': 19, 'carl': 30}"
      ]
     },
     "execution_count": 7,
     "metadata": {},
     "output_type": "execute_result"
    }
   ],
   "source": [
    "people3"
   ]
  },
  {
   "cell_type": "markdown",
   "id": "c1fecdf6-b144-48da-82c8-2a52cc24c3c3",
   "metadata": {
    "slideshow": {
     "slide_type": "slide"
    },
    "tags": []
   },
   "source": [
    "### Use `dict()` on a list of key-value pairs\n"
   ]
  },
  {
   "cell_type": "code",
   "execution_count": 8,
   "id": "0ad1decd-b500-4cc4-9f8b-a2bcf71bc50e",
   "metadata": {
    "slideshow": {
     "slide_type": "fragment"
    },
    "tags": []
   },
   "outputs": [],
   "source": [
    "p4 = [('adam', [25, 150]), ('bob', [19, 121]) , ('carl', [30, 214]) ]\n",
    "people4 = dict(p4)"
   ]
  },
  {
   "cell_type": "code",
   "execution_count": 9,
   "id": "1c4149ef-129c-4074-8052-cd5ae724a7cb",
   "metadata": {
    "tags": []
   },
   "outputs": [
    {
     "data": {
      "text/plain": [
       "{'adam': [25, 150], 'bob': [19, 121], 'carl': [30, 214]}"
      ]
     },
     "execution_count": 9,
     "metadata": {},
     "output_type": "execute_result"
    }
   ],
   "source": [
    "people4"
   ]
  },
  {
   "cell_type": "markdown",
   "id": "517f9efc-4ee7-4083-8bfd-5536bb897b4e",
   "metadata": {
    "slideshow": {
     "slide_type": "slide"
    },
    "tags": []
   },
   "source": [
    "### From the documentation, six equivalent ways:"
   ]
  },
  {
   "cell_type": "code",
   "execution_count": 10,
   "id": "56cba8c5-de4b-4201-ab5c-afff4f722519",
   "metadata": {
    "tags": []
   },
   "outputs": [
    {
     "data": {
      "text/plain": [
       "True"
      ]
     },
     "execution_count": 10,
     "metadata": {},
     "output_type": "execute_result"
    }
   ],
   "source": [
    "a = dict(one=1, two=2, three=3)\n",
    "b = {'one': 1, 'two': 2, 'three': 3}\n",
    "c = dict(zip(['one', 'two', 'three'], [1, 2, 3]))\n",
    "d = dict([('two', 2), ('one', 1), ('three', 3)])\n",
    "e = dict({'three': 3, 'one': 1, 'two': 2})\n",
    "f = dict({'one': 1, 'three': 3}, two=2)\n",
    "a == b == c == d == e == f"
   ]
  },
  {
   "cell_type": "markdown",
   "id": "22cfcb4b-f090-48e4-bd63-c605e93a9d7b",
   "metadata": {},
   "source": [
    "And we create them as a result of other functions"
   ]
  },
  {
   "cell_type": "markdown",
   "id": "9f0a14ba-fc31-4b08-a767-75cf174c7ef0",
   "metadata": {
    "slideshow": {
     "slide_type": "slide"
    }
   },
   "source": [
    "## Accessing items in the dictionary"
   ]
  },
  {
   "cell_type": "code",
   "execution_count": 11,
   "id": "7da5b942-6923-4f26-b3ad-5dae999ea9fe",
   "metadata": {
    "slideshow": {
     "slide_type": "fragment"
    },
    "tags": []
   },
   "outputs": [
    {
     "data": {
      "text/plain": [
       "19"
      ]
     },
     "execution_count": 11,
     "metadata": {},
     "output_type": "execute_result"
    }
   ],
   "source": [
    "people['bob'] # use square brackets and the key"
   ]
  },
  {
   "cell_type": "code",
   "execution_count": 12,
   "id": "4fdc1611-8552-4d68-ba7e-f98e93e3e386",
   "metadata": {
    "slideshow": {
     "slide_type": "fragment"
    },
    "tags": []
   },
   "outputs": [
    {
     "data": {
      "text/plain": [
       "19"
      ]
     },
     "execution_count": 12,
     "metadata": {},
     "output_type": "execute_result"
    }
   ],
   "source": [
    "people.get('bob') # can also be done with method get()"
   ]
  },
  {
   "cell_type": "code",
   "execution_count": 13,
   "id": "84a01757-342b-4dbd-817e-deb269f6cc7a",
   "metadata": {
    "slideshow": {
     "slide_type": "slide"
    },
    "tags": [
     "raises-exception"
    ]
   },
   "outputs": [
    {
     "ename": "KeyError",
     "evalue": "'joe'",
     "output_type": "error",
     "traceback": [
      "\u001b[0;31m---------------------------------------------------------------------------\u001b[0m",
      "\u001b[0;31mKeyError\u001b[0m                                  Traceback (most recent call last)",
      "Cell \u001b[0;32mIn[13], line 2\u001b[0m\n\u001b[1;32m      1\u001b[0m \u001b[38;5;66;03m# if you ask for a key that doesn't exist you get an error\u001b[39;00m\n\u001b[0;32m----> 2\u001b[0m \u001b[43mpeople\u001b[49m\u001b[43m[\u001b[49m\u001b[38;5;124;43m'\u001b[39;49m\u001b[38;5;124;43mjoe\u001b[39;49m\u001b[38;5;124;43m'\u001b[39;49m\u001b[43m]\u001b[49m \n",
      "\u001b[0;31mKeyError\u001b[0m: 'joe'"
     ]
    }
   ],
   "source": [
    "# if you ask for a key that doesn't exist you get an error\n",
    "people['joe'] "
   ]
  },
  {
   "cell_type": "code",
   "execution_count": 14,
   "id": "3d155558-8e1a-422f-95b3-1d09d70ca1ec",
   "metadata": {
    "slideshow": {
     "slide_type": "fragment"
    },
    "tags": []
   },
   "outputs": [
    {
     "name": "stdout",
     "output_type": "stream",
     "text": [
      "None\n"
     ]
    }
   ],
   "source": [
    "# if you use get() and it cannot find, returns None\n",
    "print(people.get('joe'))"
   ]
  },
  {
   "cell_type": "code",
   "execution_count": 15,
   "id": "f9ce93c5-4d84-44cc-a830-3ba5e99ba885",
   "metadata": {
    "slideshow": {
     "slide_type": "slide"
    },
    "tags": []
   },
   "outputs": [
    {
     "data": {
      "text/plain": [
       "0"
      ]
     },
     "execution_count": 15,
     "metadata": {},
     "output_type": "execute_result"
    }
   ],
   "source": [
    "# You can also specify a default value to return if the key is not found\n",
    "people.get('joe', 0) "
   ]
  },
  {
   "cell_type": "markdown",
   "id": "31f6d796-6281-4921-9c57-cfcf91956c3e",
   "metadata": {
    "slideshow": {
     "slide_type": "slide"
    },
    "tags": []
   },
   "source": [
    "## Dictionary keys and values\n",
    "\n",
    "- Dictionary keys can be any **immutable** object: strings, numbers (integers recommended), tuples, etc. \n",
    "- Dictionary keys **must be unique** within a dictionary.\n",
    "- Python uses complex algorithms to determine where the key:value pairs are stored in a dictionary for fast access\n",
    "\n",
    "There is no restriction on what can be a dictionary value. "
   ]
  },
  {
   "cell_type": "code",
   "execution_count": 16,
   "id": "1ad6e795-9a46-42d6-afd9-78c5951d712c",
   "metadata": {
    "slideshow": {
     "slide_type": "fragment"
    },
    "tags": []
   },
   "outputs": [],
   "source": [
    "d = {1:len, 3:{\"first\":\"a\"}, 4:(1, 2), 2:[20, 4, 5]} "
   ]
  },
  {
   "cell_type": "code",
   "execution_count": 17,
   "id": "68d0bb87-e1ca-4d02-b341-b81a36c4096a",
   "metadata": {
    "slideshow": {
     "slide_type": "fragment"
    },
    "tags": []
   },
   "outputs": [
    {
     "data": {
      "text/plain": [
       "<function len(obj, /)>"
      ]
     },
     "execution_count": 17,
     "metadata": {},
     "output_type": "execute_result"
    }
   ],
   "source": [
    "d[1]"
   ]
  },
  {
   "cell_type": "code",
   "execution_count": 18,
   "id": "919e255d-f907-49a0-b020-519a4d6904f0",
   "metadata": {
    "slideshow": {
     "slide_type": "slide"
    },
    "tags": []
   },
   "outputs": [
    {
     "data": {
      "text/plain": [
       "[20, 4, 5]"
      ]
     },
     "execution_count": 18,
     "metadata": {},
     "output_type": "execute_result"
    }
   ],
   "source": [
    "d[2]"
   ]
  },
  {
   "cell_type": "code",
   "execution_count": 19,
   "id": "3daecd94-4bfe-4a23-891f-3ca847eb8a3a",
   "metadata": {
    "slideshow": {
     "slide_type": "fragment"
    },
    "tags": []
   },
   "outputs": [
    {
     "data": {
      "text/plain": [
       "{'first': 'a'}"
      ]
     },
     "execution_count": 19,
     "metadata": {},
     "output_type": "execute_result"
    }
   ],
   "source": [
    "d[3]"
   ]
  },
  {
   "cell_type": "code",
   "execution_count": 20,
   "id": "a58deaa7-223b-499c-a94a-0fd5b205acd2",
   "metadata": {
    "slideshow": {
     "slide_type": "fragment"
    },
    "tags": []
   },
   "outputs": [
    {
     "data": {
      "text/plain": [
       "(1, 2)"
      ]
     },
     "execution_count": 20,
     "metadata": {},
     "output_type": "execute_result"
    }
   ],
   "source": [
    "d[4]"
   ]
  },
  {
   "cell_type": "markdown",
   "id": "e5294546-958e-4210-a368-7d364a08da44",
   "metadata": {
    "slideshow": {
     "slide_type": "slide"
    },
    "tags": []
   },
   "source": [
    "## Basic dictionary operations (USEFUL)\n",
    "\n",
    "To obtain the keys"
   ]
  },
  {
   "cell_type": "code",
   "execution_count": 21,
   "id": "d2c6aacb-1712-4343-b67b-b325b4c5e742",
   "metadata": {
    "tags": []
   },
   "outputs": [
    {
     "data": {
      "text/plain": [
       "['adam', 'bob', 'carl']"
      ]
     },
     "execution_count": 21,
     "metadata": {},
     "output_type": "execute_result"
    }
   ],
   "source": [
    "list(people)"
   ]
  },
  {
   "cell_type": "code",
   "execution_count": 22,
   "id": "7f64ae3e-beb8-4f14-88fe-ad50473f7e66",
   "metadata": {
    "tags": []
   },
   "outputs": [
    {
     "data": {
      "text/plain": [
       "3"
      ]
     },
     "execution_count": 22,
     "metadata": {},
     "output_type": "execute_result"
    }
   ],
   "source": [
    "len(people)"
   ]
  },
  {
   "cell_type": "markdown",
   "id": "af8b5a2b-4314-46d5-b5be-60ea598bc307",
   "metadata": {
    "slideshow": {
     "slide_type": "slide"
    },
    "tags": []
   },
   "source": [
    "We can copy and append"
   ]
  },
  {
   "cell_type": "code",
   "execution_count": 23,
   "id": "a78791ad-5580-4393-adb9-098e8619054a",
   "metadata": {
    "tags": []
   },
   "outputs": [
    {
     "data": {
      "text/plain": [
       "({'adam': [25, 150], 'bob': [19, 121], 'carl': [30, 214]},\n",
       " {'adam': [25, 150], 'bob': [19, 121], 'carl': [30, 214]})"
      ]
     },
     "execution_count": 23,
     "metadata": {},
     "output_type": "execute_result"
    }
   ],
   "source": [
    "shallow_people = people4.copy() # creates a shallow copy\n",
    "people4, shallow_people"
   ]
  },
  {
   "cell_type": "code",
   "execution_count": 24,
   "id": "7e18b402-f811-4374-8aba-8b3a717592ab",
   "metadata": {
    "tags": []
   },
   "outputs": [
    {
     "data": {
      "text/plain": [
       "({'adam': [25, 150, 'baseball'], 'bob': [19, 121], 'carl': [30, 214]},\n",
       " {'adam': [25, 150, 'baseball'], 'bob': [19, 121], 'carl': [30, 214]})"
      ]
     },
     "execution_count": 24,
     "metadata": {},
     "output_type": "execute_result"
    }
   ],
   "source": [
    "people4['adam'].append(\"baseball\")\n",
    "people4, shallow_people"
   ]
  },
  {
   "cell_type": "markdown",
   "id": "27f7b9cc-ffbc-483f-a3df-20b6e99d91f9",
   "metadata": {
    "slideshow": {
     "slide_type": "slide"
    }
   },
   "source": [
    "### hashable keys"
   ]
  },
  {
   "cell_type": "markdown",
   "id": "0b0c2e66-0fd5-4464-b197-bef67f26ab25",
   "metadata": {
    "slideshow": {
     "slide_type": "fragment"
    }
   },
   "source": [
    "- While lists can be values in a dictionary, they cannot be keys. \n",
    "- Only immutable objects are hashable and can serve as keys, so mutable objects like lists or other dictionaries are not allowed to be used as keys."
   ]
  },
  {
   "cell_type": "code",
   "execution_count": 25,
   "id": "952a271e-f4b7-4fac-910a-708e2cbdaf8e",
   "metadata": {},
   "outputs": [],
   "source": [
    "l = [1, 2] # list\n",
    "t = (1, 2) # tuple"
   ]
  },
  {
   "cell_type": "code",
   "execution_count": 26,
   "id": "7149e9fc-edcd-4fc6-b2a5-9e7d79ecbcf2",
   "metadata": {},
   "outputs": [],
   "source": [
    "d = {} # empty dictionary"
   ]
  },
  {
   "cell_type": "code",
   "execution_count": 27,
   "id": "22226cdc-e08d-4fca-a95f-70d1ac128c72",
   "metadata": {
    "slideshow": {
     "slide_type": "slide"
    },
    "tags": [
     "raises-exception"
    ]
   },
   "outputs": [
    {
     "ename": "TypeError",
     "evalue": "unhashable type: 'list'",
     "output_type": "error",
     "traceback": [
      "\u001b[0;31m---------------------------------------------------------------------------\u001b[0m",
      "\u001b[0;31mTypeError\u001b[0m                                 Traceback (most recent call last)",
      "Cell \u001b[0;32mIn[27], line 1\u001b[0m\n\u001b[0;32m----> 1\u001b[0m \u001b[43md\u001b[49m\u001b[43m[\u001b[49m\u001b[43ml\u001b[49m\u001b[43m]\u001b[49m \u001b[38;5;241m=\u001b[39m \u001b[38;5;124m\"\u001b[39m\u001b[38;5;124mwon\u001b[39m\u001b[38;5;124m'\u001b[39m\u001b[38;5;124mt work\u001b[39m\u001b[38;5;124m\"\u001b[39m\n",
      "\u001b[0;31mTypeError\u001b[0m: unhashable type: 'list'"
     ]
    }
   ],
   "source": [
    "d[l] = \"won't work\""
   ]
  },
  {
   "cell_type": "code",
   "execution_count": 28,
   "id": "006f4a1d-d408-475f-9727-5293903b5bf4",
   "metadata": {
    "slideshow": {
     "slide_type": "fragment"
    },
    "tags": []
   },
   "outputs": [
    {
     "data": {
      "text/plain": [
       "{(1, 2): 'this is okay'}"
      ]
     },
     "execution_count": 28,
     "metadata": {},
     "output_type": "execute_result"
    }
   ],
   "source": [
    "d[t] = \"this is okay\" # assign value to key tuple\n",
    "d"
   ]
  },
  {
   "cell_type": "markdown",
   "id": "0c70eef1-584f-4123-883b-76b9d804a2c8",
   "metadata": {},
   "source": [
    "Tuples and other immutable objects are considered \"hashable\". Mutable objects like lists are considered to be unhashable."
   ]
  },
  {
   "cell_type": "markdown",
   "id": "a5665e34-d16a-4051-bb8a-81309d08d4c8",
   "metadata": {
    "slideshow": {
     "slide_type": "slide"
    },
    "tags": []
   },
   "source": [
    "## what is hashable?\n",
    "\n",
    "So one of my favorite websites says:\n",
    "\n",
    "> hashable is a feature of Python objects that tells if the object has a hash value or not. If the object has a hash value then it can be used as a key for a dictionary or as an element in a set.\n",
    "\n",
    "Perhaps the simple way to understand a hash value is it servess as a unique identifier like a student id number.  When we create objects:"
   ]
  },
  {
   "cell_type": "code",
   "execution_count": 29,
   "id": "cda602f7-c4bb-4457-8ed4-c31005baff0e",
   "metadata": {},
   "outputs": [
    {
     "data": {
      "text/plain": [
       "(7957444921743822512, 7957444921743822512)"
      ]
     },
     "execution_count": 29,
     "metadata": {},
     "output_type": "execute_result"
    }
   ],
   "source": [
    "t1 = (1, 5, 6)\n",
    "t2 = (1, 5, 6)\n",
    "hash(t1), hash(t2) # objects which compare equal have the same hash value"
   ]
  },
  {
   "cell_type": "markdown",
   "id": "e49afd45-7f7d-49ee-a312-47537500b793",
   "metadata": {
    "slideshow": {
     "slide_type": "slide"
    }
   },
   "source": [
    "## Duplicate Keys\n",
    "Python will not produce an error if you create a dictionary with duplicated keys.\n",
    "\n",
    "However only the last instance of the unique key will be stored."
   ]
  },
  {
   "cell_type": "code",
   "execution_count": 30,
   "id": "498456ca-1336-410c-b3d4-53b522835f3e",
   "metadata": {},
   "outputs": [],
   "source": [
    "d = {\"a\":1, \"b\":10, \"a\":2, \"b\":0, \"a\": 3}"
   ]
  },
  {
   "cell_type": "code",
   "execution_count": 31,
   "id": "939a7df7-2236-4d31-9a43-e63fa81a746c",
   "metadata": {
    "slideshow": {
     "slide_type": "fragment"
    },
    "tags": []
   },
   "outputs": [
    {
     "data": {
      "text/plain": [
       "{'a': 3, 'b': 0}"
      ]
     },
     "execution_count": 31,
     "metadata": {},
     "output_type": "execute_result"
    }
   ],
   "source": [
    "d"
   ]
  },
  {
   "cell_type": "markdown",
   "id": "cc0d5fd0-da00-43d4-a59c-8e5d53c7b521",
   "metadata": {
    "slideshow": {
     "slide_type": "slide"
    },
    "tags": []
   },
   "source": [
    "So notice \"b\":10 and \"a\":1 are gone"
   ]
  },
  {
   "cell_type": "code",
   "execution_count": 32,
   "id": "bd0f99de-7999-40fb-88bf-526cb09b05d7",
   "metadata": {
    "tags": []
   },
   "outputs": [
    {
     "data": {
      "text/plain": [
       "0"
      ]
     },
     "execution_count": 32,
     "metadata": {},
     "output_type": "execute_result"
    }
   ],
   "source": [
    "d[\"b\"]"
   ]
  },
  {
   "cell_type": "code",
   "execution_count": 33,
   "id": "d450285c-fa1f-4cb0-87ff-353cb3fa6d70",
   "metadata": {},
   "outputs": [
    {
     "data": {
      "text/plain": [
       "3"
      ]
     },
     "execution_count": 33,
     "metadata": {},
     "output_type": "execute_result"
    }
   ],
   "source": [
    "d[\"a\"]"
   ]
  },
  {
   "cell_type": "markdown",
   "id": "7283bd86-07d7-49b3-b191-fc85f4a4470f",
   "metadata": {
    "slideshow": {
     "slide_type": "slide"
    }
   },
   "source": [
    "### Dictionaries are not indexed by position (IMPORTANT)\n",
    "Dictionaries are not indexed by position, so you cannot use numeric indexes. If you provide a number, that number needs be a key in the dictionary."
   ]
  },
  {
   "cell_type": "code",
   "execution_count": 34,
   "id": "95f4f473-f581-4dbc-9731-b9753a95dec1",
   "metadata": {},
   "outputs": [
    {
     "name": "stdout",
     "output_type": "stream",
     "text": [
      "{'adam': 25, 'bob': 19, 'carl': 30}\n"
     ]
    }
   ],
   "source": [
    "print(people)"
   ]
  },
  {
   "cell_type": "code",
   "execution_count": 35,
   "id": "bf001c6a-c011-409a-a6c9-08d5190f4619",
   "metadata": {
    "scrolled": true,
    "slideshow": {
     "slide_type": "fragment"
    },
    "tags": [
     "raises-exception"
    ]
   },
   "outputs": [
    {
     "ename": "KeyError",
     "evalue": "0",
     "output_type": "error",
     "traceback": [
      "\u001b[0;31m---------------------------------------------------------------------------\u001b[0m",
      "\u001b[0;31mKeyError\u001b[0m                                  Traceback (most recent call last)",
      "Cell \u001b[0;32mIn[35], line 1\u001b[0m\n\u001b[0;32m----> 1\u001b[0m \u001b[43mpeople\u001b[49m\u001b[43m[\u001b[49m\u001b[38;5;241;43m0\u001b[39;49m\u001b[43m]\u001b[49m\n",
      "\u001b[0;31mKeyError\u001b[0m: 0"
     ]
    }
   ],
   "source": [
    "people[0]"
   ]
  },
  {
   "cell_type": "markdown",
   "id": "a8a3490a-ff0e-4e4f-8e95-a04c656f6deb",
   "metadata": {
    "slideshow": {
     "slide_type": "slide"
    },
    "tags": []
   },
   "source": [
    "### Dictionaries cannot be sliced\n",
    "\n",
    "You cannot slice a dictionary the way you would with a list. You can only get one value back at a time."
   ]
  },
  {
   "cell_type": "code",
   "execution_count": 36,
   "id": "26ead1d1-bd8a-4e14-86c3-c2a032723e02",
   "metadata": {},
   "outputs": [
    {
     "name": "stdout",
     "output_type": "stream",
     "text": [
      "{'adam': 25, 'bob': 19, 'carl': 30}\n"
     ]
    }
   ],
   "source": [
    "print(people)"
   ]
  },
  {
   "cell_type": "code",
   "execution_count": 37,
   "id": "91aa19d3-9320-4666-bed3-b1153851cc32",
   "metadata": {
    "slideshow": {
     "slide_type": "fragment"
    },
    "tags": [
     "raises-exception"
    ]
   },
   "outputs": [
    {
     "ename": "TypeError",
     "evalue": "unhashable type: 'slice'",
     "output_type": "error",
     "traceback": [
      "\u001b[0;31m---------------------------------------------------------------------------\u001b[0m",
      "\u001b[0;31mTypeError\u001b[0m                                 Traceback (most recent call last)",
      "Cell \u001b[0;32mIn[37], line 1\u001b[0m\n\u001b[0;32m----> 1\u001b[0m \u001b[43mpeople\u001b[49m\u001b[43m[\u001b[49m\u001b[38;5;241;43m0\u001b[39;49m\u001b[43m:\u001b[49m\u001b[38;5;241;43m2\u001b[39;49m\u001b[43m]\u001b[49m\n",
      "\u001b[0;31mTypeError\u001b[0m: unhashable type: 'slice'"
     ]
    }
   ],
   "source": [
    "people[0:2]"
   ]
  },
  {
   "cell_type": "code",
   "execution_count": 38,
   "id": "48b880f8-9af6-4a18-8600-f3f2511c4105",
   "metadata": {
    "slideshow": {
     "slide_type": "slide"
    },
    "tags": [
     "raises-exception"
    ]
   },
   "outputs": [
    {
     "ename": "TypeError",
     "evalue": "unhashable type: 'slice'",
     "output_type": "error",
     "traceback": [
      "\u001b[0;31m---------------------------------------------------------------------------\u001b[0m",
      "\u001b[0;31mTypeError\u001b[0m                                 Traceback (most recent call last)",
      "Cell \u001b[0;32mIn[38], line 1\u001b[0m\n\u001b[0;32m----> 1\u001b[0m \u001b[43mpeople\u001b[49m\u001b[43m[\u001b[49m\u001b[38;5;124;43m\"\u001b[39;49m\u001b[38;5;124;43madam\u001b[39;49m\u001b[38;5;124;43m\"\u001b[39;49m\u001b[43m:\u001b[49m\u001b[38;5;124;43m\"\u001b[39;49m\u001b[38;5;124;43mcarl\u001b[39;49m\u001b[38;5;124;43m\"\u001b[39;49m\u001b[43m]\u001b[49m\n",
      "\u001b[0;31mTypeError\u001b[0m: unhashable type: 'slice'"
     ]
    }
   ],
   "source": [
    "people[\"adam\":\"carl\"]"
   ]
  },
  {
   "cell_type": "markdown",
   "id": "35879e1a-bf98-434b-b29f-fb4877eb283d",
   "metadata": {
    "slideshow": {
     "slide_type": "slide"
    }
   },
   "source": [
    "### Checking for an entry\n",
    "The `in` operator applies to the keys. If you want to check the existence of a value, you'll have to use the `dict.values()` view object."
   ]
  },
  {
   "cell_type": "code",
   "execution_count": 39,
   "id": "46771326-6920-4f37-bb00-d530fff7b64e",
   "metadata": {
    "slideshow": {
     "slide_type": "fragment"
    }
   },
   "outputs": [
    {
     "data": {
      "text/plain": [
       "True"
      ]
     },
     "execution_count": 39,
     "metadata": {},
     "output_type": "execute_result"
    }
   ],
   "source": [
    "'adam' in people"
   ]
  },
  {
   "cell_type": "code",
   "execution_count": 40,
   "id": "2c497656-c50f-48b8-a4db-96441bd69b63",
   "metadata": {
    "slideshow": {
     "slide_type": "fragment"
    }
   },
   "outputs": [
    {
     "data": {
      "text/plain": [
       "False"
      ]
     },
     "execution_count": 40,
     "metadata": {},
     "output_type": "execute_result"
    }
   ],
   "source": [
    "19 in people"
   ]
  },
  {
   "cell_type": "code",
   "execution_count": 41,
   "id": "45c85050-5eec-49ab-975e-e55091172175",
   "metadata": {
    "slideshow": {
     "slide_type": "slide"
    },
    "tags": []
   },
   "outputs": [
    {
     "data": {
      "text/plain": [
       "True"
      ]
     },
     "execution_count": 41,
     "metadata": {},
     "output_type": "execute_result"
    }
   ],
   "source": [
    "19 in people.values()"
   ]
  },
  {
   "cell_type": "markdown",
   "id": "1df492f1-fee4-4a7c-a600-456c200dfbda",
   "metadata": {
    "slideshow": {
     "slide_type": "fragment"
    }
   },
   "source": [
    "### Lists vs Dictionaries\n",
    "\n",
    "The `in` operator uses different algorithms for lists and dictionaries. For lists, it searches the elements of the list in order. As the list gets longer, the search time gets longer in direct proportion.\n",
    "\n",
    "Python dictionaries use a data structure called a hashtable that has a remarkable property: the `in` operator takes about the same amount of time no matter how many items are in the dictionary. "
   ]
  },
  {
   "cell_type": "markdown",
   "id": "e39f71e7-7fa6-48a6-ba34-3adaf1eeee7d",
   "metadata": {
    "slideshow": {
     "slide_type": "slide"
    },
    "tags": []
   },
   "source": [
    "## What is a hashtable?\n",
    "\n",
    "- An elegant way to use a dictionary (and they can be extremely large dictionaries, e.g., every social security number in the US and the persons associated)\n",
    "- The `in` operator's average time to search for an element is O(1) (\"order 1\": a constant-time method - previous slide) - size doesn't matter\n",
    "- For a list, the `in` operator worst-case time is O(n) (linear with the size of dictionary, so twice as large means twice as long)\n",
    "- You don't need to possess a deep understanding for Stats 21, but if you are interested in data theory, it's important to possess the ability to construct optimal hash functions\n",
    "- All a hash function does is maps a huge value or string to a small integer that can be used as the index in the hash table.  Check out:\n",
    "\n",
    "https://algs4.cs.princeton.edu/34hash/"
   ]
  },
  {
   "cell_type": "markdown",
   "id": "c720827a-4d11-484e-af72-a59cba0f42eb",
   "metadata": {
    "slideshow": {
     "slide_type": "slide"
    }
   },
   "source": [
    "### Adding and modifying dictionary entries\n",
    "You can use key mapping to create new entries in the dictionary. You can also use it to modify the value associated with a key."
   ]
  },
  {
   "cell_type": "code",
   "execution_count": 42,
   "id": "db0389ac-adce-4352-80c9-1568ef28819c",
   "metadata": {
    "slideshow": {
     "slide_type": "-"
    }
   },
   "outputs": [
    {
     "data": {
      "text/plain": [
       "{'adam': 25, 'bob': 19, 'carl': 30}"
      ]
     },
     "execution_count": 42,
     "metadata": {},
     "output_type": "execute_result"
    }
   ],
   "source": [
    "people"
   ]
  },
  {
   "cell_type": "code",
   "execution_count": 43,
   "id": "1ee6ed7e-e1f9-4008-82ae-5601882fcff5",
   "metadata": {
    "slideshow": {
     "slide_type": "fragment"
    }
   },
   "outputs": [],
   "source": [
    "people['derek'] = 33  # new entry\n",
    "people['adam'] = 26   # modifies existing key-value pair"
   ]
  },
  {
   "cell_type": "code",
   "execution_count": 44,
   "id": "93eb1ca3-5ebb-47e0-8cfa-8bab4a871b96",
   "metadata": {
    "slideshow": {
     "slide_type": "fragment"
    }
   },
   "outputs": [
    {
     "data": {
      "text/plain": [
       "{'adam': 26, 'bob': 19, 'carl': 30, 'derek': 33}"
      ]
     },
     "execution_count": 44,
     "metadata": {},
     "output_type": "execute_result"
    }
   ],
   "source": [
    "people"
   ]
  },
  {
   "cell_type": "markdown",
   "id": "4f6d880f-8f93-477e-8d57-a65f437ffd31",
   "metadata": {
    "slideshow": {
     "slide_type": "slide"
    }
   },
   "source": [
    "### Removing keys from a dictionary\n",
    "\n",
    "To remove a key, use `del`"
   ]
  },
  {
   "cell_type": "code",
   "execution_count": 45,
   "id": "73681753-cbfe-4d3e-bc4b-c991a498e932",
   "metadata": {},
   "outputs": [
    {
     "data": {
      "text/plain": [
       "{'adam': 26, 'bob': 19, 'carl': 30, 'derek': 33}"
      ]
     },
     "execution_count": 45,
     "metadata": {},
     "output_type": "execute_result"
    }
   ],
   "source": [
    "people"
   ]
  },
  {
   "cell_type": "code",
   "execution_count": 46,
   "id": "9e11dd43-c3bd-4f3a-b6fe-26e4a0c8baf7",
   "metadata": {
    "slideshow": {
     "slide_type": "fragment"
    }
   },
   "outputs": [],
   "source": [
    "del people['carl']"
   ]
  },
  {
   "cell_type": "code",
   "execution_count": 47,
   "id": "41e800de-c686-4802-af26-6aeac8fd498c",
   "metadata": {
    "slideshow": {
     "slide_type": "fragment"
    }
   },
   "outputs": [
    {
     "data": {
      "text/plain": [
       "{'adam': 26, 'bob': 19, 'derek': 33}"
      ]
     },
     "execution_count": 47,
     "metadata": {},
     "output_type": "execute_result"
    }
   ],
   "source": [
    "people"
   ]
  },
  {
   "cell_type": "markdown",
   "id": "5009e9ea-5301-4645-919e-d6cb94f4a001",
   "metadata": {
    "slideshow": {
     "slide_type": "slide"
    },
    "tags": []
   },
   "source": [
    "### Dictionary Methods\n",
    "\n",
    "Use `dictionary_name.pop()` to remove an entry from the dictionary while getting the value associated with the key."
   ]
  },
  {
   "cell_type": "code",
   "execution_count": 48,
   "id": "24d7b475-266c-4479-9dba-c6eaa2a29a63",
   "metadata": {
    "slideshow": {
     "slide_type": "fragment"
    },
    "tags": [
     "raises-exception"
    ]
   },
   "outputs": [
    {
     "ename": "TypeError",
     "evalue": "pop expected at least 1 argument, got 0",
     "output_type": "error",
     "traceback": [
      "\u001b[0;31m---------------------------------------------------------------------------\u001b[0m",
      "\u001b[0;31mTypeError\u001b[0m                                 Traceback (most recent call last)",
      "Cell \u001b[0;32mIn[48], line 1\u001b[0m\n\u001b[0;32m----> 1\u001b[0m \u001b[43mpeople\u001b[49m\u001b[38;5;241;43m.\u001b[39;49m\u001b[43mpop\u001b[49m\u001b[43m(\u001b[49m\u001b[43m)\u001b[49m  \u001b[38;5;66;03m# pop method requires a key that exists in the dictionary\u001b[39;00m\n",
      "\u001b[0;31mTypeError\u001b[0m: pop expected at least 1 argument, got 0"
     ]
    }
   ],
   "source": [
    "people.pop()  # pop method requires a key that exists in the dictionary"
   ]
  },
  {
   "cell_type": "code",
   "execution_count": 49,
   "id": "57199f2f-8de3-43a8-bc1e-fe7088643c65",
   "metadata": {
    "slideshow": {
     "slide_type": "slide"
    },
    "tags": []
   },
   "outputs": [
    {
     "data": {
      "text/plain": [
       "26"
      ]
     },
     "execution_count": 49,
     "metadata": {},
     "output_type": "execute_result"
    }
   ],
   "source": [
    "people.pop('adam')"
   ]
  },
  {
   "cell_type": "code",
   "execution_count": 50,
   "id": "4e319479-6add-45b9-a1a9-832a836c064f",
   "metadata": {
    "slideshow": {
     "slide_type": "fragment"
    }
   },
   "outputs": [
    {
     "name": "stdout",
     "output_type": "stream",
     "text": [
      "{'bob': 19, 'derek': 33}\n"
     ]
    }
   ],
   "source": [
    "print(people)"
   ]
  },
  {
   "cell_type": "markdown",
   "id": "e740931c-19c2-496a-a340-8522194c56c1",
   "metadata": {
    "slideshow": {
     "slide_type": "slide"
    }
   },
   "source": [
    "### the `update()` method\n",
    "`dict.update()` can be used to add more keys from another dictionary"
   ]
  },
  {
   "cell_type": "code",
   "execution_count": 51,
   "id": "b0aebdd5-c144-43f6-86e5-2170640d6e5a",
   "metadata": {
    "slideshow": {
     "slide_type": "fragment"
    }
   },
   "outputs": [],
   "source": [
    "peopleA = {'adam':25 , 'bob': 19, 'carl': 30}"
   ]
  },
  {
   "cell_type": "code",
   "execution_count": 52,
   "id": "b7a0671a-9e3c-4f13-b20c-c7a52762154c",
   "metadata": {
    "slideshow": {
     "slide_type": "fragment"
    }
   },
   "outputs": [],
   "source": [
    "peopleB = {'dave':35 , 'earl': 22, 'fred': 27}"
   ]
  },
  {
   "cell_type": "code",
   "execution_count": 53,
   "id": "3c08a326-2ab1-4248-9589-c9b42a679b45",
   "metadata": {
    "slideshow": {
     "slide_type": "fragment"
    }
   },
   "outputs": [],
   "source": [
    "peopleA.update(peopleB)"
   ]
  },
  {
   "cell_type": "code",
   "execution_count": 54,
   "id": "a6d44130-7a2b-4dbc-bbe7-77d7970f5a92",
   "metadata": {
    "slideshow": {
     "slide_type": "fragment"
    }
   },
   "outputs": [
    {
     "data": {
      "text/plain": [
       "{'adam': 25, 'bob': 19, 'carl': 30, 'dave': 35, 'earl': 22, 'fred': 27}"
      ]
     },
     "execution_count": 54,
     "metadata": {},
     "output_type": "execute_result"
    }
   ],
   "source": [
    "peopleA"
   ]
  },
  {
   "cell_type": "markdown",
   "id": "14f4fd67-7add-4867-b560-65a3235f99c0",
   "metadata": {
    "slideshow": {
     "slide_type": "slide"
    }
   },
   "source": [
    "If the dictionary used to update has keys that exist in the first dictionary, the keys will be overwritten with the updated keys."
   ]
  },
  {
   "cell_type": "code",
   "execution_count": 55,
   "id": "eb8b38c9-f1e4-49fb-bb23-6fc8faaabd91",
   "metadata": {
    "slideshow": {
     "slide_type": "fragment"
    }
   },
   "outputs": [
    {
     "data": {
      "text/plain": [
       "{'adam': 25, 'bob': 19, 'carl': 30, 'dave': 35, 'earl': 22, 'fred': 27}"
      ]
     },
     "execution_count": 55,
     "metadata": {},
     "output_type": "execute_result"
    }
   ],
   "source": [
    "peopleA"
   ]
  },
  {
   "cell_type": "code",
   "execution_count": 56,
   "id": "e1bc1d28-90f7-493e-a298-d12a5ceee1e8",
   "metadata": {
    "slideshow": {
     "slide_type": "fragment"
    }
   },
   "outputs": [],
   "source": [
    "peopleC = {'fred':99 , 'gary': 18}"
   ]
  },
  {
   "cell_type": "code",
   "execution_count": 57,
   "id": "09c7a4ad-b7d7-4e6f-82d3-693ec4b0be43",
   "metadata": {
    "slideshow": {
     "slide_type": "fragment"
    }
   },
   "outputs": [],
   "source": [
    "peopleA.update(peopleC)"
   ]
  },
  {
   "cell_type": "code",
   "execution_count": 58,
   "id": "243a4a52-d3ff-4929-9013-9a981bfb8ee1",
   "metadata": {
    "slideshow": {
     "slide_type": "fragment"
    }
   },
   "outputs": [
    {
     "name": "stdout",
     "output_type": "stream",
     "text": [
      "{'adam': 25, 'bob': 19, 'carl': 30, 'dave': 35, 'earl': 22, 'fred': 99, 'gary': 18}\n"
     ]
    }
   ],
   "source": [
    "print(peopleA)"
   ]
  },
  {
   "cell_type": "markdown",
   "id": "c9cc5833-23fe-42d9-8e3b-28b5be13f704",
   "metadata": {
    "slideshow": {
     "slide_type": "slide"
    }
   },
   "source": [
    "## Dictionary view objects\n",
    "\n",
    "Dictionaries support dynamic view objects. This means that the values in the view objects change when the dictionary changes.\n",
    "\n",
    "the view objects are generated by the following methods:\n",
    "\n",
    "- `dict.keys()`\n",
    "- `dict.values()`\n",
    "- `dict.items()`"
   ]
  },
  {
   "cell_type": "code",
   "execution_count": 59,
   "id": "96c2faac-d6e2-4e03-8cef-e1347f7cc8cd",
   "metadata": {
    "slideshow": {
     "slide_type": "fragment"
    }
   },
   "outputs": [],
   "source": [
    "people = {'adam':25 , 'bob': 19, 'carl': 30}"
   ]
  },
  {
   "cell_type": "code",
   "execution_count": 60,
   "id": "1b46e29a-4a6d-4a7c-93ae-956f4c98793c",
   "metadata": {
    "slideshow": {
     "slide_type": "fragment"
    }
   },
   "outputs": [
    {
     "data": {
      "text/plain": [
       "{'adam': 25, 'bob': 19, 'carl': 30}"
      ]
     },
     "execution_count": 60,
     "metadata": {},
     "output_type": "execute_result"
    }
   ],
   "source": [
    "people"
   ]
  },
  {
   "cell_type": "code",
   "execution_count": 61,
   "id": "3e899518-1ed2-4a45-8274-a9965955d50d",
   "metadata": {
    "slideshow": {
     "slide_type": "slide"
    },
    "tags": []
   },
   "outputs": [],
   "source": [
    "names = people.keys()\n",
    "ages = people.values()"
   ]
  },
  {
   "cell_type": "code",
   "execution_count": 62,
   "id": "590e7baa-f305-4efd-b011-91bfd76afcf5",
   "metadata": {
    "slideshow": {
     "slide_type": "fragment"
    }
   },
   "outputs": [
    {
     "data": {
      "text/plain": [
       "dict_keys(['adam', 'bob', 'carl'])"
      ]
     },
     "execution_count": 62,
     "metadata": {},
     "output_type": "execute_result"
    }
   ],
   "source": [
    "names"
   ]
  },
  {
   "cell_type": "code",
   "execution_count": 63,
   "id": "ced4f3ec-bf16-47fb-bc11-20e85b43d2d3",
   "metadata": {
    "slideshow": {
     "slide_type": "slide"
    },
    "tags": []
   },
   "outputs": [
    {
     "data": {
      "text/plain": [
       "dict_values([25, 19, 30])"
      ]
     },
     "execution_count": 63,
     "metadata": {},
     "output_type": "execute_result"
    }
   ],
   "source": [
    "ages"
   ]
  },
  {
   "cell_type": "code",
   "execution_count": 64,
   "id": "7be650a2-66f0-4763-ba88-10652bbf4157",
   "metadata": {
    "slideshow": {
     "slide_type": "fragment"
    },
    "tags": []
   },
   "outputs": [],
   "source": [
    "# I create a new key-value pair in the dictionary\n",
    "people['ed'] = 40"
   ]
  },
  {
   "cell_type": "code",
   "execution_count": 65,
   "id": "2b1dbd65-1a7c-4880-8fcf-9ca8f7a78470",
   "metadata": {
    "slideshow": {
     "slide_type": "fragment"
    }
   },
   "outputs": [
    {
     "data": {
      "text/plain": [
       "dict_keys(['adam', 'bob', 'carl', 'ed'])"
      ]
     },
     "execution_count": 65,
     "metadata": {},
     "output_type": "execute_result"
    }
   ],
   "source": [
    "# without redefining what names or ages are, the view object updates\n",
    "names"
   ]
  },
  {
   "cell_type": "code",
   "execution_count": 66,
   "id": "d6b8ec65-63cf-49bb-baa5-a8f3371f7e44",
   "metadata": {
    "slideshow": {
     "slide_type": "fragment"
    }
   },
   "outputs": [
    {
     "data": {
      "text/plain": [
       "dict_values([25, 19, 30, 40])"
      ]
     },
     "execution_count": 66,
     "metadata": {},
     "output_type": "execute_result"
    }
   ],
   "source": [
    "ages"
   ]
  },
  {
   "cell_type": "markdown",
   "id": "6532fd63-18a2-4d99-9999-9b4c9e245a27",
   "metadata": {
    "slideshow": {
     "slide_type": "slide"
    }
   },
   "source": [
    "view objects support only a few functions: `len()` or `in`\n",
    "\n",
    "If you need to do more, you can convert the view object to a list or other iterable type, but you'll lose the dynamic aspect of the view object"
   ]
  },
  {
   "cell_type": "code",
   "execution_count": 67,
   "id": "a9642a0a-4cec-4332-bfc4-75496e34e167",
   "metadata": {
    "slideshow": {
     "slide_type": "fragment"
    }
   },
   "outputs": [
    {
     "data": {
      "text/plain": [
       "4"
      ]
     },
     "execution_count": 67,
     "metadata": {},
     "output_type": "execute_result"
    }
   ],
   "source": [
    "len(ages)"
   ]
  },
  {
   "cell_type": "code",
   "execution_count": 68,
   "id": "8342f0c7-9f5f-4137-a968-a1bf34a75e49",
   "metadata": {
    "slideshow": {
     "slide_type": "fragment"
    }
   },
   "outputs": [
    {
     "data": {
      "text/plain": [
       "False"
      ]
     },
     "execution_count": 68,
     "metadata": {},
     "output_type": "execute_result"
    }
   ],
   "source": [
    "35 in ages"
   ]
  },
  {
   "cell_type": "code",
   "execution_count": 69,
   "id": "7215de5c-8287-47d0-b850-0fc69e0ad248",
   "metadata": {
    "slideshow": {
     "slide_type": "slide"
    },
    "tags": []
   },
   "outputs": [],
   "source": [
    "age_list = list(ages)"
   ]
  },
  {
   "cell_type": "code",
   "execution_count": 70,
   "id": "5e896c72-cebb-44ad-9210-67b36bfb8b2d",
   "metadata": {
    "slideshow": {
     "slide_type": "fragment"
    }
   },
   "outputs": [
    {
     "data": {
      "text/plain": [
       "[25, 19, 30, 40]"
      ]
     },
     "execution_count": 70,
     "metadata": {},
     "output_type": "execute_result"
    }
   ],
   "source": [
    "age_list"
   ]
  },
  {
   "cell_type": "code",
   "execution_count": 71,
   "id": "d9fba7e5-b08c-4fb3-ab5f-dc3bbea536d6",
   "metadata": {
    "slideshow": {
     "slide_type": "slide"
    }
   },
   "outputs": [],
   "source": [
    "# add a new key-value pair in the dictionary\n",
    "people['frank'] = 29"
   ]
  },
  {
   "cell_type": "code",
   "execution_count": 72,
   "id": "1ff4c54e-6b39-44e5-af2e-1cfc9c79677a",
   "metadata": {
    "slideshow": {
     "slide_type": "fragment"
    }
   },
   "outputs": [
    {
     "data": {
      "text/plain": [
       "dict_values([25, 19, 30, 40, 29])"
      ]
     },
     "execution_count": 72,
     "metadata": {},
     "output_type": "execute_result"
    }
   ],
   "source": [
    "ages # the view object is dynamic"
   ]
  },
  {
   "cell_type": "code",
   "execution_count": 73,
   "id": "ebd9dbbb-8cc4-43db-83d3-c70882415034",
   "metadata": {
    "slideshow": {
     "slide_type": "fragment"
    }
   },
   "outputs": [
    {
     "data": {
      "text/plain": [
       "[25, 19, 30, 40]"
      ]
     },
     "execution_count": 73,
     "metadata": {},
     "output_type": "execute_result"
    }
   ],
   "source": [
    "age_list # the list created earlier is not"
   ]
  },
  {
   "cell_type": "code",
   "execution_count": 74,
   "id": "64609154-2b02-41d8-942d-1c08096c1890",
   "metadata": {
    "slideshow": {
     "slide_type": "slide"
    },
    "tags": [
     "raises-exception"
    ]
   },
   "outputs": [
    {
     "ename": "TypeError",
     "evalue": "'dict_values' object is not subscriptable",
     "output_type": "error",
     "traceback": [
      "\u001b[0;31m---------------------------------------------------------------------------\u001b[0m",
      "\u001b[0;31mTypeError\u001b[0m                                 Traceback (most recent call last)",
      "Cell \u001b[0;32mIn[74], line 1\u001b[0m\n\u001b[0;32m----> 1\u001b[0m \u001b[43mages\u001b[49m\u001b[43m[\u001b[49m\u001b[38;5;241;43m3\u001b[39;49m\u001b[43m]\u001b[49m\n",
      "\u001b[0;31mTypeError\u001b[0m: 'dict_values' object is not subscriptable"
     ]
    }
   ],
   "source": [
    "ages[3]"
   ]
  },
  {
   "cell_type": "code",
   "execution_count": 75,
   "id": "030e04d7-8327-4958-b39e-94e94bb5b79e",
   "metadata": {
    "slideshow": {
     "slide_type": "fragment"
    },
    "tags": [
     "raises-exception"
    ]
   },
   "outputs": [
    {
     "ename": "TypeError",
     "evalue": "'dict_values' object is not subscriptable",
     "output_type": "error",
     "traceback": [
      "\u001b[0;31m---------------------------------------------------------------------------\u001b[0m",
      "\u001b[0;31mTypeError\u001b[0m                                 Traceback (most recent call last)",
      "Cell \u001b[0;32mIn[75], line 1\u001b[0m\n\u001b[0;32m----> 1\u001b[0m \u001b[43mages\u001b[49m\u001b[43m[\u001b[49m\u001b[38;5;124;43m'\u001b[39;49m\u001b[38;5;124;43mbob\u001b[39;49m\u001b[38;5;124;43m'\u001b[39;49m\u001b[43m]\u001b[49m\n",
      "\u001b[0;31mTypeError\u001b[0m: 'dict_values' object is not subscriptable"
     ]
    }
   ],
   "source": [
    "ages['bob']"
   ]
  },
  {
   "cell_type": "markdown",
   "id": "ffe3b389-0327-45d8-a351-6ce2e6ffe218",
   "metadata": {
    "slideshow": {
     "slide_type": "slide"
    },
    "tags": []
   },
   "source": [
    "`.items()` is a view object containing tuples of key-value pairs."
   ]
  },
  {
   "cell_type": "code",
   "execution_count": 76,
   "id": "4a51eacc-4bde-4d48-b250-f08175cd2c81",
   "metadata": {
    "slideshow": {
     "slide_type": "fragment"
    },
    "tags": []
   },
   "outputs": [],
   "source": [
    "dic_items = people.items()"
   ]
  },
  {
   "cell_type": "code",
   "execution_count": 77,
   "id": "76988247-b709-4518-9765-e6e8f6fec497",
   "metadata": {
    "slideshow": {
     "slide_type": "fragment"
    }
   },
   "outputs": [
    {
     "data": {
      "text/plain": [
       "dict_items([('adam', 25), ('bob', 19), ('carl', 30), ('ed', 40), ('frank', 29)])"
      ]
     },
     "execution_count": 77,
     "metadata": {},
     "output_type": "execute_result"
    }
   ],
   "source": [
    "dic_items"
   ]
  },
  {
   "cell_type": "code",
   "execution_count": 78,
   "id": "95ecc64b-7895-402d-b5ab-6759706d5669",
   "metadata": {},
   "outputs": [
    {
     "data": {
      "text/plain": [
       "[('adam', 25), ('bob', 19), ('carl', 30), ('ed', 40), ('frank', 29)]"
      ]
     },
     "execution_count": 78,
     "metadata": {},
     "output_type": "execute_result"
    }
   ],
   "source": [
    "list(people.items())"
   ]
  },
  {
   "cell_type": "markdown",
   "id": "3cadedcd-1ecd-46f8-a25f-68f65aa1c3a2",
   "metadata": {
    "slideshow": {
     "slide_type": "slide"
    }
   },
   "source": [
    "## Application: Using a dictionary as a collection of counters\n",
    "\n",
    "You are given a string and you want to count how many times each letter appears.\n",
    "\n",
    "There are a few ways we can do this.\n",
    "\n",
    "1. You could create 26 variables, one for each letter of the alphabet. Then you could traverse the string and, for each character, increment the corresponding counter, probably using a chained conditional.\n",
    "\n",
    "2. You could create a list with 26 elements. Then you could convert each character to a number (using the built-in function ord), use the number as an index into the list, and increment the appropriate counter.\n",
    "\n",
    "3. You could create a dictionary with characters as keys and counters as the corresponding values. The ﬁrst time you see a character, you would add an item to the dictionary. After that you would increment the value of an existing item. **(best option)**"
   ]
  },
  {
   "cell_type": "markdown",
   "id": "52b0347f-47f3-40e4-9c70-a77106584ee2",
   "metadata": {
    "slideshow": {
     "slide_type": "slide"
    }
   },
   "source": [
    "Let's use the dictionary approach:"
   ]
  },
  {
   "cell_type": "code",
   "execution_count": 79,
   "id": "cd3f7d4c-f6c5-4ab2-8f53-bbf23f4f2a92",
   "metadata": {
    "slideshow": {
     "slide_type": "fragment"
    }
   },
   "outputs": [],
   "source": [
    "def histogram(string):\n",
    "    d = {}\n",
    "    for character in string:\n",
    "        if character not in d:\n",
    "            d[character] = 1\n",
    "        else:\n",
    "            d[character] += 1\n",
    "    return d"
   ]
  },
  {
   "cell_type": "code",
   "execution_count": 80,
   "id": "f9811362-1b1a-46f4-ab22-d2b1cd793de2",
   "metadata": {
    "slideshow": {
     "slide_type": "fragment"
    }
   },
   "outputs": [
    {
     "data": {
      "text/plain": [
       "{'y': 1, 'e': 1, 'l': 2, 'o': 5, 'w': 2, 'd': 2, 'r': 1}"
      ]
     },
     "execution_count": 80,
     "metadata": {},
     "output_type": "execute_result"
    }
   ],
   "source": [
    "h = histogram(\"yellowwooddoor\")\n",
    "h"
   ]
  },
  {
   "cell_type": "markdown",
   "id": "6208bb67-666c-421b-b483-4e7b7338dbdb",
   "metadata": {
    "slideshow": {
     "slide_type": "slide"
    }
   },
   "source": [
    "### Iterating over a dictionary"
   ]
  },
  {
   "cell_type": "code",
   "execution_count": 81,
   "id": "26c79700-2713-4488-bdec-ec60d309cc00",
   "metadata": {
    "slideshow": {
     "slide_type": "fragment"
    }
   },
   "outputs": [
    {
     "name": "stdout",
     "output_type": "stream",
     "text": [
      "y 1\n",
      "e 1\n",
      "l 2\n",
      "o 5\n",
      "w 2\n",
      "d 2\n",
      "r 1\n"
     ]
    }
   ],
   "source": [
    "for key in h:\n",
    "    print(key, h[key])"
   ]
  },
  {
   "cell_type": "markdown",
   "id": "a8adf6a4-d98e-47b2-b71c-2bebc8469775",
   "metadata": {
    "slideshow": {
     "slide_type": "fragment"
    }
   },
   "source": [
    "Beginning with Python 3.7, the order of key-value pairs in a Python dictionary is influenced by the ordering of the key-value pairs at creation. The order in which items were added to the dictionary is the order in which they will be iterated over"
   ]
  },
  {
   "cell_type": "markdown",
   "id": "3d6d5927-a75a-4a37-a3ff-e8b5932b2629",
   "metadata": {
    "slideshow": {
     "slide_type": "slide"
    },
    "tags": []
   },
   "source": [
    "If you need them to appear in alphabetical order you can use `sorted()` on the dictionary"
   ]
  },
  {
   "cell_type": "code",
   "execution_count": 82,
   "id": "ee33974c-307b-4c9c-9299-68cfb5db1dc1",
   "metadata": {
    "slideshow": {
     "slide_type": "fragment"
    }
   },
   "outputs": [
    {
     "name": "stdout",
     "output_type": "stream",
     "text": [
      "d 2\n",
      "e 1\n",
      "l 2\n",
      "o 5\n",
      "r 1\n",
      "w 2\n",
      "y 1\n"
     ]
    }
   ],
   "source": [
    "for key in sorted(h):\n",
    "    print(key, h[key])"
   ]
  },
  {
   "cell_type": "markdown",
   "id": "7c593701-fe74-4567-befe-8561365b2d66",
   "metadata": {
    "slideshow": {
     "slide_type": "slide"
    },
    "tags": []
   },
   "source": [
    "### Dictionary Comprehension\n",
    "\n",
    "- Dictionary comprehension is a concise way to create dictionaries. \n",
    "\n",
    "- One line of code can define and populate the dictionary with key-value pairs. \n",
    "\n",
    "- Dictionary comprehension is similar to list comprehension in syntax but creates a dictionary instead of a list."
   ]
  },
  {
   "cell_type": "markdown",
   "id": "bbdd46e0-47ed-4ed6-a74a-302d89db7156",
   "metadata": {
    "slideshow": {
     "slide_type": "slide"
    },
    "tags": []
   },
   "source": [
    "### Dictionary Comprehesion (syntax)\n",
    "\n",
    "{key_expression: value_expression for item in iterable if condition}\n",
    "\n",
    "- `key_expression:` this generates the dictionary key for each item in the iterable.\n",
    "\n",
    "- `value_expression` this generates the dictionary value for each item in the iterable.\n",
    "\n",
    "- `for item in iterable` the for loop which iterates over each item in the iterable\n",
    "\n",
    "- `if condition` this is optional, used to filter"
   ]
  },
  {
   "cell_type": "code",
   "execution_count": 83,
   "id": "875bd67d-673d-418f-a282-1e59b6e2a912",
   "metadata": {
    "slideshow": {
     "slide_type": "slide"
    },
    "tags": []
   },
   "outputs": [
    {
     "data": {
      "text/plain": [
       "{1868: ('Berkeley', 'UG'),\n",
       " 1905: ('Davis', 'UG'),\n",
       " 1965: ('Irvine', 'UG'),\n",
       " 1919: ('Los Angeles', 'UG'),\n",
       " 2005: ('Merced', 'UG'),\n",
       " 1954: ('Riverside', 'UG'),\n",
       " 1960: ('San Diego', 'UG'),\n",
       " 1909: ('Santa Barbara', 'UG'),\n",
       " 1966: ('Santa Cruz', 'UG')}"
      ]
     },
     "execution_count": 83,
     "metadata": {},
     "output_type": "execute_result"
    }
   ],
   "source": [
    "#{key_expression: value_expression  \n",
    "# for item in iterable if condition}\n",
    "year = (1868, 1905, 1965, 1919, 2005, 1954, 1960, 1864, 1909, 1966)\n",
    "campus = [\"Berkeley\", \"Davis\", \"Irvine\", \"Los Angeles\", \"Merced\", \"Riverside\",\n",
    "          \"San Diego\", \"San Francisco\", \"Santa Barbara\", \"Santa Cruz\"]\n",
    "students = [\"UG\", \"UG\", \"UG\", \"UG\", \"UG\", \"UG\", \"UG\", \"G\", \"UG\",\"UG\"]\n",
    "\n",
    "UC_system = {year: (campus, students) for year, campus, students in \n",
    "             zip (year, campus, students) if students == \"UG\"}\n",
    "UC_system"
   ]
  },
  {
   "cell_type": "markdown",
   "id": "b6c2d187-4c45-42e9-97c2-3249cbf5f2cd",
   "metadata": {
    "slideshow": {
     "slide_type": "slide"
    }
   },
   "source": [
    "### Reverse Lookup Search\n",
    "\n",
    "Dictionaries are designed to return values when you provide the key.\n",
    "\n",
    "If you need to find the key associated with a particular value, it's a bit harder and requires us to perform a search."
   ]
  },
  {
   "cell_type": "code",
   "execution_count": 84,
   "id": "23335fe0-2853-48ef-8339-5f566b552156",
   "metadata": {},
   "outputs": [],
   "source": [
    "def reverse_lookup(dictionary, value):\n",
    "    for key in dictionary:\n",
    "        if dictionary[key] == value:\n",
    "            return key\n",
    "    raise LookupError(\"Value does not appear in dictionary\")"
   ]
  },
  {
   "cell_type": "code",
   "execution_count": 85,
   "id": "6204f339-8050-422d-aab6-2e51486344b6",
   "metadata": {},
   "outputs": [
    {
     "data": {
      "text/plain": [
       "{'y': 1, 'e': 1, 'l': 2, 'o': 5, 'w': 2, 'd': 2, 'r': 1}"
      ]
     },
     "execution_count": 85,
     "metadata": {},
     "output_type": "execute_result"
    }
   ],
   "source": [
    "h"
   ]
  },
  {
   "cell_type": "code",
   "execution_count": 86,
   "id": "81b8162f-a378-4146-8945-952bdf2bd123",
   "metadata": {
    "slideshow": {
     "slide_type": "slide"
    },
    "tags": []
   },
   "outputs": [
    {
     "data": {
      "text/plain": [
       "'l'"
      ]
     },
     "execution_count": 86,
     "metadata": {},
     "output_type": "execute_result"
    }
   ],
   "source": [
    "reverse_lookup(h, 2)"
   ]
  },
  {
   "cell_type": "code",
   "execution_count": 87,
   "id": "17b39390-8c56-42ba-bbc3-2074e2e8f283",
   "metadata": {
    "slideshow": {
     "slide_type": "fragment"
    },
    "tags": [
     "raises-exception"
    ]
   },
   "outputs": [
    {
     "ename": "LookupError",
     "evalue": "Value does not appear in dictionary",
     "output_type": "error",
     "traceback": [
      "\u001b[0;31m---------------------------------------------------------------------------\u001b[0m",
      "\u001b[0;31mLookupError\u001b[0m                               Traceback (most recent call last)",
      "Cell \u001b[0;32mIn[87], line 1\u001b[0m\n\u001b[0;32m----> 1\u001b[0m \u001b[43mreverse_lookup\u001b[49m\u001b[43m(\u001b[49m\u001b[43mh\u001b[49m\u001b[43m,\u001b[49m\u001b[43m \u001b[49m\u001b[38;5;241;43m4\u001b[39;49m\u001b[43m)\u001b[49m\n",
      "Cell \u001b[0;32mIn[84], line 5\u001b[0m, in \u001b[0;36mreverse_lookup\u001b[0;34m(dictionary, value)\u001b[0m\n\u001b[1;32m      3\u001b[0m     \u001b[38;5;28;01mif\u001b[39;00m dictionary[key] \u001b[38;5;241m==\u001b[39m value:\n\u001b[1;32m      4\u001b[0m         \u001b[38;5;28;01mreturn\u001b[39;00m key\n\u001b[0;32m----> 5\u001b[0m \u001b[38;5;28;01mraise\u001b[39;00m \u001b[38;5;167;01mLookupError\u001b[39;00m(\u001b[38;5;124m\"\u001b[39m\u001b[38;5;124mValue does not appear in dictionary\u001b[39m\u001b[38;5;124m\"\u001b[39m)\n",
      "\u001b[0;31mLookupError\u001b[0m: Value does not appear in dictionary"
     ]
    }
   ],
   "source": [
    "reverse_lookup(h, 4)"
   ]
  },
  {
   "cell_type": "markdown",
   "id": "0c3b3d36-2208-4e80-9baa-f25e6201963a",
   "metadata": {
    "slideshow": {
     "slide_type": "slide"
    }
   },
   "source": [
    "## Dictionaries and lists\n",
    "\n",
    "Lists can appear as values in a dictionary. \n",
    "\n",
    "For example, if you are given a dictionary that maps from letters to frequencies, you might want to invert it; that is, create a dictionary that maps from frequencies to letters. Since there might be several letters with the same frequency, each value in the inverted dictionary should be a list of letters."
   ]
  },
  {
   "cell_type": "code",
   "execution_count": 88,
   "id": "b931b025-03c4-4001-9d99-20c31472d036",
   "metadata": {},
   "outputs": [],
   "source": [
    "def invert_dict(d):\n",
    "    inverse = dict()\n",
    "    for key in d:\n",
    "        val = d[key]\n",
    "        if val not in inverse:\n",
    "            inverse[val] = [key]\n",
    "        else:\n",
    "            inverse[val].append(key)\n",
    "    return inverse"
   ]
  },
  {
   "cell_type": "code",
   "execution_count": 89,
   "id": "b926d15d-dad7-4345-8489-acc5782b6d8b",
   "metadata": {
    "slideshow": {
     "slide_type": "slide"
    },
    "tags": []
   },
   "outputs": [],
   "source": [
    "h = histogram(\"beekeeper\")"
   ]
  },
  {
   "cell_type": "code",
   "execution_count": 90,
   "id": "d8d9e11c-d17d-4aef-95d6-4d0b28cd2717",
   "metadata": {},
   "outputs": [
    {
     "data": {
      "text/plain": [
       "{'b': 1, 'e': 5, 'k': 1, 'p': 1, 'r': 1}"
      ]
     },
     "execution_count": 90,
     "metadata": {},
     "output_type": "execute_result"
    }
   ],
   "source": [
    "h"
   ]
  },
  {
   "cell_type": "code",
   "execution_count": 91,
   "id": "99705b8b-dc82-40b7-a48d-be813777b084",
   "metadata": {
    "slideshow": {
     "slide_type": "slide"
    }
   },
   "outputs": [],
   "source": [
    "inverse = invert_dict(h)"
   ]
  },
  {
   "cell_type": "code",
   "execution_count": 92,
   "id": "ddbec5b4-033c-45ec-a032-5b9b7448729d",
   "metadata": {
    "slideshow": {
     "slide_type": "fragment"
    }
   },
   "outputs": [
    {
     "data": {
      "text/plain": [
       "{1: ['b', 'k', 'p', 'r'], 5: ['e']}"
      ]
     },
     "execution_count": 92,
     "metadata": {},
     "output_type": "execute_result"
    }
   ],
   "source": [
    "inverse"
   ]
  },
  {
   "cell_type": "markdown",
   "id": "50a4572d-5ab2-4570-95cc-cec7acf8de63",
   "metadata": {
    "slideshow": {
     "slide_type": "slide"
    },
    "tags": []
   },
   "source": [
    "### Dictionaries and Tuples\n",
    "\n",
    "the dictionary view object, dict.items() is a sequence of tuples."
   ]
  },
  {
   "cell_type": "code",
   "execution_count": 93,
   "id": "a8a1eda9-ae4d-41a5-b4d3-7d5f400f484d",
   "metadata": {
    "slideshow": {
     "slide_type": "fragment"
    }
   },
   "outputs": [],
   "source": [
    "d = {'a':0, 'b':1, 'c':2}"
   ]
  },
  {
   "cell_type": "code",
   "execution_count": 94,
   "id": "c0d75156-09f9-4d00-a832-02f21a95be8e",
   "metadata": {
    "slideshow": {
     "slide_type": "fragment"
    }
   },
   "outputs": [
    {
     "data": {
      "text/plain": [
       "dict_items([('a', 0), ('b', 1), ('c', 2)])"
      ]
     },
     "execution_count": 94,
     "metadata": {},
     "output_type": "execute_result"
    }
   ],
   "source": [
    "d.items()"
   ]
  },
  {
   "cell_type": "code",
   "execution_count": 95,
   "id": "7880e64c-497d-47a5-9ef5-63c495819a28",
   "metadata": {
    "slideshow": {
     "slide_type": "slide"
    },
    "tags": []
   },
   "outputs": [
    {
     "name": "stdout",
     "output_type": "stream",
     "text": [
      "a 0\n",
      "b 1\n",
      "c 2\n"
     ]
    }
   ],
   "source": [
    "for key, value in d.items():\n",
    "    print(key, value)"
   ]
  },
  {
   "cell_type": "code",
   "execution_count": 96,
   "id": "05208a20-3c8d-4b39-b724-1ed1d2609c54",
   "metadata": {
    "slideshow": {
     "slide_type": "slide"
    }
   },
   "outputs": [],
   "source": [
    "d = dict(enumerate(\"efg\"))"
   ]
  },
  {
   "cell_type": "code",
   "execution_count": 97,
   "id": "51c3fc23-8156-42ae-9d98-fccd7063f990",
   "metadata": {
    "slideshow": {
     "slide_type": "fragment"
    }
   },
   "outputs": [
    {
     "data": {
      "text/plain": [
       "{0: 'e', 1: 'f', 2: 'g'}"
      ]
     },
     "execution_count": 97,
     "metadata": {},
     "output_type": "execute_result"
    }
   ],
   "source": [
    "d"
   ]
  },
  {
   "cell_type": "markdown",
   "id": "e11dbc70-9562-4f9d-a477-691b257da157",
   "metadata": {
    "slideshow": {
     "slide_type": "slide"
    },
    "tags": []
   },
   "source": [
    "### Swap the keys and elements in a dictionary"
   ]
  },
  {
   "cell_type": "code",
   "execution_count": 98,
   "id": "e1ecd767-3cf6-42eb-9e6e-9351217d0cc3",
   "metadata": {
    "slideshow": {
     "slide_type": "fragment"
    }
   },
   "outputs": [],
   "source": [
    "swapped = {}\n",
    "for key, value in d.items():\n",
    "    swapped[value] = key"
   ]
  },
  {
   "cell_type": "code",
   "execution_count": 99,
   "id": "7ba99389-b516-4a7d-abc1-93a3a2d9bd62",
   "metadata": {
    "slideshow": {
     "slide_type": "fragment"
    }
   },
   "outputs": [
    {
     "data": {
      "text/plain": [
       "{'e': 0, 'f': 1, 'g': 2}"
      ]
     },
     "execution_count": 99,
     "metadata": {},
     "output_type": "execute_result"
    }
   ],
   "source": [
    "swapped"
   ]
  },
  {
   "cell_type": "code",
   "execution_count": 100,
   "id": "c60adb2d-9161-4cae-a977-569f26a9cc77",
   "metadata": {},
   "outputs": [
    {
     "data": {
      "text/plain": [
       "{'e': 0, 'f': 1, 'g': 2}"
      ]
     },
     "execution_count": 100,
     "metadata": {},
     "output_type": "execute_result"
    }
   ],
   "source": [
    "dict(zip(\"efg\", range(3)))"
   ]
  },
  {
   "cell_type": "markdown",
   "id": "8228c2dc-e9c0-478d-bc9e-0076ac2dd46c",
   "metadata": {
    "slideshow": {
     "slide_type": "slide"
    }
   },
   "source": [
    "We can create dictionaries out of sequences of tuples and with zip objects"
   ]
  },
  {
   "cell_type": "code",
   "execution_count": 101,
   "id": "3470f7a3-af95-485c-be34-4a74c93df3ec",
   "metadata": {
    "slideshow": {
     "slide_type": "fragment"
    }
   },
   "outputs": [
    {
     "data": {
      "text/plain": [
       "{'z': 25, 'y': 24, 'x': 23}"
      ]
     },
     "execution_count": 101,
     "metadata": {},
     "output_type": "execute_result"
    }
   ],
   "source": [
    "l = [('z', 25), ('y', 24), ('x', 23)]\n",
    "dict(l)"
   ]
  },
  {
   "cell_type": "code",
   "execution_count": 102,
   "id": "8248a05c-c9d3-4168-85c0-995d4666718f",
   "metadata": {
    "slideshow": {
     "slide_type": "fragment"
    }
   },
   "outputs": [
    {
     "data": {
      "text/plain": [
       "{'x': 23, 'y': 24, 'z': 25}"
      ]
     },
     "execution_count": 102,
     "metadata": {},
     "output_type": "execute_result"
    }
   ],
   "source": [
    "z = zip('xyz', [23, 24, 25])\n",
    "dict(z)"
   ]
  },
  {
   "cell_type": "markdown",
   "id": "86a170f7-e398-44ae-ad23-d3b1e71f1732",
   "metadata": {
    "slideshow": {
     "slide_type": "slide"
    }
   },
   "source": [
    "### Tuples as dictionary keys\n",
    "Because tuples are immutable, they can be used as keys in a dictionary\n",
    "\n",
    "For example, there might be a 2D function that is very expensive to compute for coordinates. You can create a dictionary that will store all of the values that have been calculated for each 2D pair.\n",
    "\n",
    "Let's say you have a function: $f(x,y) = x^2 + 2y$"
   ]
  },
  {
   "cell_type": "code",
   "execution_count": 103,
   "id": "1ddd4de8-a26e-42ee-9914-924be8765423",
   "metadata": {
    "slideshow": {
     "slide_type": "fragment"
    }
   },
   "outputs": [],
   "source": [
    "# this dictionary contains values that are known solutions\n",
    "known = {(0, 0): 0}"
   ]
  },
  {
   "cell_type": "code",
   "execution_count": 104,
   "id": "55a7b680-e3e1-4b33-898e-d9f42dc7e18b",
   "metadata": {
    "slideshow": {
     "slide_type": "fragment"
    }
   },
   "outputs": [],
   "source": [
    "def f(x, y):\n",
    "    t = (x,y)\n",
    "    if t in known:\n",
    "        print(\"value already exists dictionary\")\n",
    "        return known[t]\n",
    "    print(\"value must be calculated\")\n",
    "    res = x ** 2 + 2 * y\n",
    "    known[t] = res\n",
    "    return res"
   ]
  },
  {
   "cell_type": "code",
   "execution_count": 105,
   "id": "bcbf2310-3491-4a70-b2a4-59ce41074ab5",
   "metadata": {
    "slideshow": {
     "slide_type": "slide"
    }
   },
   "outputs": [
    {
     "name": "stdout",
     "output_type": "stream",
     "text": [
      "value already exists dictionary\n"
     ]
    },
    {
     "data": {
      "text/plain": [
       "0"
      ]
     },
     "execution_count": 105,
     "metadata": {},
     "output_type": "execute_result"
    }
   ],
   "source": [
    "f(0, 0)"
   ]
  },
  {
   "cell_type": "code",
   "execution_count": 106,
   "id": "6c18637c-1086-4b5a-a287-e756bc7e8581",
   "metadata": {
    "slideshow": {
     "slide_type": "fragment"
    }
   },
   "outputs": [
    {
     "name": "stdout",
     "output_type": "stream",
     "text": [
      "value must be calculated\n"
     ]
    },
    {
     "data": {
      "text/plain": [
       "5"
      ]
     },
     "execution_count": 106,
     "metadata": {},
     "output_type": "execute_result"
    }
   ],
   "source": [
    "f(1, 2)"
   ]
  },
  {
   "cell_type": "code",
   "execution_count": 107,
   "id": "038f3676-6b17-4407-b51b-afe9d538a6fb",
   "metadata": {
    "slideshow": {
     "slide_type": "slide"
    },
    "tags": []
   },
   "outputs": [
    {
     "name": "stdout",
     "output_type": "stream",
     "text": [
      "value already exists dictionary\n"
     ]
    },
    {
     "data": {
      "text/plain": [
       "5"
      ]
     },
     "execution_count": 107,
     "metadata": {},
     "output_type": "execute_result"
    }
   ],
   "source": [
    "f(1, 2)"
   ]
  },
  {
   "cell_type": "code",
   "execution_count": 108,
   "id": "2a38982a-001f-4576-93e0-17bf31c659bf",
   "metadata": {
    "slideshow": {
     "slide_type": "fragment"
    }
   },
   "outputs": [
    {
     "data": {
      "text/plain": [
       "{(0, 0): 0, (1, 2): 5}"
      ]
     },
     "execution_count": 108,
     "metadata": {},
     "output_type": "execute_result"
    }
   ],
   "source": [
    "known"
   ]
  },
  {
   "cell_type": "markdown",
   "id": "56656f78-eb9b-45fd-bc70-fdc0194f173c",
   "metadata": {
    "slideshow": {
     "slide_type": "slide"
    },
    "tags": []
   },
   "source": [
    "<h1> Statistics 21 <br/> Have a good night! </h1>"
   ]
  },
  {
   "cell_type": "raw",
   "id": "35833246-21dc-4b69-acaf-fe4b5cbbf41d",
   "metadata": {
    "slideshow": {
     "slide_type": "-"
    },
    "tags": []
   },
   "source": [
    "<script>\n",
    "    setBackgroundImage(\"Window1.jpg\", \"black\");\n",
    "</script>"
   ]
  }
 ],
 "metadata": {
  "kernelspec": {
   "display_name": "Python 3 (ipykernel)",
   "language": "python",
   "name": "python3"
  },
  "language_info": {
   "codemirror_mode": {
    "name": "ipython",
    "version": 3
   },
   "file_extension": ".py",
   "mimetype": "text/x-python",
   "name": "python",
   "nbconvert_exporter": "python",
   "pygments_lexer": "ipython3",
   "version": "3.10.8"
  }
 },
 "nbformat": 4,
 "nbformat_minor": 5
}
