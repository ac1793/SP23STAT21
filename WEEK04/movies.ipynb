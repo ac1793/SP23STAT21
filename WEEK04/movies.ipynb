{
 "cells": [
  {
   "cell_type": "code",
   "execution_count": null,
   "id": "56e0c389-a394-482b-b3e9-2d94a6757585",
   "metadata": {
    "tags": []
   },
   "outputs": [],
   "source": [
    "import requests\n",
    "\n",
    "url = 'https://raw.githubusercontent.com/prust/wikipedia-movie-data/master/movies-2010s.json'\n",
    "\n",
    "response = requests.get(url)\n",
    "data = response.json()\n",
    "\n",
    "type(data)"
   ]
  },
  {
   "cell_type": "code",
   "execution_count": null,
   "id": "58ba23ae-dac0-45f9-941d-ad38ab84de4d",
   "metadata": {
    "tags": []
   },
   "outputs": [],
   "source": [
    "## take a look a the first few\n",
    "\n"
   ]
  },
  {
   "cell_type": "code",
   "execution_count": null,
   "id": "e447883d-9e63-4303-8991-d00b8bb4bf20",
   "metadata": {
    "tags": []
   },
   "outputs": [],
   "source": [
    "## try to show/reveal the title of the first one\n"
   ]
  },
  {
   "cell_type": "code",
   "execution_count": null,
   "id": "98511994-6a2f-469b-b3bd-580d98bc2573",
   "metadata": {
    "tags": []
   },
   "outputs": [],
   "source": [
    "len(data)"
   ]
  },
  {
   "cell_type": "code",
   "execution_count": null,
   "id": "a0a2462d-e6aa-4ea5-a329-5402e9db5045",
   "metadata": {
    "tags": []
   },
   "outputs": [],
   "source": [
    "## can you extract both title and year and zip them?\n",
    "\n",
    "t = [] # lists are a little easier to work with\n",
    "y = []\n",
    "\n",
    "\n"
   ]
  }
 ],
 "metadata": {
  "kernelspec": {
   "display_name": "Python 3 (ipykernel)",
   "language": "python",
   "name": "python3"
  },
  "language_info": {
   "codemirror_mode": {
    "name": "ipython",
    "version": 3
   },
   "file_extension": ".py",
   "mimetype": "text/x-python",
   "name": "python",
   "nbconvert_exporter": "python",
   "pygments_lexer": "ipython3",
   "version": "3.10.8"
  }
 },
 "nbformat": 4,
 "nbformat_minor": 5
}
