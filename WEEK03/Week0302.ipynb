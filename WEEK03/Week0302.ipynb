{
 "cells": [
  {
   "cell_type": "raw",
   "id": "1402dfa0-0ee3-4433-8d9b-c6602cdd177a",
   "metadata": {},
   "source": [
    "<script>\n",
    "    function findAncestor (el, name) {\n",
    "        while ((el = el.parentElement) && el.nodeName.toLowerCase() !== name);\n",
    "        return el;\n",
    "    }\n",
    "    function colorAll(el, textColor) {\n",
    "        el.style.color = textColor;\n",
    "        Array.from(el.children).forEach((e) => {colorAll(e, textColor);});\n",
    "    }\n",
    "    function setBackgroundImage(src, textColor) {\n",
    "        var section = findAncestor(document.currentScript, \"section\");\n",
    "        if (section) {\n",
    "            section.setAttribute(\"data-background-image\", src);\n",
    "\t\t\tif (textColor) colorAll(section, textColor);\n",
    "        }\n",
    "    }\n",
    "</script>"
   ]
  },
  {
   "cell_type": "raw",
   "id": "62d15e31-a15b-4c2e-948b-e3a1b328ee88",
   "metadata": {},
   "source": [
    "<style>\n",
    "h1 {\n",
    "  border: 1.5px solid #333;\n",
    "  padding: 8px 12px;\n",
    "  background-image: linear-gradient(#2774AE,#ebf8e1, #FFD100);\n",
    "  position: static;\n",
    "}\n",
    "</style>"
   ]
  },
  {
   "cell_type": "markdown",
   "id": "b5776615-322c-41cb-9d9f-83170441b5b7",
   "metadata": {},
   "source": [
    "<h1 style='color:white'> Statistics 21 <br/> Python & Other Technologies for Data Science </h1>\n",
    "\n",
    "<h3 style='color:white'>Vivian Lew, PhD - Wednesday, Week 3</h3>"
   ]
  },
  {
   "cell_type": "raw",
   "id": "b1f757a0-cb86-4aaa-a444-abef8ed6b22a",
   "metadata": {},
   "source": [
    "<script>\n",
    "    setBackgroundImage(\"Window1.jpg\");\n",
    "</script>"
   ]
  },
  {
   "cell_type": "markdown",
   "id": "245631b3-223e-4e05-a9f3-8443b5976cbd",
   "metadata": {
    "slideshow": {
     "slide_type": "slide"
    },
    "tags": []
   },
   "source": [
    "# Functions in Python\n",
    "## Many Thanks to Miles Chen, PhD who developed the materials\n",
    "### Adapted from *Think Python* by Allen B. Downey and *A Whirlwind Tour of Python* by Jake VanderPlas"
   ]
  },
  {
   "cell_type": "markdown",
   "id": "d5888c32-0564-4175-9a77-5c37cbccf9a5",
   "metadata": {
    "slideshow": {
     "slide_type": "slide"
    }
   },
   "source": [
    "## Parameters and Arguments\n",
    "\n",
    "Inside a function, the arguments of a function are assigned to variables called parameters."
   ]
  },
  {
   "cell_type": "code",
   "execution_count": 1,
   "id": "697644cf-9f22-4b86-b708-f29795aa132a",
   "metadata": {
    "slideshow": {
     "slide_type": "fragment"
    }
   },
   "outputs": [],
   "source": [
    "# a silly function\n",
    "def print_twice(bruce):\n",
    "    print(bruce)\n",
    "    print(bruce)"
   ]
  },
  {
   "cell_type": "markdown",
   "id": "6356bc64-3e0d-4b44-bd33-fcda0dd186ee",
   "metadata": {
    "slideshow": {
     "slide_type": "fragment"
    }
   },
   "source": [
    "The function assigns the argument to a parameter named `bruce`. When the function is called, it prints the value of the parameter (whatever it is)."
   ]
  },
  {
   "cell_type": "code",
   "execution_count": 2,
   "id": "9108f09a-6cfb-4a60-bdf6-393a8c86b4f5",
   "metadata": {
    "slideshow": {
     "slide_type": "slide"
    },
    "tags": []
   },
   "outputs": [
    {
     "name": "stdout",
     "output_type": "stream",
     "text": [
      "spam\n",
      "spam\n"
     ]
    }
   ],
   "source": [
    "print_twice(\"spam\")"
   ]
  },
  {
   "cell_type": "code",
   "execution_count": 3,
   "id": "701a259f-a3a9-4200-bfa4-f63ffeedb76a",
   "metadata": {
    "slideshow": {
     "slide_type": "fragment"
    },
    "tags": []
   },
   "outputs": [
    {
     "name": "stdout",
     "output_type": "stream",
     "text": [
      "1.0\n",
      "1.0\n"
     ]
    }
   ],
   "source": [
    "import math\n",
    "print_twice(math.sin(math.pi / 2))"
   ]
  },
  {
   "cell_type": "code",
   "execution_count": 4,
   "id": "cd972b96-a7a4-4bbe-8844-8b38c39121ce",
   "metadata": {
    "slideshow": {
     "slide_type": "slide"
    },
    "tags": []
   },
   "outputs": [
    {
     "name": "stdout",
     "output_type": "stream",
     "text": [
      "Spam Spam Spam \n",
      "Spam Spam Spam \n"
     ]
    }
   ],
   "source": [
    "print_twice(\"Spam \" * 3)"
   ]
  },
  {
   "cell_type": "code",
   "execution_count": 5,
   "id": "77c3c19c-933e-4d6c-98fb-23737884a8b1",
   "metadata": {
    "slideshow": {
     "slide_type": "fragment"
    }
   },
   "outputs": [
    {
     "name": "stdout",
     "output_type": "stream",
     "text": [
      "Spam\n",
      "Spam\n",
      "None\n",
      "None\n"
     ]
    }
   ],
   "source": [
    "print_twice(print_twice(\"Spam\"))"
   ]
  },
  {
   "cell_type": "markdown",
   "id": "87e66663-fb65-44b0-a4ab-a074a4f399b6",
   "metadata": {
    "slideshow": {
     "slide_type": "fragment"
    }
   },
   "source": [
    "What happened here?\n",
    "\n",
    "The inner `print_twice()` ran first. It printed \"Spam\" on one line and printed \"Spam\" again on the next line.\n",
    "\n",
    "However, the function `print_twice()` has no return value. It returns `None`. So the outer call of `print_twice()` prints `None` two times."
   ]
  },
  {
   "cell_type": "markdown",
   "id": "c651de10-e44a-4c67-a681-1dbaebdbd8a2",
   "metadata": {
    "slideshow": {
     "slide_type": "slide"
    }
   },
   "source": [
    "## Default arguments\n",
    "\n",
    "you can also specify default arguments that will be used if they are not explicitly provided"
   ]
  },
  {
   "cell_type": "code",
   "execution_count": 6,
   "id": "0ce192ed-c19c-45b4-8273-0f2c0d1ab395",
   "metadata": {
    "slideshow": {
     "slide_type": "fragment"
    }
   },
   "outputs": [],
   "source": [
    "# example without defaults\n",
    "def stuff(a, b, c):\n",
    "    print(a**1, b**2, c**3)"
   ]
  },
  {
   "cell_type": "code",
   "execution_count": 7,
   "id": "99f1399d-5a96-4bba-b509-3bc740142522",
   "metadata": {
    "slideshow": {
     "slide_type": "fragment"
    }
   },
   "outputs": [
    {
     "name": "stdout",
     "output_type": "stream",
     "text": [
      "3 36 729\n"
     ]
    }
   ],
   "source": [
    "stuff(3, 6, 9)"
   ]
  },
  {
   "cell_type": "code",
   "execution_count": 8,
   "id": "80db74d5-9296-4dfd-b427-cb22333d47a1",
   "metadata": {
    "slideshow": {
     "slide_type": "slide"
    },
    "tags": [
     "raises-exception"
    ]
   },
   "outputs": [
    {
     "ename": "TypeError",
     "evalue": "stuff() missing 1 required positional argument: 'c'",
     "output_type": "error",
     "traceback": [
      "\u001b[0;31m---------------------------------------------------------------------------\u001b[0m",
      "\u001b[0;31mTypeError\u001b[0m                                 Traceback (most recent call last)",
      "Cell \u001b[0;32mIn[8], line 1\u001b[0m\n\u001b[0;32m----> 1\u001b[0m \u001b[43mstuff\u001b[49m\u001b[43m(\u001b[49m\u001b[38;5;241;43m1\u001b[39;49m\u001b[43m,\u001b[49m\u001b[43m \u001b[49m\u001b[38;5;241;43m2\u001b[39;49m\u001b[43m)\u001b[49m \u001b[38;5;66;03m# if you do not provide the correct arguments, you get an error\u001b[39;00m\n",
      "\u001b[0;31mTypeError\u001b[0m: stuff() missing 1 required positional argument: 'c'"
     ]
    }
   ],
   "source": [
    "stuff(1, 2) # if you do not provide the correct arguments, you get an error"
   ]
  },
  {
   "cell_type": "code",
   "execution_count": 9,
   "id": "5f705c66-2feb-40e9-8411-876b2ce5076c",
   "metadata": {
    "slideshow": {
     "slide_type": "fragment"
    }
   },
   "outputs": [],
   "source": [
    "# example with defaults\n",
    "def junk(a = 1, b = 2, c = 3):\n",
    "    print(a**1, b**2, c**3)"
   ]
  },
  {
   "cell_type": "code",
   "execution_count": 10,
   "id": "9057939a-dc0b-4e92-ba79-98936f4f7903",
   "metadata": {
    "slideshow": {
     "slide_type": "slide"
    },
    "tags": []
   },
   "outputs": [
    {
     "name": "stdout",
     "output_type": "stream",
     "text": [
      "1 4 27\n"
     ]
    }
   ],
   "source": [
    "junk()"
   ]
  },
  {
   "cell_type": "code",
   "execution_count": 11,
   "id": "b1ba4834-31a9-4480-8905-88a093a65c52",
   "metadata": {
    "slideshow": {
     "slide_type": "fragment"
    },
    "tags": []
   },
   "outputs": [
    {
     "name": "stdout",
     "output_type": "stream",
     "text": [
      "3 4 27\n"
     ]
    }
   ],
   "source": [
    "junk(3) # specifying only one will put it in the first argument"
   ]
  },
  {
   "cell_type": "code",
   "execution_count": 12,
   "id": "e3013a28-917d-49db-97d2-372c23764f6f",
   "metadata": {
    "slideshow": {
     "slide_type": "slide"
    },
    "tags": []
   },
   "outputs": [
    {
     "name": "stdout",
     "output_type": "stream",
     "text": [
      "1 16 27\n"
     ]
    }
   ],
   "source": [
    "junk(b = 4) # be specific"
   ]
  },
  {
   "cell_type": "code",
   "execution_count": 13,
   "id": "547aaaa1-5e98-40cf-9f0c-ed80f59f9f65",
   "metadata": {
    "slideshow": {
     "slide_type": "fragment"
    },
    "tags": []
   },
   "outputs": [
    {
     "name": "stdout",
     "output_type": "stream",
     "text": [
      "5 100 0\n"
     ]
    }
   ],
   "source": [
    "junk(5, 10, 0)"
   ]
  },
  {
   "cell_type": "code",
   "execution_count": 14,
   "id": "61322f39-4fef-44b8-8943-138c3b199b07",
   "metadata": {
    "slideshow": {
     "slide_type": "slide"
    },
    "tags": [
     "raises-exception"
    ]
   },
   "outputs": [
    {
     "ename": "TypeError",
     "evalue": "junk() got multiple values for argument 'a'",
     "output_type": "error",
     "traceback": [
      "\u001b[0;31m---------------------------------------------------------------------------\u001b[0m",
      "\u001b[0;31mTypeError\u001b[0m                                 Traceback (most recent call last)",
      "Cell \u001b[0;32mIn[14], line 2\u001b[0m\n\u001b[1;32m      1\u001b[0m \u001b[38;5;66;03m# python will get confused if you name only some of the arguments.\u001b[39;00m\n\u001b[0;32m----> 2\u001b[0m \u001b[43mjunk\u001b[49m\u001b[43m(\u001b[49m\u001b[38;5;241;43m5\u001b[39;49m\u001b[43m,\u001b[49m\u001b[43m \u001b[49m\u001b[43ma\u001b[49m\u001b[43m \u001b[49m\u001b[38;5;241;43m=\u001b[39;49m\u001b[43m \u001b[49m\u001b[38;5;241;43m10\u001b[39;49m\u001b[43m,\u001b[49m\u001b[43m \u001b[49m\u001b[43mb\u001b[49m\u001b[43m \u001b[49m\u001b[38;5;241;43m=\u001b[39;49m\u001b[43m \u001b[49m\u001b[38;5;241;43m0\u001b[39;49m\u001b[43m)\u001b[49m \n",
      "\u001b[0;31mTypeError\u001b[0m: junk() got multiple values for argument 'a'"
     ]
    }
   ],
   "source": [
    "# python will get confused if you name only some of the arguments.\n",
    "junk(5, a = 10, b = 0) "
   ]
  },
  {
   "cell_type": "code",
   "execution_count": 15,
   "id": "2bb9f7fb-48c4-4b78-bfff-a18ffdeded6f",
   "metadata": {
    "slideshow": {
     "slide_type": "fragment"
    }
   },
   "outputs": [
    {
     "name": "stdout",
     "output_type": "stream",
     "text": [
      "10 0 125\n"
     ]
    }
   ],
   "source": [
    "junk(c = 5, a = 10, b = 0) # but this works"
   ]
  },
  {
   "cell_type": "markdown",
   "id": "b7bc3f52-e5c9-4f31-8713-326bbc62ffb7",
   "metadata": {
    "slideshow": {
     "slide_type": "slide"
    }
   },
   "source": [
    "## Function Variables and Parameters are Local\n",
    "When you create a variable inside a function, it is local, which means that it only exists inside the scope of the function. "
   ]
  },
  {
   "cell_type": "code",
   "execution_count": 16,
   "id": "fc2db973-9973-4cca-a674-47c64b21968e",
   "metadata": {
    "slideshow": {
     "slide_type": "slide"
    },
    "tags": []
   },
   "outputs": [
    {
     "name": "stdout",
     "output_type": "stream",
     "text": [
      "bidi bidi bom bom\n",
      "bidi bidi bom bom\n"
     ]
    }
   ],
   "source": [
    "def print_twice(bruce):\n",
    "    print(bruce)\n",
    "    print(bruce)\n",
    "\n",
    "def cat_twice(part1, part2):\n",
    "    cat = part1 + \" \" + part2\n",
    "    print_twice(cat)\n",
    "\n",
    "line1 = 'bidi bidi'\n",
    "line2 = 'bom bom'\n",
    "cat_twice(line1, line2)"
   ]
  },
  {
   "cell_type": "markdown",
   "id": "46eeade0-696c-4a94-8315-5dd9e4763178",
   "metadata": {
    "slideshow": {
     "slide_type": "fragment"
    },
    "tags": []
   },
   "source": [
    "When cat_twice terminates, the variable cat is destroyed. "
   ]
  },
  {
   "cell_type": "markdown",
   "id": "f0a5bd48-d632-450c-bafe-82f61de6a0d5",
   "metadata": {
    "slideshow": {
     "slide_type": "slide"
    }
   },
   "source": [
    "If we try to refer to `cat` outside of the function, we get an error. "
   ]
  },
  {
   "cell_type": "code",
   "execution_count": 17,
   "id": "c118fc29-3799-4bae-aa85-de71a0ad0135",
   "metadata": {},
   "outputs": [
    {
     "ename": "NameError",
     "evalue": "name 'cat' is not defined",
     "output_type": "error",
     "traceback": [
      "\u001b[0;31m---------------------------------------------------------------------------\u001b[0m",
      "\u001b[0;31mNameError\u001b[0m                                 Traceback (most recent call last)",
      "Cell \u001b[0;32mIn[17], line 1\u001b[0m\n\u001b[0;32m----> 1\u001b[0m \u001b[38;5;28mprint\u001b[39m(\u001b[43mcat\u001b[49m)\n",
      "\u001b[0;31mNameError\u001b[0m: name 'cat' is not defined"
     ]
    }
   ],
   "source": [
    "print(cat)"
   ]
  },
  {
   "cell_type": "markdown",
   "id": "7b0a4dc0-369a-4225-bedc-084f16567362",
   "metadata": {
    "slideshow": {
     "slide_type": "slide"
    }
   },
   "source": [
    "Parameters are also local. For example, \"outside\" of `print_twice` function, there is nothing named `bruce`."
   ]
  },
  {
   "cell_type": "code",
   "execution_count": 18,
   "id": "847c3136-c5c6-46dc-bfca-1b92fcdb05bc",
   "metadata": {
    "tags": []
   },
   "outputs": [
    {
     "ename": "NameError",
     "evalue": "name 'bruce' is not defined",
     "output_type": "error",
     "traceback": [
      "\u001b[0;31m---------------------------------------------------------------------------\u001b[0m",
      "\u001b[0;31mNameError\u001b[0m                                 Traceback (most recent call last)",
      "Cell \u001b[0;32mIn[18], line 1\u001b[0m\n\u001b[0;32m----> 1\u001b[0m \u001b[38;5;28mprint\u001b[39m(\u001b[43mbruce\u001b[49m)\n",
      "\u001b[0;31mNameError\u001b[0m: name 'bruce' is not defined"
     ]
    }
   ],
   "source": [
    "print(bruce)"
   ]
  },
  {
   "cell_type": "markdown",
   "id": "fddf7c05-7fdb-44ad-982b-98ab3d7c55e1",
   "metadata": {
    "slideshow": {
     "slide_type": "slide"
    },
    "tags": []
   },
   "source": [
    "## Error Tracebacks\n",
    "\n",
    "If an error occurs during a function call, Python prints the offending line. If the offending line is a function, it prints out the contents of that function and the offending line there. It continues doing this until it reaches the point where initial function call was made\n",
    "\n",
    "Values that are not defined inside a function are defined in the global environment (AKA the top-level script environment).  "
   ]
  },
  {
   "cell_type": "markdown",
   "id": "927ed668-206a-4a6d-a848-2f6158899a11",
   "metadata": {
    "slideshow": {
     "slide_type": "slide"
    },
    "tags": []
   },
   "source": [
    "For example, I modified the function `print_twice()`. It tries to access the variable `cat` which is not defined inside `print_twice()`. "
   ]
  },
  {
   "cell_type": "code",
   "execution_count": 19,
   "id": "70111f8d-3db9-4e75-92f6-3f62bf39e0dd",
   "metadata": {
    "slideshow": {
     "slide_type": "fragment"
    },
    "tags": [
     "raises-exception"
    ]
   },
   "outputs": [],
   "source": [
    "def print_twice(bruce):\n",
    "    print(cat)\n",
    "    print(cat)\n",
    "\n",
    "def cat_twice(part1, part2):\n",
    "    cat = part1 + \" \" + part2\n",
    "    print_twice(cat)\n"
   ]
  },
  {
   "cell_type": "code",
   "execution_count": 20,
   "id": "f14e7e91-2001-4abe-a5e4-beaa7cf6795f",
   "metadata": {
    "slideshow": {
     "slide_type": "slide"
    },
    "tags": [
     "raises-exception"
    ]
   },
   "outputs": [
    {
     "ename": "NameError",
     "evalue": "name 'cat' is not defined",
     "output_type": "error",
     "traceback": [
      "\u001b[0;31m---------------------------------------------------------------------------\u001b[0m",
      "\u001b[0;31mNameError\u001b[0m                                 Traceback (most recent call last)",
      "Cell \u001b[0;32mIn[20], line 3\u001b[0m\n\u001b[1;32m      1\u001b[0m line1 \u001b[38;5;241m=\u001b[39m \u001b[38;5;124m'\u001b[39m\u001b[38;5;124mbidi bidi\u001b[39m\u001b[38;5;124m'\u001b[39m\n\u001b[1;32m      2\u001b[0m line2 \u001b[38;5;241m=\u001b[39m \u001b[38;5;124m'\u001b[39m\u001b[38;5;124mbom bom\u001b[39m\u001b[38;5;124m'\u001b[39m\n\u001b[0;32m----> 3\u001b[0m \u001b[43mcat_twice\u001b[49m\u001b[43m(\u001b[49m\u001b[43mline1\u001b[49m\u001b[43m,\u001b[49m\u001b[43m \u001b[49m\u001b[43mline2\u001b[49m\u001b[43m)\u001b[49m\n",
      "Cell \u001b[0;32mIn[19], line 7\u001b[0m, in \u001b[0;36mcat_twice\u001b[0;34m(part1, part2)\u001b[0m\n\u001b[1;32m      5\u001b[0m \u001b[38;5;28;01mdef\u001b[39;00m \u001b[38;5;21mcat_twice\u001b[39m(part1, part2):\n\u001b[1;32m      6\u001b[0m     cat \u001b[38;5;241m=\u001b[39m part1 \u001b[38;5;241m+\u001b[39m \u001b[38;5;124m\"\u001b[39m\u001b[38;5;124m \u001b[39m\u001b[38;5;124m\"\u001b[39m \u001b[38;5;241m+\u001b[39m part2\n\u001b[0;32m----> 7\u001b[0m     \u001b[43mprint_twice\u001b[49m\u001b[43m(\u001b[49m\u001b[43mcat\u001b[49m\u001b[43m)\u001b[49m\n",
      "Cell \u001b[0;32mIn[19], line 2\u001b[0m, in \u001b[0;36mprint_twice\u001b[0;34m(bruce)\u001b[0m\n\u001b[1;32m      1\u001b[0m \u001b[38;5;28;01mdef\u001b[39;00m \u001b[38;5;21mprint_twice\u001b[39m(bruce):\n\u001b[0;32m----> 2\u001b[0m     \u001b[38;5;28mprint\u001b[39m(\u001b[43mcat\u001b[49m)\n\u001b[1;32m      3\u001b[0m     \u001b[38;5;28mprint\u001b[39m(cat)\n",
      "\u001b[0;31mNameError\u001b[0m: name 'cat' is not defined"
     ]
    }
   ],
   "source": [
    "line1 = 'bidi bidi'\n",
    "line2 = 'bom bom'\n",
    "cat_twice(line1, line2)"
   ]
  },
  {
   "cell_type": "markdown",
   "id": "f93cec73-f214-4b37-95f8-afe179f5ef81",
   "metadata": {
    "slideshow": {
     "slide_type": "slide"
    },
    "tags": []
   },
   "source": [
    "```\n",
    "Cell In[20], line 3\n",
    "      1 line1 = 'bidi bidi'\n",
    "      2 line2 = 'bom bom'\n",
    "----> 3 cat_twice(line1, line2)\n",
    "```\n",
    "\n",
    "The traceback starts with the lines we just exectued. There are no problems with lines 1 and 2 where we simply assign some lyrics to variable names. Python tell us the offending line is line 3 when we called `cat_twice()`"
   ]
  },
  {
   "cell_type": "markdown",
   "id": "9fe4aeea-90da-4f93-8412-995042217c8d",
   "metadata": {
    "slideshow": {
     "slide_type": "fragment"
    },
    "tags": []
   },
   "source": [
    "```\n",
    "Cell In[19], line 7, in cat_twice(part1, part2)\n",
    "      5 def cat_twice(part1, part2):\n",
    "      6     cat = part1 + \" \" + part2\n",
    "----> 7     print_twice(cat)\n",
    "```\n",
    "\n",
    "The next part of the traceback enters the function `cat_twice()`\n",
    "It tells us that the offending line is line 7: when we made a call to `print_twice()`"
   ]
  },
  {
   "cell_type": "markdown",
   "id": "8f38ee08-5bf1-4d88-961b-422095d5ee65",
   "metadata": {
    "slideshow": {
     "slide_type": "slide"
    },
    "tags": []
   },
   "source": [
    "```\n",
    "Cell In[19], line 2, in print_twice(bruce)\n",
    "      1 def print_twice(bruce):\n",
    "----> 2     print(cat)\n",
    "      3     print(cat)\n",
    "\n",
    "NameError: name 'cat' is not defined\n",
    "```\n",
    "\n",
    "Finally, the traceback shows us the contents of `print_twice()` and says the offending line is line 2: when we try to print the variable `cat`.\n",
    "\n",
    "`NameError: name 'cat' is not defined`\n",
    "\n",
    "It gives us a NameError, that is, Python cannot find the variable or function being used, it may be undefined or defined in a different scope."
   ]
  },
  {
   "cell_type": "markdown",
   "id": "5e51c276-abf4-4f02-a828-10055424f8c9",
   "metadata": {
    "slideshow": {
     "slide_type": "slide"
    },
    "tags": []
   },
   "source": [
    "## Global Scope"
   ]
  },
  {
   "cell_type": "markdown",
   "id": "11e89007-5031-408b-8e5d-976df1f86226",
   "metadata": {
    "slideshow": {
     "slide_type": "fragment"
    },
    "tags": []
   },
   "source": [
    "In the following cell, I run the same code but define `cat` in the global scope. Even though `cat` is not found inside the local scope of the function `print_twice()`, it is defined in the global scope. When `print_twice()` is called from within `cat_twice()`, the variable `cat` is found in the global environment and printed."
   ]
  },
  {
   "cell_type": "code",
   "execution_count": 21,
   "id": "1d05454e-aeb8-45a4-95ee-28081556c1de",
   "metadata": {
    "slideshow": {
     "slide_type": "fragment"
    },
    "tags": []
   },
   "outputs": [],
   "source": [
    "def print_twice(bruce):\n",
    "    print(cat)\n",
    "    print(cat)\n",
    "\n",
    "def cat_twice(part1, part2):\n",
    "    cat = part1 + \" \" + part2\n",
    "    print_twice(cat)\n",
    "    \n",
    "line1 = 'bidi bidi'\n",
    "line2 = 'bom bom'\n",
    "\n",
    "cat = \"something else entirely\""
   ]
  },
  {
   "cell_type": "code",
   "execution_count": 22,
   "id": "30337bf1-1656-4e74-9c2c-6f899891d775",
   "metadata": {
    "slideshow": {
     "slide_type": "slide"
    },
    "tags": []
   },
   "outputs": [
    {
     "name": "stdout",
     "output_type": "stream",
     "text": [
      "something else entirely\n",
      "something else entirely\n"
     ]
    }
   ],
   "source": [
    "cat_twice(line1, line2)"
   ]
  },
  {
   "cell_type": "markdown",
   "id": "f14eba3e-6d72-40a0-8558-f0bdfbd59212",
   "metadata": {
    "slideshow": {
     "slide_type": "slide"
    },
    "tags": []
   },
   "source": [
    "## `%who`, `%whos`, and `%who_ls`"
   ]
  },
  {
   "cell_type": "markdown",
   "id": "5a9f2a57-3474-4b1b-ae06-bf12a3cb1226",
   "metadata": {},
   "source": [
    "iPython has a few magic commands that list the objects defined in the global environment `%who` prints the names, `%whos` prints the names and details of each object, and `%who_ls` returns a list with object names as strings."
   ]
  },
  {
   "cell_type": "code",
   "execution_count": 23,
   "id": "2a2fa928-1c71-423f-b06c-0adab67dc4d0",
   "metadata": {},
   "outputs": [
    {
     "name": "stdout",
     "output_type": "stream",
     "text": [
      "cat\t cat_twice\t junk\t line1\t line2\t math\t print_twice\t stuff\t \n"
     ]
    }
   ],
   "source": [
    "%who"
   ]
  },
  {
   "cell_type": "code",
   "execution_count": 24,
   "id": "a3dd9fff-3298-4ab6-871c-ef0c13f01d1c",
   "metadata": {
    "slideshow": {
     "slide_type": "slide"
    },
    "tags": []
   },
   "outputs": [
    {
     "name": "stdout",
     "output_type": "stream",
     "text": [
      "Variable      Type        Data/Info\n",
      "-----------------------------------\n",
      "cat           str         something else entirely\n",
      "cat_twice     function    <function cat_twice at 0x1089122a0>\n",
      "junk          function    <function junk at 0x10846a3e0>\n",
      "line1         str         bidi bidi\n",
      "line2         str         bom bom\n",
      "math          module      <module 'math' from '/Lib<...>h.cpython-311-darwin.so'>\n",
      "print_twice   function    <function print_twice at 0x108913d80>\n",
      "stuff         function    <function stuff at 0x108413740>\n"
     ]
    }
   ],
   "source": [
    "%whos"
   ]
  },
  {
   "cell_type": "code",
   "execution_count": 25,
   "id": "426fe890-be55-4de5-83c2-2af6cde38290",
   "metadata": {
    "slideshow": {
     "slide_type": "slide"
    },
    "tags": []
   },
   "outputs": [
    {
     "data": {
      "text/plain": [
       "['cat', 'cat_twice', 'junk', 'line1', 'line2', 'math', 'print_twice', 'stuff']"
      ]
     },
     "execution_count": 25,
     "metadata": {},
     "output_type": "execute_result"
    }
   ],
   "source": [
    "%who_ls"
   ]
  },
  {
   "cell_type": "markdown",
   "id": "dc833547-bdf6-45dd-a76d-6705fe72b629",
   "metadata": {
    "slideshow": {
     "slide_type": "slide"
    },
    "tags": []
   },
   "source": [
    "## Scoping rules"
   ]
  },
  {
   "cell_type": "markdown",
   "id": "788e420b-0e40-4e9d-9434-6f6961d5ad07",
   "metadata": {
    "slideshow": {
     "slide_type": "fragment"
    },
    "tags": []
   },
   "source": [
    "Assignment operations only affect values inside the function and do not interact with those same values outside the function."
   ]
  },
  {
   "cell_type": "code",
   "execution_count": 26,
   "id": "e5b615bb-7328-4bcc-8d79-fac9b523b912",
   "metadata": {
    "slideshow": {
     "slide_type": "fragment"
    }
   },
   "outputs": [],
   "source": [
    "x = 5"
   ]
  },
  {
   "cell_type": "code",
   "execution_count": 27,
   "id": "5d3d95bc-32e5-473c-b5b2-85052d249475",
   "metadata": {
    "slideshow": {
     "slide_type": "fragment"
    }
   },
   "outputs": [
    {
     "data": {
      "text/plain": [
       "5"
      ]
     },
     "execution_count": 27,
     "metadata": {},
     "output_type": "execute_result"
    }
   ],
   "source": [
    "x"
   ]
  },
  {
   "cell_type": "code",
   "execution_count": 28,
   "id": "463501c5-d585-4976-b36d-798bf7b08fb6",
   "metadata": {
    "slideshow": {
     "slide_type": "slide"
    },
    "tags": []
   },
   "outputs": [],
   "source": [
    "def alter_x(x):\n",
    "    x = x + 1\n",
    "    return x"
   ]
  },
  {
   "cell_type": "code",
   "execution_count": 29,
   "id": "e43671fb-928a-4aff-ba17-42823e5e73cf",
   "metadata": {
    "slideshow": {
     "slide_type": "fragment"
    }
   },
   "outputs": [
    {
     "data": {
      "text/plain": [
       "6"
      ]
     },
     "execution_count": 29,
     "metadata": {},
     "output_type": "execute_result"
    }
   ],
   "source": [
    "alter_x(x)"
   ]
  },
  {
   "cell_type": "code",
   "execution_count": 30,
   "id": "245f1549-0c5e-4f2e-b0ab-cd72ad26161d",
   "metadata": {
    "slideshow": {
     "slide_type": "fragment"
    }
   },
   "outputs": [
    {
     "data": {
      "text/plain": [
       "5"
      ]
     },
     "execution_count": 30,
     "metadata": {},
     "output_type": "execute_result"
    }
   ],
   "source": [
    "x"
   ]
  },
  {
   "cell_type": "markdown",
   "id": "d70d07d8-49df-4fb9-8f51-f4a3bdb83963",
   "metadata": {
    "slideshow": {
     "slide_type": "slide"
    }
   },
   "source": [
    "## Global variables\n",
    "\n",
    "If you want your function to alter variables outside of its own scope, you can use the keyword `global`\n",
    "\n",
    "Be careful with this keyword.  Really, try to avoid doing this..."
   ]
  },
  {
   "cell_type": "code",
   "execution_count": 31,
   "id": "c4c2b3d9-916b-48e5-bec1-a1848d972e72",
   "metadata": {
    "slideshow": {
     "slide_type": "fragment"
    }
   },
   "outputs": [],
   "source": [
    "def alter_global_x():\n",
    "    global x\n",
    "    x = x + 1\n",
    "    return x"
   ]
  },
  {
   "cell_type": "code",
   "execution_count": 32,
   "id": "85a3be28-1929-4034-ad99-f81c2e01f519",
   "metadata": {
    "slideshow": {
     "slide_type": "slide"
    },
    "tags": []
   },
   "outputs": [],
   "source": [
    "x = 5"
   ]
  },
  {
   "cell_type": "code",
   "execution_count": 33,
   "id": "68b27364-537d-4363-a097-3136e4b81898",
   "metadata": {
    "slideshow": {
     "slide_type": "fragment"
    }
   },
   "outputs": [
    {
     "data": {
      "text/plain": [
       "6"
      ]
     },
     "execution_count": 33,
     "metadata": {},
     "output_type": "execute_result"
    }
   ],
   "source": [
    "alter_global_x()"
   ]
  },
  {
   "cell_type": "code",
   "execution_count": 34,
   "id": "1d55d0f8-7a18-4336-b608-3792b04bc492",
   "metadata": {
    "slideshow": {
     "slide_type": "fragment"
    }
   },
   "outputs": [
    {
     "data": {
      "text/plain": [
       "6"
      ]
     },
     "execution_count": 34,
     "metadata": {},
     "output_type": "execute_result"
    }
   ],
   "source": [
    "x"
   ]
  },
  {
   "cell_type": "markdown",
   "id": "3887ddf3-e78a-41c1-a165-4083358b86da",
   "metadata": {
    "slideshow": {
     "slide_type": "slide"
    }
   },
   "source": [
    "If a function calls for a value that is not provided in the arguments or is not defined inside the function, the Python will search for the value in the higher scopes."
   ]
  },
  {
   "cell_type": "code",
   "execution_count": 35,
   "id": "197c3b0c-b175-47fe-aeff-5b08edf7ebdc",
   "metadata": {
    "slideshow": {
     "slide_type": "fragment"
    },
    "tags": []
   },
   "outputs": [],
   "source": [
    "# in this function, we ask Python to print the value of x \n",
    "# even though we do not define its value. \n",
    "# Python finds x in the global environment\n",
    "\n",
    "def search_for_x():\n",
    "    print(x)\n",
    "    return x"
   ]
  },
  {
   "cell_type": "code",
   "execution_count": 36,
   "id": "152e6a22-80a4-4ffe-a57b-f8dbabfac624",
   "metadata": {
    "slideshow": {
     "slide_type": "fragment"
    }
   },
   "outputs": [
    {
     "name": "stdout",
     "output_type": "stream",
     "text": [
      "6\n"
     ]
    },
    {
     "data": {
      "text/plain": [
       "6"
      ]
     },
     "execution_count": 36,
     "metadata": {},
     "output_type": "execute_result"
    }
   ],
   "source": [
    "search_for_x()"
   ]
  },
  {
   "cell_type": "markdown",
   "id": "0e3203f3-97ec-40e7-84ee-9726533b6b57",
   "metadata": {
    "slideshow": {
     "slide_type": "slide"
    },
    "tags": []
   },
   "source": [
    "## Scope Order in Python"
   ]
  },
  {
   "cell_type": "markdown",
   "id": "a80b32ea-2f49-451a-b169-a885d274cc8b",
   "metadata": {},
   "source": [
    "Taken from: https://realpython.com/python-scope-legb-rule/\n",
    "\n",
    "Python will search scopes in the following order:\n",
    "\n",
    "- Local (or function) scope is the code block or body of any Python function. This Python scope contains the names that you define inside the function. These names will only be visible from the code of the function.\n",
    "\n",
    "- Enclosing (or nonlocal) scope is a special scope that *only exists for functions nested inside other functions.* If the local scope is an inner or nested function, then the enclosing scope is the scope of the outer or enclosing function. This scope contains the names that you define in the enclosing function. The names in the enclosing scope are visible from the code of the inner and enclosing functions.\n",
    "\n",
    "- Global scope is the top-most scope in a Python program, script, or module. This Python scope contains all of the names that you define at the top level of a program or a module. Names in this Python scope are visible from everywhere in your code.\n",
    "\n",
    "- Built-in scope is a special Python scope that's created whenever you run a script or open an interactive session. This scope contains names such as keywords, functions, exceptions, and other attributes that are built into Python."
   ]
  },
  {
   "cell_type": "markdown",
   "id": "4837b38a-6599-4c89-a950-7c281efa7f99",
   "metadata": {
    "slideshow": {
     "slide_type": "slide"
    },
    "tags": []
   },
   "source": [
    "![](https://miro.medium.com/v2/resize:fit:654/0*hsE2OKgoLM3L6RL6.png)"
   ]
  },
  {
   "cell_type": "markdown",
   "id": "24b518d1-1f6c-4ac8-a1f7-b64b223a0970",
   "metadata": {},
   "source": [
    "A visual from https://miro.medium.com/v2/resize:fit:654/0*hsE2OKgoLM3L6RL6.png"
   ]
  },
  {
   "cell_type": "code",
   "execution_count": 37,
   "id": "8089dad1-98c5-4ecc-8a1e-e531fb9242e2",
   "metadata": {
    "slideshow": {
     "slide_type": "slide"
    },
    "tags": []
   },
   "outputs": [
    {
     "name": "stdout",
     "output_type": "stream",
     "text": [
      "(1, 2, 1)\n",
      "1 1 1\n"
     ]
    }
   ],
   "source": [
    "x, y, z = 1, 1, 1\n",
    "\n",
    "def f():\n",
    "    y = 2  # changing y to 2, only affects the value inside the function\n",
    "    return x, y, z   # it does not find x or z in the local environment, \n",
    "                     # so it searches the higher scope\n",
    "\n",
    "print(f())\n",
    "print(x, y, z)"
   ]
  },
  {
   "cell_type": "code",
   "execution_count": 38,
   "id": "39acbf2f-5363-411a-a438-f044a67d2eb2",
   "metadata": {
    "slideshow": {
     "slide_type": "slide"
    },
    "tags": []
   },
   "outputs": [
    {
     "name": "stdout",
     "output_type": "stream",
     "text": [
      "(1, 2, 3)\n",
      "1 1 1\n"
     ]
    }
   ],
   "source": [
    "x, y, z = 1, 1, 1\n",
    "\n",
    "def f():\n",
    "    y = 2\n",
    "    def g():\n",
    "        z = 3\n",
    "        return x, y, z \n",
    "    return g()\n",
    "\n",
    "print(f())\n",
    "print(x, y, z)"
   ]
  },
  {
   "cell_type": "markdown",
   "id": "2209e3d5-e413-4187-9d85-2e5866e11bdc",
   "metadata": {
    "slideshow": {
     "slide_type": "slide"
    },
    "tags": []
   },
   "source": [
    "- `g()` is defined inside `f()`\n",
    "- When we call the function `f()`, the final line of `f()` calls `g()` and returns the value of `g()`.\n",
    "- When `g()` runs, it sets `z = 3`. Inside `g()`, `x` and `y` are not defined. \n",
    "- To find those values, it searches the higher scope `f()` for x and y. It finds the value of `y = 2` defined inside `f()`. It finds `x = 1` in the top level scope.\n",
    "- When `f()` runs, it returns `x = 1`, `y = 2`, `z = 3` while x, y, z are all equal to 1 in the top-level environment."
   ]
  },
  {
   "cell_type": "code",
   "execution_count": 39,
   "id": "27d9c401-a6b0-4900-9f4f-5dca7cc634be",
   "metadata": {
    "slideshow": {
     "slide_type": "slide"
    },
    "tags": []
   },
   "outputs": [
    {
     "name": "stdout",
     "output_type": "stream",
     "text": [
      "(1, 1, 3)\n",
      "1 1 1\n"
     ]
    }
   ],
   "source": [
    "x, y, z = 1, 1, 1\n",
    "\n",
    "def g():\n",
    "    z = 3\n",
    "    return x, y, z\n",
    "\n",
    "def f():\n",
    "    y = 2\n",
    "    return g()\n",
    "\n",
    "print(f())\n",
    "print(x, y, z)"
   ]
  },
  {
   "cell_type": "markdown",
   "id": "63e27e32-dbdb-449e-899b-dfa7f5c519bb",
   "metadata": {
    "slideshow": {
     "slide_type": "slide"
    },
    "tags": []
   },
   "source": [
    "- `g()` and `f()` are both defined in the global environment.  \n",
    "- The function `f()` returns the value of `g()`\n",
    "- When `g()` runs, it sets `z = 3`. Inside `g()`, `x` and `y` are not defined. \n",
    "- To find those values, it searches the higher scope which is the global environment because `g()` is defined inside the global environment. It uses the values in the global environment `x = 1` and `y = 1`.\n",
    "- It does not matter that `g()` was called from inside `f()`. When `g()` needs to search a higher scope, it searches the environment in which the function is defined."
   ]
  },
  {
   "cell_type": "code",
   "execution_count": 40,
   "id": "dbcd8b62-a940-4f3f-935c-0eb3f69b3754",
   "metadata": {
    "slideshow": {
     "slide_type": "slide"
    },
    "tags": []
   },
   "outputs": [
    {
     "name": "stdout",
     "output_type": "stream",
     "text": [
      "(1, 2, 3)\n",
      "1 1 3\n"
     ]
    }
   ],
   "source": [
    "# keyword global gives the function access to the value in the global environment\n",
    "x, y, z = 1, 1, 1\n",
    "\n",
    "def f():\n",
    "    y = 2\n",
    "    def g():\n",
    "        global z  # calling global, gives g access to the global value of z\n",
    "        z = 3     # will assign 3 to the global variable z\n",
    "        return x, y, z\n",
    "    return g()\n",
    "\n",
    "print(f())\n",
    "print(x, y, z)"
   ]
  },
  {
   "cell_type": "markdown",
   "id": "8deebfd0-6380-4e8f-a027-1f9d824f1388",
   "metadata": {
    "slideshow": {
     "slide_type": "slide"
    },
    "tags": []
   },
   "source": [
    "- `g()` is defined inside `f()`\n",
    "\n",
    "- When we call the function `f()`, the final line of `f()` calls `g()` and returns the value of `g()`.\n",
    "\n",
    "- When `g()` runs, it accesses the global variable `z`. It sets `z = 3` in the global environment. \n",
    "- Inside `g()`, `x` and `y` are not defined. To find those values, g() searches the higher scope `f()` for x and y. \n",
    "- g() finds the value of `y = 2` defined inside `f()`. It finds `x = 1` in the top level scope.\n",
    "\n",
    "- When `f()` runs, it returns `x = 1`, `y = 2`, `z = 3`.\n",
    "- Because `g()` has access to `z` in the global environment, the value of z is now 3 after the function runs."
   ]
  },
  {
   "cell_type": "code",
   "execution_count": 41,
   "id": "30aee8e7-f438-43fa-81c8-5944b42cf4f6",
   "metadata": {
    "slideshow": {
     "slide_type": "slide"
    },
    "tags": []
   },
   "outputs": [
    {
     "name": "stdout",
     "output_type": "stream",
     "text": [
      "(1, 1, 3)\n",
      "1 1 1\n"
     ]
    }
   ],
   "source": [
    "x, y, z = 1, 1, 1\n",
    "\n",
    "def g():\n",
    "    z = 3\n",
    "    return x, y, z\n",
    "\n",
    "def f():\n",
    "    global y\n",
    "    y = 2\n",
    "    return g()\n",
    "\n",
    "print(g()) # when we first run g(), it uses the global values of x and y, but the local value of z. Local value of z does not change global value z.\n",
    "print(x, y, z)"
   ]
  },
  {
   "cell_type": "markdown",
   "id": "5727a592-b518-4a94-9a25-397888661ebd",
   "metadata": {
    "slideshow": {
     "slide_type": "slide"
    },
    "tags": []
   },
   "source": [
    "- `g()` and `f()` are both defined in the global environment.\n",
    "\n",
    "- When `g()` runs, it sets `z = 3`. \n",
    "- Inside `g()`, `x` and `y` are not defined. \n",
    "- To find those values, it searches the higher scope which is the global environment because `g()` is defined inside the global environment. \n",
    "- It uses the values in the global environment `x = 1` and `y = 1`."
   ]
  },
  {
   "cell_type": "code",
   "execution_count": 42,
   "id": "71747207-2200-4758-9b29-874d98ac1dbd",
   "metadata": {
    "slideshow": {
     "slide_type": "slide"
    },
    "tags": []
   },
   "outputs": [
    {
     "name": "stdout",
     "output_type": "stream",
     "text": [
      "(1, 2, 3)\n",
      "1 2 1\n"
     ]
    }
   ],
   "source": [
    "print(f())  # when we run f(), the global value of y is changed.\n",
    "print(x, y, z)"
   ]
  },
  {
   "cell_type": "markdown",
   "id": "0b9d2ac8-d5a7-4f7c-a3c0-291c30273b4f",
   "metadata": {
    "slideshow": {
     "slide_type": "fragment"
    },
    "tags": []
   },
   "source": [
    "- When we call the function `f()`, it modifies the value of `y` in the global environment. The final line of `f()` calls and returns the value of `g()`. \n",
    "- This time, when `g()` looks for a value of `y`, it finds the value of `y` in the global environment which is now 2."
   ]
  },
  {
   "cell_type": "code",
   "execution_count": 43,
   "id": "8d7eba2a-a9cc-4a44-88ab-b7f63fc9e780",
   "metadata": {
    "slideshow": {
     "slide_type": "slide"
    },
    "tags": []
   },
   "outputs": [
    {
     "data": {
      "text/plain": [
       "(1, 1, 2)"
      ]
     },
     "execution_count": 43,
     "metadata": {},
     "output_type": "execute_result"
    }
   ],
   "source": [
    "p, q = 1, 1\n",
    "\n",
    "def f():\n",
    "    global s   # will create s in the global\n",
    "    s = 2\n",
    "    return p, q, s\n",
    "f()"
   ]
  },
  {
   "cell_type": "code",
   "execution_count": 44,
   "id": "5f58ad40-1b71-4c57-8173-409ac0dfdaee",
   "metadata": {},
   "outputs": [
    {
     "data": {
      "text/plain": [
       "2"
      ]
     },
     "execution_count": 44,
     "metadata": {},
     "output_type": "execute_result"
    }
   ],
   "source": [
    "s"
   ]
  },
  {
   "cell_type": "markdown",
   "id": "91586b42-3ab3-48fa-b9d3-04144bb35402",
   "metadata": {},
   "source": [
    "If you use the keyword `global` inside a function it will create the variable in the global environment if necessary."
   ]
  },
  {
   "cell_type": "code",
   "execution_count": 45,
   "id": "a8dd88c2-5656-433c-96ae-3a2aecd946c4",
   "metadata": {
    "slideshow": {
     "slide_type": "slide"
    },
    "tags": []
   },
   "outputs": [],
   "source": [
    "x, y, z = 1, 1, 1\n",
    "\n",
    "def f():\n",
    "    global y\n",
    "    print(\"current value of y is \" + str(y))\n",
    "    y = 4\n",
    "    def g():\n",
    "        global y\n",
    "        print(\"current value of y is now \" + str(y))\n",
    "        y = 10 \n",
    "        print(\"current value of y is finally \" + str(y))\n",
    "        global z  \n",
    "        z = 3\n",
    "        return x, y, z\n",
    "    return g() "
   ]
  },
  {
   "cell_type": "code",
   "execution_count": 46,
   "id": "fd6d8361-efb7-43e8-ad88-8acbf63fbefb",
   "metadata": {
    "slideshow": {
     "slide_type": "slide"
    },
    "tags": []
   },
   "outputs": [
    {
     "name": "stdout",
     "output_type": "stream",
     "text": [
      "current value of y is 1\n",
      "current value of y is now 4\n",
      "current value of y is finally 10\n",
      "(1, 10, 3)\n",
      "1 10 3\n"
     ]
    }
   ],
   "source": [
    "print(f())\n",
    "print(x, y, z)"
   ]
  },
  {
   "cell_type": "markdown",
   "id": "15fecd27-e3d6-440f-8550-acbf73118517",
   "metadata": {
    "slideshow": {
     "slide_type": "fragment"
    },
    "tags": []
   },
   "source": [
    "Both the function `g()` and `f()` access the global variable `y`. Each time we assign a new value to `y`, it updates the value in the global environment."
   ]
  },
  {
   "cell_type": "code",
   "execution_count": 47,
   "id": "332a4163-71d3-492f-94f2-1d17101d4168",
   "metadata": {
    "slideshow": {
     "slide_type": "slide"
    },
    "tags": []
   },
   "outputs": [
    {
     "name": "stdout",
     "output_type": "stream",
     "text": [
      "1 4 1\n",
      "(1, 10, 3)\n",
      "1 1 3\n"
     ]
    }
   ],
   "source": [
    "x, y, z = 1, 1, 1\n",
    "\n",
    "def f():\n",
    "    y = 4\n",
    "    def g():\n",
    "        nonlocal y  \n",
    "        y = 10  # affects the y defined inside f\n",
    "        global z  \n",
    "        z = 3\n",
    "        return x, y, z\n",
    "    print(x, y, z)  # this line is run before g() is called\n",
    "    return g()  # when g() is called, y will be modified\n",
    "\n",
    "print(f())\n",
    "print(x, y, z)"
   ]
  },
  {
   "cell_type": "markdown",
   "id": "1db8a683-8184-4b76-a940-dd0cfc998701",
   "metadata": {
    "slideshow": {
     "slide_type": "slide"
    },
    "tags": []
   },
   "source": [
    "- When we call the function `f()`, it sets a local variable `y = 4`. \n",
    "- It defines a function `g()` inside `f()`. It prints the values `x, y, z`. At this time, `y = 4`.\n",
    "- The final line of `f()` calls `g()` and returns the value of `g()`. \n",
    "- When `g()` is called, it accesses the nonlocal variable `y`. The nonlocal keyword tells the function to search the higher scope, in this case, the scope of `f()`. It sets nonlocal `y = 10` and global `z = 3`. It returns `x = 1` global, `y = 10` nonlocal, `z = 3` global.\n",
    "\n",
    "- Because `g()` has access to `z` in the global environment, the value of z is now 3 after the function runs. \n",
    "- However, the value `y` in the global environment remains 1 because it only modified the nonlocal variable `y`."
   ]
  },
  {
   "cell_type": "code",
   "execution_count": 48,
   "id": "1072864e-99e1-4223-b401-edecc1a89381",
   "metadata": {
    "slideshow": {
     "slide_type": "slide"
    },
    "tags": [
     "raises-exception"
    ]
   },
   "outputs": [
    {
     "ename": "SyntaxError",
     "evalue": "no binding for nonlocal 'r' found (3454248193.py, line 4)",
     "output_type": "error",
     "traceback": [
      "\u001b[0;36m  Cell \u001b[0;32mIn[48], line 4\u001b[0;36m\u001b[0m\n\u001b[0;31m    nonlocal r   # will return an error because r does not exist in the nonlocal environment\u001b[0m\n\u001b[0m    ^\u001b[0m\n\u001b[0;31mSyntaxError\u001b[0m\u001b[0;31m:\u001b[0m no binding for nonlocal 'r' found\n"
     ]
    }
   ],
   "source": [
    "p, q = 1, 1\n",
    "\n",
    "def f():\n",
    "    nonlocal r   # will return an error because r does not exist in the nonlocal environment\n",
    "    r = 2\n",
    "    return p, q, r\n",
    "\n",
    "f()"
   ]
  },
  {
   "cell_type": "markdown",
   "id": "a9476403-75ec-44e9-863a-3675f5a74d74",
   "metadata": {
    "slideshow": {
     "slide_type": "fragment"
    },
    "tags": []
   },
   "source": [
    "If you ask for a nonlocal variable but there is no higher scope (other than the global environment), Python will return an error."
   ]
  },
  {
   "cell_type": "markdown",
   "id": "56656f78-eb9b-45fd-bc70-fdc0194f173c",
   "metadata": {
    "slideshow": {
     "slide_type": "slide"
    },
    "tags": []
   },
   "source": [
    "<h1> Statistics 21 <br/> Have a good night! </h1>"
   ]
  },
  {
   "cell_type": "raw",
   "id": "35833246-21dc-4b69-acaf-fe4b5cbbf41d",
   "metadata": {
    "slideshow": {
     "slide_type": "-"
    },
    "tags": []
   },
   "source": [
    "<script>\n",
    "    setBackgroundImage(\"Window1.jpg\", \"black\");\n",
    "</script>"
   ]
  }
 ],
 "metadata": {
  "kernelspec": {
   "display_name": "Python 3 (ipykernel)",
   "language": "python",
   "name": "python3"
  },
  "language_info": {
   "codemirror_mode": {
    "name": "ipython",
    "version": 3
   },
   "file_extension": ".py",
   "mimetype": "text/x-python",
   "name": "python",
   "nbconvert_exporter": "python",
   "pygments_lexer": "ipython3",
   "version": "3.11.2"
  }
 },
 "nbformat": 4,
 "nbformat_minor": 5
}
