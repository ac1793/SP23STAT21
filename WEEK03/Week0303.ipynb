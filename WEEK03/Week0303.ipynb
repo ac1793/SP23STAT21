{
 "cells": [
  {
   "cell_type": "raw",
   "id": "1402dfa0-0ee3-4433-8d9b-c6602cdd177a",
   "metadata": {},
   "source": [
    "<script>\n",
    "    function findAncestor (el, name) {\n",
    "        while ((el = el.parentElement) && el.nodeName.toLowerCase() !== name);\n",
    "        return el;\n",
    "    }\n",
    "    function colorAll(el, textColor) {\n",
    "        el.style.color = textColor;\n",
    "        Array.from(el.children).forEach((e) => {colorAll(e, textColor);});\n",
    "    }\n",
    "    function setBackgroundImage(src, textColor) {\n",
    "        var section = findAncestor(document.currentScript, \"section\");\n",
    "        if (section) {\n",
    "            section.setAttribute(\"data-background-image\", src);\n",
    "\t\t\tif (textColor) colorAll(section, textColor);\n",
    "        }\n",
    "    }\n",
    "</script>"
   ]
  },
  {
   "cell_type": "raw",
   "id": "62d15e31-a15b-4c2e-948b-e3a1b328ee88",
   "metadata": {},
   "source": [
    "<style>\n",
    "h1 {\n",
    "  border: 1.5px solid #333;\n",
    "  padding: 8px 12px;\n",
    "  background-image: linear-gradient(#2774AE,#ebf8e1, #FFD100);\n",
    "  position: static;\n",
    "}\n",
    "</style>"
   ]
  },
  {
   "cell_type": "markdown",
   "id": "b5776615-322c-41cb-9d9f-83170441b5b7",
   "metadata": {},
   "source": [
    "<h1 style='color:white'> Statistics 21 <br/> Python & Other Technologies for Data Science </h1>\n",
    "\n",
    "<h3 style='color:white'>Vivian Lew, PhD - Friday, Week 3</h3>"
   ]
  },
  {
   "cell_type": "raw",
   "id": "b1f757a0-cb86-4aaa-a444-abef8ed6b22a",
   "metadata": {},
   "source": [
    "<script>\n",
    "    setBackgroundImage(\"Window1.jpg\");\n",
    "</script>"
   ]
  },
  {
   "cell_type": "markdown",
   "id": "dccbada2-cfed-45ca-bf9d-46ab75fcac52",
   "metadata": {
    "slideshow": {
     "slide_type": "slide"
    }
   },
   "source": [
    "## Recursion\n",
    "\n",
    "- When you write a recursive function, the function calls itself inside the function.\n",
    "\n",
    "- When you write a recursive function, there should always be a base case that does not call the function recursively. The base case will end the function to prevent from running endlessly."
   ]
  },
  {
   "cell_type": "markdown",
   "id": "969bf91c-92ca-4d76-82da-f9ee8ff8234b",
   "metadata": {
    "slideshow": {
     "slide_type": "slide"
    }
   },
   "source": [
    "## A Factorial function is a good candidate for recursion.\n",
    "\n",
    "Yes, there is already a factorial function in Python..."
   ]
  },
  {
   "cell_type": "code",
   "execution_count": 1,
   "id": "88bd4055-3d2f-4e89-bab9-74ef6852eaf1",
   "metadata": {},
   "outputs": [
    {
     "data": {
      "text/plain": [
       "120"
      ]
     },
     "execution_count": 1,
     "metadata": {},
     "output_type": "execute_result"
    }
   ],
   "source": [
    "import math\n",
    "\n",
    "math.factorial(5)"
   ]
  },
  {
   "cell_type": "markdown",
   "id": "929fc837-e318-437f-9ab7-8de54e8d9479",
   "metadata": {},
   "source": [
    "But the point is to understand two things \n",
    "\n",
    "- recursion in programming\n",
    "\n",
    "- How Python executes your scripts (https://docs.python.org/3/reference/executionmodel.html#the-call-stack)"
   ]
  },
  {
   "cell_type": "markdown",
   "id": "74b9ddb6-e034-487b-a4f5-77b9837fd4b2",
   "metadata": {
    "slideshow": {
     "slide_type": "slide"
    },
    "tags": []
   },
   "source": [
    "## Our own factorial function"
   ]
  },
  {
   "cell_type": "code",
   "execution_count": 2,
   "id": "08c24c64-f466-434c-bfc6-78e3a1f5304b",
   "metadata": {
    "tags": []
   },
   "outputs": [],
   "source": [
    "def factorial(n):\n",
    "    # always should be a base case\n",
    "    if n <= 0:  \n",
    "        return 1 \n",
    "    # a recursive function calls itself inside the function\n",
    "    else:\n",
    "        return n * factorial(n - 1)"
   ]
  },
  {
   "cell_type": "code",
   "execution_count": 3,
   "id": "3dc916fe-695c-4662-90bd-ee456d2f04de",
   "metadata": {
    "slideshow": {
     "slide_type": "fragment"
    },
    "tags": []
   },
   "outputs": [
    {
     "data": {
      "text/plain": [
       "120"
      ]
     },
     "execution_count": 3,
     "metadata": {},
     "output_type": "execute_result"
    }
   ],
   "source": [
    "factorial(5)"
   ]
  },
  {
   "cell_type": "markdown",
   "id": "42ad2280-402b-4166-afff-82a901878d94",
   "metadata": {
    "slideshow": {
     "slide_type": "slide"
    },
    "tags": []
   },
   "source": [
    "## Ask Python to print out the steps\n",
    "\n",
    "A way to increase your understanding is take the time to examine your code line by line and learn about Python's decisions:"
   ]
  },
  {
   "cell_type": "code",
   "execution_count": 4,
   "id": "93bb324e-77ed-49f0-90d8-8a7a2d51e2cb",
   "metadata": {
    "slideshow": {
     "slide_type": "fragment"
    }
   },
   "outputs": [],
   "source": [
    "def factorial(n):\n",
    "    if n <= 0:\n",
    "        print(\"Base case reached, returning 1\")\n",
    "        return 1\n",
    "    else:\n",
    "        print(f\"Computing factorial({n})\")\n",
    "        result = n * factorial(n - 1)\n",
    "        print(f\"factorial({n}) = {result}\")\n",
    "        return result"
   ]
  },
  {
   "cell_type": "code",
   "execution_count": 5,
   "id": "7e9e7fc2-3d62-4418-b8c6-19a4f4fb617f",
   "metadata": {
    "slideshow": {
     "slide_type": "fragment"
    },
    "tags": []
   },
   "outputs": [
    {
     "name": "stdout",
     "output_type": "stream",
     "text": [
      "Computing factorial(2)\n",
      "Computing factorial(1)\n",
      "Base case reached, returning 1\n",
      "factorial(1) = 1\n",
      "factorial(2) = 2\n"
     ]
    },
    {
     "data": {
      "text/plain": [
       "2"
      ]
     },
     "execution_count": 5,
     "metadata": {},
     "output_type": "execute_result"
    }
   ],
   "source": [
    "factorial(2)"
   ]
  },
  {
   "cell_type": "markdown",
   "id": "ffb62e61-c52d-412b-b2c6-78379556d5b7",
   "metadata": {
    "slideshow": {
     "slide_type": "slide"
    },
    "tags": []
   },
   "source": [
    "## The call stack and call stack frames\n",
    "\n",
    "- The call stack keeps track of the sequence of currently executed function calls, we will call the calls \"items\" \n",
    "\n",
    "- The call stack is a Last-In, First-Out (LIFO) data structure, which means the newest added item is the first one to be removed.\n",
    "\n",
    "- Each item on the call stack is a `call stack frame`, it has information about the currently executed function call, as well as the values of any local variables and the function's current point of execution.\n",
    "\n",
    "- So with each function call, a new call stack frame is added **to the top** of the call stack. \n",
    "\n",
    "- When a function returns, its call stack frame is removed **from the top** of the call stack, and control returns to the previous function call."
   ]
  },
  {
   "cell_type": "code",
   "execution_count": 6,
   "id": "d25c3881-aa46-4f61-8604-6ca6b13173f3",
   "metadata": {
    "slideshow": {
     "slide_type": "slide"
    },
    "tags": []
   },
   "outputs": [
    {
     "name": "stdout",
     "output_type": "stream",
     "text": [
      "Computing factorial(2)\n",
      "Computing factorial(1)\n",
      "Base case reached, returning 1\n",
      "factorial(1) = 1\n",
      "factorial(2) = 2\n"
     ]
    },
    {
     "data": {
      "text/plain": [
       "2"
      ]
     },
     "execution_count": 6,
     "metadata": {},
     "output_type": "execute_result"
    }
   ],
   "source": [
    "factorial(2)"
   ]
  },
  {
   "cell_type": "markdown",
   "id": "3cad9b9b-8dbd-4928-8610-3bfd972ea5af",
   "metadata": {
    "slideshow": {
     "slide_type": "slide"
    },
    "tags": []
   },
   "source": [
    "1. factorial(2) is called, so the function prints Computing factorial(2) to indicate that it's starting to compute the factorial of 2.\n",
    "\n",
    "2. Since n is not <= 0, the function recursively calls factorial(n - 1) with n set to 1. This leads to a new call stack frame being created for factorial(1).\n",
    "\n",
    "3. factorial(1) is called, so the function prints Computing factorial(1) to indicate that it's starting to compute the factorial of 1.\n",
    "\n",
    "4. Since n is not <= 0, the function recursively calls factorial(n - 1) with n set to 0. This leads to a new call stack frame being created for factorial(0).\n",
    "\n",
    "5. factorial(0) is called, but since n is <= 0, the function immediately returns 1 without making any further recursive calls. "
   ]
  },
  {
   "cell_type": "markdown",
   "id": "ad17dbcf-3d5e-4c88-b9a1-6e30b3392b9f",
   "metadata": {
    "slideshow": {
     "slide_type": "slide"
    },
    "tags": []
   },
   "source": [
    "6. This leads to the call stack frame for factorial(0) being \"popped off\" the top of the call stack and control returns to the previous call stack frame for factorial(1).\n",
    "\n",
    "7. The value of factorial(0) is 1, so the expression n * factorial(n - 1) evaluates to 1 * 1 = 1. This leads to factorial(1) returning a value of 1, and its call stack frame is \"popped off\" the stack and control returning to the previous call stack frame for factorial(2).\n",
    "\n",
    "8. The value of factorial(1) is 1, so the expression n * factorial(n - 1) evaluates to 2 * 1 = 2. \n",
    "\n",
    "9. This ends with factorial(2) returning a value of 2, the final result of the function."
   ]
  },
  {
   "cell_type": "markdown",
   "id": "4c83c23f-15d1-4330-9e69-6ab89e9d5cf6",
   "metadata": {
    "slideshow": {
     "slide_type": "slide"
    },
    "tags": []
   },
   "source": [
    "## An attempt to visualize the call stack\n",
    "\n",
    "I couldn't find an image that worked for our simple example, hope this gives you an idea.\n",
    "\n",
    "| a call stack   |   \n",
    "|----------------|   \n",
    "|  factorial(0)  |    \n",
    "|----------------|  \n",
    "|  factorial(1)  |  \n",
    "|----------------|   \n",
    "|  factorial(2)  |  \n",
    "|----------------|   "
   ]
  },
  {
   "cell_type": "markdown",
   "id": "94f32894-ed70-4c91-85e1-d7c2b691b10b",
   "metadata": {
    "slideshow": {
     "slide_type": "slide"
    },
    "tags": []
   },
   "source": [
    "## another example of recursion\n",
    "\n",
    "- a sorting function that relies on recursion.\n",
    "\n",
    "- when you have a chance, you can work through it on your own to make sure you understand how recursion works and how a function is processed by Python."
   ]
  },
  {
   "cell_type": "code",
   "execution_count": 7,
   "id": "1617c0ca-be51-45b2-a5d5-c89a4fe2ca87",
   "metadata": {
    "slideshow": {
     "slide_type": "slide"
    },
    "tags": []
   },
   "outputs": [],
   "source": [
    "def quicksort(arr):\n",
    "    if len(arr) <= 1:\n",
    "        return arr\n",
    "    else:\n",
    "        pivot = arr[0]\n",
    "        less = []\n",
    "        greater = []\n",
    "        \n",
    "        for x in arr[1:]:\n",
    "            if x <= pivot:\n",
    "                less.append(x)\n",
    "            else:\n",
    "                greater.append(x)\n",
    "        \n",
    "        return quicksort(less) + [pivot] + quicksort(greater)"
   ]
  },
  {
   "cell_type": "code",
   "execution_count": 8,
   "id": "bae6c97b-c83d-4302-adce-a9ebbec35c0c",
   "metadata": {
    "slideshow": {
     "slide_type": "fragment"
    },
    "tags": []
   },
   "outputs": [
    {
     "data": {
      "text/plain": [
       "[0, 3, 5, 6, 7, 8, 9]"
      ]
     },
     "execution_count": 8,
     "metadata": {},
     "output_type": "execute_result"
    }
   ],
   "source": [
    "quicksort([8, 6, 7, 5, 3, 0, 9])"
   ]
  },
  {
   "cell_type": "markdown",
   "id": "81789c16-71b1-4e5c-9145-cc69898c7fee",
   "metadata": {
    "slideshow": {
     "slide_type": "slide"
    },
    "tags": []
   },
   "source": [
    "## quicksort recursion example\n",
    "\n",
    "- you can add print( ) all over to help you navigate as you are learning (and writing) functions.\n",
    "\n",
    "- you can find the complete script at `quicksort_example.py`"
   ]
  },
  {
   "cell_type": "code",
   "execution_count": 9,
   "id": "91503aa3-cd22-4c9a-b932-3b997d740130",
   "metadata": {},
   "outputs": [
    {
     "name": "stdout",
     "output_type": "stream",
     "text": [
      "Pivot: 4\n",
      "Less: [], Greater: []\n",
      "x is: 3\n",
      "less is: [3]\n",
      "greater is: []\n",
      "x is: 8\n",
      "greater is: [8]\n",
      "x is: 7\n",
      "greater is: [8, 7]\n",
      "x is: 1\n",
      "less is: [3, 1]\n",
      "greater is: [8, 7]\n",
      "Pivot: 3\n",
      "Less: [], Greater: []\n",
      "x is: 1\n",
      "less is: [1]\n",
      "greater is: []\n",
      "Base case reached, returning 1\n",
      "sorted_less: [1]\n",
      "Base case reached, returning 1\n",
      "sorted_greater: []\n",
      "Result: [1, 3]\n",
      "sorted_less: [1, 3]\n",
      "Pivot: 8\n",
      "Less: [], Greater: []\n",
      "x is: 7\n",
      "less is: [7]\n",
      "greater is: []\n",
      "Base case reached, returning 1\n",
      "sorted_less: [7]\n",
      "Base case reached, returning 1\n",
      "sorted_greater: []\n",
      "Result: [7, 8]\n",
      "sorted_greater: [7, 8]\n",
      "Result: [1, 3, 4, 7, 8]\n",
      "[1, 3, 4, 7, 8]\n"
     ]
    }
   ],
   "source": [
    "def quicksort(arr):\n",
    "    if len(arr) <= 1:\n",
    "        print(\"Base case reached, returning 1\")\n",
    "        return arr\n",
    "    else:\n",
    "        pivot = arr[0]\n",
    "        print(f\"Pivot: {pivot}\")\n",
    "\n",
    "        less = []\n",
    "        greater = []\n",
    "        print(f\"Less: {less}, Greater: {greater}\")\n",
    "\n",
    "        for x in arr[1:]:\n",
    "            print(f\"x is: {x}\")\n",
    "            \n",
    "            if x <= pivot:\n",
    "                less.append(x)\n",
    "                print(f\"less is: {less}\")\n",
    "\n",
    "            else:\n",
    "                greater.append(x)\n",
    "            print(f\"greater is: {greater}\")\n",
    "        \n",
    "        sorted_less = quicksort(less)\n",
    "        \n",
    "        print(f\"sorted_less: {sorted_less}\")\n",
    "        \n",
    "\n",
    "        sorted_greater = quicksort(greater)\n",
    "        \n",
    "        print(f\"sorted_greater: {sorted_greater}\")\n",
    "        \n",
    "        result = sorted_less + [pivot] + sorted_greater\n",
    "        \n",
    "        print(f\"Result: {result}\")\n",
    "        \n",
    "        return result\n",
    "\n",
    "my_list = [4, 3, 8, 7, 1]\n",
    "sorted_list = quicksort(my_list)\n",
    "print(sorted_list)"
   ]
  },
  {
   "cell_type": "markdown",
   "id": "34ed37b5-e149-4882-84ab-2e95859a97e6",
   "metadata": {
    "slideshow": {
     "slide_type": "slide"
    },
    "tags": []
   },
   "source": [
    "## Notes on recursion\n",
    "\n",
    "- Breaking down a problem into smaller subproblems is called \"dividing and conquering\" \n",
    "\n",
    "- Recursion is used for solving problems that can be broken down into smaller, simpler problems.\n",
    "\n",
    "- It is important to make sure that the base case is well-defined when using recursion **AND** that the recursive calls eventually reach the base case. \n",
    "\n",
    "- If the base case is not well-defined or the recursive calls do not eventually reach the base case, then the function may enter an infinite loop and never terminate.\n"
   ]
  },
  {
   "cell_type": "markdown",
   "id": "9e3a3a85-416f-4649-88ee-d8dd29105430",
   "metadata": {
    "slideshow": {
     "slide_type": "slide"
    },
    "tags": []
   },
   "source": [
    "## General strategies for writing functions\n",
    "\n",
    "- When writing a function, avoid going straight into writing the function. \n",
    "\n",
    "- First write some code in the global environment to achieve the desired task.\n",
    "\n",
    "- Once you achieve this, then encapsulate the code within a function."
   ]
  },
  {
   "cell_type": "markdown",
   "id": "9b926fba-761a-4a1a-bc68-1cfa58708278",
   "metadata": {
    "slideshow": {
     "slide_type": "slide"
    },
    "tags": []
   },
   "source": [
    "## Example\n",
    "\n",
    "We want to compute the sum of squares of a list of numbers.  \n",
    "\n",
    "We break the task down to its smallest and simplest form."
   ]
  },
  {
   "cell_type": "code",
   "execution_count": 10,
   "id": "49fd1685-4aec-4dda-8278-85a065da51ac",
   "metadata": {},
   "outputs": [
    {
     "name": "stdout",
     "output_type": "stream",
     "text": [
      "The square of 5 is 25\n"
     ]
    }
   ],
   "source": [
    "number = 5\n",
    "square = number * number\n",
    "print(\"The square of\", number, \"is\", square)"
   ]
  },
  {
   "cell_type": "markdown",
   "id": "a0e0bc1f-858e-4f5e-bfdc-5daad48290fb",
   "metadata": {
    "slideshow": {
     "slide_type": "slide"
    },
    "tags": []
   },
   "source": [
    "## Encapsulation\n",
    "\n",
    "At the most basic level, a function encapsulates a few lines of code. This associates a name with statements and allows us to reuse the code."
   ]
  },
  {
   "cell_type": "code",
   "execution_count": 11,
   "id": "09a6b24d-37c5-412d-8a9e-76ebdeb820f7",
   "metadata": {},
   "outputs": [],
   "source": [
    "def square_number(number):\n",
    "    square = number * number\n",
    "    return square"
   ]
  },
  {
   "cell_type": "markdown",
   "id": "ed245750-f4ba-4f05-8b86-8ceab975dbd0",
   "metadata": {},
   "source": [
    "and we test it"
   ]
  },
  {
   "cell_type": "code",
   "execution_count": 12,
   "id": "f55f15b6-2dd2-4c33-b5f3-5ecfbb1abad2",
   "metadata": {},
   "outputs": [
    {
     "data": {
      "text/plain": [
       "49"
      ]
     },
     "execution_count": 12,
     "metadata": {},
     "output_type": "execute_result"
    }
   ],
   "source": [
    "square_number(7)"
   ]
  },
  {
   "cell_type": "code",
   "execution_count": 13,
   "id": "e75e485e-bab0-4d5b-8037-df0626a7ec97",
   "metadata": {},
   "outputs": [
    {
     "name": "stdout",
     "output_type": "stream",
     "text": [
      "1 4 9 16 25 36 49 64 81 100 "
     ]
    }
   ],
   "source": [
    "numbers = list(range(1,11))\n",
    "\n",
    "for num in numbers:\n",
    "    print(square_number(num), end = \" \")"
   ]
  },
  {
   "cell_type": "markdown",
   "id": "2414e13c-d077-47c1-a629-bfcd277a84dc",
   "metadata": {
    "slideshow": {
     "slide_type": "slide"
    },
    "tags": []
   },
   "source": [
    "# Generalization\n",
    "\n",
    "Generalization adds variables to functions so that the same function can be slightly altered."
   ]
  },
  {
   "cell_type": "code",
   "execution_count": 14,
   "id": "996568ca-5ae9-459e-bd73-b329f663f491",
   "metadata": {},
   "outputs": [],
   "source": [
    "def square_number(number):\n",
    "    square = number * number\n",
    "    return square\n",
    "\n",
    "def sum_of_squares(numbers):\n",
    "    total = 0\n",
    "    for number in numbers:\n",
    "        square = square_number(number)\n",
    "        total += square\n",
    "    return total"
   ]
  },
  {
   "cell_type": "code",
   "execution_count": 15,
   "id": "a5692f05-e608-4e39-8ca1-502c635d06f0",
   "metadata": {},
   "outputs": [
    {
     "data": {
      "text/plain": [
       "55"
      ]
     },
     "execution_count": 15,
     "metadata": {},
     "output_type": "execute_result"
    }
   ],
   "source": [
    "my_numbers = list(range(1,6))\n",
    "\n",
    "sum_of_squares(my_numbers)"
   ]
  },
  {
   "cell_type": "markdown",
   "id": "5a9f27fe-babb-4361-bb24-abe6d9ed07d5",
   "metadata": {
    "slideshow": {
     "slide_type": "slide"
    },
    "tags": []
   },
   "source": [
    "## more generalization of the function:\n",
    "\n",
    "We can add layers to it"
   ]
  },
  {
   "cell_type": "code",
   "execution_count": 16,
   "id": "085c9070-ed98-405e-9388-73e4591b2d9d",
   "metadata": {},
   "outputs": [],
   "source": [
    "def print_squares(numbers):\n",
    "    squares = []\n",
    "    for number in numbers:\n",
    "        squares.append(square_number(number))\n",
    "    print(squares)"
   ]
  },
  {
   "cell_type": "code",
   "execution_count": 17,
   "id": "6aad1528-2fa1-47cc-8d1b-5ee2d363dcb9",
   "metadata": {},
   "outputs": [
    {
     "name": "stdout",
     "output_type": "stream",
     "text": [
      "[1, 4, 9, 16, 25]\n"
     ]
    }
   ],
   "source": [
    "my_numbers = list(range(1,6))\n",
    "\n",
    "print_squares(my_numbers)"
   ]
  },
  {
   "cell_type": "code",
   "execution_count": 18,
   "id": "9938fd7e-517d-4011-b94d-f4370a7e5716",
   "metadata": {
    "slideshow": {
     "slide_type": "slide"
    },
    "tags": []
   },
   "outputs": [],
   "source": [
    "def mean_of_sums_of_squares(lists_of_numbers):\n",
    "    num_of_lists = len(lists_of_numbers)\n",
    "    total_sum_of_squares = 0\n",
    "    \n",
    "    for numbers in lists_of_numbers:\n",
    "        sum_of_squares_result = sum_of_squares(numbers)\n",
    "        total_sum_of_squares += sum_of_squares_result\n",
    "    \n",
    "    mean = total_sum_of_squares / num_of_lists\n",
    "    return mean"
   ]
  },
  {
   "cell_type": "code",
   "execution_count": 19,
   "id": "5d8e9c93-811e-4995-9a85-d6c884e0929f",
   "metadata": {
    "slideshow": {
     "slide_type": "slide"
    },
    "tags": []
   },
   "outputs": [
    {
     "name": "stdout",
     "output_type": "stream",
     "text": [
      "The mean of the sum of squares for [[1, 2, 3, 4, 5], [6, 7, 8, 9, 10], [11, 12, 13, 14, 15]], is 413.33\n"
     ]
    }
   ],
   "source": [
    "# test it\n",
    "\n",
    "lists_of_numbers = [\n",
    "    [1, 2, 3, 4, 5],\n",
    "    [6, 7, 8, 9, 10],\n",
    "    [11, 12, 13, 14, 15]\n",
    "]\n",
    "\n",
    "result = mean_of_sums_of_squares(lists_of_numbers)\n",
    "print(f\"The mean of the sum of squares for {lists_of_numbers}, is {round(result, 2)}\")"
   ]
  },
  {
   "cell_type": "markdown",
   "id": "56656f78-eb9b-45fd-bc70-fdc0194f173c",
   "metadata": {
    "slideshow": {
     "slide_type": "slide"
    },
    "tags": []
   },
   "source": [
    "<h1> Statistics 21 <br/> Have a great weekend! </h1>"
   ]
  },
  {
   "cell_type": "raw",
   "id": "35833246-21dc-4b69-acaf-fe4b5cbbf41d",
   "metadata": {
    "slideshow": {
     "slide_type": "-"
    },
    "tags": []
   },
   "source": [
    "<script>\n",
    "    setBackgroundImage(\"Window1.jpg\", \"black\");\n",
    "</script>"
   ]
  }
 ],
 "metadata": {
  "kernelspec": {
   "display_name": "Python 3 (ipykernel)",
   "language": "python",
   "name": "python3"
  },
  "language_info": {
   "codemirror_mode": {
    "name": "ipython",
    "version": 3
   },
   "file_extension": ".py",
   "mimetype": "text/x-python",
   "name": "python",
   "nbconvert_exporter": "python",
   "pygments_lexer": "ipython3",
   "version": "3.11.3"
  }
 },
 "nbformat": 4,
 "nbformat_minor": 5
}
