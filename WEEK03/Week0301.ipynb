{
 "cells": [
  {
   "cell_type": "raw",
   "id": "1402dfa0-0ee3-4433-8d9b-c6602cdd177a",
   "metadata": {},
   "source": [
    "<script>\n",
    "    function findAncestor (el, name) {\n",
    "        while ((el = el.parentElement) && el.nodeName.toLowerCase() !== name);\n",
    "        return el;\n",
    "    }\n",
    "    function colorAll(el, textColor) {\n",
    "        el.style.color = textColor;\n",
    "        Array.from(el.children).forEach((e) => {colorAll(e, textColor);});\n",
    "    }\n",
    "    function setBackgroundImage(src, textColor) {\n",
    "        var section = findAncestor(document.currentScript, \"section\");\n",
    "        if (section) {\n",
    "            section.setAttribute(\"data-background-image\", src);\n",
    "\t\t\tif (textColor) colorAll(section, textColor);\n",
    "        }\n",
    "    }\n",
    "</script>"
   ]
  },
  {
   "cell_type": "raw",
   "id": "62d15e31-a15b-4c2e-948b-e3a1b328ee88",
   "metadata": {},
   "source": [
    "<style>\n",
    "h1 {\n",
    "  border: 1.5px solid #333;\n",
    "  padding: 8px 12px;\n",
    "  background-image: linear-gradient(#2774AE,#ebf8e1, #FFD100);\n",
    "  position: static;\n",
    "}\n",
    "</style>"
   ]
  },
  {
   "cell_type": "markdown",
   "id": "b5776615-322c-41cb-9d9f-83170441b5b7",
   "metadata": {},
   "source": [
    "<h1 style='color:white'> Statistics 21 <br/> Python & Other Technologies for Data Science </h1>\n",
    "\n",
    "<h3 style='color:white'>Vivian Lew, PhD - Monday, Week 3</h3>"
   ]
  },
  {
   "cell_type": "raw",
   "id": "b1f757a0-cb86-4aaa-a444-abef8ed6b22a",
   "metadata": {},
   "source": [
    "<script>\n",
    "    setBackgroundImage(\"Window1.jpg\");\n",
    "</script>"
   ]
  },
  {
   "cell_type": "markdown",
   "id": "245631b3-223e-4e05-a9f3-8443b5976cbd",
   "metadata": {
    "slideshow": {
     "slide_type": "slide"
    },
    "tags": []
   },
   "source": [
    "# Functions in Python\n",
    "## Many Thanks to Miles Chen, PhD who developed much of the materials\n",
    "### Adapted from *Think Python* by Allen B. Downey and *A Whirlwind Tour of Python* by Jake VanderPlas"
   ]
  },
  {
   "cell_type": "markdown",
   "id": "3906bf6f-83ce-4041-9e87-aa94c5de299a",
   "metadata": {
    "slideshow": {
     "slide_type": "slide"
    },
    "tags": []
   },
   "source": [
    "## Learning to program our own functions\n",
    "\n",
    "- It is time to learn to program our own functions - but why?\n",
    "\n",
    "- Or why do you think?  You've been using functions programmed by others and Python has well over 100K different libraries.\n",
    "\n",
    "- Your thoughts please.\n"
   ]
  },
  {
   "cell_type": "markdown",
   "id": "45ea132c-d534-4eb3-aeac-3382e6812741",
   "metadata": {
    "slideshow": {
     "slide_type": "slide"
    },
    "tags": []
   },
   "source": [
    "## Some ideas\n",
    "\n",
    "- Makes you a better programmer\n",
    "- Helps you learn to break down complex tasks in an organized manner\n",
    "- Makes you more efficient - spend less time correcting  code and less time writing code (reusability)"
   ]
  },
  {
   "cell_type": "markdown",
   "id": "8787400a-577e-43af-b0cc-c729df9f5146",
   "metadata": {
    "slideshow": {
     "slide_type": "slide"
    },
    "tags": []
   },
   "source": [
    "## The building blocks of programming functions are:\n",
    "\n",
    "- *input*  - get input from keyboard, a file, network, or some device\n",
    "- *output* - display data to the screen, save to a file, send over network, etc.\n",
    "- *conditional execution* - check for certain conditions and run the appropriate code\n",
    "- *repetition* - perform some action repeatedly, usually with some variation\n",
    "- *math* - perform a mathematical operation"
   ]
  },
  {
   "cell_type": "markdown",
   "id": "214e6eed-4082-4b23-a08c-b0e4ace2fad7",
   "metadata": {
    "slideshow": {
     "slide_type": "slide"
    },
    "tags": []
   },
   "source": [
    "## Functions\n",
    "\n",
    "**Functions calls** are how functions are executed.\n",
    "\n",
    "Function calls consist of the **name** of the function and **parenthesis** with any **arguments** inside the parenthesis.\n",
    "\n",
    "Some functions produce a **return value** and some don't"
   ]
  },
  {
   "cell_type": "code",
   "execution_count": 1,
   "id": "ac9ebc2e-529e-438b-8389-0276a8ab85ca",
   "metadata": {
    "slideshow": {
     "slide_type": "fragment"
    }
   },
   "outputs": [
    {
     "name": "stdout",
     "output_type": "stream",
     "text": [
      "<class 'list'>\n"
     ]
    }
   ],
   "source": [
    "foodList = ['pizza', 'sushi', 'tteokbokki', 'mulitas', 'samosas']\n",
    "x = type(foodList)\n",
    "print(x)"
   ]
  },
  {
   "cell_type": "markdown",
   "id": "c6b006c1-457b-47e1-bf47-8e05b047eaf2",
   "metadata": {
    "slideshow": {
     "slide_type": "fragment"
    },
    "tags": []
   },
   "source": [
    "the function name is `type`, the argument is `foodList`, the return value is `list` compare with .sort()"
   ]
  },
  {
   "cell_type": "code",
   "execution_count": 2,
   "id": "dde92138-d771-4d5e-9618-db0c19033e41",
   "metadata": {},
   "outputs": [
    {
     "name": "stdout",
     "output_type": "stream",
     "text": [
      "None\n"
     ]
    }
   ],
   "source": [
    "y = foodList.sort()\n",
    "print(y)"
   ]
  },
  {
   "cell_type": "markdown",
   "id": "c84b0e4b-d8ff-4872-b6aa-262f039f9208",
   "metadata": {
    "slideshow": {
     "slide_type": "slide"
    }
   },
   "source": [
    "## Function calls\n",
    "We call functions by writing the function name and parenthesis."
   ]
  },
  {
   "cell_type": "code",
   "execution_count": 3,
   "id": "79433658-da90-4caa-a066-2df5597f6aa0",
   "metadata": {
    "slideshow": {
     "slide_type": "fragment"
    }
   },
   "outputs": [
    {
     "data": {
      "text/plain": [
       "<function print(*args, sep=' ', end='\\n', file=None, flush=False)>"
      ]
     },
     "execution_count": 3,
     "metadata": {},
     "output_type": "execute_result"
    }
   ],
   "source": [
    "print  # does not call the function. This is the object of the function itself"
   ]
  },
  {
   "cell_type": "code",
   "execution_count": 4,
   "id": "3aa2bbc0-c8f5-47f4-9a55-120a017fe6cd",
   "metadata": {
    "slideshow": {
     "slide_type": "fragment"
    },
    "tags": []
   },
   "outputs": [
    {
     "name": "stdout",
     "output_type": "stream",
     "text": [
      "hello\n"
     ]
    }
   ],
   "source": [
    "print('hello')  # calls the function"
   ]
  },
  {
   "cell_type": "code",
   "execution_count": 5,
   "id": "9284a699-d045-4678-ad55-991f9c320cb8",
   "metadata": {},
   "outputs": [
    {
     "name": "stdout",
     "output_type": "stream",
     "text": [
      "1 2 3\n"
     ]
    }
   ],
   "source": [
    "print(1, 2, 3)"
   ]
  },
  {
   "cell_type": "code",
   "execution_count": 6,
   "id": "a5e28722-cadc-4204-9c13-e0bd64c38033",
   "metadata": {
    "tags": []
   },
   "outputs": [
    {
     "name": "stdout",
     "output_type": "stream",
     "text": [
      "1-2-3\n"
     ]
    }
   ],
   "source": [
    "print(1, 2, 3, sep = '-')"
   ]
  },
  {
   "cell_type": "markdown",
   "id": "e26730f4-807c-4b61-9b14-220274535373",
   "metadata": {
    "slideshow": {
     "slide_type": "slide"
    },
    "tags": []
   },
   "source": [
    "## How we Define functions in Python\n",
    "\n",
    "To define a new function, use the statement \n",
    "\n",
    "`def functionname(arguments):`\n",
    "\n",
    "This will be followed by a sequence of statements that constitute the body of the function.  \n",
    "\n",
    "If you want the function to return an object, you must use the `return` statement.   But return is optional.\n",
    "\n",
    "Arguments can be optional too."
   ]
  },
  {
   "cell_type": "markdown",
   "id": "9157b082-20de-4012-b778-ce879e826d35",
   "metadata": {
    "slideshow": {
     "slide_type": "slide"
    },
    "tags": []
   },
   "source": [
    "### No argument example with return"
   ]
  },
  {
   "cell_type": "code",
   "execution_count": 7,
   "id": "d8ae1202-4e21-450e-b49d-1ded0425821a",
   "metadata": {
    "slideshow": {
     "slide_type": "fragment"
    },
    "tags": []
   },
   "outputs": [],
   "source": [
    "def shouting(): \n",
    "    phrase = input('Please input something to shout about: ')\n",
    "    shout = phrase.upper() + '!!!'\n",
    "    return shout"
   ]
  },
  {
   "cell_type": "code",
   "execution_count": 8,
   "id": "0e5c89fc-5038-4327-87a8-1f49ba4d7c6d",
   "metadata": {
    "slideshow": {
     "slide_type": "fragment"
    }
   },
   "outputs": [
    {
     "name": "stdin",
     "output_type": "stream",
     "text": [
      "Please input something to shout about:  Chicken and rice\n"
     ]
    },
    {
     "name": "stdout",
     "output_type": "stream",
     "text": [
      "CHICKEN AND RICE!!!\n"
     ]
    }
   ],
   "source": [
    "# Call the function\n",
    "result = shouting()\n",
    "print(result)"
   ]
  },
  {
   "cell_type": "markdown",
   "id": "009e06da-470d-4340-ab66-1757c4b7d548",
   "metadata": {
    "slideshow": {
     "slide_type": "slide"
    },
    "tags": []
   },
   "source": [
    "### Argument example with no return"
   ]
  },
  {
   "cell_type": "code",
   "execution_count": 9,
   "id": "64ef5eab-be0e-4301-9032-6f893754e725",
   "metadata": {
    "slideshow": {
     "slide_type": "fragment"
    },
    "tags": []
   },
   "outputs": [],
   "source": [
    "def shouting(phrase):\n",
    "    shout = str(phrase).upper() + '!!!'\n",
    "    print(shout)"
   ]
  },
  {
   "cell_type": "code",
   "execution_count": 10,
   "id": "dc488af6-726f-4d30-bbbc-1fdc2a88e193",
   "metadata": {
    "slideshow": {
     "slide_type": "fragment"
    }
   },
   "outputs": [
    {
     "name": "stdout",
     "output_type": "stream",
     "text": [
      "HELLO!!!\n"
     ]
    }
   ],
   "source": [
    "shouting(\"Hello\") # Call the function with an argument"
   ]
  },
  {
   "cell_type": "code",
   "execution_count": 11,
   "id": "459b96c1-0198-418f-a08c-81c1d5edef60",
   "metadata": {},
   "outputs": [
    {
     "ename": "TypeError",
     "evalue": "shouting() missing 1 required positional argument: 'phrase'",
     "output_type": "error",
     "traceback": [
      "\u001b[0;31m---------------------------------------------------------------------------\u001b[0m",
      "\u001b[0;31mTypeError\u001b[0m                                 Traceback (most recent call last)",
      "Cell \u001b[0;32mIn[11], line 1\u001b[0m\n\u001b[0;32m----> 1\u001b[0m \u001b[43mshouting\u001b[49m\u001b[43m(\u001b[49m\u001b[43m)\u001b[49m \u001b[38;5;66;03m# no argument when programmed to have one results in an error\u001b[39;00m\n",
      "\u001b[0;31mTypeError\u001b[0m: shouting() missing 1 required positional argument: 'phrase'"
     ]
    }
   ],
   "source": [
    "shouting() # no argument when programmed to have one results in an error"
   ]
  },
  {
   "cell_type": "markdown",
   "id": "d0329f78-ba21-4a00-8bc4-a47a1032fdd4",
   "metadata": {
    "slideshow": {
     "slide_type": "slide"
    }
   },
   "source": [
    "## Returning a value\n",
    "If a function returns a value, the result of the function can be assigned to an object."
   ]
  },
  {
   "cell_type": "code",
   "execution_count": 12,
   "id": "b1feee78-8c72-47e5-9f5e-9129680e115d",
   "metadata": {
    "slideshow": {
     "slide_type": "fragment"
    }
   },
   "outputs": [],
   "source": [
    "def shouting(phrase):\n",
    "    shout = str(phrase).upper() + '!!!'\n",
    "    return shout"
   ]
  },
  {
   "cell_type": "code",
   "execution_count": 13,
   "id": "930a57dc-5a09-46e5-808e-bb2b0ec6b648",
   "metadata": {
    "slideshow": {
     "slide_type": "fragment"
    }
   },
   "outputs": [],
   "source": [
    "greeting = shouting(\"hi\")"
   ]
  },
  {
   "cell_type": "code",
   "execution_count": 14,
   "id": "94964c4b-dc86-4b6c-a84b-83d63af1d398",
   "metadata": {
    "slideshow": {
     "slide_type": "fragment"
    }
   },
   "outputs": [
    {
     "data": {
      "text/plain": [
       "'HI!!!'"
      ]
     },
     "execution_count": 14,
     "metadata": {},
     "output_type": "execute_result"
    }
   ],
   "source": [
    "greeting"
   ]
  },
  {
   "cell_type": "markdown",
   "id": "1363e4e2-3c01-4708-9734-242fe465bb64",
   "metadata": {
    "slideshow": {
     "slide_type": "slide"
    }
   },
   "source": [
    "## Returning a value (cont'd)\n",
    "\n",
    "If a function does not use `return` to return a value, the result of the function will be `None`."
   ]
  },
  {
   "cell_type": "code",
   "execution_count": 15,
   "id": "6724c8a7-98e5-4ae4-bc1d-9d9ff0bdd7c3",
   "metadata": {
    "slideshow": {
     "slide_type": "fragment"
    }
   },
   "outputs": [],
   "source": [
    "def quiet(phrase):\n",
    "    shh = str(phrase).lower()\n",
    "    shh"
   ]
  },
  {
   "cell_type": "code",
   "execution_count": 16,
   "id": "330d6695-455d-42d0-86dc-9bdf8be22449",
   "metadata": {
    "slideshow": {
     "slide_type": "fragment"
    }
   },
   "outputs": [],
   "source": [
    "whisper = quiet(\"HELLO\")"
   ]
  },
  {
   "cell_type": "code",
   "execution_count": 17,
   "id": "fb48159f-05ef-4b51-a866-c3fc657c7068",
   "metadata": {
    "slideshow": {
     "slide_type": "fragment"
    }
   },
   "outputs": [],
   "source": [
    "whisper"
   ]
  },
  {
   "cell_type": "code",
   "execution_count": 18,
   "id": "60da1cbe-6863-45bb-b2e5-d1877b51e297",
   "metadata": {
    "slideshow": {
     "slide_type": "slide"
    },
    "tags": []
   },
   "outputs": [
    {
     "name": "stdout",
     "output_type": "stream",
     "text": [
      "None\n"
     ]
    }
   ],
   "source": [
    "print(whisper)"
   ]
  },
  {
   "cell_type": "code",
   "execution_count": 19,
   "id": "6fc07f2a-aa0a-420e-92bf-80a153fdb097",
   "metadata": {
    "slideshow": {
     "slide_type": "fragment"
    }
   },
   "outputs": [
    {
     "data": {
      "text/plain": [
       "NoneType"
      ]
     },
     "execution_count": 19,
     "metadata": {},
     "output_type": "execute_result"
    }
   ],
   "source": [
    "type(whisper)"
   ]
  },
  {
   "cell_type": "markdown",
   "id": "706732ba-25b3-409f-8b68-36dc3de5bcf7",
   "metadata": {
    "slideshow": {
     "slide_type": "slide"
    }
   },
   "source": [
    "## Returning multiple values\n",
    "A function can return multiple values as a **tuple**. We will explore tuples soon."
   ]
  },
  {
   "cell_type": "code",
   "execution_count": 20,
   "id": "ef052d93-f907-49c6-aa90-bf8eeab5aa64",
   "metadata": {
    "slideshow": {
     "slide_type": "fragment"
    }
   },
   "outputs": [],
   "source": [
    "def powersof(number):\n",
    "    square = number ** 2\n",
    "    cube = number ** 3\n",
    "    return number, square, cube"
   ]
  },
  {
   "cell_type": "code",
   "execution_count": 21,
   "id": "d1943e97-83c4-452c-a3f0-d83bbf73be62",
   "metadata": {
    "slideshow": {
     "slide_type": "fragment"
    }
   },
   "outputs": [
    {
     "data": {
      "text/plain": [
       "(3, 9, 27)"
      ]
     },
     "execution_count": 21,
     "metadata": {},
     "output_type": "execute_result"
    }
   ],
   "source": [
    "powersof(3)"
   ]
  },
  {
   "cell_type": "code",
   "execution_count": 22,
   "id": "3c2d860c-4712-45b4-bb94-3ae4d5bae7f5",
   "metadata": {
    "slideshow": {
     "slide_type": "fragment"
    },
    "tags": []
   },
   "outputs": [
    {
     "name": "stdout",
     "output_type": "stream",
     "text": [
      "The number is 3, its square is 9\n",
      "and cube is 27\n"
     ]
    }
   ],
   "source": [
    "output3 = powersof(3)\n",
    "print(f\"The number is {output3[0]}, its square is {output3[1]}\")\n",
    "print(f\"and cube is {output3[2]}\")"
   ]
  },
  {
   "cell_type": "markdown",
   "id": "ab983b0f-14c4-4012-a297-e4690f10439c",
   "metadata": {
    "slideshow": {
     "slide_type": "slide"
    }
   },
   "source": [
    "## (an aside) tuple unpacking\n",
    "\n",
    "If the function returns a tuple, it can be unpacked into separate elements."
   ]
  },
  {
   "cell_type": "code",
   "execution_count": 23,
   "id": "069299e0-4371-4c86-a51f-74e5fa8d47af",
   "metadata": {
    "slideshow": {
     "slide_type": "fragment"
    }
   },
   "outputs": [],
   "source": [
    "x, y, z = powersof(3) "
   ]
  },
  {
   "cell_type": "code",
   "execution_count": 24,
   "id": "97f53217-79b7-4251-9ff5-07b83a29a243",
   "metadata": {
    "slideshow": {
     "slide_type": "fragment"
    }
   },
   "outputs": [
    {
     "name": "stdout",
     "output_type": "stream",
     "text": [
      "3\n"
     ]
    }
   ],
   "source": [
    "print(x)"
   ]
  },
  {
   "cell_type": "code",
   "execution_count": 25,
   "id": "c6ebcab0-6142-465d-82c3-3f0a1fe7818f",
   "metadata": {
    "slideshow": {
     "slide_type": "fragment"
    }
   },
   "outputs": [
    {
     "name": "stdout",
     "output_type": "stream",
     "text": [
      "9\n",
      "27\n"
     ]
    }
   ],
   "source": [
    "print(y)  # all of the values are stored separately\n",
    "print(z)"
   ]
  },
  {
   "cell_type": "markdown",
   "id": "d3bb0ae9-210a-42e3-9300-ef3e449c5812",
   "metadata": {
    "slideshow": {
     "slide_type": "slide"
    }
   },
   "source": [
    "Conversely, you can just capture the tuple as a single object"
   ]
  },
  {
   "cell_type": "code",
   "execution_count": 26,
   "id": "4b0a65cc-ea83-4534-b676-df5232b7d9ac",
   "metadata": {
    "slideshow": {
     "slide_type": "fragment"
    }
   },
   "outputs": [],
   "source": [
    "j = powersof(4)  "
   ]
  },
  {
   "cell_type": "code",
   "execution_count": 27,
   "id": "6dee4640-a957-4f14-9f9d-15462cee6793",
   "metadata": {
    "slideshow": {
     "slide_type": "fragment"
    }
   },
   "outputs": [
    {
     "name": "stdout",
     "output_type": "stream",
     "text": [
      "(4, 16, 64)\n"
     ]
    }
   ],
   "source": [
    "print(j)"
   ]
  },
  {
   "cell_type": "markdown",
   "id": "91a22bdd-a5cc-4dc8-b86f-6cbbb288d8c2",
   "metadata": {
    "slideshow": {
     "slide_type": "slide"
    }
   },
   "source": [
    "## (an aside) tuple unpacking (cont'd)\n",
    "\n",
    "To perform tuple unpacking, the number of elements to be unpacked must match the number of values being assigned.\n",
    "\n",
    "The following is not allowed because `powerof()` returns a tuple with three elements and we are trying to assign it to two names."
   ]
  },
  {
   "cell_type": "code",
   "execution_count": 28,
   "id": "32041437-2712-492d-9980-c22c02a694a9",
   "metadata": {
    "slideshow": {
     "slide_type": "fragment"
    },
    "tags": [
     "raises-exception"
    ]
   },
   "outputs": [
    {
     "ename": "ValueError",
     "evalue": "too many values to unpack (expected 2)",
     "output_type": "error",
     "traceback": [
      "\u001b[0;31m---------------------------------------------------------------------------\u001b[0m",
      "\u001b[0;31mValueError\u001b[0m                                Traceback (most recent call last)",
      "Cell \u001b[0;32mIn[28], line 1\u001b[0m\n\u001b[0;32m----> 1\u001b[0m g, h \u001b[38;5;241m=\u001b[39m powersof(\u001b[38;5;241m5\u001b[39m)\n",
      "\u001b[0;31mValueError\u001b[0m: too many values to unpack (expected 2)"
     ]
    }
   ],
   "source": [
    "g, h = powersof(5)"
   ]
  },
  {
   "cell_type": "markdown",
   "id": "59ef5be8-5526-44c4-b03a-0b77d8aa97c2",
   "metadata": {
    "slideshow": {
     "slide_type": "slide"
    }
   },
   "source": [
    "## Flow of Execution\n",
    "\n",
    "Execution always begins at the first statement of the program. Statements are run one at a time, in order from top to bottom.\n",
    "\n",
    "Function **definitions** do not alter the flow of execution of the program. Keep in mind that *statements inside the function don't run until the function is called.*\n",
    "\n",
    "A function call is like a detour in the flow of execution. Instead of going to the next statement, the flow jumps to the body of the function, runs the statements there, and then comes back to pick up where it left off."
   ]
  },
  {
   "cell_type": "code",
   "execution_count": 29,
   "id": "524577af-9ec4-4dde-ab89-ea34d4549a2b",
   "metadata": {
    "slideshow": {
     "slide_type": "slide"
    },
    "tags": []
   },
   "outputs": [
    {
     "data": {
      "text/plain": [
       "['alice', 'was', 'beginning', 'to', 'get', 'very', 'tired', 'of', 'sitting']"
      ]
     },
     "execution_count": 29,
     "metadata": {},
     "output_type": "execute_result"
    }
   ],
   "source": [
    "## Looking at a program with a user written function\n",
    "import string\n",
    "\n",
    "def read_docu(document):\n",
    "    words = []\n",
    "\n",
    "    with open(document, \"r\", encoding=\"utf-8\") as input_file:\n",
    "        for line in input_file:\n",
    "            \n",
    "            # convert everything to lower case\n",
    "            line = line.lower()\n",
    "            \n",
    "            # Remove punctuation using a for loop\n",
    "            no_punctuation = []\n",
    "            for c in line:\n",
    "                if c not in string.punctuation:\n",
    "                    no_punctuation.append(c)\n",
    "                    line = ''.join(no_punctuation)            \n",
    "            \n",
    "            # Split the line into words and append them to the list\n",
    "            words += line.strip().split()\n",
    "\n",
    "        return words\n",
    "\n",
    "my_document = \"alice_small.txt\"\n",
    "    \n",
    "example = read_docu(my_document)\n",
    "example[0:9]"
   ]
  },
  {
   "cell_type": "markdown",
   "id": "3a011719-859b-49ad-9b12-87ff1d4be46a",
   "metadata": {
    "slideshow": {
     "slide_type": "slide"
    },
    "tags": []
   },
   "source": [
    "## Understand your function\n",
    "\n",
    "- If it doesn't make sense, try reading through it \n",
    "\n",
    "- Or slowly trace it - either mentally or via programming"
   ]
  },
  {
   "cell_type": "code",
   "execution_count": 30,
   "id": "bb884f84-ffec-45d9-aa8e-33fc9142ee51",
   "metadata": {},
   "outputs": [
    {
     "data": {
      "text/plain": [
       "[]"
      ]
     },
     "execution_count": 30,
     "metadata": {},
     "output_type": "execute_result"
    }
   ],
   "source": [
    "import string\n",
    "\n",
    "def read_docu1(document):\n",
    "    words = []\n",
    "\n",
    "    return words\n",
    "\n",
    "my_document = \"alice_small.txt\"\n",
    "    \n",
    "example = read_docu1(my_document)\n",
    "example[0:9]"
   ]
  },
  {
   "cell_type": "markdown",
   "id": "71fc158b-ac57-4866-9c90-e3a8d9812985",
   "metadata": {
    "slideshow": {
     "slide_type": "slide"
    },
    "tags": []
   },
   "source": [
    "## Understand your function (cont'd)"
   ]
  },
  {
   "cell_type": "code",
   "execution_count": 31,
   "id": "569d488e-561e-442c-b672-afbc32a52683",
   "metadata": {},
   "outputs": [
    {
     "name": "stdout",
     "output_type": "stream",
     "text": [
      "Alice was beginning to get very tired of sitting by her sister on the\n",
      "\n",
      "bank, and of having nothing to do: once or twice she had peeped into\n",
      "\n",
      "the book her sister was reading, but it had no pictures or\n",
      "\n",
      "conversations in it, and what is the use of a book, thought Alice\n",
      "\n",
      "without pictures or conversations?\n",
      "\n",
      "\n",
      "\n",
      "So she was considering in her own mind (as well as she could, for the\n",
      "\n",
      "hot day made her feel very sleepy and stupid), whether the pleasure of\n",
      "\n",
      "making a daisy-chain would be worth the trouble of getting up and\n",
      "\n",
      "picking the daisies, when suddenly a White Rabbit with pink eyes ran\n",
      "\n",
      "close by her.\n",
      "\n",
      "\n",
      "\n",
      "There was nothing so _very_ remarkable in that; nor did Alice think it\n",
      "\n",
      "so _very_ much out of the way to hear the Rabbit say to itself, Oh\n",
      "\n",
      "dear! Oh dear! I shall be late! (when she thought it over afterwards,\n",
      "\n",
      "it occurred to her that she ought to have wondered at this, but at the\n",
      "\n",
      "time it all seemed quite natural); but when the Rabbit actually _took a\n",
      "\n",
      "watch out of its waistcoat-pocket_, and looked at it, and then hurried\n",
      "\n",
      "on, Alice started to her feet, for it flashed across her mind that she\n",
      "\n",
      "had never before seen a rabbit with either a waistcoat-pocket, or a\n",
      "\n",
      "watch to take out of it, and burning with curiosity, she ran across the\n",
      "\n",
      "field after it, and fortunately was just in time to see it pop down a\n",
      "\n",
      "large rabbit-hole under the hedge.\n",
      "\n",
      "\n",
      "\n",
      "In another moment down went Alice after it, never once considering how\n",
      "\n",
      "in the world she was to get out again.\n"
     ]
    }
   ],
   "source": [
    "import string\n",
    "\n",
    "def read_docu1(document):\n",
    "    words = []\n",
    "    \n",
    "    with open(document, \"r\", encoding=\"utf-8\") as input_file:\n",
    "        for line in input_file:\n",
    "            print(line)\n",
    "\n",
    "    \n",
    "    #return words\n",
    "\n",
    "my_document = \"alice_small.txt\"\n",
    "    \n",
    "example = read_docu1(my_document)\n",
    "#example[0:9]"
   ]
  },
  {
   "cell_type": "markdown",
   "id": "1136bb37-b6b4-462a-b50c-bdd54b377c8d",
   "metadata": {
    "slideshow": {
     "slide_type": "slide"
    },
    "tags": []
   },
   "source": [
    "## Understand your function (cont'd)"
   ]
  },
  {
   "cell_type": "code",
   "execution_count": 32,
   "id": "eb2fab39-1d52-4f4c-a7da-0a826079ab4b",
   "metadata": {},
   "outputs": [
    {
     "name": "stdout",
     "output_type": "stream",
     "text": [
      "alice was beginning to get very tired of sitting by her sister on the\n",
      "\n",
      "bank, and of having nothing to do: once or twice she had peeped into\n",
      "\n",
      "the book her sister was reading, but it had no pictures or\n",
      "\n",
      "conversations in it, and what is the use of a book, thought alice\n",
      "\n",
      "without pictures or conversations?\n",
      "\n",
      "\n",
      "\n",
      "so she was considering in her own mind (as well as she could, for the\n",
      "\n",
      "hot day made her feel very sleepy and stupid), whether the pleasure of\n",
      "\n",
      "making a daisy-chain would be worth the trouble of getting up and\n",
      "\n",
      "picking the daisies, when suddenly a white rabbit with pink eyes ran\n",
      "\n",
      "close by her.\n",
      "\n",
      "\n",
      "\n",
      "there was nothing so _very_ remarkable in that; nor did alice think it\n",
      "\n",
      "so _very_ much out of the way to hear the rabbit say to itself, oh\n",
      "\n",
      "dear! oh dear! i shall be late! (when she thought it over afterwards,\n",
      "\n",
      "it occurred to her that she ought to have wondered at this, but at the\n",
      "\n",
      "time it all seemed quite natural); but when the rabbit actually _took a\n",
      "\n",
      "watch out of its waistcoat-pocket_, and looked at it, and then hurried\n",
      "\n",
      "on, alice started to her feet, for it flashed across her mind that she\n",
      "\n",
      "had never before seen a rabbit with either a waistcoat-pocket, or a\n",
      "\n",
      "watch to take out of it, and burning with curiosity, she ran across the\n",
      "\n",
      "field after it, and fortunately was just in time to see it pop down a\n",
      "\n",
      "large rabbit-hole under the hedge.\n",
      "\n",
      "\n",
      "\n",
      "in another moment down went alice after it, never once considering how\n",
      "\n",
      "in the world she was to get out again.\n"
     ]
    }
   ],
   "source": [
    "import string\n",
    "\n",
    "def read_docu1(document):\n",
    "    words = []\n",
    "    \n",
    "    with open(document, \"r\", encoding=\"utf-8\") as input_file:\n",
    "        for line in input_file:\n",
    "\n",
    "            # convert everything to lower case\n",
    "            line = line.lower()\n",
    "            \n",
    "            print(line)\n",
    "\n",
    "    #return words\n",
    "\n",
    "my_document = \"alice_small.txt\"\n",
    "    \n",
    "example = read_docu1(my_document)\n",
    "#example[0:9]"
   ]
  },
  {
   "cell_type": "markdown",
   "id": "6a6be202-76fe-46df-af8c-68c4c91a6723",
   "metadata": {
    "slideshow": {
     "slide_type": "slide"
    },
    "tags": []
   },
   "source": [
    "## If we have time\n",
    "\n",
    "- Suppose you were asked to write your own mean function without using an import of any kind.  Suppose a list of numeric values is your input.\n",
    "\n",
    "- Where do you begin? First you need to know what mean is and how it is calculated.\n",
    "\n",
    "- Functions are created with the `def` keyword\n",
    "\n",
    "- Functions have names, a set of parentheses and input parameter(s)"
   ]
  },
  {
   "cell_type": "code",
   "execution_count": 33,
   "id": "578b897c-25c0-4ed8-abdd-8e543c3f77f0",
   "metadata": {},
   "outputs": [],
   "source": [
    "def arithmetic_mean(values):\n",
    "    pass"
   ]
  },
  {
   "cell_type": "code",
   "execution_count": null,
   "id": "c2e0991a-d02b-46a3-905e-fdcea71a9476",
   "metadata": {},
   "outputs": [],
   "source": []
  },
  {
   "cell_type": "markdown",
   "id": "f69defb0-5846-43fb-965a-f1320ef6c002",
   "metadata": {
    "slideshow": {
     "slide_type": "slide"
    },
    "tags": []
   },
   "source": [
    "## Next steps\n",
    "\n",
    "Before writing the code, think about the steps your function needs to perform:\n",
    "\n",
    "1. Calculate the sum of the numbers in the list.\n",
    "\n",
    "2. Find the count of numbers in the list.\n",
    "\n",
    "3. Divide the sum by the count.\n",
    "\n",
    "4. Return the result."
   ]
  },
  {
   "cell_type": "markdown",
   "id": "94294a67-acc8-4e4f-99bb-b590cac18d4d",
   "metadata": {
    "slideshow": {
     "slide_type": "slide"
    },
    "tags": []
   },
   "source": [
    "## Try it\n",
    "\n",
    "Do try it as a team (optionally) or on your own.\n",
    "\n",
    "And yes, there are more steps, but they can wait."
   ]
  },
  {
   "cell_type": "markdown",
   "id": "56656f78-eb9b-45fd-bc70-fdc0194f173c",
   "metadata": {
    "slideshow": {
     "slide_type": "slide"
    },
    "tags": []
   },
   "source": [
    "<h1> Statistics 21 <br/> Have a good night! </h1>"
   ]
  },
  {
   "cell_type": "raw",
   "id": "35833246-21dc-4b69-acaf-fe4b5cbbf41d",
   "metadata": {
    "slideshow": {
     "slide_type": "-"
    },
    "tags": []
   },
   "source": [
    "<script>\n",
    "    setBackgroundImage(\"Window1.jpg\", \"black\");\n",
    "</script>"
   ]
  },
  {
   "cell_type": "code",
   "execution_count": 34,
   "id": "3ca8bbb3-f3fa-410d-8308-0b355c1c24d2",
   "metadata": {
    "slideshow": {
     "slide_type": "skip"
    },
    "tags": []
   },
   "outputs": [],
   "source": [
    "            \n",
    "            # Remove punctuation using list comprehension and join()\n",
    "            # line = ''.join(c for c in line if c not in string.punctuation)            \n"
   ]
  }
 ],
 "metadata": {
  "kernelspec": {
   "display_name": "Python 3 (ipykernel)",
   "language": "python",
   "name": "python3"
  },
  "language_info": {
   "codemirror_mode": {
    "name": "ipython",
    "version": 3
   },
   "file_extension": ".py",
   "mimetype": "text/x-python",
   "name": "python",
   "nbconvert_exporter": "python",
   "pygments_lexer": "ipython3",
   "version": "3.11.2"
  }
 },
 "nbformat": 4,
 "nbformat_minor": 5
}
